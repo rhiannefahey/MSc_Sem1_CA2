{
 "cells": [
  {
   "cell_type": "markdown",
   "id": "8a6b81e2",
   "metadata": {},
   "source": [
    "# Irish Ag CA2"
   ]
  },
  {
   "cell_type": "markdown",
   "id": "c614affa",
   "metadata": {},
   "source": [
    "Countries chosen for this analysis are Ireland, Germany, Austrailia.\n",
    "\n",
    "This analysis will focus on the Irish agricultural landscape and the impact that the move towards a more plant based diet has had on it's production/ imports/ exports in comparrison to other counties wehere veganism is also on the rise. \n",
    "\n",
    "From the Europe Dataset, the analysis will focus on Ireland, which will be the baseline for all analysis and then Germany. The Irish agriculture findings will then be compared against Germany as both countries benifit from the European Common agricultural Policy. The analysis will be looking for similarities & differences in each countries agriculture indistry. Germany has been chosen as a country for analysis as it is one of the countries with the highest % of vegans in Europe.\n",
    "\n",
    "The analysis will go on to compare Irish agriculure against  Austraulia, one of the largest vegan populations in the world who do not benifit from being a member of the CAP. \n"
   ]
  },
  {
   "cell_type": "markdown",
   "id": "ea2f64ac",
   "metadata": {},
   "source": [
    "## Import Libraries \n",
    "\n",
    "Import Pandas and Numpy libraries. \n",
    "\n",
    "Pandas is a Python library used for data analysis. The Pandas library enables DataFrame and Series functionality used for analyzing the data. This library works with the tabular data, i.e data that is organized in a table with rows(observations) and columns(features). \n",
    "\n",
    "NumPy is a Python library used to perform mathematical and computing operations specific to arrays. The NumPy module works with the numerical data.\n",
    "https://numpy.org/doc/stable/\n",
    "\n",
    "Seaborn and Matplotlib libraries are used for data visualisation purposes to generate plots, graphs and other visuaisations of data. \n",
    "\n",
    "Plotly Express is used for Interactive visalusations \n",
    "\n",
    "Scipy and Statsmodels will be used for statistical analysis"
   ]
  },
  {
   "cell_type": "code",
   "execution_count": null,
   "id": "33e8258f",
   "metadata": {},
   "outputs": [],
   "source": [
    "#pip install pingouin"
   ]
  },
  {
   "cell_type": "code",
   "execution_count": null,
   "id": "f66465a1",
   "metadata": {},
   "outputs": [],
   "source": [
    "#pip install tabulate"
   ]
  },
  {
   "cell_type": "code",
   "execution_count": null,
   "id": "c6b49668",
   "metadata": {},
   "outputs": [],
   "source": [
    "#data manipulation libraries\n",
    "import pandas as pd\n",
    "import numpy as np\n",
    "\n",
    "# data visualization Libraries\n",
    "import seaborn as sns\n",
    "from matplotlib import pyplot as plt\n",
    "import plotly.express as px\n",
    "from tabulate import tabulate\n",
    "\n",
    "#statistics libraries\n",
    "import scipy.stats as stats\n",
    "import pingouin as pg\n",
    "from statsmodels.stats import weightstats\n",
    "from scipy.stats import shapiro\n",
    "import statsmodels.api as sm\n",
    "from scipy.stats import mannwhitneyu\n",
    "\n",
    "\n",
    "# machine learning libraries\n",
    "from sklearn.model_selection import train_test_split\n",
    "from sklearn.tree import DecisionTreeRegressor\n",
    "from sklearn.ensemble import RandomForestRegressor\n",
    "from sklearn.svm import SVR\n",
    "from sklearn.linear_model import Ridge\n",
    "from sklearn.metrics import r2_score, mean_squared_error, mean_absolute_error,explained_variance_score\n",
    "from sklearn.model_selection import (GridSearchCV, cross_val_score, cross_val_predict, StratifiedKFold, learning_curve)\n",
    "from statsmodels.tools.eval_measures import mse, rmse\n",
    "from sklearn import preprocessing\n"
   ]
  },
  {
   "cell_type": "markdown",
   "id": "0144eeb4",
   "metadata": {},
   "source": [
    "## Python Good Practice \n",
    "The following are also good practice to run at the start of every Analysis project to ensure the best results "
   ]
  },
  {
   "cell_type": "code",
   "execution_count": null,
   "id": "3c150eb6",
   "metadata": {},
   "outputs": [],
   "source": [
    "# filter warnings\n",
    "import warnings\n",
    "warnings.filterwarnings(\"ignore\")\n",
    "\n",
    "# avoid blurry images\n",
    "%config InLineBackend.figure_format = \"retina\"\n",
    "sns.set_context=(\"talk\")\n",
    "\n",
    "# enable multiple cell outputs\n",
    "from IPython.core.interactiveshell import InteractiveShell\n",
    "InteractiveShell.ast_node_interactivity = \"all\""
   ]
  },
  {
   "cell_type": "markdown",
   "id": "a4cb1f3a",
   "metadata": {},
   "source": [
    "## Import Datasets\n",
    "\n",
    "There is both production and import/export of goods data available on https://www.fao.org/faostat/en/#data/QCL for all continents.\n",
    "\n",
    "In this section both production and import/export data for Europe, Americas & Oceanias will be imported. Later this data will be go through EDA and data cleaning before moving onto analysis and visualisation. \n",
    "\n",
    "Population will also be imported for each country as to standardise analysis to per capita findings. \n",
    "Ireland population: https://fred.stlouisfed.org/series/POPTOTIEA647NWDB"
   ]
  },
  {
   "cell_type": "code",
   "execution_count": null,
   "id": "252c0c65",
   "metadata": {
    "scrolled": true
   },
   "outputs": [],
   "source": [
    "#import dataset\n",
    "europe = pd.read_csv(\"data\\Production_Crops_Livestock_E_Europe_NOFLAG.csv\")\n",
    "\n",
    "europe.head()"
   ]
  },
  {
   "cell_type": "code",
   "execution_count": null,
   "id": "806ab218",
   "metadata": {},
   "outputs": [],
   "source": [
    "#import dataset\n",
    "europe_trade = pd.read_csv(\"data\\Trade_CropsLivestock_E_Europe_NOFLAG.csv\")\n",
    "\n",
    "europe_trade.head()"
   ]
  },
  {
   "cell_type": "code",
   "execution_count": null,
   "id": "04ba93ee",
   "metadata": {},
   "outputs": [],
   "source": [
    "#import dataset\n",
    "americas = pd.read_csv(\"data\\Production_Crops_Livestock_E_Americas_NOFLAG.csv\")\n",
    "\n",
    "americas.head()"
   ]
  },
  {
   "cell_type": "code",
   "execution_count": null,
   "id": "ebc25eb9",
   "metadata": {},
   "outputs": [],
   "source": [
    "#import dataset\n",
    "americas_trade = pd.read_csv(\"data\\Trade_CropsLivestock_E_Americas_NOFLAG.csv\")\n",
    "\n",
    "americas_trade.head()"
   ]
  },
  {
   "cell_type": "code",
   "execution_count": null,
   "id": "07f17c14",
   "metadata": {},
   "outputs": [],
   "source": [
    "#import dataset\n",
    "oceania = pd.read_csv(\"data\\Production_Crops_Livestock_E_Oceania_NOFLAG.csv\")\n",
    "\n",
    "oceania.head()"
   ]
  },
  {
   "cell_type": "code",
   "execution_count": null,
   "id": "0e41e12c",
   "metadata": {},
   "outputs": [],
   "source": [
    "#import dataset\n",
    "oceania_trade = pd.read_csv(\"data\\Trade_CropsLivestock_E_Oceania_NOFLAG.csv\")\n",
    "\n",
    "oceania_trade.head()"
   ]
  },
  {
   "cell_type": "code",
   "execution_count": null,
   "id": "c7240c29",
   "metadata": {},
   "outputs": [],
   "source": [
    "# import dataset\n",
    "ireland_pop = pd.read_csv(\"data\\irelandpop.csv\")\n",
    "\n",
    "columns = [ 'Year', 'Population_Ireland']\n",
    "ireland_pop.columns = columns\n",
    "\n",
    "# reformat year\n",
    "ireland_pop['Year'] = ireland_pop['Year'].str[:4]\n",
    "\n",
    "# drop year 1960 & 2020 \n",
    "ireland_pop.drop([0], axis=0, inplace=True)\n",
    "ireland_pop.drop([60], axis=0, inplace=True)\n",
    "\n",
    "# cast pop as int \n",
    "ireland_pop['Population_Ireland'] = ireland_pop['Population_Ireland'].astype('int')\n",
    "\n",
    "ireland_pop.tail()"
   ]
  },
  {
   "cell_type": "code",
   "execution_count": null,
   "id": "6a38a099",
   "metadata": {},
   "outputs": [],
   "source": [
    "#import dataset\n",
    "germany_pop = pd.read_csv(\"data\\germanypop.csv\")\n",
    "\n",
    "columns = [ 'Year', 'Population_Germany']\n",
    "germany_pop.columns = columns\n",
    "\n",
    "#reformat year\n",
    "germany_pop['Year'] = germany_pop['Year'].str[:4]\n",
    "\n",
    "#drop year 1960 # drop year 1960 & 2020\n",
    "germany_pop.drop([0], axis=0, inplace=True)\n",
    "germany_pop.drop([60], axis=0, inplace=True)\n",
    "\n",
    "# cast pop as int \n",
    "germany_pop['Population_Germany'] = germany_pop['Population_Germany'].astype('int')\n",
    "\n",
    "germany_pop.tail()"
   ]
  },
  {
   "cell_type": "code",
   "execution_count": null,
   "id": "060d3959",
   "metadata": {},
   "outputs": [],
   "source": [
    "#import dataset\n",
    "aus_pop = pd.read_csv(\"data\\\\australiapop.csv\")\n",
    "\n",
    "columns = [ 'Year', 'Population_Australia']\n",
    "aus_pop.columns = columns\n",
    "\n",
    "#reformat year\n",
    "aus_pop['Year'] = aus_pop['Year'].str[:4]\n",
    "\n",
    "#drop year 1960 \n",
    "aus_pop.drop([0], axis=0, inplace=True)\n",
    "aus_pop.drop([60], axis=0, inplace=True)\n",
    "\n",
    "# cast pop as int \n",
    "aus_pop['Population_Australia'] = aus_pop['Population_Australia'].astype('int')\n",
    "\n",
    "aus_pop.head()"
   ]
  },
  {
   "cell_type": "markdown",
   "id": "ce81ce8a",
   "metadata": {},
   "source": [
    "## Europe Production Dataset Initial EDA\n",
    "\n",
    "The European Prouction Dataset is taken from faostat and contains annual data on all crops and animal products producted in  Europe from 1961-2020, measured in tonnes. It also contains information on livestock numbers, yields, areas havested and slaughtering numbers.\n",
    "\n",
    "Unit Measurements:\n",
    "\n",
    "    Production = tonnes / head / 1000 head / number\n",
    "    Area harvested = ha\n",
    "    Yield =\thg/ha\n",
    "    Stocks = head / 1000 head\n",
    "    Producing Animals / Slaughtered = head / 1000 head\n",
    "    Yields/ Carcass Weight = 0.1g/An, hg/An\n",
    "    Milking Animals = head \n",
    "    Laying = head / 1000 head\n",
    "    Prod Popultn (bees/honey) = number\n",
    "\n",
    "\"Crop statistics are recorded for 173 products, covering the following categories: Crops Primary, Fibre Crops Primary, Cereals, Coarse Grain, Citrus Fruit, Fruit, Jute Jute-like Fibres, Oilcakes Equivalent, Oil crops Primary, Pulses, Roots and Tubers, Treenuts and Vegetables and Melons. Data are expressed in terms of area harvested, production quantity and yield. The objective is to comprehensively cover production of all primary crops for all countries and regions in the world. Area and production data on cereals relate to crops harvested for dry grain only. Cereal crops harvested for hay or harvested green for food, feed or silage or used for grazing are therefore excluded. Area data relate to harvested area. Some countries report sown or cultivated area only.\" https://www.fao.org/faostat/en/#data/QCL\n",
    "\n",
    "In this section and the European Trade section, Dataset will go through an initial EDA process before comparative analysis can begin. Here, datasets will be cleaned by:\n",
    "\n",
    "    Removing / renaming / re-order columns where necessary\n",
    "    Reshaping data into a more usable format\n",
    "    Identify Missing or NaN Values / address appropriately \n",
    "    Ensuring correct dtype is applied for each feature  - as the ony datetime variable being used is 'Year', this can remain as int type. It will not be nescessary to cast to datetime dytpe. \n",
    "    \n"
   ]
  },
  {
   "cell_type": "code",
   "execution_count": null,
   "id": "aef98d84",
   "metadata": {},
   "outputs": [],
   "source": [
    "#drop columns not required for analysis\n",
    "to_drop = ['Area Code','Item Code','Element Code']\n",
    "europe.drop(to_drop, inplace=True, axis=1)"
   ]
  },
  {
   "cell_type": "markdown",
   "id": "b4f6a035",
   "metadata": {},
   "source": [
    "### Melt Data\n",
    "\n",
    "The current dataset is difficult to read as it has lots of columns for the different years of data. This dataset can be reshaped using the melt() function "
   ]
  },
  {
   "cell_type": "code",
   "execution_count": null,
   "id": "84981dfd",
   "metadata": {},
   "outputs": [],
   "source": [
    "# melt new dataframe in order to visualise data by street \n",
    "europe_melt = pd.melt(europe, id_vars=[ 'Area', 'Item', 'Element', 'Unit'])\n",
    "\n",
    "# rename columns \n",
    "columns = [ 'Country', 'Crop_Livestock', 'Element', 'Unit', 'Year', 'Value']\n",
    "europe_melt.columns = columns\n",
    "\n",
    "#remove Y from year\n",
    "europe_melt['Year'] = europe_melt['Year'].str[1:]\n",
    "\n",
    "europe_melt.head()"
   ]
  },
  {
   "cell_type": "code",
   "execution_count": null,
   "id": "8dddbcf0",
   "metadata": {},
   "outputs": [],
   "source": [
    "# dataframe shape, number of rows/ columns \n",
    "europe_melt.shape"
   ]
  },
  {
   "cell_type": "code",
   "execution_count": null,
   "id": "bebb23fe",
   "metadata": {},
   "outputs": [],
   "source": [
    "europe_melt.info()"
   ]
  },
  {
   "cell_type": "code",
   "execution_count": null,
   "id": "2c1d6149",
   "metadata": {},
   "outputs": [],
   "source": []
  },
  {
   "cell_type": "markdown",
   "id": "04dec2e0",
   "metadata": {},
   "source": [
    "### Missing Values\n",
    "\n",
    "Missing values and 0 values look to reflect that there was no production/ harvest/ yield etc. in a given year for a given country for a given crop/livestock. For early years, it is accptable to assume 0/ NaN values reflect that a cuntry had not yet bgan to produce/ trade this item and therefore values remain as NaN. These values can be removed. \n",
    "\n",
    "However, this does not seem to be the case for all 0 / NaN values as pending further investigation it looks like quite a lot of items are missing the last 3 years of production data (2018 / 2019 / 2020). This is consistent across all EU data. This data might not have been submitted to official sources and therefore not included in datasets yet due to covid 19 disruptions. Oceania data seems to only be missing 2020 data as a result of Covid disruptions.\n",
    "\n",
    "Interpolating or replacing this 2020 might not be appropriate as the interpolated data will not be able to account for the disruption caused by Covid on the Agriculture sector for both production & trade. Therefore, this data will be dropped form the analysis. \n",
    "\n",
    "2018 / 2019 data should be interpolated, but it will need to be specific to only the last 2 years to ensure data integretity. It is difficult to interpolate data in the format it is currently in as the Crop_Livestock and Year column contain multiple values which would make it harder to specify what exactly to interpolate. To rectify this, Europe data will first be tidied into seperate Ireland/ Germany datasets to make it easier to identify what specific data to interpolate using the iloc replace function as it allows for specificied rows/ values to be amended, thus keeping the earlier years 0 values in tact to reflect true circumstances.  \n",
    "\n",
    "Finally, ' Value' dtype will only be changed to int only after missing data has been dealt wil in full in 'Ireland Missing Values'  section as this cannot be done when NaN values are present. \n"
   ]
  },
  {
   "cell_type": "code",
   "execution_count": null,
   "id": "51310848",
   "metadata": {},
   "outputs": [],
   "source": [
    "#remove rows with data not available \n",
    "europe_melt = europe_melt.loc[europe_melt[\"Year\"] != \"2020\"]"
   ]
  },
  {
   "cell_type": "code",
   "execution_count": null,
   "id": "ed0f78c9",
   "metadata": {},
   "outputs": [],
   "source": [
    "# number of missing values \n",
    "europe_melt.isnull().sum()"
   ]
  },
  {
   "cell_type": "code",
   "execution_count": null,
   "id": "e81b5190",
   "metadata": {},
   "outputs": [],
   "source": [
    "#check the amount of 0's in each column\n",
    "europe_melt_sparse = (europe_melt == 0).sum()\n",
    "europe_melt_sparse"
   ]
  },
  {
   "cell_type": "code",
   "execution_count": null,
   "id": "29a18638",
   "metadata": {},
   "outputs": [],
   "source": [
    "# replace items with differeng names across datasets \n",
    "europe_melt.replace(to_replace = 'Meat, beef, preparations', value = 'Meat, beef' , inplace=True)\n",
    "europe_melt.replace(to_replace = 'Meat, cattle, boneless (beef & veal)', value = 'Meat, beef' , inplace=True)\n",
    "europe_melt.replace(to_replace = 'Meat, cattle', value = 'Meat, beef' , inplace=True)\n",
    "europe_melt.replace(to_replace = 'Pigmeat', value = 'Meat, pig' , inplace=True)\n",
    "europe_melt.replace(to_replace = 'Meat, pig, preparations', value = 'Meat, pig' , inplace=True)\n",
    "europe_melt.replace(to_replace = 'Bovine Meat', value = 'Meat, beef' , inplace=True)\n",
    "europe_melt.replace(to_replace = 'Meat, goose and guinea fowl', value = 'Meat, goose' , inplace=True)\n",
    "europe_melt.replace(to_replace = 'Almonds, with shell', value = 'Almonds' , inplace=True)\n",
    "europe_melt.replace(to_replace = 'Hazelnuts, with shell', value = 'Hazelnuts' , inplace=True)\n",
    "europe_melt.replace(to_replace = 'Cashew nuts, with shell', value = 'Cashew nuts' , inplace=True)"
   ]
  },
  {
   "cell_type": "markdown",
   "id": "95fbd307",
   "metadata": {},
   "source": [
    "## European Trade Dataset EDA\n",
    "\n",
    "The European Trade Dataset is taken from faostat and contains annual data on all crop/ livestock/ animal product Imports and Exports in Europe from 1961-2020, measured in tonnes and heads. It also contains information on Import and Export values in $1000US.\n",
    "\n",
    "Import/ Export Quantity Unit Measurements:\n",
    "\n",
    "    Crops = tonnes\n",
    "    Livestock = head\n",
    "    Dairy Products = tonnes\n",
    "    Meat animal Product = tonnes \n",
    "\n",
    "\"The food and agricultural trade dataset is collected, processed and disseminated by FAO according to the standard International Merchandise Trade Statistics (IMTS) Methodology. The data is mainly provided by UNSD, Eurostat, and other national authorities as needed. This source data is checked for outliers, trade partner data is used for non-reporting countries or missing cells, and data on food aid is added to take into account total cross-border trade flows.\"  https://www.fao.org/faostat/en/#data/TCL\n"
   ]
  },
  {
   "cell_type": "code",
   "execution_count": null,
   "id": "b264db46",
   "metadata": {},
   "outputs": [],
   "source": [
    "#drop columns not required for analysis\n",
    "europe_trade.drop(to_drop, inplace=True, axis=1)"
   ]
  },
  {
   "cell_type": "markdown",
   "id": "487f56e1",
   "metadata": {},
   "source": [
    "### Melt Data"
   ]
  },
  {
   "cell_type": "code",
   "execution_count": null,
   "id": "fc8afc9d",
   "metadata": {},
   "outputs": [],
   "source": [
    "# melt new dataframe in order to visualise data by street \n",
    "europe_trade_melt = pd.melt(europe_trade, id_vars=[ 'Area', 'Item', 'Element', 'Unit'])\n",
    "\n",
    "# rename columns \n",
    "columns = [ 'Country', 'Crop_Livestock', 'Element', 'Unit', 'Year', 'Value']\n",
    "europe_trade_melt.columns = columns\n",
    "\n",
    "#remove Y from year\n",
    "europe_trade_melt['Year'] = europe_trade_melt['Year'].str[1:]\n",
    "\n",
    "europe_trade_melt.head()"
   ]
  },
  {
   "cell_type": "code",
   "execution_count": null,
   "id": "e6bfe5ba",
   "metadata": {},
   "outputs": [],
   "source": [
    "# dataframe shape, number of rows/ columns \n",
    "europe_trade_melt.shape"
   ]
  },
  {
   "cell_type": "code",
   "execution_count": null,
   "id": "f588cd58",
   "metadata": {},
   "outputs": [],
   "source": [
    "europe_trade_melt.info()"
   ]
  },
  {
   "cell_type": "markdown",
   "id": "fb7a441b",
   "metadata": {},
   "source": [
    "### Missing Values\n",
    "\n",
    "Unlike for the Europoean Production data, European and Oceania Trade data is not missing large amounts of data as a result of covid disruption. Meaning, any missing data identified here either relates to years there was no imports/exports for a given country for a given crop/livestock. \n",
    "\n",
    "For early years, it is accptable to assume 0/ NaN values reflect that a country had not yet began to produce/ trade this item and therefore values remain as NaN and can be removed. Any other Nan/ 0's identified are likely to reflect other years where no trade took place for the given product. \n",
    "\n",
    "As such, any missing data will just be removed for European & Oceanic Trade datasets. "
   ]
  },
  {
   "cell_type": "code",
   "execution_count": null,
   "id": "155c3fe3",
   "metadata": {},
   "outputs": [],
   "source": [
    "#remove rows with data not available \n",
    "europe_trade_melt = europe_trade_melt.loc[europe_trade_melt[\"Year\"] != \"2020\"]"
   ]
  },
  {
   "cell_type": "code",
   "execution_count": null,
   "id": "93f3c660",
   "metadata": {},
   "outputs": [],
   "source": [
    "# number of missing values \n",
    "europe_trade_melt.isnull().sum()"
   ]
  },
  {
   "cell_type": "code",
   "execution_count": null,
   "id": "16c249f2",
   "metadata": {},
   "outputs": [],
   "source": [
    "#check the amount of 0's in each column\n",
    "europe_trade_melt_sparse = (europe_trade_melt == 0).sum()\n",
    "europe_trade_melt_sparse"
   ]
  },
  {
   "cell_type": "code",
   "execution_count": null,
   "id": "53a2c6de",
   "metadata": {},
   "outputs": [],
   "source": [
    "# drop all rows with NaN and 0 values\n",
    "\n",
    "# first will replace 0 values with NaNs  \n",
    "europe_trade_melt.replace(to_replace = 0, value = np.nan, inplace=True)\n",
    "\n",
    "# row = 0, column = 1\n",
    "europe_trade_df = europe_trade_melt.dropna(axis=0)\n",
    "\n",
    "# check if we have any NaN values in our dataset\n",
    "europe_trade_df.isnull().values.any()"
   ]
  },
  {
   "cell_type": "code",
   "execution_count": null,
   "id": "7631f816",
   "metadata": {},
   "outputs": [],
   "source": [
    "europe_trade_df.shape"
   ]
  },
  {
   "cell_type": "code",
   "execution_count": null,
   "id": "2bcb02a0",
   "metadata": {},
   "outputs": [],
   "source": [
    "# replace items with differeng names across datasets \n",
    "europe_trade_df.replace(to_replace = 'Meat, beef, preparations', value = 'Meat, beef' , inplace=True)\n",
    "europe_trade_df.replace(to_replace = 'Meat, cattle, boneless (beef & veal)', value = 'Meat, beef' , inplace=True)\n",
    "europe_trade_df.replace(to_replace = 'Meat, cattle', value = 'Meat, beef' , inplace=True)\n",
    "europe_trade_df.replace(to_replace = 'Pigmeat', value = 'Meat, pig' , inplace=True)\n",
    "europe_trade_df.replace(to_replace = 'Meat, pig, preparations', value = 'Meat, pig' , inplace=True)\n",
    "europe_trade_df.replace(to_replace = 'Bovine Meat', value = 'Meat, beef' , inplace=True)\n",
    "europe_trade_df.replace(to_replace = 'Meat, goose and guinea fowl', value = 'Meat, goose' , inplace=True)\n",
    "europe_trade_df.replace(to_replace = 'Almonds, with shell', value = 'Almonds' , inplace=True)\n",
    "europe_trade_df.replace(to_replace = 'Hazelnuts, with shell', value = 'Hazelnuts' , inplace=True)\n",
    "europe_trade_df.replace(to_replace = 'Cashew nuts, with shell', value = 'Cashew nuts' , inplace=True)\n",
    "\n"
   ]
  },
  {
   "cell_type": "markdown",
   "id": "a64e45fc",
   "metadata": {},
   "source": [
    "## Oceania Production Dataset\n",
    "\n",
    "The Oceania Prouction Dataset is taken from faostat and contains annual data on all crops and animal products producted throughout the Oceania region from 1961-2020, measured in tonnes. It also contains information on livestock numbers, yields, areas havested and slaughtering numbers.\n",
    "\n",
    "Unit Measurements:\n",
    "\n",
    "    Production = tonnes\n",
    "    Area harvested = ha\n",
    "    Yield =\thg/ha\n",
    "    Stocks = head \n",
    "    Slaughter = head\n",
    "    Yields/ Carcass Weight = 0.1g/An, hg/An\n",
    "    Milking Animals = head\n",
    "    Laying = head\n",
    "    Prod Popultn (bees/honey) = number\n",
    "\n",
    "\"Crop statistics are recorded for 173 products, covering the following categories: Crops Primary, Fibre Crops Primary, Cereals, Coarse Grain, Citrus Fruit, Fruit, Jute Jute-like Fibres, Oilcakes Equivalent, Oil crops Primary, Pulses, Roots and Tubers, Treenuts and Vegetables and Melons. Data are expressed in terms of area harvested, production quantity and yield. The objective is to comprehensively cover production of all primary crops for all countries and regions in the world. Area and production data on cereals relate to crops harvested for dry grain only. Cereal crops harvested for hay or harvested green for food, feed or silage or used for grazing are therefore excluded. Area data relate to harvested area. Some countries report sown or cultivated area only.\" https://www.fao.org/faostat/en/#data/QCL\n"
   ]
  },
  {
   "cell_type": "code",
   "execution_count": null,
   "id": "3b9b0e65",
   "metadata": {},
   "outputs": [],
   "source": [
    "#drop columns not required for analysis\n",
    "to_drop = ['Area Code','Item Code','Element Code']\n",
    "oceania.drop(to_drop, inplace=True, axis=1)"
   ]
  },
  {
   "cell_type": "markdown",
   "id": "1f7059b2",
   "metadata": {},
   "source": [
    "### Melt Data"
   ]
  },
  {
   "cell_type": "code",
   "execution_count": null,
   "id": "6e0f1b00",
   "metadata": {},
   "outputs": [],
   "source": [
    "# melt new dataframe in order to visualise data by street \n",
    "oceania_melt = pd.melt(oceania, id_vars=[ 'Area', 'Item', 'Element', 'Unit'])\n",
    "\n",
    "# rename columns \n",
    "columns = [ 'Country', 'Crop_Livestock', 'Element', 'Unit', 'Year', 'Value']\n",
    "oceania_melt.columns = columns\n",
    "\n",
    "#remove Y from year\n",
    "oceania_melt['Year'] = oceania_melt['Year'].str[1:]\n",
    "\n",
    "#set Year to datetime dtype\n",
    "#oceania_melt['Year']= pd.to_datetime(europe_melt['Year'])\n",
    "\n",
    "oceania_melt"
   ]
  },
  {
   "cell_type": "code",
   "execution_count": null,
   "id": "2717c64c",
   "metadata": {},
   "outputs": [],
   "source": [
    "# dataframe shape, number of rows/ columns \n",
    "oceania_melt.shape"
   ]
  },
  {
   "cell_type": "code",
   "execution_count": null,
   "id": "e87a4e31",
   "metadata": {},
   "outputs": [],
   "source": [
    "oceania_melt.info()"
   ]
  },
  {
   "cell_type": "markdown",
   "id": "6f9c7167",
   "metadata": {},
   "source": [
    "### Missing Values\n",
    "\n",
    "As established prior, Missing values and 0 values look to reflect that there was no production/ harvest/ yield etc. in a given year for a given country for a given crop/livestock. For early years, it is accptable to assume 0/ NaN values reflect \n",
    "that a cuntry had not yet bgan to produce/ trade this item and therefore values remain as NaN. These values can be removed. \n",
    "\n",
    "Unlike the European Dataset, the Oceania dataset does not appear to be missing any 2018/2019 values, meaning all Nan/ 0 values can be removed. \n",
    "\n",
    "As pointed out previously, Oceania data is also missing 2020 data as a result of Covid disruptions. Therefore, this data will be dropped form the analysis similar to europan data. \n",
    "\n",
    "Finally, ' Value' dtype will be changed to int only after missing data has been dealt with, as this cannot be done when NaN values are present. "
   ]
  },
  {
   "cell_type": "code",
   "execution_count": null,
   "id": "99cfbc40",
   "metadata": {},
   "outputs": [],
   "source": [
    "#remove rows with data not available \n",
    "oceania_melt = oceania_melt.loc[oceania_melt[\"Year\"] != \"2020\"]"
   ]
  },
  {
   "cell_type": "code",
   "execution_count": null,
   "id": "ad1fecae",
   "metadata": {},
   "outputs": [],
   "source": [
    "# number of missing values \n",
    "oceania_melt.isnull().sum()"
   ]
  },
  {
   "cell_type": "code",
   "execution_count": null,
   "id": "27d5e2b7",
   "metadata": {},
   "outputs": [],
   "source": [
    "#check the amount of 0's in each column\n",
    "oceania_melt_sparse = (oceania_melt == 0).sum()\n",
    "oceania_melt_sparse"
   ]
  },
  {
   "cell_type": "code",
   "execution_count": null,
   "id": "4d6448aa",
   "metadata": {},
   "outputs": [],
   "source": [
    "# drop all rows with NaN and 0 values\n",
    "\n",
    "# first will replace 0 values with NaNs  \n",
    "oceania_melt.replace(to_replace = 0, value = np.nan, inplace=True)\n",
    "\n",
    "# row = 0, column = 1\n",
    "oceania_df = oceania_melt.dropna(axis=0)\n",
    "\n",
    "# check if we have any NaN values in our dataset\n",
    "oceania_df.isnull().values.any()"
   ]
  },
  {
   "cell_type": "code",
   "execution_count": null,
   "id": "1b8dcb5b",
   "metadata": {},
   "outputs": [],
   "source": [
    "oceania_df.shape"
   ]
  },
  {
   "cell_type": "code",
   "execution_count": null,
   "id": "0cf52c7a",
   "metadata": {},
   "outputs": [],
   "source": [
    "# cast value as int \n",
    "oceania_df['Value'] = oceania_df['Value'].astype('int')"
   ]
  },
  {
   "cell_type": "code",
   "execution_count": null,
   "id": "4ce02d49",
   "metadata": {},
   "outputs": [],
   "source": [
    "oceania_df"
   ]
  },
  {
   "cell_type": "code",
   "execution_count": null,
   "id": "0e032aeb",
   "metadata": {},
   "outputs": [],
   "source": [
    "# replace items with differeng names across datasets \n",
    "oceania_df.replace(to_replace = 'Meat, beef, preparations', value = 'Meat, beef' , inplace=True)\n",
    "oceania_df.replace(to_replace = 'Meat, cattle, boneless (beef & veal)', value = 'Meat, beef' , inplace=True)\n",
    "oceania_df.replace(to_replace = 'Meat, cattle', value = 'Meat, beef' , inplace=True)\n",
    "oceania_df.replace(to_replace = 'Pigmeat', value = 'Meat, pig' , inplace=True)\n",
    "oceania_df.replace(to_replace = 'Meat, pig, preparations', value = 'Meat, pig' , inplace=True)\n",
    "oceania_df.replace(to_replace = 'Bovine Meat', value = 'Meat, beef' , inplace=True)\n",
    "oceania_df.replace(to_replace = 'Meat, goose and guinea fowl', value = 'Meat, goose' , inplace=True)\n",
    "oceania_df.replace(to_replace = 'Almonds, with shell', value = 'Almonds' , inplace=True)\n",
    "oceania_df.replace(to_replace = 'Almonds shelled', value = 'Almonds' , inplace=True)\n",
    "oceania_df.replace(to_replace = 'Hazelnuts, with shell', value = 'Hazelnuts' , inplace=True)\n",
    "oceania_df.replace(to_replace = 'Hazelnuts, shelled', value = 'Hazelnuts' , inplace=True)\n",
    "oceania_df.replace(to_replace = 'Cashew nuts, with shell', value = 'Cashew nuts' , inplace=True)\n",
    "oceania_df.replace(to_replace = 'Cashew nuts, shelled', value = 'Cashew nuts' , inplace=True)\n",
    "oceania_df.replace(to_replace = 'Oats rolled', value = 'Oats' , inplace=True)"
   ]
  },
  {
   "cell_type": "code",
   "execution_count": null,
   "id": "5f2db790",
   "metadata": {},
   "outputs": [],
   "source": []
  },
  {
   "cell_type": "code",
   "execution_count": null,
   "id": "83ae6c6d",
   "metadata": {},
   "outputs": [],
   "source": []
  },
  {
   "cell_type": "code",
   "execution_count": null,
   "id": "78dd991f",
   "metadata": {},
   "outputs": [],
   "source": []
  },
  {
   "cell_type": "markdown",
   "id": "066ad8ae",
   "metadata": {},
   "source": [
    "## Oceania Trade Dataset\n",
    "\n",
    "The Oceania Trade Dataset is taken from faostat and contains annual data on all crop/ livestock/ animal product Imports and Exports throughout the Oceania region from 1961-2020, measured in tonnes and heads. It also contains information on Import and Export values in $1000US.\n",
    "\n",
    "Import/ Export Quantity Unit Measurements:\n",
    "\n",
    "    Crops = tonnes\n",
    "    Livestock = head\n",
    "    Dairy Products = tonnes\n",
    "    Meat animal Product = tonnes \n",
    "\n",
    "\"The food and agricultural trade dataset is collected, processed and disseminated by FAO according to the standard International Merchandise Trade Statistics (IMTS) Methodology. The data is mainly provided by UNSD, Eurostat, and other national authorities as needed. This source data is checked for outliers, trade partner data is used for non-reporting countries or missing cells, and data on food aid is added to take into account total cross-border trade flows.\"  https://www.fao.org/faostat/en/#data/TCL\n"
   ]
  },
  {
   "cell_type": "code",
   "execution_count": null,
   "id": "3baf4ff3",
   "metadata": {},
   "outputs": [],
   "source": [
    "#drop columns not required for analysis\n",
    "oceania_trade.drop(to_drop, inplace=True, axis=1)"
   ]
  },
  {
   "cell_type": "markdown",
   "id": "89d2612a",
   "metadata": {},
   "source": [
    "### Melt Data"
   ]
  },
  {
   "cell_type": "code",
   "execution_count": null,
   "id": "79a06a61",
   "metadata": {},
   "outputs": [],
   "source": [
    "# melt new dataframe in order to visualise data by street \n",
    "oceania_trade_melt = pd.melt(oceania_trade, id_vars=[ 'Area', 'Item', 'Element', 'Unit'])\n",
    "\n",
    "# rename columns \n",
    "columns = [ 'Country', 'Crop_Livestock', 'Element', 'Unit', 'Year', 'Value']\n",
    "oceania_trade_melt.columns = columns\n",
    "\n",
    "#remove Y from year\n",
    "oceania_trade_melt['Year'] = oceania_trade_melt['Year'].str[1:]\n",
    "\n",
    "#set Year to datetime dtype\n",
    "#europe_melt['Year']= pd.to_datetime(europe_melt['Year'])\n",
    "\n",
    "oceania_trade_melt.head()"
   ]
  },
  {
   "cell_type": "code",
   "execution_count": null,
   "id": "ca430ce0",
   "metadata": {},
   "outputs": [],
   "source": [
    "# dataframe shape, number of rows/ columns \n",
    "oceania_trade_melt.shape"
   ]
  },
  {
   "cell_type": "code",
   "execution_count": null,
   "id": "427554e8",
   "metadata": {},
   "outputs": [],
   "source": [
    "oceania_trade_melt.info()"
   ]
  },
  {
   "cell_type": "markdown",
   "id": "e8e2cb15",
   "metadata": {},
   "source": [
    "### Missing Values\n",
    "\n",
    "Similar to European Trade data, Oceania Trade data is not missing large amounts of data as a result of covid disruption. Meaning, any missing data identified here either relates to years there was no imports/exports for a given country for a given crop/livestock. \n",
    "\n",
    "Similarly for early years, it is accptable to assume 0/ NaN values reflect that a country had not yet began to produce/ trade this item and therefore values remain as NaN and can be removed. Any other Nan/ 0's identified are likely to reflect other years where no trade took place for the given product. \n",
    "\n",
    "As such, any missing data will just be removed for European & Oceanic Trade datasets. \n"
   ]
  },
  {
   "cell_type": "code",
   "execution_count": null,
   "id": "6a21120a",
   "metadata": {},
   "outputs": [],
   "source": [
    "#remove rows with data not available \n",
    "oceania_trade_melt = oceania_trade_melt.loc[oceania_trade_melt[\"Year\"] != \"2020\"]"
   ]
  },
  {
   "cell_type": "code",
   "execution_count": null,
   "id": "9299c643",
   "metadata": {},
   "outputs": [],
   "source": [
    "# number of missing values \n",
    "oceania_trade_melt.isnull().sum()"
   ]
  },
  {
   "cell_type": "code",
   "execution_count": null,
   "id": "08270192",
   "metadata": {},
   "outputs": [],
   "source": [
    "#check the amount of 0's in each column\n",
    "oceania_trade_melt_sparse = (oceania_trade_melt == 0).sum()\n",
    "oceania_trade_melt_sparse"
   ]
  },
  {
   "cell_type": "code",
   "execution_count": null,
   "id": "29989d39",
   "metadata": {},
   "outputs": [],
   "source": [
    "# drop all rows with NaN and 0 values\n",
    "\n",
    "# first will replace 0 values with NaNs  \n",
    "oceania_trade_melt.replace(to_replace = 0, value = np.nan, inplace=True)\n",
    "\n",
    "# row = 0, column = 1\n",
    "oceania_trade_df = oceania_trade_melt.dropna(axis=0)\n",
    "\n",
    "# check if we have any NaN values in our dataset\n",
    "oceania_trade_df.isnull().values.any()"
   ]
  },
  {
   "cell_type": "code",
   "execution_count": null,
   "id": "3610b12a",
   "metadata": {},
   "outputs": [],
   "source": [
    "oceania_trade_df.shape"
   ]
  },
  {
   "cell_type": "code",
   "execution_count": null,
   "id": "8eccb5da",
   "metadata": {},
   "outputs": [],
   "source": [
    "# cast value as int \n",
    "oceania_trade_df['Value'] = oceania_trade_df['Value'].astype('int')"
   ]
  },
  {
   "cell_type": "code",
   "execution_count": null,
   "id": "1588f36c",
   "metadata": {},
   "outputs": [],
   "source": [
    "# replace items with differeng names across datasets \n",
    "oceania_trade_df.replace(to_replace = 'Meat, beef, preparations', value = 'Meat, beef' , inplace=True)\n",
    "oceania_trade_df.replace(to_replace = 'Meat, cattle, boneless (beef & veal)', value = 'Meat, beef' , inplace=True)\n",
    "oceania_trade_df.replace(to_replace = 'Meat, cattle', value = 'Meat, beef' , inplace=True)\n",
    "oceania_trade_df.replace(to_replace = 'Pigmeat', value = 'Meat, pig' , inplace=True)\n",
    "oceania_trade_df.replace(to_replace = 'Meat, pig, preparations', value = 'Meat, pig' , inplace=True)\n",
    "oceania_trade_df.replace(to_replace = 'Bovine Meat', value = 'Meat, beef' , inplace=True)\n",
    "oceania_trade_df.replace(to_replace = 'Meat, goose and guinea fowl', value = 'Meat, goose' , inplace=True)\n",
    "oceania_trade_df.replace(to_replace = 'Almonds, with shell', value = 'Almonds' , inplace=True)\n",
    "oceania_trade_df.replace(to_replace = 'Almonds shelled', value = 'Almonds' , inplace=True)\n",
    "oceania_trade_df.replace(to_replace = 'Hazelnuts, with shell', value = 'Hazelnuts' , inplace=True)\n",
    "oceania_trade_df.replace(to_replace = 'Hazelnuts, shelled', value = 'Hazelnuts' , inplace=True)\n",
    "oceania_trade_df.replace(to_replace = 'Cashew nuts, with shell', value = 'Cashew nuts' , inplace=True)\n",
    "oceania_trade_df.replace(to_replace = 'Cashew nuts, shelled', value = 'Cashew nuts' , inplace=True)\n",
    "oceania_trade_df.replace(to_replace = 'Oats rolled', value = 'Oats' , inplace=True)"
   ]
  },
  {
   "cell_type": "markdown",
   "id": "d8b58f00",
   "metadata": {},
   "source": [
    "## IRELAND\n",
    "\n",
    "Ireland will form as the baseline country for analysis. \n",
    "\n",
    "This analysis will focus on how irish production and consumption has changed over time in line with consumer diet trends and thus impacted irelands agriculture. For the sake of this analysis, Irish production is specific on meat, dairy and crops. Livestock data will not be included in this analysis and will be filtered out by specifying the ireland_prod datafame to only contain 'Production' for element. Livesotck is measured in 'head' and '1000 head' so will remove any livestock data. \n",
    "\n",
    "Population data will be added as to calculate values per capita for later comparrison with other countries. \n",
    "\n",
    "In order to calculate consumption of a product; production, export and import data on a particular crop is required.\n",
    "Ireland Trade data will be sorted into 'Import Quantity / Import Value / Export Quantity/ Export Value' and brought into the Ireand dataset using a merge function.\n",
    "\n",
    "Seperate datasets can be used to conduct specific analysis on Meat, dairy and crop products using the str.contains function. \n",
    "\n",
    "Once cleaned, descriptive statistics will then be used for statistical analysis on datasets. It is important to note that the Crop_Livestock column contains multiple products that vary in production level. As it would not be useful to see the mean/diveations until this column is divided up further so an average meat production figure or average dairy production figure can be shown. \n",
    "\n",
    "After analysing the descriptive statistics, iusal representations will be used to display initial data to the reader"
   ]
  },
  {
   "cell_type": "markdown",
   "id": "2dcc67ac",
   "metadata": {},
   "source": [
    "## Ireland Production Dataset \n",
    "\n",
    "For the sake of this analysis, Irish production is specific on meat, dairy and crops. Livestock data will not be included in this analysis and will be filtered out by specifying the ireland_prod datafame to only contain 'Production' for element. Livesotck is measured in 'head' and '1000 head' so will remove any livestock data. \n",
    "\n",
    "Columns will also be renamed to 'Production' specific values to make it easier to identify what columns can be dropped when merging with trade datasets later on. \n",
    "\n",
    "Missing Values will then be adressed for Ireland dataset. \n",
    "\n",
    "The shape function will show how many rows are present. This number is expected to drop once merged with trade data as only rows that have all elements related to consumption (import/ export/ production data) will be kept. \n"
   ]
  },
  {
   "cell_type": "code",
   "execution_count": null,
   "id": "b96db16c",
   "metadata": {},
   "outputs": [],
   "source": [
    "# create irish dataset\n",
    "ireland_prod_df = europe_melt.loc[europe_melt['Country']=='Ireland']\n",
    "\n",
    "# irish production dataset - all products (crop, meat, livestock)\n",
    "ireland_prod = ireland_prod_df.loc[ireland_prod_df['Element']=='Production']\n",
    "\n",
    "# rename columns\n",
    "ireland_prod.rename(columns={'Country': 'Prod Country', 'Unit': 'Production Unit', 'Value': 'Production Value' }, inplace=True)\n",
    "\n",
    "#reset index\n",
    "ireland_prod.reset_index(drop=True, inplace=True)\n",
    "\n",
    "ireland_prod"
   ]
  },
  {
   "cell_type": "code",
   "execution_count": null,
   "id": "8256c632",
   "metadata": {},
   "outputs": [],
   "source": [
    "ireland_prod.shape"
   ]
  },
  {
   "cell_type": "markdown",
   "id": "9101b17a",
   "metadata": {},
   "source": [
    "### Ireland Missing Values\n",
    "\n",
    "Missing values for European data have been reviewed previously. NaN and 0 values look to reflect that there was no production/ harvest/ yield etc. in a given year for a given country for a given crop/livestock. For early years, it is accptable to assume 0/ NaN values reflect that a cuntry had not yet bgan to produce/ trade this item and therefore values remain as NaN. These values can be removed.\n",
    "\n",
    "2018 / 2019 data should be interpolated. It is difficult to interpolate data in the format it is currently in as the Crop_Livestock and Year column contain multiple values which would make it harder to specify what exactly to interpolate. \n",
    "\n",
    "To rectify this, Ireland data will converted into a pivot_table to make it easier to identify what specific columns of data need to be interpolated. Using the loc function to identify row / colun indexes first, the iloc replace function can then be used to replace specific 2018/2019 values.\n",
    "\n",
    "' Value' dtype will be changed to int once this missing values process is complete. "
   ]
  },
  {
   "cell_type": "code",
   "execution_count": null,
   "id": "b20ca336",
   "metadata": {},
   "outputs": [],
   "source": [
    "#ireland_prod as a pivot table to see what values we need to replace for 2018/2019 only\n",
    "\n",
    "ireland_prod_table = pd.pivot_table(ireland_prod, values='Production Value', index=['Prod Country', 'Element', 'Production Unit', 'Year'],\n",
    "                    columns=['Crop_Livestock'], aggfunc=np.sum, fill_value=0)\n",
    "ireland_prod_table"
   ]
  },
  {
   "cell_type": "code",
   "execution_count": null,
   "id": "9252847e",
   "metadata": {},
   "outputs": [],
   "source": [
    "# search tab to identify what 2018/2019 data to be replaces & identify iloc \n",
    "ireland_prod.loc[ireland_prod['Crop_Livestock']=='Cream fresh']"
   ]
  },
  {
   "cell_type": "code",
   "execution_count": null,
   "id": "d51e624b",
   "metadata": {},
   "outputs": [],
   "source": [
    "# replace missing 2018/ 2019 values with last recorded value \n",
    "\n",
    "ireland_prod.iloc[[8203, 8346],[5]] = 2696.0\n",
    "ireland_prod.iloc[[8206, 8349],[5]] = 3463.0\n",
    "ireland_prod.iloc[[8208, 8351],[5]] = 1222.0\n",
    "ireland_prod.iloc[[8209, 8352],[5]] = 3279.0\n",
    "ireland_prod.iloc[[8168, 8311],[5]] = 4435.0\n",
    "ireland_prod.iloc[[8214, 8357],[5]] = 4706000.0\n",
    "ireland_prod.iloc[[8217, 8360],[5]] = 57170.0\n",
    "ireland_prod.iloc[[8158, 8301],[5]] = 1702.0\n",
    "ireland_prod.iloc[[8160, 8303],[5]] = 199.0\n",
    "ireland_prod.iloc[[8167, 8310],[5]] = 1478.0\n",
    "ireland_prod.iloc[[8168, 8311],[5]] = 4435.0\n",
    "ireland_prod.iloc[[8171, 8314],[5]] = 340.0\n",
    "ireland_prod.iloc[[8184, 8327],[5]] = 8906.0\n",
    "ireland_prod.iloc[[8193, 8336],[5]] = 268.0\n",
    "ireland_prod.iloc[[8194, 8337],[5]] = 45.0\n",
    "ireland_prod.iloc[[8223, 8336],[5]] = 2890.0\n",
    "ireland_prod.iloc[[8236, 8379],[5]] = 7169.0\n",
    "ireland_prod.iloc[[8244, 8387],[5]] = 1855.0\n",
    "ireland_prod.iloc[[8252, 8395],[5]] = 629.0\n",
    "ireland_prod.iloc[[8258, 8401],[5]] = 75000.0\n",
    "ireland_prod.iloc[[8259, 8402],[5]] = 9755.0\n",
    "ireland_prod.iloc[[8266, 8409],[5]] = 26516.0\n",
    "ireland_prod.iloc[[8267, 8410],[5]] = 2.0\n",
    "ireland_prod.iloc[[8271, 8414],[5]] = 2219.0\n",
    "ireland_prod.iloc[[8272, 8415],[5]] = 41849.0\n",
    "ireland_prod.iloc[[8291, 8434],[5]] = 75000.0\n",
    "ireland_prod.iloc[[8173, 8316],[5]] = 30064.0\n"
   ]
  },
  {
   "cell_type": "code",
   "execution_count": null,
   "id": "ec6417bc",
   "metadata": {},
   "outputs": [],
   "source": [
    "# drop all rows with NaN and 0 values\n",
    "\n",
    "# first will replace 0 values with NaNs  \n",
    "ireland_prod.replace(to_replace = 0, value = np.nan, inplace=True)\n",
    "\n",
    "# row = 0, column = 1\n",
    "ireland_prod = ireland_prod.dropna(axis=0)\n",
    "\n",
    "# check if we have any NaN values in our dataset\n",
    "ireland_prod.isnull().values.any()"
   ]
  },
  {
   "cell_type": "code",
   "execution_count": null,
   "id": "94e8a474",
   "metadata": {},
   "outputs": [],
   "source": [
    "# cast value as int \n",
    "ireland_prod['Production Value'] = ireland_prod['Production Value'].astype('int')"
   ]
  },
  {
   "cell_type": "markdown",
   "id": "408ff24e",
   "metadata": {},
   "source": [
    "### Ireland Production- Add Population \n",
    "\n",
    "Population data will be added as to calculate values per capita for later comparrison with other countries. Per Capita amounts will be added during feature Engineering later on. "
   ]
  },
  {
   "cell_type": "code",
   "execution_count": null,
   "id": "4274344b",
   "metadata": {},
   "outputs": [],
   "source": [
    "# merge population data. Outer merge so no data is lost \n",
    "\n",
    "ireland_prod_pop = pd.merge(ireland_prod, ireland_pop, how=\"outer\", on = [\"Year\"])\n",
    "ireland_prod_pop.head()"
   ]
  },
  {
   "cell_type": "code",
   "execution_count": null,
   "id": "4b19438d",
   "metadata": {},
   "outputs": [],
   "source": [
    "ireland_prod_pop.shape"
   ]
  },
  {
   "cell_type": "markdown",
   "id": "fec93054",
   "metadata": {},
   "source": [
    "### Ireland Production Analysis\n",
    "\n",
    "As the focus of this analysis is how irish production and consumption has changed over time in line with consumer diet trends and thus impacted irelands agriculture, the ireland_df can be divided into Meat / Dairy / Crop datasets for further analysis. This will be done by using the str.contains function to specify what products should be included in each dataset.\n",
    "\n",
    "The .unique and loc functions will then be used to further filter each dataset and remove any unwanted/ non relevant  products from each dataset. "
   ]
  },
  {
   "cell_type": "code",
   "execution_count": null,
   "id": "c090a9ba",
   "metadata": {},
   "outputs": [],
   "source": [
    "# irish production meat products\n",
    "ireland_prod_meat = ireland_prod_pop.loc[ireland_prod_pop['Crop_Livestock'].str.contains('meat', case=False)]\n",
    "ireland_prod_meat.rename(columns={'Crop_Livestock': 'Meat Type'}, inplace=True)\n",
    "ireland_prod_meat.reset_index(drop=True)\n",
    "\n",
    "# irish production dairy products\n",
    "ireland_prod_dairy = ireland_prod_pop.loc[ireland_prod_pop['Crop_Livestock'].str.contains('milk', case=False)]\n",
    "ireland_prod_dairy.rename(columns={'Crop_Livestock': 'Dairy Product'}, inplace=True)\n",
    "ireland_prod_dairy.reset_index(drop=True)\n",
    "\n",
    "# irish production crops\n",
    "ireland_prod_crop = ireland_prod_pop.loc[ireland_prod_pop['Crop_Livestock'].str.contains('meat', case=False) == False]\n",
    "ireland_prod_crop = ireland_prod_crop.loc[ireland_prod_crop['Crop_Livestock'].str.contains('milk', case=False) == False]\n",
    "ireland_prod_crop = ireland_prod_crop.loc[ireland_prod_crop['Crop_Livestock'].str.contains('offals', case=False) == False]\n",
    "ireland_prod_crop = ireland_prod_crop.loc[ireland_prod_crop['Crop_Livestock'].str.contains('fat', case=False) == False]\n",
    "ireland_prod_crop = ireland_prod_crop.loc[ireland_prod_crop['Crop_Livestock'].str.contains('hides', case=False) == False]\n",
    "ireland_prod_crop = ireland_prod_crop.loc[ireland_prod_crop['Crop_Livestock'].str.contains('wool', case=False) == False]\n",
    "ireland_prod_crop = ireland_prod_crop.loc[ireland_prod_crop['Crop_Livestock'].str.contains('skin', case=False) == False]\n",
    "ireland_prod_crop = ireland_prod_crop.loc[ireland_prod_crop['Crop_Livestock'].str.contains('cream', case=False) == False]\n",
    "ireland_prod_crop = ireland_prod_crop.loc[ireland_prod_crop['Crop_Livestock'].str.contains('egg', case=False) == False]\n",
    "ireland_prod_crop = ireland_prod_crop.loc[ireland_prod_crop['Crop_Livestock'].str.contains('lard', case=False) == False]\n",
    "ireland_prod_crop = ireland_prod_crop.loc[ireland_prod_crop['Crop_Livestock'].str.contains('butter', case=False) == False]\n",
    "ireland_prod_crop = ireland_prod_crop.loc[ireland_prod_crop['Crop_Livestock'].str.contains('cheese', case=False) == False]\n",
    "ireland_prod_crop = ireland_prod_crop.loc[ireland_prod_crop['Crop_Livestock'].str.contains('oil', case=False) == False]\n",
    "ireland_prod_crop.rename(columns={'Crop_Livestock': 'Crop'}, inplace=True)\n",
    "ireland_prod_crop.reset_index(drop=True)\n"
   ]
  },
  {
   "cell_type": "code",
   "execution_count": null,
   "id": "8d9ddd55",
   "metadata": {},
   "outputs": [],
   "source": [
    "# check Meat Type values are what we want for analysis\n",
    "ireland_prod_meat['Meat Type'].unique()"
   ]
  },
  {
   "cell_type": "code",
   "execution_count": null,
   "id": "202956fd",
   "metadata": {},
   "outputs": [],
   "source": [
    "# remove any items we dont want \n",
    "ireland_prod_meat = ireland_prod_meat.loc[ireland_prod_meat['Meat Type'] != 'Meat nes']\n",
    "ireland_prod_meat = ireland_prod_meat.loc[ireland_prod_meat['Meat Type'] != 'Meat, Total']"
   ]
  },
  {
   "cell_type": "code",
   "execution_count": null,
   "id": "a1d895db",
   "metadata": {},
   "outputs": [],
   "source": [
    "ireland_prod_dairy['Dairy Product'].unique()"
   ]
  },
  {
   "cell_type": "code",
   "execution_count": null,
   "id": "81e70f85",
   "metadata": {},
   "outputs": [],
   "source": [
    "ireland_prod_dairy = ireland_prod_dairy.loc[ireland_prod_dairy['Dairy Product'] != 'Milk, Total']\n",
    "ireland_prod_dairy = ireland_prod_dairy.loc[ireland_prod_dairy['Dairy Product'] != 'Evaporat&Condensed Milk']"
   ]
  },
  {
   "cell_type": "code",
   "execution_count": null,
   "id": "bc5e06d4",
   "metadata": {},
   "outputs": [],
   "source": [
    "ireland_prod_crop['Crop'].unique()"
   ]
  },
  {
   "cell_type": "code",
   "execution_count": null,
   "id": "b285a59c",
   "metadata": {},
   "outputs": [],
   "source": [
    "ireland_prod_crop = ireland_prod_crop.loc[ireland_prod_crop['Crop'] != 'Vegetables, fresh nes']\n",
    "ireland_prod_crop = ireland_prod_crop.loc[ireland_prod_crop['Crop'] != 'Fruit, fresh nes']\n",
    "ireland_prod_crop = ireland_prod_crop.loc[ireland_prod_crop['Crop'] != 'Cereals, Total']\n",
    "ireland_prod_crop = ireland_prod_crop.loc[ireland_prod_crop['Crop'] != 'Fruit Primary']\n",
    "ireland_prod_crop = ireland_prod_crop.loc[ireland_prod_crop['Crop'] != 'Vegetables Primary']\n",
    "ireland_prod_crop = ireland_prod_crop.loc[ireland_prod_crop['Crop'] != 'Margarine, short']\n",
    "ireland_prod_crop = ireland_prod_crop.loc[ireland_prod_crop['Crop'] != 'Cereals nes']\n",
    "ireland_prod_crop = ireland_prod_crop.loc[ireland_prod_crop['Crop'] != 'Pulses, Total']\n",
    "ireland_prod_crop = ireland_prod_crop.loc[ireland_prod_crop['Crop'] != 'Roots and Tubers, Total']\n",
    "ireland_prod_crop = ireland_prod_crop.loc[ireland_prod_crop['Crop'] != 'Sugar Crops Primary']\n",
    "ireland_prod_crop = ireland_prod_crop.loc[ireland_prod_crop['Crop'] != 'Vegetables, leguminous nes']\n",
    "ireland_prod_crop = ireland_prod_crop.loc[ireland_prod_crop['Crop'] != 'Leeks, other alliaceous vegetables']\n",
    "ireland_prod_crop = ireland_prod_crop.loc[ireland_prod_crop['Crop'] != 'Berries nes']\n"
   ]
  },
  {
   "cell_type": "markdown",
   "id": "986c50f2",
   "metadata": {},
   "source": [
    "### Ireland Production Visualisations \n",
    "\n",
    "Visualisations can be seen using Seaborn & MatPlotlib to visualise Irelands agriculture production from 1961-2019 for meat / dairy/ crops. A line graph os chosen as to show production over time.\n",
    "\n",
    "However, it is difficult to interpret the Crop dataset using a line graph. Imcluded below are other options tried to visualise this better including samplign and using percentage change. This data is better represented as a barplot to show production per crop. A view of how production has changed throughout the years will be better visualised using Plotly Express later in the analysis. "
   ]
  },
  {
   "cell_type": "code",
   "execution_count": null,
   "id": "9f0782a6",
   "metadata": {},
   "outputs": [],
   "source": [
    "def plotprodvisuals(dataset, foodvalue, country):\n",
    "    plt.figure(figsize = (12,8))\n",
    "    sns.lineplot(data=dataset, x=\"Year\", y=\"Production Value\", hue= foodvalue)  \n",
    "    plt.xlabel('\\nYear', fontsize=15) \n",
    "    plt.ylabel('Tonnes Produced\\n', fontsize=15)\n",
    "    plt.title('\\n ' + country + \"'s Production per \" + foodvalue + ' 1961-2019\\n', fontsize=20)\n",
    "    plt.legend(prop = {'size': 10}, loc='best', bbox_to_anchor=(1.3, 1))\n",
    "    plt.xticks(rotation = 80);\n",
    "plt.show(); \n",
    "\n",
    "def plotprodvisualsii(dataset, foodvalue, minx, maxx,  country, title):\n",
    "    plt.figure(figsize = (12,8))\n",
    "    plt.subplots(figsize = (12,8))\n",
    "    sns.lineplot(data=dataset, x=\"Year\", y=\"Production Value\", hue= foodvalue)  \n",
    "    plt.ylim([minx, maxx])\n",
    "    plt.xticks(rotation = 80, fontsize = 12)\n",
    "    plt.xlabel('\\nYear', fontsize=15) \n",
    "    plt.ylabel('Tonnes Produced\\n', fontsize=15)\n",
    "    plt.title('\\n ' + country + \"'s Production per \" + title + foodvalue + ' 1961-2019\\n', fontsize=20)\n",
    "    plt.legend(prop = {'size': 10}, loc='best', bbox_to_anchor=(1.3, 1));\n",
    "plt.show(); \n",
    "\n",
    "def plotprodbar(dataset, foodvalue, country):\n",
    "    plt.figure(figsize = (15,10))\n",
    "    sns.barplot(data = dataset, x = foodvalue, y=\"Production Value\")\n",
    "    plt.xticks(rotation = 90, fontsize=12)\n",
    "    plt.xlabel('Poduct\\n', fontsize=15) \n",
    "    plt.ylabel('Amount in Tonnes\\n', fontsize=15)\n",
    "    # https://stackoverflow.com/questions/35638525/how-to-add-title-to-subplots-with-loop\n",
    "    # set the spacing between subplots \n",
    "    plt.subplots_adjust(left=None, bottom=None, right=None, top=1, wspace=None, hspace=1)\n",
    "    # add title to include i value\n",
    "    plt.title('\\n ' + country + \"'s Top \" + foodvalue + ' 1961-2019\\n', fontsize=20)\n",
    "plt.show(); \n",
    "    "
   ]
  },
  {
   "cell_type": "code",
   "execution_count": null,
   "id": "d6d036bf",
   "metadata": {
    "scrolled": false
   },
   "outputs": [],
   "source": [
    "plotprodvisuals(ireland_prod_meat, \"Meat Type\", 'Ireland')\n",
    "plotprodvisualsii(ireland_prod_dairy, \"Dairy Product\", 1000000, 8500000, 'Ireland', 'Top ')\n",
    "plotprodvisualsii(ireland_prod_dairy, \"Dairy Product\", 0, 275000, 'Ireland', 'Other ')\n",
    "plotprodvisualsii(ireland_prod_crop, \"Crop\", 75000, 2250000, 'Ireland', 'Top ')\n",
    "plotprodvisualsii(ireland_prod_crop, \"Crop\", 0, 75000, 'Ireland', 'Other ')\n",
    "plotprodbar(ireland_prod_crop, \"Crop\",'Ireland');"
   ]
  },
  {
   "cell_type": "markdown",
   "id": "1058ef98",
   "metadata": {},
   "source": [
    "### Fix line graph to avoid clumping \n",
    "\n",
    "Multiple methods were attempted to find a better way to display Crop data to avoid clumping including  using % change, sampling and splitting values into seperate graphs bt setting y limits for values. \n",
    "\n",
    "Setting y limits appears to work the best but a shortned list for crops will need to be created further on to enable a better visual. This list can be created once rade data is also added to dataset. "
   ]
  },
  {
   "cell_type": "code",
   "execution_count": null,
   "id": "77424e1b",
   "metadata": {},
   "outputs": [],
   "source": [
    "# sort values to use pct_change\n",
    "ireland_prod_crop_test= ireland_prod_crop.sort_values(by=['Crop', 'Year'])\n",
    "\n",
    "# add pc change column\n",
    "ireland_prod_crop_test['Production Value PCT'] = ireland_prod_crop_test['Production Value'].pct_change().cumsum()\n",
    "\n",
    "#reset index to use iloc\n",
    "ireland_prod_crop_test.reset_index(drop=True, inplace=True)\n",
    "\n",
    "# replace 1st value of PCT column\n",
    "#ireland_dairy.iloc[[0],[10]] = 61300\n",
    "\n",
    "ireland_prod_crop_test.head()"
   ]
  },
  {
   "cell_type": "code",
   "execution_count": null,
   "id": "c7213656",
   "metadata": {},
   "outputs": [],
   "source": [
    "plt.figure(figsize = (12,8))\n",
    "sns.lineplot(data=ireland_prod_crop_test, x=\"Year\", y=\"Production Value PCT\", hue=\"Crop\")  \n",
    "plt.xlabel('\\nYear', fontsize=15) \n",
    "plt.ylabel('Tonnes Produced\\n', fontsize=15)\n",
    "plt.title ('Ireland Crop Production 1961-2019\\n', fontsize=20)\n",
    "plt.legend(prop = {'size': 10}, loc='best', bbox_to_anchor=(1.3, 1))\n",
    "plt.xticks(rotation = 90);"
   ]
  },
  {
   "cell_type": "code",
   "execution_count": null,
   "id": "ee8273db",
   "metadata": {},
   "outputs": [],
   "source": [
    "#create a sample for better visualisations \n",
    "# https://www.geeksforgeeks.org/python-pandas-dataframe-sample/\n",
    "\n",
    "# create new sample df\n",
    "ireland_prod_crop_sample = ireland_prod_crop.sample(frac =.25)\n",
    "\n",
    "#sort values by year\n",
    "ireland_prod_crop_sample.sort_values(by=['Crop', 'Year'])\n",
    "\n",
    "plt.figure(figsize = (12,8))\n",
    "sns.lineplot(data=ireland_prod_crop_sample, x=\"Year\", y=\"Production Value\", hue=\"Crop\")  \n",
    "plt.xlabel('\\nYear', fontsize=15) \n",
    "plt.ylabel('Tonnes Produced\\n', fontsize=15)\n",
    "plt.title ('Ireland Crop Production 1961-2019\\n', fontsize=20)\n",
    "plt.legend(prop = {'size': 10}, loc='best', bbox_to_anchor=(1.3, 1))\n",
    "plt.xticks(rotation = 90);"
   ]
  },
  {
   "cell_type": "code",
   "execution_count": null,
   "id": "ae71b0fa",
   "metadata": {},
   "outputs": [],
   "source": [
    "#reset graph limits to work for crop items\n",
    "\n",
    "fig, ax = plt.subplots(figsize = (12,8))\n",
    "vt = sns.lineplot(data=ireland_prod_crop, x=\"Year\", y=\"Production Value\", hue=\"Crop\")  \n",
    "vt = ax.set_ylim(0, 75000);\n",
    "plt.xlabel('\\nYear', fontsize=15) \n",
    "plt.ylabel('Tonnes Produced\\n', fontsize=15)\n",
    "plt.title ('Ireland Crop Production 1961-2019\\n', fontsize=20)\n",
    "plt.legend(prop = {'size': 10}, loc='best', bbox_to_anchor=(1.3, 1))\n",
    "plt.xticks(rotation = 90);"
   ]
  },
  {
   "cell_type": "code",
   "execution_count": null,
   "id": "94c488ef",
   "metadata": {},
   "outputs": [],
   "source": []
  },
  {
   "cell_type": "markdown",
   "id": "1849766a",
   "metadata": {},
   "source": [
    "## Ireland Trade Datasets\n",
    "\n",
    "In order to calculate consumption of a product; production, export and import data on a particular crop is required.\n",
    "Ireland Trade data will be sorted into  seperate 'Import Quantity / Import Value / Export Quantity/ Export Value' datasets using the loc function. \n",
    "\n",
    "Agian columns will be remaned to allow for easy column identification once date is merged with production data. This data will then and brought into the Ireland dataset using a merge function.\n",
    "\n",
    "The shape function will show how many rows are present in each dataset. This number is likely to be different to the production data but is expected to drop once merged with trade data as only rows that have all elements related to consumption (import/ export/ production data) will be kept.\n"
   ]
  },
  {
   "cell_type": "code",
   "execution_count": null,
   "id": "2914d1c7",
   "metadata": {},
   "outputs": [],
   "source": [
    "# create irish dataset\n",
    "ireland_trade = europe_trade_df.loc[europe_trade_df['Country']=='Ireland']\n",
    "\n",
    "# irish import/ export datasets - all products (crop, meat, livestock)\n",
    "ireland_imports = ireland_trade.loc[ireland_trade['Element']=='Import Quantity']\n",
    "ireland_exports = ireland_trade.loc[ireland_trade['Element']=='Export Quantity']\n",
    "ireland_imports_val = ireland_trade.loc[ireland_trade['Element']=='Import Value']\n",
    "ireland_exports_val = ireland_trade.loc[ireland_trade['Element']=='Export Value']\n",
    "\n",
    "# rename Value Columns \n",
    "ireland_imports.rename(columns={'Value': 'Import Quantity'}, inplace=True)\n",
    "ireland_exports.rename(columns={'Value': 'Export Quantity'}, inplace=True)\n",
    "ireland_exports.rename(columns={'Unit': 'Export Unit'}, inplace=True)\n",
    "ireland_imports.rename(columns={'Unit': 'Import Unit'}, inplace=True)\n",
    "ireland_imports_val.rename(columns={'Value': 'Import Value'}, inplace=True)\n",
    "ireland_exports_val.rename(columns={'Value': 'Export Value'}, inplace=True)\n",
    "\n",
    "#reset index\n",
    "ireland_imports.reset_index(drop=True, inplace=True)\n",
    "ireland_exports.reset_index(drop=True, inplace=True)\n",
    "ireland_imports_val.reset_index(drop=True, inplace=True)\n",
    "ireland_exports_val.reset_index(drop=True, inplace=True)"
   ]
  },
  {
   "cell_type": "code",
   "execution_count": null,
   "id": "2a722ffc",
   "metadata": {},
   "outputs": [],
   "source": [
    "ireland_imports.head()\n",
    "ireland_exports.head()\n",
    "ireland_imports_val.head()\n",
    "ireland_exports_val.head()"
   ]
  },
  {
   "cell_type": "code",
   "execution_count": null,
   "id": "3c67e044",
   "metadata": {},
   "outputs": [],
   "source": [
    "ireland_imports.shape\n",
    "ireland_exports.shape\n",
    "ireland_imports_val.shape\n",
    "ireland_exports_val.shape"
   ]
  },
  {
   "cell_type": "code",
   "execution_count": null,
   "id": "d470896b",
   "metadata": {},
   "outputs": [],
   "source": [
    "ireland_imports['Crop_Livestock'].unique()"
   ]
  },
  {
   "cell_type": "code",
   "execution_count": null,
   "id": "f5d67dee",
   "metadata": {},
   "outputs": [],
   "source": []
  },
  {
   "cell_type": "markdown",
   "id": "7d3411cc",
   "metadata": {},
   "source": [
    "## Merge Ireland Trade & Production \n",
    "\n",
    "As both Ireland production and Ireland Trade data have been cleaned and missing values have either been imputed/ removed, an Inner Merge is suitable to use here. There are significantly less rows in the production datataset than in the exports/ imports dataset. This is to be expected for imports as the Ireland would typically import products it does not produce/ produce enough of itelf. For export data it is possible there is more records available.\n",
    "\n",
    "This analysis is focusing on how irish production and consumption has changed over time in line with consumer diet trends and thus impacted irelands agriculture. In order to calculate consumption of a product; production, export and import data on a particular crop is required. \n",
    "\n",
    "Therefore the analysis should include data on  all 3. An inner merge would be suitable in most circumstances, however there are situations where a country may produce and export an item and have no need to import as supplies are high. Likewise a country might not produce an item so imports are high and exports are non existant. An inner merge would only keep rows where the selected values exists in both the left and right dataframes. \n",
    "\n",
    "Therefore an outer merge will be used when merging import values. This is most suitable here as to not loose any data where a country would import but not produce. An left merge will be used for export values, so data will only be merged if production values exist. \n",
    "\n",
    "\"Crop_Livestock\" and \"Year\" will both used during merge to ensure no duplicate values are added.\n",
    "\n",
    "Missing values wil be checked once more to ensure no data was lost/skewed during the merge. \n",
    "\n",
    "Finally, some item names differ between the datasets. These will be identified & replaced to simplify the datasets. For this analysis, 'meat preparations' (mince) will be catagorised alongside meat, cattle / meat, pig accordingly.  "
   ]
  },
  {
   "cell_type": "code",
   "execution_count": null,
   "id": "64838591",
   "metadata": {},
   "outputs": [],
   "source": [
    "# merge population data. \n",
    "ireland_add_exports = pd.merge(ireland_prod, ireland_exports, how=\"left\", on = [\"Crop_Livestock\", \"Year\"])"
   ]
  },
  {
   "cell_type": "code",
   "execution_count": null,
   "id": "fd90c8ec",
   "metadata": {},
   "outputs": [],
   "source": [
    "ireland_add_exports.shape"
   ]
  },
  {
   "cell_type": "code",
   "execution_count": null,
   "id": "ba9c62d1",
   "metadata": {},
   "outputs": [],
   "source": [
    "# merge data. \n",
    "ireland_df = pd.merge(ireland_add_exports, ireland_imports, how=\"outer\", on = [\"Crop_Livestock\", \"Year\"])\n",
    "\n",
    "# merge population data. Outer merge so no data is lost \n",
    "ireland_df = pd.merge(ireland_df, ireland_pop, how=\"outer\", on = [\"Year\"])\n",
    "ireland_df.head()\n",
    "\n",
    "#ireland_add_imvals = pd.merge(ireland_add_exports, ireland_imports_val, how=\"outer\", on = [\"Crop_Livestock\", \"Year\"])\n",
    "#ireland_df = pd.merge(ireland_add_imvals, ireland_exports_val, how=\"outer\", on = [\"Crop_Livestock\", \"Year\"])"
   ]
  },
  {
   "cell_type": "code",
   "execution_count": null,
   "id": "d114493c",
   "metadata": {},
   "outputs": [],
   "source": [
    "ireland_df.shape"
   ]
  },
  {
   "cell_type": "code",
   "execution_count": null,
   "id": "164c6309",
   "metadata": {},
   "outputs": [],
   "source": [
    "ireland_df.columns"
   ]
  },
  {
   "cell_type": "code",
   "execution_count": null,
   "id": "bf955fc3",
   "metadata": {},
   "outputs": [],
   "source": [
    "# drop duplicate / unnecessary columns\n",
    "ire_to_drop = ['Element_x', 'Country_x', 'Element_y', 'Country_y', 'Element']\n",
    "ireland_df = ireland_df.drop(ire_to_drop, axis = 1)\n",
    "\n",
    "# rename columns to include unit\n",
    "ireland_df.rename(columns={'Population_Ireland_y' : 'Population_Ireland'}, inplace=True)\n",
    "\n",
    "#reorder columns \n",
    "ire_columns = ['Prod Country', 'Crop_Livestock', 'Year', 'Production Unit',  'Production Value', 'Import Unit', 'Import Quantity', 'Export Unit', 'Export Quantity',  'Population_Ireland']\n",
    "ireland_df = ireland_df.reindex(columns=ire_columns)\n",
    "\n",
    "# check dataset\n",
    "ireland_df.head(100)"
   ]
  },
  {
   "cell_type": "code",
   "execution_count": null,
   "id": "49df9797",
   "metadata": {},
   "outputs": [],
   "source": [
    "# number of missing values \n",
    "ireland_df.isnull().sum()"
   ]
  },
  {
   "cell_type": "code",
   "execution_count": null,
   "id": "8e9a8802",
   "metadata": {},
   "outputs": [],
   "source": [
    "#check the amount of 0's in each column\n",
    "ireland_df_sparse = (ireland_df == 0).sum()\n",
    "ireland_df_sparse"
   ]
  },
  {
   "cell_type": "code",
   "execution_count": null,
   "id": "29e42e7b",
   "metadata": {},
   "outputs": [],
   "source": [
    "# drop all rows with NaN and 0 values\n",
    "\n",
    "# first will replace 0 values with NaNs  \n",
    "ireland_df['Prod Country'].replace(to_replace = np.nan, value = 'Ireland', inplace=True)\n",
    "\n",
    "# first will replace 0 values with NaNs  \n",
    "ireland_df.replace(to_replace = np.nan, value = 0, inplace=True)\n",
    "\n",
    "# check if we have any NaN values in our dataset\n",
    "ireland_df.isnull().sum()"
   ]
  },
  {
   "cell_type": "code",
   "execution_count": null,
   "id": "1451996a",
   "metadata": {},
   "outputs": [],
   "source": [
    "ireland_df_sparse"
   ]
  },
  {
   "cell_type": "code",
   "execution_count": null,
   "id": "3183fe50",
   "metadata": {},
   "outputs": [],
   "source": [
    "# cast value as int \n",
    "ireland_df['Production Value'] = ireland_df['Production Value'].astype('int')\n",
    "ireland_df['Import Quantity'] = ireland_df['Import Quantity'].astype('int')\n",
    "ireland_df['Export Quantity'] = ireland_df['Export Quantity'].astype('int')\n",
    "ireland_df['Population_Ireland'] = ireland_df['Population_Ireland'].astype('int')"
   ]
  },
  {
   "cell_type": "code",
   "execution_count": null,
   "id": "5d02e5cf",
   "metadata": {},
   "outputs": [],
   "source": []
  },
  {
   "cell_type": "markdown",
   "id": "6f2b9afc",
   "metadata": {},
   "source": [
    "## Feature Engineering - Ireland Consumption \n",
    "\n",
    "In order to analyse whether Irelands consumption has changed over time in line with changing diet  trends, a consumption column wil need to be feature engineered. To calculate consumption of a product; production, export and import data on a particular crop is required and the folowing equation will be used:\n",
    "\n",
    "    Consumption = (Production + Imports) - Exports \n",
    "\n",
    "This calaculation is as adaptation of the calculation used to calculate GDP, which is:\n",
    "\n",
    "    GDP = Domestic Consumption (C) + Domestic gross investment (In) + Government spending (G) + [Exports (E)—Imports (I )], or GDP = C + In + G + (E—I)\n",
    "\n",
    "https://www.wilsoncenter.org/chapter-3-trade-agreements-and-economic-theory\n"
   ]
  },
  {
   "cell_type": "code",
   "execution_count": null,
   "id": "c8cf716d",
   "metadata": {},
   "outputs": [],
   "source": [
    "ireland_df['consumption'] = (ireland_df['Production Value'] + ireland_df['Import Quantity']) - ireland_df['Export Quantity']"
   ]
  },
  {
   "cell_type": "code",
   "execution_count": null,
   "id": "41ee6b45",
   "metadata": {},
   "outputs": [],
   "source": [
    "# rename columns\n",
    "ireland_df.rename(columns={'Prod Country': 'prod_country', 'Crop_Livestock':'crop_livestock', 'Year': 'year', \n",
    "                           'Production Unit': 'production_unit', 'Production Value': 'production_value', \n",
    "                           'Import Unit': 'import_unit', 'Import Quantity': 'import_quantity',\n",
    "                           'Export Unit': 'export_unit', 'Export Quantity': 'export_quantity'}, inplace=True)\n"
   ]
  },
  {
   "cell_type": "code",
   "execution_count": null,
   "id": "8e6f8b14",
   "metadata": {},
   "outputs": [],
   "source": [
    "ireland_df"
   ]
  },
  {
   "cell_type": "markdown",
   "id": "8981f9c4",
   "metadata": {},
   "source": [
    "## Ireland Meat/ Dairy/ Crop Datasets\n",
    "\n",
    "As the focus of this analysis is how irish production and consumption has changed over time in line with consumer diet trends and thus impacted irelands agriculture, the ireland_df can be divided into Meat / Dairy / Crop datasets for further analysis. This will be done by using the str.contains function to specify what products should/ should not be included in each dataset.\n",
    "\n",
    "The .unique and loc functions will then be used to further filter each dataset and remove any unwanted/ non relevant  products from each dataset. \n",
    "\n",
    "The crop dataset will be determined by crops associated with vegan produce such as milk alternatives and meat alternative products. "
   ]
  },
  {
   "cell_type": "code",
   "execution_count": null,
   "id": "56f6117a",
   "metadata": {},
   "outputs": [],
   "source": [
    "# irish production meat products\n",
    "ireland_meat = ireland_df.loc[ireland_df['crop_livestock'].str.contains('meat', case=False)]\n",
    "ireland_meat = ireland_meat.loc[ireland_meat['crop_livestock'].str.contains('nes|total|buffalo|poultry|other|canned', case=False) == False]\n",
    "ireland_meat.rename(columns={'crop_livestock': 'Meat_Type'}, inplace=True)\n",
    "ireland_meat.reset_index(drop=True)\n",
    "\n",
    "# irish production dairy products\n",
    "ireland_dairy = ireland_df.loc[ireland_df['crop_livestock'].str.contains('milk|cream', case=False)]\n",
    "ireland_dairy.rename(columns={'crop_livestock': 'Dairy_Product'}, inplace=True)\n",
    "ireland_dairy.reset_index(drop=True)\n",
    "\n",
    "# irish production crops\n",
    "ireland_crop = ireland_df.loc[ireland_df['crop_livestock'].str.contains('total|chickpea|soy|almond|oat|hazelnut|cashew|tofu|avocado|mushroom|hemp|flax|chia|seaweed|yeast|quinoa|primary', case=False)]\n",
    "ireland_crop = ireland_crop.loc[ireland_crop['crop_livestock'].str.contains('meat|milk|offal|fat|hide|wool|sheep|cream|egg|lard|butter|cheese|oil|skin|goat|rice|juice|other|paste|sauce|tow|canned|cake|frozen|nes|confectionery|oil|broken|waste|equivalent', case=False) == False]\n",
    "ireland_crop.rename(columns={'crop_livestock': 'Crop'}, inplace=True)\n",
    "ireland_crop.reset_index(drop=True)\n",
    "\n"
   ]
  },
  {
   "cell_type": "code",
   "execution_count": null,
   "id": "ff2d843b",
   "metadata": {},
   "outputs": [],
   "source": [
    "ireland_crop['Crop'].unique()"
   ]
  },
  {
   "cell_type": "code",
   "execution_count": null,
   "id": "9b8aa41f",
   "metadata": {},
   "outputs": [],
   "source": [
    "# check Meat Type values are what we want for analysis\n",
    "ireland_meat['Meat_Type'].unique()"
   ]
  },
  {
   "cell_type": "code",
   "execution_count": null,
   "id": "f41c97bb",
   "metadata": {},
   "outputs": [],
   "source": [
    "ireland_meat = ireland_meat.loc[ireland_meat['Meat_Type'].str.contains('nes|total|poultry|other|canned', case=False) == False]\n",
    "ireland_meat = ireland_meat.loc[ireland_meat['Meat_Type'].str.contains('Sheep and Goat Meat', case=False) == False]\n",
    "ireland_meat = ireland_meat.loc[ireland_meat['Meat_Type'].str.contains('Meat, beef and veal sausages', case=False) == False]"
   ]
  },
  {
   "cell_type": "code",
   "execution_count": null,
   "id": "d53bf6af",
   "metadata": {},
   "outputs": [],
   "source": [
    "ireland_dairy['Dairy_Product'].unique()"
   ]
  },
  {
   "cell_type": "code",
   "execution_count": null,
   "id": "0c9b9928",
   "metadata": {},
   "outputs": [],
   "source": [
    "ireland_dairy = ireland_dairy.loc[ireland_dairy['Dairy_Product'] != 'Evaporat&Condensed Milk']\n",
    "ireland_dairy = ireland_dairy.loc[ireland_dairy['Dairy_Product'] != 'Buttermilk, curdled, acidified milk']\n",
    "ireland_dairy = ireland_dairy.loc[ireland_dairy['Dairy_Product'] != 'Ice cream and edible ice']\n",
    "ireland_dairy = ireland_dairy.loc[ireland_dairy['Dairy_Product'] != 'Skim Milk&Buttermilk,Dry']\n",
    "ireland_dairy = ireland_dairy.loc[ireland_dairy['Dairy_Product'].str.contains('total|nes', case=False) == False]"
   ]
  },
  {
   "cell_type": "markdown",
   "id": "0cba1445",
   "metadata": {},
   "source": [
    "### Descriptive Statistics per product type for all years\n",
    "\n",
    "Now the data has been cleaned, descriptive statistical analysis can begin. A mean production / import/ export value will be shown for each product type (meat, dairy, crop). Min/ max info, inter quatrile ranges and standard diveation form the mean will also be shown per product type across production/ imports / exports. \n",
    "\n",
    "Population data can be ignored here as data will be skewed. \n"
   ]
  },
  {
   "cell_type": "code",
   "execution_count": null,
   "id": "afb976df",
   "metadata": {},
   "outputs": [],
   "source": [
    "# for all meat products 1961-2019\n",
    "ireland_meat.describe()\n",
    "\n",
    "# for all dairy products 1961-2019\n",
    "ireland_dairy.describe()\n",
    "\n",
    "# for all crops 1961-2019\n",
    "ireland_crop.describe()"
   ]
  },
  {
   "cell_type": "markdown",
   "id": "8815fb8a",
   "metadata": {},
   "source": [
    "### Ireland Visualisations \n",
    "\n",
    "Seaborn & MatPlotlib libraries will be used to visualise Irelands agriculture production from 1961-2019 for meat / dairy/ crops.\n",
    "\n",
    "A line graph is chosen as to show production and consumption over time. A loop will be used here to avoid repetition, a function will be created to all this loop for different datasets. \n",
    "\n",
    "A bar plot is used to show Top Meat/ Dairy/ Crop Imports, Exports and consumption per product. Similarly, a loop will be used here to avoid repetition, a function will be created to all this loop for different datasets. \n",
    "\n",
    "These visualisations will then be compared against population values to see if values increase/ decrease with population. "
   ]
  },
  {
   "cell_type": "code",
   "execution_count": null,
   "id": "949e1c0f",
   "metadata": {},
   "outputs": [],
   "source": [
    "ireland_meat_list = ireland_meat['Meat_Type'].unique()\n",
    "ireland_dairy_list = ireland_dairy['Dairy_Product'].unique()\n",
    "ireland_crop_list = ireland_crop['Crop'].unique()"
   ]
  },
  {
   "cell_type": "code",
   "execution_count": null,
   "id": "1d56b64b",
   "metadata": {},
   "outputs": [],
   "source": [
    "# function 1 - Line graphs for production / consumption Vs Population throughout years\n",
    "\n",
    "# set the spacing between subplots /  # add title to include i value\n",
    "# https://stackoverflow.com/questions/35638525/how-to-add-title-to-subplots-with-loop\n",
    "\n",
    "## add annotation for lines in line graph\n",
    "# https://stackoverflow.com/questions/49237522/how-to-annotate-end-of-lines-using-python-and-matplotlib\n",
    "#https://matplotlib.org/3.5.0/api/_as_gen/matplotlib.axes.Axes.annotate.html\n",
    "\n",
    "## change limit of x axes to allow rom for labels\n",
    "#https://stackoverflow.com/questions/62882793/adding-extra-space-along-the-x-axis-in-matplotlib-bar-graph\n",
    "\n",
    "\n",
    "line_values = ['production_value', 'consumption']\n",
    "\n",
    "def plotlinegraphs(dataset, value, country, popvalue, ydataname):\n",
    "    plt.figure(figsize = (15,20))\n",
    "    for i in enumerate(line_values):\n",
    "        plt.subplot(2,1,i[0]+1)\n",
    "        ax = sns.lineplot(data= dataset, x=\"year\", y= i[1], hue= value, ci=None, )\n",
    "        for line, name in zip(ax.lines, ydataname):\n",
    "            y = line.get_ydata()[-1]\n",
    "            ax.annotate(name, xy=(1,y), xytext=(760,1), color=line.get_color(), \n",
    "                textcoords=\"offset points\",\n",
    "                size=14, va=\"baseline\")\n",
    "            plt.xlim(None, 70)\n",
    "            plt.xticks(rotation = 80, fontsize=12)\n",
    "            plt.xlabel('\\nYear', fontsize=15) \n",
    "            plt.ylabel('Amount in Tonnes\\n', fontsize=15)\n",
    "            plt.legend(prop = {'size': 10}, loc='upper left', bbox_to_anchor=(1.1, 1))\n",
    "            plt.subplots_adjust(left=None, bottom=None, right=1, top=None, wspace=None, hspace=0.4)\n",
    "            plt.title('\\n ' + country + i[1] + ' per ' + value + ' Vs Population for 1961-2019\\n', fontsize=20)\n",
    "        ax2 = plt.twinx()\n",
    "        #plt.ylabel('\\nPopulation', fontsize=15)\n",
    "        plt.ylabel('\\n ', fontsize=15)\n",
    "        sns.lineplot(data=dataset, x=\"year\", y= popvalue, color =\"r\", \n",
    "                     label= 'Population', linestyle='dashdot', linewidth=3, ax=ax2)\n",
    "        plt.legend(loc='upper right')\n",
    "\n",
    "plt.show(); "
   ]
  },
  {
   "cell_type": "code",
   "execution_count": null,
   "id": "3cbe5af9",
   "metadata": {},
   "outputs": [],
   "source": [
    "# # function 2 - Line graphs for production / consumption thrughout yearswhere max/ min values are required \n",
    "\n",
    "def plotlinegraphsii(dataset, value, minx, maxx, country, popvalue, ydataname, title):\n",
    "    plt.figure(figsize = (15,30))\n",
    "    for i in enumerate(line_values):\n",
    "        plt.subplot(2,1,i[0]+1)\n",
    "        ax = sns.lineplot(data= dataset, x=\"year\", y= i[1], hue= value, ci=None, )\n",
    "        for line, name in zip(ax.lines, ydataname):\n",
    "            y = line.get_ydata()[-1]\n",
    "            ax.annotate(name, xy=(1,y), xytext=(760,1), color=line.get_color(), \n",
    "                textcoords=\"offset points\",\n",
    "                size=14, va=\"baseline\")\n",
    "            plt.xlim(None, 70)\n",
    "            plt.ylim([minx, maxx])\n",
    "            plt.xticks(rotation = 80, fontsize=12)\n",
    "            plt.xlabel('\\nYear', fontsize=15) \n",
    "            plt.ylabel('Amount in Tonnes\\n', fontsize=15)\n",
    "            plt.legend(prop = {'size': 10}, loc='upper left', bbox_to_anchor=(1.1, 1))\n",
    "            plt.subplots_adjust(left=None, bottom=None, right=1, top=None, wspace=None, hspace=0.4)\n",
    "            plt.title('\\n ' + country + i[1] + ' per ' + title + value + ' Vs Population for 1961-2019\\n', fontsize=20)\n",
    "        ax2 = plt.twinx()\n",
    "        #plt.ylabel('\\nPopulation', fontsize=15)\n",
    "        plt.ylabel('\\n ', fontsize=15)\n",
    "        sns.lineplot(data=dataset, x=\"year\", y= popvalue, color =\"r\", \n",
    "                     label= 'Population', linestyle='dashdot', linewidth=3, ax=ax2)\n",
    "        plt.legend(loc='upper right')\n",
    "\n",
    "plt.show(); \n"
   ]
  },
  {
   "cell_type": "code",
   "execution_count": null,
   "id": "9825e563",
   "metadata": {},
   "outputs": [],
   "source": [
    "# function 3 - Bar plots for production/ consumption/ imports / exports \n",
    "\n",
    "features = ['production_value', 'import_quantity', 'export_quantity', 'consumption']\n",
    "\n",
    "def plotfigures(dataset, value, country):\n",
    "    plt.figure(figsize = (15,30))\n",
    "    for i in enumerate(features):\n",
    "        plt.subplot(4,1,i[0]+1)\n",
    "        sns.barplot(data = dataset, x = value, y = i[1])\n",
    "        plt.xticks(rotation = 80, fontsize=12)\n",
    "        plt.xlabel('Product\\n', fontsize=15) \n",
    "        plt.ylabel('Amount in Tonnes\\n', fontsize=15)\n",
    "    # https://stackoverflow.com/questions/35638525/how-to-add-title-to-subplots-with-loop\n",
    "    # set the spacing between subplots \n",
    "        plt.subplots_adjust(left=None, bottom=None, right=None, top=1, wspace=None, hspace=1)\n",
    "    # add title to include i value\n",
    "        plt.title('\\n ' + country + i[1] + ' per ' +  value + ' for 1961-2019\\n', fontsize=20)\n",
    "plt.show(); "
   ]
  },
  {
   "cell_type": "markdown",
   "id": "b6f165f3",
   "metadata": {},
   "source": [
    "#### Meat"
   ]
  },
  {
   "cell_type": "code",
   "execution_count": null,
   "id": "35334d01",
   "metadata": {
    "scrolled": false
   },
   "outputs": [],
   "source": [
    "# ireland meat visuals\n",
    "plotlinegraphs(ireland_meat, 'Meat_Type', 'Ireland ', 'Population_Ireland', ireland_meat_list)\n",
    "plotfigures(ireland_meat, 'Meat_Type', 'Ireland ');"
   ]
  },
  {
   "cell_type": "code",
   "execution_count": null,
   "id": "27d4fad9",
   "metadata": {
    "scrolled": false
   },
   "outputs": [],
   "source": [
    "# ireland meat visuals more detail\n",
    "plotlinegraphsii(ireland_meat, 'Meat_Type',  5000, 625000, 'Ireland ', 'Population_Ireland', ireland_meat_list, 'Top ')\n",
    "plotlinegraphsii(ireland_meat, 'Meat_Type',  0, 5000, 'Ireland ', 'Population_Ireland', ireland_meat_list, 'Other ')"
   ]
  },
  {
   "cell_type": "markdown",
   "id": "0016facd",
   "metadata": {},
   "source": [
    "#### Dairy"
   ]
  },
  {
   "cell_type": "code",
   "execution_count": null,
   "id": "53f47a69",
   "metadata": {
    "scrolled": false
   },
   "outputs": [],
   "source": [
    "# ireland dairy visuals \n",
    "plotlinegraphs(ireland_dairy, 'Dairy_Product', 'Ireland ', 'Population_Ireland', ireland_dairy_list)\n",
    "plotfigures(ireland_dairy, 'Dairy_Product', 'Ireland ');"
   ]
  },
  {
   "cell_type": "code",
   "execution_count": null,
   "id": "37f61be2",
   "metadata": {
    "scrolled": false
   },
   "outputs": [],
   "source": [
    "# ireland dairu visuals more detail\n",
    "plotlinegraphsii(ireland_dairy, 'Dairy_Product', 1000000, 8500000, 'Ireland ', 'Population_Ireland', ireland_dairy_list, 'Top')\n",
    "plotlinegraphsii(ireland_dairy, 'Dairy_Product', 0, 300000, 'Ireland ', 'Population_Ireland', ireland_dairy_list,  'Mid ')\n",
    "plotlinegraphsii(ireland_dairy, 'Dairy_Product', 0, 110000, 'Ireland ', 'Population_Ireland', ireland_dairy_list,  'Smaller ')"
   ]
  },
  {
   "cell_type": "markdown",
   "id": "86a83822",
   "metadata": {},
   "source": [
    "#### Crops "
   ]
  },
  {
   "cell_type": "code",
   "execution_count": null,
   "id": "ff8cb012",
   "metadata": {
    "scrolled": false
   },
   "outputs": [],
   "source": [
    "# ireland crop visuals \n",
    "plotlinegraphs(ireland_crop, 'Crop', 'Ireland ', 'Population_Ireland', ireland_crop_list)\n",
    "plotfigures(ireland_crop, 'Crop', 'Ireland ');"
   ]
  },
  {
   "cell_type": "code",
   "execution_count": null,
   "id": "fb96f8b5",
   "metadata": {
    "scrolled": false
   },
   "outputs": [],
   "source": [
    "# ireland crop visuals more detail \n",
    "plotlinegraphsii(ireland_crop, 'Crop', 80000, 3000000, 'Ireland ', 'Population_Ireland', ireland_crop_list, 'Top ')\n",
    "plotlinegraphsii(ireland_crop, 'Crop', 0, 80000, 'Ireland ', 'Population_Ireland', ireland_crop_list, 'Mid ')\n",
    "plotlinegraphsii(ireland_crop, 'Crop', 0, 6000, 'Ireland ', 'Population_Ireland', ireland_crop_list, 'Smaller ')"
   ]
  },
  {
   "cell_type": "markdown",
   "id": "5152b8f4",
   "metadata": {},
   "source": [
    "### Ireland Production Pivot Table"
   ]
  },
  {
   "cell_type": "code",
   "execution_count": null,
   "id": "db007e4f",
   "metadata": {},
   "outputs": [],
   "source": [
    "#ireland_dairy_prod as a pivot table to see dairy poduct values per year\n",
    "\n",
    "ireland_meat_table = pd.pivot_table(ireland_meat, values='production_value', index=['prod_country', 'year'],\n",
    "                    columns=['Meat_Type'], aggfunc=np.sum, fill_value=0)\n",
    "\n",
    "\n",
    "ireland_dairy_table = pd.pivot_table(ireland_dairy, values='production_value', index=['prod_country', 'year'],\n",
    "                    columns=['Dairy_Product'], aggfunc=np.sum, fill_value=0)\n",
    "\n",
    "\n",
    "ireland_crop_table = pd.pivot_table(ireland_crop, values='production_value', index=['prod_country', 'year'],\n",
    "                    columns=['Crop'], aggfunc=np.sum, fill_value=0)"
   ]
  },
  {
   "cell_type": "code",
   "execution_count": null,
   "id": "274d8551",
   "metadata": {},
   "outputs": [],
   "source": [
    "ireland_meat_table"
   ]
  },
  {
   "cell_type": "code",
   "execution_count": null,
   "id": "9ec38eab",
   "metadata": {
    "scrolled": false
   },
   "outputs": [],
   "source": [
    "ireland_dairy_table"
   ]
  },
  {
   "cell_type": "code",
   "execution_count": null,
   "id": "15a6867a",
   "metadata": {},
   "outputs": [],
   "source": [
    "ireland_crop_table"
   ]
  },
  {
   "cell_type": "markdown",
   "id": "efaaa581",
   "metadata": {},
   "source": [
    "### Descriptive Statistics per product for all years\n",
    "\n",
    "The FAO datasets are free of outliers, however, outliers will appear when looking at boxplots per product for all years as this data is presented in Pivot table format and will show 0 values for years where production on an item had not yet started. "
   ]
  },
  {
   "cell_type": "code",
   "execution_count": null,
   "id": "cc3a911f",
   "metadata": {
    "scrolled": false
   },
   "outputs": [],
   "source": [
    "ireland_meat_table.describe().apply(lambda s: s.apply('{0:.2f}'.format))\n",
    "ireland_dairy_table.describe().apply(lambda s: s.apply('{0:.2f}'.format))\n",
    "ireland_crop_table.describe().apply(lambda s: s.apply('{0:.2f}'.format))"
   ]
  },
  {
   "cell_type": "code",
   "execution_count": null,
   "id": "da730fe2",
   "metadata": {},
   "outputs": [],
   "source": [
    "plt.figure(figsize=[15, 10])\n",
    "sns.boxplot(data=ireland_meat_table, orient='h', palette='Reds_r');"
   ]
  },
  {
   "cell_type": "code",
   "execution_count": null,
   "id": "4893fe69",
   "metadata": {},
   "outputs": [],
   "source": [
    "plt.figure(figsize=[15, 10])\n",
    "sns.boxplot(data=ireland_dairy_table, orient='h', palette='BuPu_r');"
   ]
  },
  {
   "cell_type": "code",
   "execution_count": null,
   "id": "ccfa66e8",
   "metadata": {},
   "outputs": [],
   "source": [
    "plt.figure(figsize=[15, 10])\n",
    "sns.boxplot(data=ireland_crop_table, orient='h', palette='summer_r');"
   ]
  },
  {
   "cell_type": "code",
   "execution_count": null,
   "id": "fb83ed5f",
   "metadata": {},
   "outputs": [],
   "source": [
    "ireland_meat_table.columns "
   ]
  },
  {
   "cell_type": "code",
   "execution_count": null,
   "id": "267ac07a",
   "metadata": {},
   "outputs": [],
   "source": [
    "ireland_meat_columns = ['Meal, meat', 'Meat, beef', 'Meat, chicken', 'Meat, duck', 'Meat, game',\n",
    "       'Meat, goat', 'Meat, goose', 'Meat, horse', 'Meat, pig',\n",
    "       'Meat, pig sausages', 'Meat, pork', 'Meat, rabbit', 'Meat, sheep', 'Meat, turkey']"
   ]
  },
  {
   "cell_type": "code",
   "execution_count": null,
   "id": "c14c4830",
   "metadata": {},
   "outputs": [],
   "source": []
  },
  {
   "cell_type": "markdown",
   "id": "b965b9c5",
   "metadata": {},
   "source": [
    "## GERMANY"
   ]
  },
  {
   "cell_type": "markdown",
   "id": "7280ac89",
   "metadata": {},
   "source": [
    " ## Germany Production Datasets"
   ]
  },
  {
   "cell_type": "code",
   "execution_count": null,
   "id": "f4384009",
   "metadata": {},
   "outputs": [],
   "source": [
    "# create german dataset\n",
    "germany_prod_df = europe_melt.loc[europe_melt['Country']=='Germany']\n",
    "\n",
    "# german production dataset - all products (crop, meat, livestock)\n",
    "germany_prod = germany_prod_df.loc[germany_prod_df['Element']=='Production']\n",
    "\n",
    "# rename columns\n",
    "germany_prod.rename(columns={'Country': 'Prod Country', 'Unit': 'Production Unit', 'Value': 'Production Value' }, inplace=True)\n",
    "\n",
    "#reset index\n",
    "germany_prod.reset_index(drop=True, inplace=True)\n",
    "\n",
    "germany_prod\n",
    "\n"
   ]
  },
  {
   "cell_type": "markdown",
   "id": "3df7a88a",
   "metadata": {},
   "source": [
    "### Germany Missing Values "
   ]
  },
  {
   "cell_type": "code",
   "execution_count": null,
   "id": "d52c4e90",
   "metadata": {},
   "outputs": [],
   "source": [
    "#ireland_prod as a pivot table to see what values we need to replace for 2018/2019 only\n",
    "\n",
    "germany_prod_table = pd.pivot_table(germany_prod, values='Production Value', index=['Prod Country', 'Element', 'Production Unit', 'Year'],\n",
    "                    columns=['Crop_Livestock'], aggfunc=np.sum, fill_value=0)\n",
    "germany_prod_table"
   ]
  },
  {
   "cell_type": "code",
   "execution_count": null,
   "id": "5d35e785",
   "metadata": {},
   "outputs": [],
   "source": [
    "# search tab to identify what 2018/2019 data to be replaces & identify iloc \n",
    "germany_prod.loc[germany_prod['Crop_Livestock']=='Cream fresh']"
   ]
  },
  {
   "cell_type": "code",
   "execution_count": null,
   "id": "9a208796",
   "metadata": {},
   "outputs": [],
   "source": [
    "# replace missing 2018/ 2019 values with last recorded value \n",
    "\n",
    "germany_prod.iloc[[9463, 9629],[5]] = 227.0\n",
    "germany_prod.iloc[[9478, 9644],[5]] = 2040.0\n",
    "germany_prod.iloc[[9479, 9645],[5]] = 791400.0\n",
    "germany_prod.iloc[[9480, 9646],[5]] = 1484200.0\n",
    "germany_prod.iloc[[9499, 9665],[5]] = 2703.0\n",
    "germany_prod.iloc[[9501, 9667],[5]] = 86160.0\n",
    "germany_prod.iloc[[9510, 9676],[5]] = 21600.0\n",
    "germany_prod.iloc[[9526, 9692],[5]] = 58400.0\n",
    "germany_prod.iloc[[9531, 9697],[5]] = 32532.0\n",
    "germany_prod.iloc[[9534, 9700],[5]] = 13800937.0\n",
    "germany_prod.iloc[[9535, 9701],[5]] = 430400.0\n",
    "germany_prod.iloc[[9536, 9702],[5]] = 27000.0\n",
    "germany_prod.iloc[[9537, 9703],[5]] = 37363.0\n",
    "germany_prod.iloc[[9538, 9704],[5]] = 134800.0\n",
    "germany_prod.iloc[[9539, 9705],[5]] = 376407.0\n",
    "germany_prod.iloc[[9546, 9712],[5]] = 8194.0\n",
    "germany_prod.iloc[[9561, 9727],[5]] = 12851.0\n",
    "germany_prod.iloc[[9567, 9733],[5]] = 91603.0\n",
    "germany_prod.iloc[[9569, 9735],[5]] = 562.0\n",
    "germany_prod.iloc[[9574, 9740],[5]] = 2905.0\n",
    "germany_prod.iloc[[9576, 9742],[5]] = 13141.0\n",
    "germany_prod.iloc[[9591, 9757],[5]] = 38164.0\n",
    "germany_prod.iloc[[9593, 9759],[5]] = 6218.0\n",
    "germany_prod.iloc[[9599, 9765],[5]] = 18261.0\n",
    "germany_prod.iloc[[9602, 9768],[5]] = 29446.0\n",
    "germany_prod.iloc[[9603, 9769],[5]] = 345200.0\n",
    "germany_prod.iloc[[9626, 9792],[5]] = 18261.0\n",
    "germany_prod.iloc[[9486, 9652],[5]] = 578000.0"
   ]
  },
  {
   "cell_type": "code",
   "execution_count": null,
   "id": "08cecde8",
   "metadata": {},
   "outputs": [],
   "source": [
    "# drop all rows with NaN and 0 values\n",
    "\n",
    "# first will replace 0 values with NaNs  \n",
    "germany_prod.replace(to_replace = 0, value = np.nan, inplace=True)\n",
    "\n",
    "# row = 0, column = 1\n",
    "germany_prod = germany_prod.dropna(axis=0)\n",
    "\n",
    "# check if we have any NaN values in our dataset\n",
    "germany_prod.isnull().values.any()"
   ]
  },
  {
   "cell_type": "code",
   "execution_count": null,
   "id": "9f04734f",
   "metadata": {},
   "outputs": [],
   "source": [
    "# cast value as int \n",
    "germany_prod['Production Value'] = germany_prod['Production Value'].astype('int')"
   ]
  },
  {
   "cell_type": "code",
   "execution_count": null,
   "id": "c8c7c3a6",
   "metadata": {},
   "outputs": [],
   "source": []
  },
  {
   "cell_type": "markdown",
   "id": "972aa774",
   "metadata": {},
   "source": [
    "### Germany Production- Add Population"
   ]
  },
  {
   "cell_type": "code",
   "execution_count": null,
   "id": "90c17322",
   "metadata": {},
   "outputs": [],
   "source": [
    "# merge population data. Outer merge so no data is lost \n",
    "germany_prod_pop = pd.merge(germany_prod, germany_pop, how=\"outer\", on = [\"Year\"])\n",
    "germany_prod_pop.head()"
   ]
  },
  {
   "cell_type": "code",
   "execution_count": null,
   "id": "5767b8c6",
   "metadata": {},
   "outputs": [],
   "source": [
    "germany_prod_pop.shape"
   ]
  },
  {
   "cell_type": "code",
   "execution_count": null,
   "id": "64e159f6",
   "metadata": {},
   "outputs": [],
   "source": []
  },
  {
   "cell_type": "markdown",
   "id": "6422520c",
   "metadata": {},
   "source": [
    "###  Germany Production Analysis"
   ]
  },
  {
   "cell_type": "code",
   "execution_count": null,
   "id": "c8a44c8e",
   "metadata": {},
   "outputs": [],
   "source": [
    "# german production meat products\n",
    "germany_meat_prod = germany_prod_pop.loc[germany_prod_pop['Crop_Livestock'].str.contains('meat', case=False)]\n",
    "germany_meat_prod.rename(columns={'Crop_Livestock': 'Meat Type'}, inplace=True)\n",
    "germany_meat_prod.reset_index(drop=True)\n",
    "\n",
    "# german production dairy products\n",
    "germany_dairy_prod =  germany_prod_pop.loc[ germany_prod_pop['Crop_Livestock'].str.contains('milk', case=False)]\n",
    "germany_dairy_prod.rename(columns={'Crop_Livestock': 'Dairy Product'}, inplace=True)\n",
    "germany_dairy_prod.reset_index(drop=True)\n",
    "\n",
    "# german production crops\n",
    "germany_crop_prod = germany_prod_pop.loc[germany_prod_pop['Crop_Livestock'].str.contains('meat', case=False) == False]\n",
    "germany_crop_prod = germany_crop_prod.loc[germany_crop_prod['Crop_Livestock'].str.contains('milk', case=False) == False]\n",
    "germany_crop_prod = germany_crop_prod.loc[germany_crop_prod['Crop_Livestock'].str.contains('offals', case=False) == False]\n",
    "germany_crop_prod = germany_crop_prod.loc[germany_crop_prod['Crop_Livestock'].str.contains('fat', case=False) == False]\n",
    "germany_crop_prod = germany_crop_prod.loc[germany_crop_prod['Crop_Livestock'].str.contains('hides', case=False) == False]\n",
    "germany_crop_prod = germany_crop_prod.loc[germany_crop_prod['Crop_Livestock'].str.contains('wool', case=False) == False]\n",
    "germany_crop_prod = germany_crop_prod.loc[germany_crop_prod['Crop_Livestock'].str.contains('sheep', case=False) == False]\n",
    "germany_crop_prod = germany_crop_prod.loc[germany_crop_prod['Crop_Livestock'].str.contains('cream', case=False) == False]\n",
    "germany_crop_prod = germany_crop_prod.loc[germany_crop_prod['Crop_Livestock'].str.contains('egg', case=False) == False]\n",
    "germany_crop_prod = germany_crop_prod.loc[germany_crop_prod['Crop_Livestock'].str.contains('lard', case=False) == False]\n",
    "germany_crop_prod = germany_crop_prod.loc[germany_crop_prod['Crop_Livestock'].str.contains('butter', case=False) == False]\n",
    "germany_crop_prod = germany_crop_prod.loc[germany_crop_prod['Crop_Livestock'].str.contains('cheese', case=False) == False]\n",
    "germany_crop_prod = germany_crop_prod.loc[germany_crop_prod['Crop_Livestock'].str.contains('oil', case=False) == False]\n",
    "germany_crop_prod = germany_crop_prod.loc[germany_crop_prod['Crop_Livestock'].str.contains('skin', case=False) == False]\n",
    "\n",
    "germany_crop_prod.rename(columns={'Crop_Livestock': 'Crop'}, inplace=True)\n",
    "germany_crop_prod.reset_index(drop=True)\n"
   ]
  },
  {
   "cell_type": "code",
   "execution_count": null,
   "id": "8ea06421",
   "metadata": {},
   "outputs": [],
   "source": [
    "# check Meat Type values are what we want for analysis\n",
    "germany_meat_prod['Meat Type'].unique()"
   ]
  },
  {
   "cell_type": "code",
   "execution_count": null,
   "id": "13d1e985",
   "metadata": {},
   "outputs": [],
   "source": [
    "# remove any items we dont want \n",
    "germany_meat_prod = germany_meat_prod.loc[germany_meat_prod['Meat Type'] != 'Meat nes']\n",
    "germany_meat_prod = germany_meat_prod.loc[germany_meat_prod['Meat Type'] != 'Meat, Total']"
   ]
  },
  {
   "cell_type": "code",
   "execution_count": null,
   "id": "ee29d3d2",
   "metadata": {},
   "outputs": [],
   "source": [
    "germany_dairy_prod['Dairy Product'].unique()"
   ]
  },
  {
   "cell_type": "code",
   "execution_count": null,
   "id": "d8dd019b",
   "metadata": {},
   "outputs": [],
   "source": [
    "germany_dairy_prod = germany_dairy_prod.loc[germany_dairy_prod['Dairy Product'] != 'Milk, Total']\n",
    "germany_dairy_prod = germany_dairy_prod.loc[germany_dairy_prod['Dairy Product'] != 'Evaporat&Condensed Milk']"
   ]
  },
  {
   "cell_type": "code",
   "execution_count": null,
   "id": "0c1dab92",
   "metadata": {},
   "outputs": [],
   "source": [
    "germany_crop_prod['Crop'].unique()"
   ]
  },
  {
   "cell_type": "code",
   "execution_count": null,
   "id": "49f8e814",
   "metadata": {},
   "outputs": [],
   "source": [
    "germany_crop_prod = germany_crop_prod.loc[germany_crop_prod['Crop'] != 'Vegetables, fresh nes']\n",
    "germany_crop_prod = germany_crop_prod.loc[germany_crop_prod['Crop'] != 'Fruit, fresh nes']\n",
    "germany_crop_prod = germany_crop_prod.loc[germany_crop_prod['Crop'] != 'Cereals, Total']\n",
    "germany_crop_prod = germany_crop_prod.loc[germany_crop_prod['Crop'] != 'Fruit Primary']\n",
    "germany_crop_prod = germany_crop_prod.loc[germany_crop_prod['Crop'] != 'Vegetables Primary']\n",
    "germany_crop_prod = germany_crop_prod.loc[germany_crop_prod['Crop'] != 'Margarine, short']\n",
    "germany_crop_prod = germany_crop_prod.loc[germany_crop_prod['Crop'] != 'Cereals nes']\n",
    "germany_crop_prod = germany_crop_prod.loc[germany_crop_prod['Crop'] != 'Pulses, Total']\n",
    "germany_crop_prod = germany_crop_prod.loc[germany_crop_prod['Crop'] != 'Roots and Tubers, Total']\n",
    "germany_crop_prod = germany_crop_prod.loc[germany_crop_prod['Crop'] != 'Sugar Crops Primary']\n",
    "germany_crop_prod = germany_crop_prod.loc[germany_crop_prod['Crop'] != 'Vegetables, leguminous nes']\n",
    "germany_crop_prod = germany_crop_prod.loc[germany_crop_prod['Crop'] != 'Leeks, other alliaceous vegetables']\n",
    "germany_crop_prod = germany_crop_prod.loc[germany_crop_prod['Crop'] != 'Berries nes']\n",
    "\n"
   ]
  },
  {
   "cell_type": "code",
   "execution_count": null,
   "id": "3a9e8865",
   "metadata": {},
   "outputs": [],
   "source": []
  },
  {
   "cell_type": "code",
   "execution_count": null,
   "id": "9d211a18",
   "metadata": {},
   "outputs": [],
   "source": []
  },
  {
   "cell_type": "code",
   "execution_count": null,
   "id": "1c2c5b26",
   "metadata": {},
   "outputs": [],
   "source": [
    "# Rename 2015 Columns\n",
    "# dcc_2015_ff.rename(columns={' O_Connell_St_Outside_Clerys': 'OConnell_St_Clerys'}, inplace=True)"
   ]
  },
  {
   "cell_type": "markdown",
   "id": "4718f49f",
   "metadata": {},
   "source": [
    "### Germany Prodcuction Visualisations"
   ]
  },
  {
   "cell_type": "code",
   "execution_count": null,
   "id": "f7d0b360",
   "metadata": {
    "scrolled": false
   },
   "outputs": [],
   "source": [
    "plotprodvisuals(germany_meat_prod, 'Meat Type', 'Germany')\n",
    "plotprodvisuals(germany_dairy_prod, 'Dairy Product', 'Germany')\n",
    "plotprodvisuals(germany_crop_prod, 'Crop', 'Germany')"
   ]
  },
  {
   "cell_type": "code",
   "execution_count": null,
   "id": "8561cc62",
   "metadata": {},
   "outputs": [],
   "source": [
    "plotprodvisualsii(germany_meat_prod, \"Meat Type\", 10000, 6000000, 'Germany', 'Top ');\n",
    "plotprodvisualsii(germany_meat_prod, \"Meat Type\",  0, 100000, 'Germany', 'Other ');"
   ]
  },
  {
   "cell_type": "code",
   "execution_count": null,
   "id": "1034ffb6",
   "metadata": {},
   "outputs": [],
   "source": [
    "plotprodvisualsii(germany_dairy_prod, \"Dairy Product\", 5000000, 35000000, 'Germany', 'Top ');\n",
    "plotprodvisualsii(germany_dairy_prod, \"Dairy Product\",  0, 1500000, 'Germany', 'Other ');"
   ]
  },
  {
   "cell_type": "code",
   "execution_count": null,
   "id": "73de004e",
   "metadata": {
    "scrolled": false
   },
   "outputs": [],
   "source": [
    "plotprodvisualsii(germany_crop_prod, \"Crop\", 5000000, 40000000, 'Germany', 'Top ');\n",
    "plotprodvisualsii(germany_crop_prod, \"Crop\",  0, 5000000, 'Germany', 'Other ');\n",
    "plotprodbar(germany_crop_prod, \"Crop\",'Germany');"
   ]
  },
  {
   "cell_type": "code",
   "execution_count": null,
   "id": "e8e94bc6",
   "metadata": {},
   "outputs": [],
   "source": []
  },
  {
   "cell_type": "markdown",
   "id": "4955eaeb",
   "metadata": {},
   "source": [
    "## Germany Trade Datasets"
   ]
  },
  {
   "cell_type": "code",
   "execution_count": null,
   "id": "acdb169d",
   "metadata": {},
   "outputs": [],
   "source": [
    "# create german dataset\n",
    "germany_trade = europe_trade_df.loc[europe_trade_df['Country']=='Germany']\n",
    "\n",
    "# german import/ export datasets - all products (crop, meat, livestock)\n",
    "germany_imports = germany_trade.loc[germany_trade['Element']=='Import Quantity']\n",
    "germany_exports = germany_trade.loc[germany_trade['Element']=='Export Quantity']\n",
    "\n",
    "# rename Value Columns \n",
    "germany_imports.rename(columns={'Value': 'Import Quantity'}, inplace=True)\n",
    "germany_exports.rename(columns={'Value': 'Export Quantity'}, inplace=True)\n",
    "germany_exports.rename(columns={'Unit': 'Export Unit'}, inplace=True)\n",
    "germany_imports.rename(columns={'Unit': 'Import Unit'}, inplace=True)\n",
    "\n",
    "#reset index\n",
    "germany_imports.reset_index(drop=True, inplace=True)\n",
    "germany_exports.reset_index(drop=True, inplace=True)\n"
   ]
  },
  {
   "cell_type": "code",
   "execution_count": null,
   "id": "189fdd31",
   "metadata": {},
   "outputs": [],
   "source": [
    "germany_imports.head()\n",
    "germany_exports.head()"
   ]
  },
  {
   "cell_type": "code",
   "execution_count": null,
   "id": "adbef06b",
   "metadata": {},
   "outputs": [],
   "source": [
    "germany_imports.shape\n",
    "germany_exports.shape"
   ]
  },
  {
   "cell_type": "markdown",
   "id": "c53ea243",
   "metadata": {},
   "source": [
    "## Merge Germany Trade & Production"
   ]
  },
  {
   "cell_type": "code",
   "execution_count": null,
   "id": "205e5a83",
   "metadata": {},
   "outputs": [],
   "source": [
    "# merge population data. \n",
    "germany_add_exports = pd.merge(germany_prod_pop, germany_exports, how=\"left\", on = [\"Crop_Livestock\", \"Year\"])\n"
   ]
  },
  {
   "cell_type": "code",
   "execution_count": null,
   "id": "95adcc33",
   "metadata": {},
   "outputs": [],
   "source": [
    "germany_add_exports.head()\n",
    "germany_add_exports.shape"
   ]
  },
  {
   "cell_type": "code",
   "execution_count": null,
   "id": "e96936f2",
   "metadata": {},
   "outputs": [],
   "source": [
    "# merge data. \n",
    "germany_df = pd.merge(germany_add_exports, germany_imports, how=\"outer\", on = [\"Crop_Livestock\", \"Year\"])\n",
    "\n",
    "# merge population data. Outer merge so no data is lost \n",
    "\n",
    "germany_df = pd.merge(germany_df, germany_pop, how=\"outer\", on = [\"Year\"])\n",
    "germany_df.head()\n",
    "\n",
    "#ireland_add_imvals = pd.merge(ireland_add_exports, ireland_imports_val, how=\"outer\", on = [\"Crop_Livestock\", \"Year\"])\n",
    "#ireland_df = pd.merge(ireland_add_imvals, ireland_exports_val, how=\"outer\", on = [\"Crop_Livestock\", \"Year\"])"
   ]
  },
  {
   "cell_type": "code",
   "execution_count": null,
   "id": "4e78c820",
   "metadata": {},
   "outputs": [],
   "source": [
    "germany_df.columns"
   ]
  },
  {
   "cell_type": "code",
   "execution_count": null,
   "id": "aa8e1d91",
   "metadata": {},
   "outputs": [],
   "source": [
    "# drop duplicate / unnecessary columns\n",
    "ger_to_drop = ['Element_x', 'Country_x', 'Element_y', 'Country_y', 'Element', 'Population_Germany_x']\n",
    "germany_df = germany_df.drop(ger_to_drop, axis = 1)\n",
    "\n",
    "# rename columns to include unit\n",
    "germany_df.rename(columns={'Population_Germany_y' : 'Population_Germany'}, inplace=True)\n",
    "\n",
    "#reorder columns \n",
    "ger_columns = ['Prod Country', 'Crop_Livestock', 'Year', 'Production Unit',  'Production Value', 'Import Unit', 'Import Quantity', 'Export Unit', 'Export Quantity',  'Population_Germany']\n",
    "germany_df = germany_df.reindex(columns=ger_columns)\n",
    "\n",
    "# check dataset\n",
    "germany_df.head(100)"
   ]
  },
  {
   "cell_type": "code",
   "execution_count": null,
   "id": "a6fd81b3",
   "metadata": {},
   "outputs": [],
   "source": [
    "# number of missing values \n",
    "germany_df.isnull().sum()"
   ]
  },
  {
   "cell_type": "code",
   "execution_count": null,
   "id": "ff7470bc",
   "metadata": {},
   "outputs": [],
   "source": [
    "#check the amount of 0's in each column\n",
    "germany_df_sparse = (germany_df == 0).sum()\n",
    "germany_df_sparse"
   ]
  },
  {
   "cell_type": "code",
   "execution_count": null,
   "id": "5b4939a6",
   "metadata": {},
   "outputs": [],
   "source": [
    "# drop all rows with NaN and 0 values\n",
    "\n",
    "# first will replace 0 values with NaNs  \n",
    "germany_df['Prod Country'].replace(to_replace = np.nan, value = 'Germany', inplace=True)\n",
    "\n",
    "# first will replace 0 values with NaNs  \n",
    "germany_df.replace(to_replace = np.nan, value = 0, inplace=True)\n",
    "\n",
    "# check if we have any NaN values in our dataset\n",
    "germany_df.isnull().sum()\n"
   ]
  },
  {
   "cell_type": "code",
   "execution_count": null,
   "id": "434fe88c",
   "metadata": {},
   "outputs": [],
   "source": [
    "germany_df_sparse"
   ]
  },
  {
   "cell_type": "code",
   "execution_count": null,
   "id": "deac81c7",
   "metadata": {},
   "outputs": [],
   "source": [
    "# cast value as int \n",
    "germany_df['Production Value'] = germany_df['Production Value'].astype('int')\n",
    "germany_df['Import Quantity'] = germany_df['Import Quantity'].astype('int')\n",
    "germany_df['Export Quantity'] = germany_df['Export Quantity'].astype('int')\n",
    "germany_df['Population_Germany'] = germany_df['Population_Germany'].astype('int')"
   ]
  },
  {
   "cell_type": "code",
   "execution_count": null,
   "id": "8ca426dd",
   "metadata": {},
   "outputs": [],
   "source": [
    "germany_df['Crop_Livestock'].unique()"
   ]
  },
  {
   "cell_type": "markdown",
   "id": "05b41e9e",
   "metadata": {},
   "source": []
  },
  {
   "cell_type": "markdown",
   "id": "e8e39fc3",
   "metadata": {},
   "source": [
    "## Feature Engineering - Germany Consumption"
   ]
  },
  {
   "cell_type": "code",
   "execution_count": null,
   "id": "d72fdab7",
   "metadata": {},
   "outputs": [],
   "source": [
    "germany_df['consumption'] = (germany_df['Production Value'] + germany_df['Import Quantity']) - germany_df['Export Quantity']"
   ]
  },
  {
   "cell_type": "code",
   "execution_count": null,
   "id": "0391211c",
   "metadata": {},
   "outputs": [],
   "source": [
    "# rename columns\n",
    "germany_df.rename(columns={'Prod Country': 'prod_country', 'Crop_Livestock':'crop_livestock', 'Year': 'year', \n",
    "                           'Production Unit': 'production_unit', 'Production Value': 'production_value', \n",
    "                           'Import Unit': 'import_unit', 'Import Quantity': 'import_quantity',\n",
    "                           'Export Unit': 'export_unit', 'Export Quantity': 'export_quantity'}, inplace=True)"
   ]
  },
  {
   "cell_type": "code",
   "execution_count": null,
   "id": "a54f79c4",
   "metadata": {},
   "outputs": [],
   "source": [
    "germany_df.head()"
   ]
  },
  {
   "cell_type": "code",
   "execution_count": null,
   "id": "dda8093a",
   "metadata": {},
   "outputs": [],
   "source": []
  },
  {
   "cell_type": "markdown",
   "id": "e3243414",
   "metadata": {},
   "source": [
    "## Germany Meat/ Dairy/ Crop Datasets"
   ]
  },
  {
   "cell_type": "code",
   "execution_count": null,
   "id": "d840ad54",
   "metadata": {},
   "outputs": [],
   "source": [
    "# german production meat products\n",
    "germany_meat = germany_df.loc[germany_df['crop_livestock'].str.contains('meat', case=False)]\n",
    "germany_meat = germany_meat.loc[germany_meat['crop_livestock'].str.contains('nes|total|buffalo|poultry|other|canned', case=False) == False]\n",
    "germany_meat.rename(columns={'crop_livestock': 'Meat_Type'}, inplace=True)\n",
    "germany_meat.reset_index(drop=True)\n",
    "\n",
    "# german production dairy products\n",
    "germany_dairy = germany_df.loc[germany_df['crop_livestock'].str.contains('milk|cream', case=False)]\n",
    "germany_dairy.rename(columns={'crop_livestock': 'Dairy_Product'}, inplace=True)\n",
    "germany_dairy.reset_index(drop=True)\n",
    "\n",
    "# german production crops\n",
    "germany_crop = germany_df.loc[germany_df['crop_livestock'].str.contains('total|chickpea|soy|almond|oat|hazelnut|cashew|tofu|avocado|mushroom|hemp|flax|chia|seaweed|yeast|quinoa|primary', case=False)]\n",
    "germany_crop = germany_crop.loc[germany_crop['crop_livestock'].str.contains('meat|milk|offal|fat|hide|wool|sheep|cream|egg|lard|butter|cheese|oil|skin|goat|rice|juice|other|paste|sauce|canned|cake|frozen|nes|confectionery|oil|broken|waste|equivalent|tow', case=False) == False]\n",
    "germany_crop.rename(columns={'crop_livestock': 'Crop'}, inplace=True)\n",
    "germany_crop.reset_index(drop=True)\n"
   ]
  },
  {
   "cell_type": "code",
   "execution_count": null,
   "id": "29234379",
   "metadata": {},
   "outputs": [],
   "source": [
    "germany_crop['Crop'].unique()"
   ]
  },
  {
   "cell_type": "code",
   "execution_count": null,
   "id": "40c931ce",
   "metadata": {},
   "outputs": [],
   "source": [
    "# check Meat Type values are what we want for analysis\n",
    "germany_meat['Meat_Type'].unique()"
   ]
  },
  {
   "cell_type": "code",
   "execution_count": null,
   "id": "6d7506c2",
   "metadata": {},
   "outputs": [],
   "source": [
    "germany_meat = germany_meat.loc[germany_meat['Meat_Type'].str.contains('nes|total|poultry|other|canned', case=False) == False]\n",
    "germany_meat = germany_meat.loc[germany_meat['Meat_Type'].str.contains('Sheep and Goat Meat', case=False) == False]"
   ]
  },
  {
   "cell_type": "code",
   "execution_count": null,
   "id": "e17c5a46",
   "metadata": {},
   "outputs": [],
   "source": [
    "germany_dairy['Dairy_Product'].unique()"
   ]
  },
  {
   "cell_type": "code",
   "execution_count": null,
   "id": "29075a42",
   "metadata": {},
   "outputs": [],
   "source": [
    "germany_dairy = germany_dairy.loc[germany_dairy['Dairy_Product'] != 'Evaporat&Condensed Milk']\n",
    "germany_dairy = germany_dairy.loc[germany_dairy['Dairy_Product'] != 'Buttermilk, curdled, acidified milk']\n",
    "germany_dairy = germany_dairy.loc[germany_dairy['Dairy_Product'] != 'Ice cream and edible ice']\n",
    "germany_dairy = germany_dairy.loc[germany_dairy['Dairy_Product'] != 'Skim Milk&Buttermilk,Dry']\n",
    "germany_dairy = germany_dairy.loc[germany_dairy['Dairy_Product'].str.contains('total|nes', case=False) == False]"
   ]
  },
  {
   "cell_type": "code",
   "execution_count": null,
   "id": "92c2ab05",
   "metadata": {},
   "outputs": [],
   "source": []
  },
  {
   "cell_type": "code",
   "execution_count": null,
   "id": "ccc9402b",
   "metadata": {},
   "outputs": [],
   "source": []
  },
  {
   "cell_type": "markdown",
   "id": "1f573769",
   "metadata": {},
   "source": [
    "### Descriptive Statistics per product type for all years"
   ]
  },
  {
   "cell_type": "code",
   "execution_count": null,
   "id": "adf4b4a2",
   "metadata": {},
   "outputs": [],
   "source": [
    "# for all meat products 1961-2019\n",
    "germany_meat.describe()\n",
    "\n",
    "# for all dairy products 1961-2019\n",
    "germany_dairy.describe()\n",
    "\n",
    "# for all crops 1961-2019\n",
    "germany_crop.describe()"
   ]
  },
  {
   "cell_type": "markdown",
   "id": "c8babfdf",
   "metadata": {},
   "source": [
    "### Germany Visualisations"
   ]
  },
  {
   "cell_type": "code",
   "execution_count": null,
   "id": "1f9e2c3c",
   "metadata": {},
   "outputs": [],
   "source": [
    "germany_meat_list = germany_meat['Meat_Type'].unique()\n",
    "germany_dairy_list = germany_dairy['Dairy_Product'].unique()\n",
    "germany_crop_list = germany_crop['Crop'].unique()"
   ]
  },
  {
   "cell_type": "markdown",
   "id": "ace29ba6",
   "metadata": {},
   "source": [
    "#### Meat"
   ]
  },
  {
   "cell_type": "code",
   "execution_count": null,
   "id": "1ef154a4",
   "metadata": {
    "scrolled": false
   },
   "outputs": [],
   "source": [
    "# germany meat visuals \n",
    "plotlinegraphs(germany_meat, 'Meat_Type', 'Germany ', 'Population_Germany', germany_meat_list)\n",
    "plotfigures(germany_meat, 'Meat_Type', 'Germany ');"
   ]
  },
  {
   "cell_type": "code",
   "execution_count": null,
   "id": "ff557ce9",
   "metadata": {
    "scrolled": false
   },
   "outputs": [],
   "source": [
    "# germany meat visuals more detail\n",
    "plotlinegraphsii(germany_meat, 'Meat_Type',  400000, 2500000, 'Germany ', 'Population_Germany', germany_meat_list, 'Top ')\n",
    "plotlinegraphsii(germany_meat, 'Meat_Type',  0, 400000, 'Germany ', 'Population_Germany', germany_meat_list, 'Other ')"
   ]
  },
  {
   "cell_type": "code",
   "execution_count": null,
   "id": "9edf0a4c",
   "metadata": {},
   "outputs": [],
   "source": []
  },
  {
   "cell_type": "markdown",
   "id": "d7bb0abd",
   "metadata": {},
   "source": [
    "#### Dairy "
   ]
  },
  {
   "cell_type": "code",
   "execution_count": null,
   "id": "9674ee0b",
   "metadata": {
    "scrolled": false
   },
   "outputs": [],
   "source": [
    "# germany dairy visuals \n",
    "plotlinegraphs(germany_dairy, 'Dairy_Product', 'Germany ', 'Population_Germany', germany_dairy_list)\n",
    "plotfigures(germany_dairy, 'Dairy_Product', 'Germany ');"
   ]
  },
  {
   "cell_type": "code",
   "execution_count": null,
   "id": "de3fa75c",
   "metadata": {
    "scrolled": false
   },
   "outputs": [],
   "source": [
    "# germany dairy visuals more detail\n",
    "plotlinegraphsii(germany_dairy, 'Dairy_Product', 10000000, 36000000, 'Germany ', 'Population_Germany', germany_dairy_list, 'Top ')\n",
    "plotlinegraphsii(germany_dairy, 'Dairy_Product', 0, 1600000, 'Germany ', 'Population_Germany', germany_dairy_list, 'Other ')\n"
   ]
  },
  {
   "cell_type": "code",
   "execution_count": null,
   "id": "f741cba7",
   "metadata": {},
   "outputs": [],
   "source": []
  },
  {
   "cell_type": "markdown",
   "id": "1676676c",
   "metadata": {},
   "source": [
    "#### Crops"
   ]
  },
  {
   "cell_type": "code",
   "execution_count": null,
   "id": "a1894a99",
   "metadata": {
    "scrolled": false
   },
   "outputs": [],
   "source": [
    "# germany crop visuals\n",
    "plotlinegraphs(germany_crop, 'Crop', 'Germany ', 'Population_Germany', germany_crop_list)\n",
    "plotfigures(germany_crop, 'Crop', 'Germany ');"
   ]
  },
  {
   "cell_type": "code",
   "execution_count": null,
   "id": "675afc0c",
   "metadata": {
    "scrolled": false
   },
   "outputs": [],
   "source": [
    "# germany crop visuals more detail\n",
    "plotlinegraphsii(germany_crop, 'Crop', 8000000, 55000000, 'Germany ', 'Population_Germany',  germany_crop_list, 'Top ')\n",
    "plotlinegraphsii(germany_crop, 'Crop', 0, 8000000, 'Germany ', 'Population_Germany',  germany_crop_list, 'Mid ')\n",
    "plotlinegraphsii(germany_crop, 'Crop', 0, 100000, 'Germany ', 'Population_Germany',  germany_crop_list, 'Smaller ')\n"
   ]
  },
  {
   "cell_type": "markdown",
   "id": "1110edea",
   "metadata": {},
   "source": [
    "### Germany Production Pivot Table"
   ]
  },
  {
   "cell_type": "code",
   "execution_count": null,
   "id": "f32155a8",
   "metadata": {},
   "outputs": [],
   "source": [
    "#germany as a pivot table to see poduct values per year\n",
    "\n",
    "germany_meat_table = pd.pivot_table(germany_meat, values = 'production_value', index=['prod_country', 'year'],\n",
    "                    columns=['Meat_Type'], aggfunc=np.sum, fill_value=0)\n",
    "\n",
    "\n",
    "germany_dairy_table = pd.pivot_table(germany_dairy, values='production_value', index=['prod_country', 'year'],\n",
    "                    columns=['Dairy_Product'], aggfunc=np.sum, fill_value=0)\n",
    "\n",
    "\n",
    "germany_crop_table = pd.pivot_table(germany_crop, values='production_value', index=['prod_country', 'year'],\n",
    "                    columns=['Crop'], aggfunc=np.sum, fill_value=0)"
   ]
  },
  {
   "cell_type": "code",
   "execution_count": null,
   "id": "bca07477",
   "metadata": {
    "scrolled": false
   },
   "outputs": [],
   "source": [
    "germany_meat_table\n",
    "germany_dairy_table\n",
    "germany_crop_table"
   ]
  },
  {
   "cell_type": "code",
   "execution_count": null,
   "id": "a8b223ec",
   "metadata": {},
   "outputs": [],
   "source": []
  },
  {
   "cell_type": "markdown",
   "id": "8105c9fd",
   "metadata": {},
   "source": [
    "### Descriptive Statistics per product for all years"
   ]
  },
  {
   "cell_type": "code",
   "execution_count": null,
   "id": "906d8eca",
   "metadata": {},
   "outputs": [],
   "source": [
    "germany_meat_table.describe().apply(lambda s: s.apply('{0:.2f}'.format))\n",
    "germany_dairy_table.describe().apply(lambda s: s.apply('{0:.2f}'.format))\n",
    "germany_crop_table.describe().apply(lambda s: s.apply('{0:.2f}'.format))\n"
   ]
  },
  {
   "cell_type": "code",
   "execution_count": null,
   "id": "d55867b1",
   "metadata": {},
   "outputs": [],
   "source": [
    "plt.figure(figsize=[15, 10])\n",
    "sns.boxplot(data=germany_meat_table, orient='h', palette='Reds_r');"
   ]
  },
  {
   "cell_type": "code",
   "execution_count": null,
   "id": "208ae7b0",
   "metadata": {},
   "outputs": [],
   "source": [
    "plt.figure(figsize=[15, 10])\n",
    "sns.boxplot(data=germany_dairy_table, orient='h', palette='BuPu_r');"
   ]
  },
  {
   "cell_type": "code",
   "execution_count": null,
   "id": "8eecc603",
   "metadata": {},
   "outputs": [],
   "source": [
    "plt.figure(figsize=[15, 10])\n",
    "sns.boxplot(data=germany_crop_table, orient='h', palette='summer_r');"
   ]
  },
  {
   "cell_type": "code",
   "execution_count": null,
   "id": "1a35dd08",
   "metadata": {},
   "outputs": [],
   "source": []
  },
  {
   "cell_type": "code",
   "execution_count": null,
   "id": "b46a8125",
   "metadata": {},
   "outputs": [],
   "source": []
  },
  {
   "cell_type": "code",
   "execution_count": null,
   "id": "74de0153",
   "metadata": {},
   "outputs": [],
   "source": []
  },
  {
   "cell_type": "markdown",
   "id": "954c4c5b",
   "metadata": {},
   "source": [
    "## AUSTRALIA"
   ]
  },
  {
   "cell_type": "markdown",
   "id": "34f99d59",
   "metadata": {},
   "source": [
    "## Australia Production Datasets"
   ]
  },
  {
   "cell_type": "code",
   "execution_count": null,
   "id": "e663f84e",
   "metadata": {},
   "outputs": [],
   "source": [
    "# create australian dataset\n",
    "oz_df = oceania_df.loc[oceania_df['Country']=='Australia']\n",
    "\n",
    "# australian production dataset - all products (crop, meat, livestock)\n",
    "oz_prod = oz_df.loc[oz_df['Element']=='Production']\n",
    "\n",
    "# rename columns\n",
    "oz_prod.rename(columns={'Country': 'Prod Country', 'Unit': 'Production Unit', 'Value': 'Production Value' }, inplace=True)\n",
    "\n",
    "#reset index\n",
    "oz_prod.reset_index(drop=True, inplace=True)\n",
    "\n",
    "oz_prod"
   ]
  },
  {
   "cell_type": "markdown",
   "id": "f4ff9e91",
   "metadata": {},
   "source": [
    "### Australia Production - Add Population"
   ]
  },
  {
   "cell_type": "code",
   "execution_count": null,
   "id": "9871363b",
   "metadata": {},
   "outputs": [],
   "source": [
    "# merge population data. Outer merge so no data is lost \n",
    "oz_prod_pop = pd.merge(oz_prod, aus_pop, how=\"outer\", on = [\"Year\"])\n",
    "oz_prod_pop.head()"
   ]
  },
  {
   "cell_type": "code",
   "execution_count": null,
   "id": "93195d1f",
   "metadata": {},
   "outputs": [],
   "source": [
    "oz_prod_pop.shape"
   ]
  },
  {
   "cell_type": "code",
   "execution_count": null,
   "id": "e0c01fa0",
   "metadata": {},
   "outputs": [],
   "source": []
  },
  {
   "cell_type": "markdown",
   "id": "a7878016",
   "metadata": {},
   "source": [
    "### Australia Production Analysis"
   ]
  },
  {
   "cell_type": "code",
   "execution_count": null,
   "id": "96823634",
   "metadata": {},
   "outputs": [],
   "source": [
    "# australian production meat products\n",
    "oz_meat_prod = oz_prod_pop.loc[oz_prod_pop['Crop_Livestock'].str.contains('meat', case=False)]\n",
    "oz_meat_prod.rename(columns={'Crop_Livestock': 'Meat Type'}, inplace=True)\n",
    "oz_meat_prod.reset_index(drop=True)\n",
    "\n",
    "# australian production dairy products\n",
    "oz_dairy_prod = oz_prod_pop.loc[oz_prod_pop['Crop_Livestock'].str.contains('milk', case=False)]\n",
    "oz_dairy_prod.rename(columns={'Crop_Livestock': 'Dairy Product'}, inplace=True)\n",
    "oz_dairy_prod.reset_index(drop=True)\n",
    "\n",
    "# australian production crops\n",
    "oz_crop_prod = oz_prod_pop.loc[oz_prod_pop['Crop_Livestock'].str.contains('meat', case=False) == False]\n",
    "oz_crop_prod = oz_crop_prod.loc[oz_crop_prod['Crop_Livestock'].str.contains('milk', case=False) == False]\n",
    "oz_crop_prod = oz_crop_prod.loc[oz_crop_prod['Crop_Livestock'].str.contains('offals', case=False) == False]\n",
    "oz_crop_prod = oz_crop_prod.loc[oz_crop_prod['Crop_Livestock'].str.contains('fat', case=False) == False]\n",
    "oz_crop_prod = oz_crop_prod.loc[oz_crop_prod['Crop_Livestock'].str.contains('hides', case=False) == False]\n",
    "oz_crop_prod = oz_crop_prod.loc[oz_crop_prod['Crop_Livestock'].str.contains('wool', case=False) == False]\n",
    "oz_crop_prod = oz_crop_prod.loc[oz_crop_prod['Crop_Livestock'].str.contains('sheep', case=False) == False]\n",
    "oz_crop_prod = oz_crop_prod.loc[oz_crop_prod['Crop_Livestock'].str.contains('cream', case=False) == False]\n",
    "oz_crop_prod = oz_crop_prod.loc[oz_crop_prod['Crop_Livestock'].str.contains('egg', case=False) == False]\n",
    "oz_crop_prod = oz_crop_prod.loc[oz_crop_prod['Crop_Livestock'].str.contains('lard', case=False) == False]\n",
    "oz_crop_prod = oz_crop_prod.loc[oz_crop_prod['Crop_Livestock'].str.contains('butter', case=False) == False]\n",
    "oz_crop_prod = oz_crop_prod.loc[oz_crop_prod['Crop_Livestock'].str.contains('cheese', case=False) == False]\n",
    "oz_crop_prod = oz_crop_prod.loc[oz_crop_prod['Crop_Livestock'].str.contains('oil', case=False) == False]\n",
    "oz_crop_prod = oz_crop_prod.loc[oz_crop_prod['Crop_Livestock'].str.contains('skin', case=False) == False]\n",
    "oz_crop_prod.rename(columns={'Crop_Livestock': 'Crop'}, inplace=True)\n",
    "oz_crop_prod.reset_index(drop=True)"
   ]
  },
  {
   "cell_type": "code",
   "execution_count": null,
   "id": "7520d2f8",
   "metadata": {},
   "outputs": [],
   "source": [
    "# check Meat Type values are what we want for analysis\n",
    "oz_meat_prod['Meat Type'].unique()"
   ]
  },
  {
   "cell_type": "code",
   "execution_count": null,
   "id": "eab4e046",
   "metadata": {},
   "outputs": [],
   "source": [
    "# remove any items we dont want \n",
    "oz_meat_prod = oz_meat_prod.loc[oz_meat_prod['Meat Type'] != 'Meat nes']\n",
    "oz_meat_prod = oz_meat_prod.loc[oz_meat_prod['Meat Type'] != 'Meat, Total']"
   ]
  },
  {
   "cell_type": "code",
   "execution_count": null,
   "id": "3ac04e01",
   "metadata": {},
   "outputs": [],
   "source": [
    "oz_dairy_prod['Dairy Product'].unique()"
   ]
  },
  {
   "cell_type": "code",
   "execution_count": null,
   "id": "5e4b2aa9",
   "metadata": {},
   "outputs": [],
   "source": [
    "oz_dairy_prod = oz_dairy_prod.loc[oz_dairy_prod['Dairy Product'] != 'Milk, Total']\n",
    "oz_dairy_prod = oz_dairy_prod.loc[oz_dairy_prod['Dairy Product'] != 'Evaporat&Condensed Milk']"
   ]
  },
  {
   "cell_type": "code",
   "execution_count": null,
   "id": "1bbc9ae9",
   "metadata": {},
   "outputs": [],
   "source": [
    "oz_crop_prod['Crop'].unique()"
   ]
  },
  {
   "cell_type": "code",
   "execution_count": null,
   "id": "f43537cd",
   "metadata": {},
   "outputs": [],
   "source": [
    "oz_crop_prod = oz_crop_prod.loc[oz_crop_prod['Crop'] != 'Vegetables, fresh nes']\n",
    "oz_crop_prod = oz_crop_prod.loc[oz_crop_prod['Crop'] != 'Fruit, fresh nes']\n",
    "oz_crop_prod = oz_crop_prod.loc[oz_crop_prod['Crop'] != 'Cereals, Total']\n",
    "oz_crop_prod = oz_crop_prod.loc[oz_crop_prod['Crop'] != 'Fruit Primary']\n",
    "oz_crop_prod = oz_crop_prod.loc[oz_crop_prod['Crop'] != 'Vegetables Primary']\n",
    "oz_crop_prod = oz_crop_prod.loc[oz_crop_prod['Crop'] != 'Margarine, short']\n",
    "oz_crop_prod = oz_crop_prod.loc[oz_crop_prod['Crop'] != 'Cereals nes']\n",
    "oz_crop_prod = oz_crop_prod.loc[oz_crop_prod['Crop'] != 'Pulses, Total']\n",
    "oz_crop_prod = oz_crop_prod.loc[oz_crop_prod['Crop'] != 'Roots and Tubers, Total']\n",
    "oz_crop_prod = oz_crop_prod.loc[oz_crop_prod['Crop'] != 'Sugar Crops Primary']\n",
    "oz_crop_prod = oz_crop_prod.loc[oz_crop_prod['Crop'] != 'Vegetables, leguminous nes']\n",
    "oz_crop_prod = oz_crop_prod.loc[oz_crop_prod['Crop'] != 'Leeks, other alliaceous vegetables']\n",
    "oz_crop_prod = oz_crop_prod.loc[oz_crop_prod['Crop'] != 'Berries nes']"
   ]
  },
  {
   "cell_type": "code",
   "execution_count": null,
   "id": "b7683d0a",
   "metadata": {},
   "outputs": [],
   "source": []
  },
  {
   "cell_type": "markdown",
   "id": "adc09c05",
   "metadata": {},
   "source": [
    "### Australia Production Visualisations"
   ]
  },
  {
   "cell_type": "code",
   "execution_count": null,
   "id": "f180d285",
   "metadata": {},
   "outputs": [],
   "source": [
    "plotprodvisuals(oz_meat_prod, 'Meat Type', 'Australia')\n",
    "plotprodvisuals(oz_dairy_prod, 'Dairy Product', 'Australia')\n",
    "plotprodvisuals(oz_crop_prod, 'Crop', 'Australia')"
   ]
  },
  {
   "cell_type": "code",
   "execution_count": null,
   "id": "d8bb762e",
   "metadata": {},
   "outputs": [],
   "source": [
    "plotprodvisualsii(oz_meat_prod, \"Meat Type\", 10000, 6000000, 'Australia', 'Top ');\n",
    "plotprodvisualsii(oz_meat_prod, \"Meat Type\",  0, 100000, 'Australia', 'Other ');"
   ]
  },
  {
   "cell_type": "code",
   "execution_count": null,
   "id": "debb2cf7",
   "metadata": {},
   "outputs": [],
   "source": [
    "plotprodvisualsii(oz_dairy_prod, \"Dairy Product\", 5000000, 35000000, 'Australia', 'Top ');\n",
    "plotprodvisualsii(oz_dairy_prod, \"Dairy Product\",  0, 1500000, 'Germany', 'Other ');"
   ]
  },
  {
   "cell_type": "code",
   "execution_count": null,
   "id": "f39d8131",
   "metadata": {
    "scrolled": false
   },
   "outputs": [],
   "source": [
    "plotprodvisualsii(oz_crop_prod, \"Crop\", 5000000, 40000000, 'Australia', 'Top ');\n",
    "plotprodvisualsii(oz_crop_prod, \"Crop\",  0, 5000000, 'Australia', 'Other ');\n",
    "plotprodbar(oz_crop_prod, \"Crop\",'Australia');"
   ]
  },
  {
   "cell_type": "markdown",
   "id": "c8cca504",
   "metadata": {},
   "source": [
    "## Australia Trade Datasets"
   ]
  },
  {
   "cell_type": "code",
   "execution_count": null,
   "id": "22967286",
   "metadata": {},
   "outputs": [],
   "source": [
    "# create australian dataset\n",
    "oz_trade = oceania_trade_df.loc[oceania_trade_df['Country']=='Australia']\n",
    "\n",
    "# australian import/ export datasets - all products (crop, meat, livestock)\n",
    "oz_imports = oz_trade.loc[oz_trade['Element']=='Import Quantity']\n",
    "oz_exports = oz_trade.loc[oz_trade['Element']=='Export Quantity']\n",
    "\n",
    "# rename Value Columns \n",
    "oz_imports.rename(columns={'Value': 'Import Quantity'}, inplace=True)\n",
    "oz_exports.rename(columns={'Value': 'Export Quantity'}, inplace=True)\n",
    "oz_exports.rename(columns={'Unit': 'Export Unit'}, inplace=True)\n",
    "oz_imports.rename(columns={'Unit': 'Import Unit'}, inplace=True)\n",
    "\n",
    "#reset index\n",
    "oz_imports.reset_index(drop=True, inplace=True)\n",
    "oz_exports.reset_index(drop=True, inplace=True)\n"
   ]
  },
  {
   "cell_type": "code",
   "execution_count": null,
   "id": "27fff68c",
   "metadata": {},
   "outputs": [],
   "source": [
    "# merge population data. Outer merge so no data is lost \n",
    "oz_imports = pd.merge(oz_imports, aus_pop, how=\"outer\", on = [\"Year\"])\n",
    "oz_exports = pd.merge(oz_exports, aus_pop, how=\"outer\", on = [\"Year\"])\n",
    "\n",
    "oz_imports.head()\n",
    "oz_exports.head()"
   ]
  },
  {
   "cell_type": "code",
   "execution_count": null,
   "id": "e324099b",
   "metadata": {},
   "outputs": [],
   "source": [
    "oz_imports.shape\n",
    "oz_exports.shape"
   ]
  },
  {
   "cell_type": "code",
   "execution_count": null,
   "id": "ed9bc9ba",
   "metadata": {},
   "outputs": [],
   "source": []
  },
  {
   "cell_type": "markdown",
   "id": "ba2666d4",
   "metadata": {},
   "source": [
    "## Merge Australia Trade & Production"
   ]
  },
  {
   "cell_type": "code",
   "execution_count": null,
   "id": "58d2d20d",
   "metadata": {},
   "outputs": [],
   "source": [
    "# merge population data. \n",
    "oz_add_exports = pd.merge(oz_prod_pop, oz_exports, how=\"left\", on = [\"Crop_Livestock\", \"Year\"])"
   ]
  },
  {
   "cell_type": "code",
   "execution_count": null,
   "id": "1808519e",
   "metadata": {},
   "outputs": [],
   "source": [
    "oz_add_exports.head()\n",
    "oz_add_exports.shape"
   ]
  },
  {
   "cell_type": "code",
   "execution_count": null,
   "id": "364f8e65",
   "metadata": {},
   "outputs": [],
   "source": [
    "# drop duplicate / unnecessary columns\n",
    "oz_to_drop = ['Element_x', 'Country', 'Element_y', 'Population_Australia_y']\n",
    "oz_add_exports = oz_add_exports.drop(oz_to_drop, axis = 1)\n",
    "\n",
    "# merge data. \n",
    "oz_df = pd.merge(oz_add_exports, oz_imports, how=\"outer\", on = [\"Crop_Livestock\", \"Year\"])\n",
    "\n",
    "# merge population data. Outer merge so no data is lost \n",
    "oz_df = pd.merge(oz_df, aus_pop, how=\"outer\", on = [\"Year\"])\n",
    "oz_df.head()"
   ]
  },
  {
   "cell_type": "code",
   "execution_count": null,
   "id": "36c1df0d",
   "metadata": {
    "scrolled": true
   },
   "outputs": [],
   "source": [
    "oz_df.columns"
   ]
  },
  {
   "cell_type": "code",
   "execution_count": null,
   "id": "0c3ea65f",
   "metadata": {},
   "outputs": [],
   "source": [
    "# drop duplicate / unnecessary columns\n",
    "oz_to_drop = ['Element', 'Country', 'Population_Australia_x']\n",
    "oz_df = oz_df.drop(oz_to_drop, axis = 1)\n",
    "\n",
    "# rename columns to include unit\n",
    "oz_df.rename(columns={'Population_Australia_y' : 'Population_Australia'}, inplace=True)\n",
    "\n",
    "#reorder columns \n",
    "oz_columns = ['Prod Country', 'Crop_Livestock', 'Year', 'Production Unit',  'Production Value', 'Import Unit', 'Import Quantity', 'Export Unit', 'Export Quantity',  'Population_Australia']\n",
    "oz_df = oz_df.reindex(columns=oz_columns)\n",
    "\n",
    "# check dataset\n",
    "oz_df.head(100)"
   ]
  },
  {
   "cell_type": "code",
   "execution_count": null,
   "id": "ee30888c",
   "metadata": {},
   "outputs": [],
   "source": [
    "# number of missing values \n",
    "oz_df.isnull().sum()"
   ]
  },
  {
   "cell_type": "code",
   "execution_count": null,
   "id": "a4d5ec24",
   "metadata": {},
   "outputs": [],
   "source": [
    "#check the amount of 0's in each column\n",
    "oz_df_sparse = (oz_df == 0).sum()\n",
    "oz_df_sparse"
   ]
  },
  {
   "cell_type": "code",
   "execution_count": null,
   "id": "a6cc21fe",
   "metadata": {},
   "outputs": [],
   "source": [
    "# drop all rows with NaN and 0 values\n",
    "\n",
    "# first will replace 0 values with NaNs  \n",
    "oz_df['Prod Country'].replace(to_replace = np.nan, value = 'Australia', inplace=True)\n",
    "\n",
    "# first will replace 0 values with NaNs  \n",
    "oz_df.replace(to_replace = np.nan, value = 0, inplace=True)\n",
    "\n",
    "# check if we have any NaN values in our dataset\n",
    "oz_df.isnull().sum()"
   ]
  },
  {
   "cell_type": "code",
   "execution_count": null,
   "id": "e7bf340d",
   "metadata": {},
   "outputs": [],
   "source": [
    "oz_df_sparse"
   ]
  },
  {
   "cell_type": "code",
   "execution_count": null,
   "id": "b3b9f6ff",
   "metadata": {},
   "outputs": [],
   "source": [
    "# cast value as int \n",
    "oz_df['Production Value'] = oz_df['Production Value'].astype('int')\n",
    "oz_df['Import Quantity'] = oz_df['Import Quantity'].astype('int')\n",
    "oz_df['Export Quantity'] = oz_df['Export Quantity'].astype('int')\n",
    "oz_df['Population_Australia'] = oz_df['Population_Australia'].astype('int')"
   ]
  },
  {
   "cell_type": "code",
   "execution_count": null,
   "id": "ab6ec2b6",
   "metadata": {},
   "outputs": [],
   "source": [
    "oz_df['Crop_Livestock'].unique()"
   ]
  },
  {
   "cell_type": "code",
   "execution_count": null,
   "id": "6f884a28",
   "metadata": {},
   "outputs": [],
   "source": []
  },
  {
   "cell_type": "markdown",
   "id": "a102ebed",
   "metadata": {},
   "source": [
    "## Feature Engineering - Australia Consumption"
   ]
  },
  {
   "cell_type": "code",
   "execution_count": null,
   "id": "019612e7",
   "metadata": {},
   "outputs": [],
   "source": [
    "oz_df['consumption'] = (oz_df['Production Value'] + oz_df['Import Quantity']) - oz_df['Export Quantity']"
   ]
  },
  {
   "cell_type": "code",
   "execution_count": null,
   "id": "9ca5fa37",
   "metadata": {},
   "outputs": [],
   "source": [
    "# rename columns\n",
    "oz_df.rename(columns={'Prod Country': 'prod_country', 'Crop_Livestock':'crop_livestock', 'Year': 'year', \n",
    "                           'Production Unit': 'production_unit', 'Production Value': 'production_value', \n",
    "                           'Import Unit': 'import_unit', 'Import Quantity': 'import_quantity',\n",
    "                           'Export Unit': 'export_unit', 'Export Quantity': 'export_quantity'}, inplace=True)"
   ]
  },
  {
   "cell_type": "code",
   "execution_count": null,
   "id": "35b3b449",
   "metadata": {},
   "outputs": [],
   "source": [
    "oz_df.head()"
   ]
  },
  {
   "cell_type": "code",
   "execution_count": null,
   "id": "cee54c54",
   "metadata": {},
   "outputs": [],
   "source": []
  },
  {
   "cell_type": "markdown",
   "id": "79fa6c94",
   "metadata": {},
   "source": [
    "## Australia Meat/ Dairy/ Crop Datasets"
   ]
  },
  {
   "cell_type": "code",
   "execution_count": null,
   "id": "c69542c2",
   "metadata": {},
   "outputs": [],
   "source": [
    "# Aus production meat products\n",
    "oz_meat = oz_df.loc[oz_df['crop_livestock'].str.contains('meat', case=False)]\n",
    "oz_meat = oz_meat.loc[oz_meat['crop_livestock'].str.contains('nes|total|buffalo|poultry|other|canned', case=False) == False]\n",
    "oz_meat.rename(columns={'crop_livestock': 'Meat_Type'}, inplace=True)\n",
    "oz_meat.reset_index(drop=True)\n",
    "\n",
    "# Aus production dairy products\n",
    "oz_dairy = oz_df.loc[oz_df['crop_livestock'].str.contains('milk|cream', case=False)]\n",
    "oz_dairy.rename(columns={'crop_livestock': 'Dairy_Product'}, inplace=True)\n",
    "oz_dairy.reset_index(drop=True)\n",
    "\n",
    "# Aus production crops\n",
    "oz_crop = oz_df.loc[oz_df['crop_livestock'].str.contains('total|chickpea|soy|almond|oat|hazelnut|cashew|tofu|avocado|mushroom|hemp|flax|chia|seaweed|yeast|quinoa|primary', case=False)]\n",
    "oz_crop = oz_crop.loc[oz_crop['crop_livestock'].str.contains('meat|milk|offal|fat|hide|wool|sheep|cream|egg|lard|butter|cheese|oil|skin|goat|rice|juice|other|paste|sauce|canned|cake|frozen|nes|confectionery|oil|broken|waste|equivalent|tow', case=False) == False]\n",
    "oz_crop.rename(columns={'crop_livestock': 'Crop'}, inplace=True)\n",
    "oz_crop.reset_index(drop=True)\n"
   ]
  },
  {
   "cell_type": "code",
   "execution_count": null,
   "id": "01742381",
   "metadata": {},
   "outputs": [],
   "source": [
    "oz_crop['Crop'].unique()\n"
   ]
  },
  {
   "cell_type": "code",
   "execution_count": null,
   "id": "d7ba27df",
   "metadata": {},
   "outputs": [],
   "source": [
    "# check Meat Type values are what we want for analysis\n",
    "oz_meat['Meat_Type'].unique()"
   ]
  },
  {
   "cell_type": "code",
   "execution_count": null,
   "id": "df244dfd",
   "metadata": {},
   "outputs": [],
   "source": [
    "\n",
    "oz_meat = oz_meat.loc[oz_meat['Meat_Type'].str.contains('Sheep and Goat Meat', case=False) == False]"
   ]
  },
  {
   "cell_type": "code",
   "execution_count": null,
   "id": "bf471367",
   "metadata": {},
   "outputs": [],
   "source": [
    "oz_dairy['Dairy_Product'].unique()"
   ]
  },
  {
   "cell_type": "code",
   "execution_count": null,
   "id": "2fa27cf8",
   "metadata": {},
   "outputs": [],
   "source": [
    "oz_dairy = oz_dairy.loc[oz_dairy['Dairy_Product'] != 'Evaporat&Condensed Milk']\n",
    "oz_dairy = oz_dairy.loc[oz_dairy['Dairy_Product'] != 'Buttermilk, curdled, acidified milk']\n",
    "oz_dairy = oz_dairy.loc[oz_dairy['Dairy_Product'] != 'Ice cream and edible ice']\n",
    "oz_dairy = oz_dairy.loc[oz_dairy['Dairy_Product'] != 'Skim Milk&Buttermilk,Dry']\n",
    "oz_dairy = oz_dairy.loc[oz_dairy['Dairy_Product'] != 'Ghee, butteroil of cow milk']\n",
    "oz_dairy = oz_dairy.loc[oz_dairy['Dairy_Product'].str.contains('total|nes', case=False) == False]"
   ]
  },
  {
   "cell_type": "code",
   "execution_count": null,
   "id": "a0c98d4f",
   "metadata": {},
   "outputs": [],
   "source": []
  },
  {
   "cell_type": "markdown",
   "id": "e17d0b02",
   "metadata": {},
   "source": [
    "### Descriptive statistics per product type for all years"
   ]
  },
  {
   "cell_type": "code",
   "execution_count": null,
   "id": "98dad7ee",
   "metadata": {},
   "outputs": [],
   "source": [
    "# for all meat products 1961-2019\n",
    "oz_meat.describe()\n",
    "\n",
    "# for all dairy products 1961-2019\n",
    "oz_dairy.describe()\n",
    "\n",
    "# for all crops 1961-2019\n",
    "oz_crop.describe()"
   ]
  },
  {
   "cell_type": "code",
   "execution_count": null,
   "id": "f099f2b4",
   "metadata": {},
   "outputs": [],
   "source": []
  },
  {
   "cell_type": "markdown",
   "id": "f7e66264",
   "metadata": {},
   "source": [
    "### Australia Visualisations\n",
    "\n",
    "The below visualisations highlight the following observations:\n",
    "\n"
   ]
  },
  {
   "cell_type": "code",
   "execution_count": null,
   "id": "5b79e1a1",
   "metadata": {},
   "outputs": [],
   "source": [
    "oz_meat_list = oz_meat['Meat_Type'].unique()\n",
    "oz_dairy_list = oz_dairy['Dairy_Product'].unique()\n",
    "oz_crop_list = oz_crop['Crop'].unique()"
   ]
  },
  {
   "cell_type": "markdown",
   "id": "508fb30e",
   "metadata": {},
   "source": [
    "#### Meat"
   ]
  },
  {
   "cell_type": "code",
   "execution_count": null,
   "id": "a3f343b9",
   "metadata": {
    "scrolled": false
   },
   "outputs": [],
   "source": [
    "# oz meat visuals\n",
    "plotlinegraphs(oz_meat, 'Meat_Type', 'Australia ', 'Population_Australia', oz_meat_list)\n",
    "plotfigures(oz_meat, 'Meat_Type', 'Australia ');"
   ]
  },
  {
   "cell_type": "code",
   "execution_count": null,
   "id": "4208b517",
   "metadata": {
    "scrolled": false
   },
   "outputs": [],
   "source": [
    "# oz meat visuals more detail \n",
    "plotlinegraphsii(oz_meat, 'Meat_Type', 35000, 1350000, 'Australia ', 'Population_Australia', oz_meat_list, 'Top ')\n",
    "plotlinegraphsii(oz_meat, 'Meat_Type', 0, 35000, 'Australia ', 'Population_Australia', oz_meat_list,  'Other ')"
   ]
  },
  {
   "cell_type": "markdown",
   "id": "c2b8e6f6",
   "metadata": {},
   "source": [
    "#### Dairy"
   ]
  },
  {
   "cell_type": "code",
   "execution_count": null,
   "id": "8eaa3248",
   "metadata": {
    "scrolled": false
   },
   "outputs": [],
   "source": [
    "# oz dairy visuals\n",
    "plotlinegraphs(oz_dairy, 'Dairy_Product', 'Australia ', 'Population_Australia', oz_dairy_list)\n",
    "plotfigures(oz_dairy, 'Dairy_Product', 'Australia ');"
   ]
  },
  {
   "cell_type": "code",
   "execution_count": null,
   "id": "81be4205",
   "metadata": {
    "scrolled": false
   },
   "outputs": [],
   "source": [
    "# oz dairy visuals more detail \n",
    "plotlinegraphsii(oz_dairy, 'Dairy_Product', 400000, 12000000, 'Australia ', 'Population_Australia', oz_dairy_list, 'Top ')\n",
    "plotlinegraphsii(oz_dairy, 'Dairy_Product', 0, 400000, 'Australia ', 'Population_Australia', oz_dairy_list,  'Other ')"
   ]
  },
  {
   "cell_type": "markdown",
   "id": "fc3656d6",
   "metadata": {},
   "source": [
    "#### Crops"
   ]
  },
  {
   "cell_type": "code",
   "execution_count": null,
   "id": "6a037dd3",
   "metadata": {
    "scrolled": false
   },
   "outputs": [],
   "source": [
    "# oz crops visual\n",
    "plotlinegraphs(oz_crop, 'Crop', 'Australia ', 'Population_Australia', oz_crop_list)\n",
    "plotfigures(oz_crop, 'Crop', 'Australia ');"
   ]
  },
  {
   "cell_type": "code",
   "execution_count": null,
   "id": "f30187cb",
   "metadata": {
    "scrolled": false
   },
   "outputs": [],
   "source": [
    "# oz crops visuals more detail \n",
    "plotlinegraphsii(oz_crop, 'Crop', 10000000, 50000000, 'Australia ', 'Population_Australia', oz_crop_list, 'Top ')\n",
    "plotlinegraphsii(oz_crop, 'Crop', 0, 5000000, 'Australia ', 'Population_Australia', oz_crop_list, 'Mid ')\n",
    "plotlinegraphsii(oz_crop, 'Crop', 0, 250000, 'Australia ', 'Population_Australia', oz_crop_list, 'Smaller ')\n"
   ]
  },
  {
   "cell_type": "code",
   "execution_count": null,
   "id": "abacd3bb",
   "metadata": {},
   "outputs": [],
   "source": []
  },
  {
   "cell_type": "markdown",
   "id": "42fec251",
   "metadata": {},
   "source": [
    "### Australia Production Pivot Table"
   ]
  },
  {
   "cell_type": "code",
   "execution_count": null,
   "id": "b43c6bcb",
   "metadata": {},
   "outputs": [],
   "source": [
    "#germany as a pivot table to see poduct values per year\n",
    "\n",
    "oz_meat_table = pd.pivot_table(oz_meat, values='production_value', index=['prod_country', 'year'],\n",
    "                    columns=['Meat_Type'], aggfunc=np.sum, fill_value=0)\n",
    "\n",
    "\n",
    "oz_dairy_table = pd.pivot_table(oz_dairy, values='production_value', index=['prod_country', 'year'],\n",
    "                    columns=['Dairy_Product'], aggfunc=np.sum, fill_value=0)\n",
    "\n",
    "\n",
    "oz_crop_table = pd.pivot_table(oz_crop, values= 'production_value', index=['prod_country', 'year'],\n",
    "                    columns=['Crop'], aggfunc=np.sum, fill_value=0)"
   ]
  },
  {
   "cell_type": "code",
   "execution_count": null,
   "id": "92c0bf61",
   "metadata": {
    "scrolled": false
   },
   "outputs": [],
   "source": [
    "oz_meat_table\n",
    "oz_dairy_table\n",
    "oz_crop_table"
   ]
  },
  {
   "cell_type": "code",
   "execution_count": null,
   "id": "4ddcc494",
   "metadata": {},
   "outputs": [],
   "source": []
  },
  {
   "cell_type": "markdown",
   "id": "4ad6d75b",
   "metadata": {},
   "source": [
    "### Descriptive Statistics per product for all years"
   ]
  },
  {
   "cell_type": "code",
   "execution_count": null,
   "id": "046a1a67",
   "metadata": {},
   "outputs": [],
   "source": []
  },
  {
   "cell_type": "code",
   "execution_count": null,
   "id": "e9cf0a5d",
   "metadata": {},
   "outputs": [],
   "source": [
    "oz_meat_table.describe().apply(lambda s: s.apply('{0:.2f}'.format))\n",
    "oz_dairy_table.describe().apply(lambda s: s.apply('{0:.2f}'.format))\n",
    "oz_crop_table.describe().apply(lambda s: s.apply('{0:.2f}'.format))"
   ]
  },
  {
   "cell_type": "code",
   "execution_count": null,
   "id": "69917628",
   "metadata": {},
   "outputs": [],
   "source": [
    "plt.figure(figsize=[15, 10])\n",
    "sns.boxplot(data=oz_meat_table, orient='h', palette='Reds_r');"
   ]
  },
  {
   "cell_type": "code",
   "execution_count": null,
   "id": "e0095692",
   "metadata": {},
   "outputs": [],
   "source": [
    "plt.figure(figsize=[15, 10])\n",
    "sns.boxplot(data=oz_dairy_table, orient='h', palette='BuPu_r');"
   ]
  },
  {
   "cell_type": "code",
   "execution_count": null,
   "id": "d097f066",
   "metadata": {
    "scrolled": false
   },
   "outputs": [],
   "source": [
    "plt.figure(figsize=[15, 40])\n",
    "sns.boxplot(data=oz_crop_table, orient='h', palette='summer_r');"
   ]
  },
  {
   "cell_type": "code",
   "execution_count": null,
   "id": "081a5e97",
   "metadata": {},
   "outputs": [],
   "source": []
  },
  {
   "cell_type": "markdown",
   "id": "17a8fc62",
   "metadata": {},
   "source": [
    "## Inferential Statistics\n",
    "\n",
    "https://statisticsbyjim.com/basics/descriptive-inferential-statistics/#:~:text=The%20most%20common%20methodologies%20in,the%20mean%20and%20standard%20deviation.\n",
    "\n",
    "In order to perform appropriate Inferential analysis between countries, a number of tests will need to be performed on the data to determine what kind of statistical techniques can be used. \n",
    "\n",
    "First, the mean/ max/ min/ standard deviation for each variable will be determined using the .describe() function. Some products appear to have negative values included in their consumption figure.  As consumption is calculated as '(production + imports) - exports' , a negative consumption figure should not be possible and can only reflect that items produced in one year and exported in another year. \n",
    "\n",
    "Using pivot tables, items with a negative consumption value can be identified. The majority of products with a negative consumption number tend to be products that could potentially have longer shelf life such as dried milks, hard cheese, butters, truffles etc. Therefore it is acceptable to assume that any negative consumption vales relate to items that have a longer shelf life that could have been produced/ imported and exported in seperate years. \n",
    "\n",
    "Shapiro test and probability plots will be used to determine if data is normal and if parametric/ non parametric tests should be used.\n"
   ]
  },
  {
   "cell_type": "code",
   "execution_count": null,
   "id": "8ed6c337",
   "metadata": {},
   "outputs": [],
   "source": [
    "# population data for all food items \n",
    "ireland_df.describe().apply(lambda s: s.apply('{0:.2f}'.format))"
   ]
  },
  {
   "cell_type": "code",
   "execution_count": null,
   "id": "b397182b",
   "metadata": {},
   "outputs": [],
   "source": [
    "# representative sample data \n",
    "\n",
    "# for all meat products 1961-2019\n",
    "ireland_meat.describe().apply(lambda s: s.apply('{0:.2f}'.format))\n",
    "\n",
    "# for all dairy products 1961-2019\n",
    "ireland_dairy.describe().apply(lambda s: s.apply('{0:.2f}'.format))\n",
    "\n",
    "# for all crops 1961-2019\n",
    "ireland_crop.describe().apply(lambda s: s.apply('{0:.2f}'.format))"
   ]
  },
  {
   "cell_type": "code",
   "execution_count": null,
   "id": "3a4a3968",
   "metadata": {
    "scrolled": false
   },
   "outputs": [],
   "source": [
    "#ireland as a pivot table to see minimum comsumption poduct values per year\n",
    "\n",
    "ireland_dairy_table = pd.pivot_table(ireland_dairy, values='consumption', index=['prod_country', 'year'],\n",
    "                    columns=['Dairy_Product'], aggfunc=np.sum, fill_value=0)\n",
    "\n",
    "\n",
    "ireland_crop_table = pd.pivot_table(ireland_crop, values='consumption', index=['prod_country', 'year'],\n",
    "                    columns=['Crop'], aggfunc=np.sum, fill_value=0)\n",
    "\n",
    "ireland_dairy_table.describe().apply(lambda s: s.apply('{0:.2f}'.format))\n",
    "ireland_crop_table.describe().apply(lambda s: s.apply('{0:.2f}'.format))"
   ]
  },
  {
   "cell_type": "code",
   "execution_count": null,
   "id": "def2ee58",
   "metadata": {},
   "outputs": [],
   "source": [
    "# representative sample data \n",
    "\n",
    "# for all meat products 1961-2019\n",
    "germany_meat.describe().apply(lambda s: s.apply('{0:.2f}'.format))\n",
    "\n",
    "# for all dairy products 1961-2019\n",
    "germany_dairy.describe().apply(lambda s: s.apply('{0:.2f}'.format))\n",
    "\n",
    "# for all crops 1961-2019\n",
    "germany_crop.describe().apply(lambda s: s.apply('{0:.2f}'.format))"
   ]
  },
  {
   "cell_type": "code",
   "execution_count": null,
   "id": "6704d30a",
   "metadata": {},
   "outputs": [],
   "source": [
    "#germany as a pivot table to see minimum comsumption poduct values per year\n",
    "\n",
    "germany_dairy_table = pd.pivot_table(germany_dairy, values='consumption', index=['prod_country', 'year'],\n",
    "                    columns=['Dairy_Product'], aggfunc=np.sum, fill_value=0)\n",
    "\n",
    "germany_dairy_table.describe().apply(lambda s: s.apply('{0:.2f}'.format))\n"
   ]
  },
  {
   "cell_type": "code",
   "execution_count": null,
   "id": "fe55d2e5",
   "metadata": {},
   "outputs": [],
   "source": [
    "# representative sample data \n",
    "\n",
    "# for all meat products 1961-2019\n",
    "oz_meat.describe().apply(lambda s: s.apply('{0:.2f}'.format))\n",
    "\n",
    "# for all dairy products 1961-2019\n",
    "oz_dairy.describe().apply(lambda s: s.apply('{0:.2f}'.format))\n",
    "\n",
    "# for all crops 1961-2019\n",
    "oz_crop.describe().apply(lambda s: s.apply('{0:.2f}'.format))"
   ]
  },
  {
   "cell_type": "code",
   "execution_count": null,
   "id": "e329effd",
   "metadata": {},
   "outputs": [],
   "source": [
    "#oz as a pivot table to see minimum comsumption poduct values per year\n",
    "\n",
    "oz_meat_table = pd.pivot_table(oz_meat, values='consumption', index=['prod_country', 'year'],\n",
    "                    columns=['Meat_Type'], aggfunc=np.sum, fill_value=0)\n",
    "\n",
    "oz_dairy_table = pd.pivot_table(oz_dairy, values='consumption', index=['prod_country', 'year'],\n",
    "                    columns=['Dairy_Product'], aggfunc=np.sum, fill_value=0)\n",
    "\n",
    "oz_meat_table.describe().apply(lambda s: s.apply('{0:.2f}'.format))\n",
    "oz_dairy_table.describe().apply(lambda s: s.apply('{0:.2f}'.format))\n"
   ]
  },
  {
   "cell_type": "markdown",
   "id": "c97f774d",
   "metadata": {},
   "source": [
    "### Probability Plot\n",
    "\n",
    "Use probability plot and shapiro test to determine normality. The type of tests used will depend on the data being tested. If the data is not normal, Nonparametric statistical methods will need to be used as these tests do not assume a normal distribution.\n",
    "\n",
    "As shown by the probability plots, most data seems to follow a right skewed or positively skewed distribution and is not normal. Meaning, the distribution of values of this data are clustered around the left tail of the distribution while the right tail of the distribution is longer."
   ]
  },
  {
   "cell_type": "code",
   "execution_count": null,
   "id": "3ee052e6",
   "metadata": {},
   "outputs": [],
   "source": [
    "# Is data normal?\n",
    "\n",
    "list = ['production_value','import_quantity','export_quantity','consumption']\n",
    "\n",
    "\n",
    "def probplot(dataset, country):\n",
    "    plt.figure(figsize = (15,3))\n",
    "    for i in enumerate(list):\n",
    "        plt.subplot(1,4,i[0]+1)\n",
    "        stats.probplot(dataset[i[1]], plot = plt)\n",
    "        plt.subplots_adjust(left=None, bottom=None, right=None, top=None, wspace=0.6, hspace=None)\n",
    "        plt.title('\\n ' + country + i[1] + ' Normality \\n', fontsize=10)\n",
    "plt.show();"
   ]
  },
  {
   "cell_type": "code",
   "execution_count": null,
   "id": "ebbcc125",
   "metadata": {},
   "outputs": [],
   "source": [
    "def histplot(dataset, country):\n",
    "    plt.figure(figsize = (15,3))\n",
    "    for i in enumerate(list):\n",
    "        plt.subplot(1,4,i[0]+1)\n",
    "        sns.histplot(dataset[i[1]], kde=True)\n",
    "        plt.subplots_adjust(left=0.1, bottom=None, right=None, top=None, wspace=0.6, hspace=None)\n",
    "        plt.title('\\n ' + country + i[1] + ' \\n', fontsize=10)    \n",
    "plt.show();"
   ]
  },
  {
   "cell_type": "code",
   "execution_count": null,
   "id": "6a52f40f",
   "metadata": {},
   "outputs": [],
   "source": [
    "probplot(ireland_meat, 'Ireland Meat ')\n",
    "probplot(ireland_dairy, 'Ireland Dairy ')\n",
    "probplot(ireland_crop, 'Ireland Crop ')"
   ]
  },
  {
   "cell_type": "code",
   "execution_count": null,
   "id": "e14cd68e",
   "metadata": {},
   "outputs": [],
   "source": [
    "histplot(ireland_meat, 'Ireland Meat ')\n",
    "histplot(ireland_dairy, 'Ireland Dairy ')\n",
    "histplot(ireland_crop, 'Ireland Crop ')"
   ]
  },
  {
   "cell_type": "code",
   "execution_count": null,
   "id": "5bae61c0",
   "metadata": {},
   "outputs": [],
   "source": [
    "probplot(germany_meat, 'Germany Meat ')\n",
    "probplot(germany_dairy, 'Germany Dairy ')\n",
    "probplot(germany_crop, 'Germany Crop ')"
   ]
  },
  {
   "cell_type": "code",
   "execution_count": null,
   "id": "6108debd",
   "metadata": {},
   "outputs": [],
   "source": [
    "probplot(oz_meat, 'Australia Meat ')\n",
    "probplot(oz_dairy, 'Australia Dairy ')\n",
    "probplot(oz_crop, 'Australia Crop ')"
   ]
  },
  {
   "cell_type": "code",
   "execution_count": null,
   "id": "69d0a374",
   "metadata": {},
   "outputs": [],
   "source": []
  },
  {
   "cell_type": "markdown",
   "id": "b239731d",
   "metadata": {},
   "source": [
    "### Shapiro Test to test for normal data\n",
    "\n",
    "There is already a high level of confidence that the data is not normal following the probabiity plot, but to be absolutely certain, a Shapiro-Wilk Test can be used. Shapiro Test is a hypothsis test that defines:\n",
    "\n",
    "    H0 = data comes from normal distribution\n",
    "    H1 = data does not come from a normal distribution\n",
    "\n",
    "If p value is less than alpha (0.05), the null hypothsis is  rejected, meaning data is not normal and non parametric statistical tests will need to be used going forward. As proven by the anasysis, the data is not normal and the null hypotheses is rejected.\n",
    "\n",
    "Note: when testing for Normality, the more data points uses to calculate the normality, the lower the p-value can be; once more than a certain number of rows are used, the p-value is below the threshold of being distinguished from 0.0. \n",
    "\n"
   ]
  },
  {
   "cell_type": "code",
   "execution_count": null,
   "id": "c1c56f20",
   "metadata": {},
   "outputs": [],
   "source": [
    "#Shapiro wilk test to test for normality \n",
    "\n",
    "alpha = 0.05\n",
    "\n",
    "def shapiro_test(df):\n",
    "    for i in list:\n",
    "        print ([i])\n",
    "        a,b= stats.shapiro(df[[i]])\n",
    "        print (\"Statistics\", a, \"p-value\", b)\n",
    "        if b < alpha:  \n",
    "            print(\"The null hypothesis can be rejected\")\n",
    "        else:\n",
    "            print(\"The null hypothesis cannot be rejected\")"
   ]
  },
  {
   "cell_type": "code",
   "execution_count": null,
   "id": "c7a65d5e",
   "metadata": {},
   "outputs": [],
   "source": [
    "shapiro_test(ireland_meat)"
   ]
  },
  {
   "cell_type": "code",
   "execution_count": null,
   "id": "ac7542b8",
   "metadata": {},
   "outputs": [],
   "source": [
    "shapiro_test(ireland_dairy)"
   ]
  },
  {
   "cell_type": "code",
   "execution_count": null,
   "id": "4d2b6adb",
   "metadata": {},
   "outputs": [],
   "source": [
    "shapiro_test(ireland_crop)"
   ]
  },
  {
   "cell_type": "code",
   "execution_count": null,
   "id": "04dbc0e3",
   "metadata": {},
   "outputs": [],
   "source": [
    "shapiro_test(germany_meat)"
   ]
  },
  {
   "cell_type": "code",
   "execution_count": null,
   "id": "58a6e38a",
   "metadata": {},
   "outputs": [],
   "source": [
    "shapiro_test(germany_dairy)"
   ]
  },
  {
   "cell_type": "code",
   "execution_count": null,
   "id": "0dbace4e",
   "metadata": {},
   "outputs": [],
   "source": [
    "shapiro_test(germany_crop)"
   ]
  },
  {
   "cell_type": "code",
   "execution_count": null,
   "id": "83273802",
   "metadata": {},
   "outputs": [],
   "source": [
    "shapiro_test(oz_meat)"
   ]
  },
  {
   "cell_type": "code",
   "execution_count": null,
   "id": "5aae9497",
   "metadata": {},
   "outputs": [],
   "source": [
    "shapiro_test(oz_dairy)"
   ]
  },
  {
   "cell_type": "code",
   "execution_count": null,
   "id": "a35fd3e5",
   "metadata": {},
   "outputs": [],
   "source": [
    "shapiro_test(oz_crop)"
   ]
  },
  {
   "cell_type": "code",
   "execution_count": null,
   "id": "2f7560e5",
   "metadata": {},
   "outputs": [],
   "source": []
  },
  {
   "cell_type": "code",
   "execution_count": null,
   "id": "b8618ba0",
   "metadata": {},
   "outputs": [],
   "source": []
  },
  {
   "cell_type": "code",
   "execution_count": null,
   "id": "c1912b41",
   "metadata": {},
   "outputs": [],
   "source": []
  },
  {
   "cell_type": "code",
   "execution_count": null,
   "id": "f065743e",
   "metadata": {},
   "outputs": [],
   "source": []
  },
  {
   "cell_type": "code",
   "execution_count": null,
   "id": "9d5afef8",
   "metadata": {},
   "outputs": [],
   "source": []
  },
  {
   "cell_type": "code",
   "execution_count": null,
   "id": "a4e5f0bf",
   "metadata": {},
   "outputs": [],
   "source": []
  },
  {
   "cell_type": "code",
   "execution_count": null,
   "id": "acf2689a",
   "metadata": {},
   "outputs": [],
   "source": []
  },
  {
   "cell_type": "markdown",
   "id": "d5204087",
   "metadata": {},
   "source": [
    "##  Inferential Statistics between Countries\n",
    "\n",
    "In order to compare like for like between countries, per capita datasets must be prepared. This will be done by dividing each of the relevant columns by the country population to get per capita amounts for production/ imports/ expports and consumption for analysis. \n",
    "\n",
    "Non Parametric tests are reqiored as the data in not normal. In order to compare Ireland aganst other countries a test that determines whether the values of 2 samples are equal or not is required.\n",
    "\n",
    "https://leehw.com/crib-sheets/statistical-test-cheat-sheet/\n",
    "https://machinelearningmastery.com/statistical-hypothesis-tests-in-python-cheat-sheet/\n",
    "\n",
    "The Mann Whitney test is a rank-based test that can be used to compare values for two groups.  If we get a significant result it suggests that the values for the two groups are different.\n",
    "\n",
    "Assumptions:\n",
    "1. Observations in each sample are independent and identically distributed (iid).\n",
    "2. Observations in each sample can be ranked.\n",
    "\n",
    "Hypothesis:\n",
    "1. Null hypothesis (H0): The two groups are sampled from populations with identical distributions. \n",
    "2. Alternative hypothesis (Ha): The two groups are sampled from populations with different distributions. \n",
    "\n",
    "Focusing on the impact of the Common agricultural policy, and possible diet trends the following null hypothesis's will be analysed using inferential statistics.\n",
    "\n",
    "On average:\n",
    "\n",
    "    Ireland-Germany / Ireland-Australia produce the same amount of meat products per capita \n",
    "    Ireland-Germany / Ireland-Australia import the same amount of meat products per capita \n",
    "    Ireland-Germany / Ireland-Australia export the same amount of meat products per capita \n",
    "    Ireland-Germany / Ireland-Australia consume the same amount of meat products per capita \n",
    "\n",
    "    Ireland-Germany / Ireland-Australia produce the same amount of dairy products per capita \n",
    "    Ireland-Germany / Ireland-Australia import the same amount of dairy products per capita \n",
    "    Ireland-Germany / Ireland-Australia export the same amount of dairy products per capita \n",
    "    Ireland-Germany / Ireland-Australia consume the same amount of dairy products per capita \n",
    "\n",
    "    Ireland-Germany / Ireland-Australia produce the same amount of dairy products per capita \n",
    "    Ireland-Germany / Ireland-Australia import the same amount of dairy products per capita \n",
    "    Ireland-Germany / Ireland-Australia export the same amount of dairy products per capita \n",
    "    Ireland-Germany / Ireland-Australia consume the same amount of dairy products per capita \n"
   ]
  },
  {
   "cell_type": "markdown",
   "id": "03528a82",
   "metadata": {},
   "source": [
    "### Create datasets for inferential statistics"
   ]
  },
  {
   "cell_type": "code",
   "execution_count": null,
   "id": "ed92e3cd",
   "metadata": {},
   "outputs": [],
   "source": [
    "ireland_meat_pc = ireland_meat.copy()\n",
    "ireland_dairy_pc = ireland_dairy.copy()\n",
    "ireland_crop_pc = ireland_crop.copy()\n",
    "germany_meat_pc = germany_meat.copy()\n",
    "germany_dairy_pc = germany_dairy.copy()\n",
    "germany_crop_pc = germany_crop.copy()\n",
    "oz_meat_pc = oz_meat.copy()\n",
    "oz_dairy_pc = oz_dairy.copy()\n",
    "oz_crop_pc = oz_crop.copy()\n",
    "\n",
    "dropvalue = ['prod_country', 'production_unit','production_value', \n",
    "             'import_unit', 'import_quantity', 'export_unit','export_quantity', 'consumption']"
   ]
  },
  {
   "cell_type": "code",
   "execution_count": null,
   "id": "aa1450be",
   "metadata": {},
   "outputs": [],
   "source": [
    "def percapita(dataset, popvalue):\n",
    "    dataset['prod_percap'] = (dataset['production_value'] / dataset[popvalue])\n",
    "    dataset['import_percap'] = (dataset['import_quantity'] / dataset[popvalue])\n",
    "    dataset['export_percap'] = (dataset['export_quantity'] / dataset[popvalue])\n",
    "    dataset['consumption_percap'] = (dataset['consumption'] / dataset[popvalue])\n",
    "    dataset.drop(dropvalue, axis = 1, inplace=True)\n",
    "    dataset.reset_index(drop=True, inplace=True)"
   ]
  },
  {
   "cell_type": "code",
   "execution_count": null,
   "id": "6d4c46c2",
   "metadata": {},
   "outputs": [],
   "source": [
    "percapita(ireland_meat_pc, 'Population_Ireland')\n",
    "percapita(ireland_dairy_pc, 'Population_Ireland')\n",
    "percapita(ireland_crop_pc, 'Population_Ireland')\n",
    "\n",
    "percapita(germany_meat_pc, 'Population_Germany')\n",
    "percapita(germany_dairy_pc, 'Population_Germany')\n",
    "percapita(germany_crop_pc, 'Population_Germany')\n",
    "\n",
    "percapita(oz_meat_pc, 'Population_Australia')\n",
    "percapita(oz_dairy_pc, 'Population_Australia')\n",
    "percapita(oz_crop_pc, 'Population_Australia')"
   ]
  },
  {
   "cell_type": "code",
   "execution_count": null,
   "id": "bbdd47e8",
   "metadata": {},
   "outputs": [],
   "source": [
    "ireland_meat_pc.describe()\n",
    "germany_meat_pc.describe()\n",
    "oz_meat_pc.describe()"
   ]
  },
  {
   "cell_type": "markdown",
   "id": "58cc5ef5",
   "metadata": {},
   "source": [
    "### Mann Whitney Test to compare values for 2 populations"
   ]
  },
  {
   "cell_type": "code",
   "execution_count": null,
   "id": "a0ab7ebd",
   "metadata": {},
   "outputs": [],
   "source": [
    "pc_list = ['prod_percap', 'import_percap', 'export_percap', 'consumption_percap']\n",
    "\n",
    "# Ireland/ Australia on average produce the same amount of meat products per capita \n",
    "def mannwhittest(df1, df2):\n",
    "    for i in pc_list:\n",
    "        print ([i])\n",
    "        stat, p = mannwhitneyu(df1[[i]], df2[[i]],)\n",
    "        print('stat=%.3f, p=%.3f' % (stat, p))\n",
    "        if p > 0.05:\n",
    "            print('P value greater than 0.05, accept the null hypothesis')\n",
    "        else:\n",
    "            print('P value less than 0.05, reject the null hypothesis')"
   ]
  },
  {
   "cell_type": "code",
   "execution_count": null,
   "id": "8c6bf289",
   "metadata": {},
   "outputs": [],
   "source": [
    "# H0 - Ireland/ Germany on average produce/import/export/consume the same amount of meat products per capita \n",
    "# Ha - Ireland/ Germany on average do not produce/import/export/consume the same amount of meat products per capita \n",
    "mannwhittest(ireland_meat_pc, germany_meat_pc)"
   ]
  },
  {
   "cell_type": "code",
   "execution_count": null,
   "id": "e410a949",
   "metadata": {},
   "outputs": [],
   "source": [
    "# H0 - Ireland/ Austraia on average produce/import/export/consume the same amount of meat products per capita \n",
    "# Ha - Ireland/ Austraia on average do not produce/import/export/consume the same amount of meat products per capita \n",
    "mannwhittest(ireland_meat_pc, oz_meat_pc)"
   ]
  },
  {
   "cell_type": "code",
   "execution_count": null,
   "id": "d5ddfffe",
   "metadata": {},
   "outputs": [],
   "source": [
    "# H0 - Ireland/ Germany on average produce/import/export/consume the same amount of dairy products per capita \n",
    "# Ha - Ireland/ Germany on average do not produce/import/export/consume the same amount of dairy products per capita \n",
    "mannwhittest(ireland_dairy_pc, germany_dairy_pc)"
   ]
  },
  {
   "cell_type": "code",
   "execution_count": null,
   "id": "8cf14f2f",
   "metadata": {},
   "outputs": [],
   "source": [
    "# H0 - Ireland/ Australia on average produce/import/export/consume the same amount of dairy products per capita \n",
    "# H0 - Ireland/ Australia on average do not produce/import/export/consume the same amount of dairy products per capita  \n",
    "mannwhittest(ireland_dairy_pc, oz_dairy_pc)"
   ]
  },
  {
   "cell_type": "code",
   "execution_count": null,
   "id": "57e16559",
   "metadata": {},
   "outputs": [],
   "source": [
    "# H0 - Ireland/ Germany on average produce/import/export/consume the same amount of crop products per capita \n",
    "# Ha - Ireland/ Germany on average do not produce/import/export/consume the same amount of crop products per capita \n",
    "mannwhittest(ireland_crop_pc, germany_crop_pc)"
   ]
  },
  {
   "cell_type": "code",
   "execution_count": null,
   "id": "84c4c27a",
   "metadata": {},
   "outputs": [],
   "source": [
    "# H0 - Ireland/ Australia on average produce/import/export/consume the same amount of crop products per capita \n",
    "# Ha - Ireland/ Australia on average do not produce/import/export/consume the same amount of crop products per capita \n",
    "mannwhittest(ireland_crop_pc, oz_crop_pc)"
   ]
  },
  {
   "cell_type": "markdown",
   "id": "0c4ac9ce",
   "metadata": {},
   "source": [
    "### Mann-Whitney Results\n",
    "\n",
    "    Ireland & Germany on average do not produce/ import/ export/ consume the same amount of meat products per Capita\n",
    "    Ireland & Australia on average produce the same amount of meat products per Capita, but do not import/ export/ consume the same amount\n",
    "This is an interesting finding that Ireland and Germany show no similarities in meat production/ import/ export/ consumption. However, Germany's meat habbits were very different when analysed so it is not unfitting to assume that this is due to cultural differences between the countries.\n",
    "\n",
    "Looking at Ireland/ Australia, despite production values being similar. From the data it is evident that on average Ireland imports and exports a lot more meat products that Australia, leading to the assumption that Austrlia relies less heavily on trade and is more self sufficent, which is known to be the case. \n",
    "\n",
    "\n",
    "    Ireland & Germany on average consume the same amount of dairy products per Capita, but do not produce/ import/ export the same amount\n",
    "    Ireland & Australia on average consume the same amount of dairy products per Capita, but do not produce/ import/ export the same amount\n",
    "These results make sense as there is a general decine in the consumption of dairy in countries with a growing vegan population as all 3 countries have. It is also evident form the data that Ireland produces/ imports/ exports the highest amount of dairy between these 3 countries so it it not suprising that their averages vary. Ireland actually produces almost than 3 times the amount of dairy per capita as the other 2 countries\n",
    "\n",
    "\n",
    "    Ireland & Germany on average produce / export/ consume the same amount of crop products per Capita, but do not import the same amount\n",
    "    Ireland & Australia on average do not produce/ import/ export/ consume the same amount of crop products per Capita\n",
    "This is also unsuprising as Ireland and germany appear to produce, export and consume simialr amounts of crops per capita. These similarities could be due to diet trends such as veganism or do benifits reviewd from the CAP & being members of the EU. \n",
    "\n",
    "Australia both produce and consume almost 3 times more crops than Ireland or Germany. This highlights the difference in diet cultures ad shows how much more veg is consumed as a result of Australias high vegan and vegatarian poulations. \n"
   ]
  },
  {
   "cell_type": "code",
   "execution_count": null,
   "id": "af1bfcc2",
   "metadata": {},
   "outputs": [],
   "source": []
  },
  {
   "cell_type": "markdown",
   "id": "d20f70d0",
   "metadata": {},
   "source": [
    "## Machine Learning "
   ]
  },
  {
   "cell_type": "markdown",
   "id": "f011c544",
   "metadata": {},
   "source": [
    "### Datasets"
   ]
  },
  {
   "cell_type": "code",
   "execution_count": null,
   "id": "49feecae",
   "metadata": {},
   "outputs": [],
   "source": [
    "ireland_dairy['Dairy_Product'].unique()\n",
    "ireland_crop['Crop'].unique()"
   ]
  },
  {
   "cell_type": "code",
   "execution_count": null,
   "id": "15148dcc",
   "metadata": {},
   "outputs": [],
   "source": [
    "#ireland\n",
    "ireland_butter = ireland_dairy.loc[ireland_dairy['Dairy_Product']=='Butter, cow milk']\n",
    "ireland_cheese = ireland_dairy.loc[ireland_dairy['Dairy_Product']=='Cheese, whole cow milk']\n",
    "ireland_skimmed = ireland_dairy.loc[ireland_dairy['Dairy_Product']=='Milk, skimmed cow']\n",
    "ireland_milk = ireland_dairy.loc[ireland_dairy['Dairy_Product']=='Milk, whole fresh cow']\n",
    "ireland_oat = ireland_crop.loc[ireland_crop['Crop']=='Oats']\n",
    "ireland_soy = ireland_crop.loc[ireland_crop['Crop']=='Soybeans']\n",
    "ireland_almond = ireland_crop.loc[ireland_crop['Crop']=='Almonds shelled']\n",
    "ireland_cashew = ireland_crop.loc[ireland_crop['Crop']=='Cashew nuts, shelled']\n",
    "ireland_hazelnut = ireland_crop.loc[ireland_crop['Crop']=='Hazelnuts, shelled']\n",
    "ireland_quinoa = ireland_crop.loc[ireland_crop['Crop']=='Quinoa']\n",
    "\n",
    "#germamy\n",
    "ireland_butter = ireland_dairy.loc[ireland_dairy['Dairy_Product']=='Butter, cow milk']\n",
    "ireland_cheese = ireland_dairy.loc[ireland_dairy['Dairy_Product']=='Cheese, whole cow milk']\n",
    "ireland_skimmed = ireland_dairy.loc[ireland_dairy['Dairy_Product']=='Milk, skimmed cow']\n",
    "ireland_milk = ireland_dairy.loc[ireland_dairy['Dairy_Product']=='Milk, whole fresh cow']\n",
    "ireland_oat = ireland_crop.loc[ireland_crop['Crop']=='Oats']\n",
    "ireland_soy = ireland_crop.loc[ireland_crop['Crop']=='Soybeans']\n",
    "ireland_almond = ireland_crop.loc[ireland_crop['Crop']=='Almonds shelled']\n",
    "ireland_cashew = ireland_crop.loc[ireland_crop['Crop']=='Cashew nuts, shelled']\n",
    "ireland_hazelnut = ireland_crop.loc[ireland_crop['Crop']=='Hazelnuts, shelled']\n",
    "ireland_quinoa = ireland_crop.loc[ireland_crop['Crop']=='Quinoa']\n",
    "\n",
    "#australia\n",
    "ireland_butter = ireland_dairy.loc[ireland_dairy['Dairy_Product']=='Butter, cow milk']\n",
    "ireland_cheese = ireland_dairy.loc[ireland_dairy['Dairy_Product']=='Cheese, whole cow milk']\n",
    "ireland_skimmed = ireland_dairy.loc[ireland_dairy['Dairy_Product']=='Milk, skimmed cow']\n",
    "ireland_milk = ireland_dairy.loc[ireland_dairy['Dairy_Product']=='Milk, whole fresh cow']\n",
    "ireland_oat = ireland_crop.loc[ireland_crop['Crop']=='Oats']\n",
    "ireland_soy = ireland_crop.loc[ireland_crop['Crop']=='Soybeans']\n",
    "ireland_almond = ireland_crop.loc[ireland_crop['Crop']=='Almonds shelled']\n",
    "ireland_cashew = ireland_crop.loc[ireland_crop['Crop']=='Cashew nuts, shelled']\n",
    "ireland_hazelnut = ireland_crop.loc[ireland_crop['Crop']=='Hazelnuts, shelled']\n",
    "ireland_quinoa = ireland_crop.loc[ireland_crop['Crop']=='Quinoa']"
   ]
  },
  {
   "cell_type": "code",
   "execution_count": null,
   "id": "081439a8",
   "metadata": {},
   "outputs": [],
   "source": [
    "drop_milk = ['prod_country', 'Dairy_Product', 'production_unit','import_unit',  'export_unit' ]\n",
    "\n",
    "drop_dairy = ['prod_country', 'Dairy_Product', 'production_unit','production_value', \n",
    "              'import_unit', 'import_quantity', 'export_unit', 'export_quantity']\n",
    "\n",
    "drop_crop = ['prod_country', 'Crop', 'production_unit','production_value', \n",
    "              'import_unit', 'import_quantity', 'export_unit', 'export_quantity']\n",
    "\n",
    "# milk dataset\n",
    "ireland_milk = ireland_milk.drop(drop_milk, axis = 1)\n",
    "ireland_milk.rename(columns={'production_value':'milk_production', 'import_quantity':'milk_imports', \n",
    "                                'export_quantity':'milk_exports', 'consumption':'milk_consumption'}, inplace=True)\n",
    "ireland_milk.reset_index(drop=True, inplace=True)\n",
    "\n",
    "# butter dataset\n",
    "ireland_butter = ireland_butter.drop(drop_dairy, axis = 1)\n",
    "ireland_butter.rename(columns={'consumption':'butter_consumption'}, inplace=True)\n",
    "ireland_butter.reset_index(drop=True, inplace=True)\n",
    "\n",
    "# cheese dataset\n",
    "ireland_cheese = ireland_cheese.drop(drop_dairy, axis = 1)\n",
    "ireland_cheese.rename(columns={'consumption':'cheese_consumption'}, inplace=True)\n",
    "ireland_cheese.reset_index(drop=True, inplace=True)\n",
    "\n",
    "# skimmed milk dataset\n",
    "ireland_skimmed = ireland_skimmed.drop(drop_dairy, axis = 1)\n",
    "ireland_skimmed.rename(columns={'consumption':'skimmed_consumption'}, inplace=True)\n",
    "ireland_skimmed.reset_index(drop=True, inplace=True)\n",
    "\n",
    "# oat dataset\n",
    "ireland_oat = ireland_oat.drop(drop_crop, axis = 1)\n",
    "ireland_oat.rename(columns={'consumption':'oat_consumption'}, inplace=True)\n",
    "ireland_oat.reset_index(drop=True, inplace=True)\n",
    "\n",
    "# soy dataset\n",
    "ireland_soy = ireland_soy.drop(drop_crop, axis = 1)\n",
    "ireland_soy.rename(columns={'consumption':'soy_consumption'}, inplace=True)\n",
    "ireland_soy.reset_index(drop=True, inplace=True)\n",
    "\n",
    "# almond dataset\n",
    "ireland_almond = ireland_almond.drop(drop_crop, axis = 1)\n",
    "ireland_almond.rename(columns={'consumption':'almond_consumption'}, inplace=True)\n",
    "ireland_almond.reset_index(drop=True, inplace=True)\n",
    "\n",
    "# cashew dataset\n",
    "ireland_cashew = ireland_cashew.drop(drop_crop, axis = 1)\n",
    "ireland_cashew.rename(columns={'consumption':'cashew_consumption'}, inplace=True)\n",
    "ireland_cashew.reset_index(drop=True, inplace=True)\n",
    "\n",
    "# hazelnut dataset\n",
    "ireland_hazelnut = ireland_hazelnut.drop(drop_crop, axis = 1)\n",
    "ireland_hazelnut.rename(columns={'consumption':'hazelnut_consumption'}, inplace=True)\n",
    "ireland_hazelnut.reset_index(drop=True, inplace=True)\n",
    "\n",
    "# oat quinoa\n",
    "ireland_quinoa = ireland_quinoa.drop(drop_crop, axis = 1)\n",
    "ireland_quinoa.rename(columns={'consumption':'quinoa_consumption'}, inplace=True)\n",
    "ireland_quinoa.reset_index(drop=True, inplace=True)\n",
    "\n"
   ]
  },
  {
   "cell_type": "code",
   "execution_count": null,
   "id": "4c1bec1a",
   "metadata": {},
   "outputs": [],
   "source": [
    "#create merge function\n",
    "def merge_data(y,z, pop):\n",
    "    x = pd.merge(y, z, how = \"outer\", on=['year', pop])\n",
    "    return(x)\n",
    "\n",
    "# merge datasets\n",
    "idf1 = merge_data(ireland_milk, ireland_butter, 'Population_Ireland')\n",
    "idf2 = merge_data(idf1, ireland_cheese, 'Population_Ireland')\n",
    "idf3 = merge_data(idf2, ireland_skimmed, 'Population_Ireland')\n",
    "idf4 = merge_data(idf3, ireland_oat, 'Population_Ireland')\n",
    "idf5 = merge_data(idf4, ireland_soy, 'Population_Ireland')\n",
    "idf6 = merge_data(idf5, ireland_almond, 'Population_Ireland')\n",
    "idf7 = merge_data(idf6, ireland_cashew, 'Population_Ireland')\n",
    "idf8 = merge_data(idf7, ireland_hazelnut, 'Population_Ireland')\n",
    "ire_df = merge_data(idf8, ireland_quinoa, 'Population_Ireland')\n",
    "\n",
    "gdf1 = merge_data(germany_milk, germany_butter, 'Population_Germany')\n",
    "gdf2 = merge_data(gdf1, germany_cheese, 'Population_Germany)\n",
    "gdf3 = merge_data(gdf2, germany_skimmed, 'Population_Germany')\n",
    "gdf4 = merge_data(gdf3, germany_oat, 'Population_Germany')\n",
    "gdf5 = merge_data(gdf4, germany_soy, 'Population_Germany')\n",
    "gdf6 = merge_data(gdf5, germany_almond, 'Population_Germany')\n",
    "gdf7 = merge_data(gdf6, germany_cashew, 'Population_Germany')\n",
    "gdf8 = merge_data(gdf7, germany_hazelnut, 'Population_Germany')\n",
    "ger_df = merge_data(gdf8, germany_quinoa, 'Population_Germany')\n",
    "\n",
    "adf1 = merge_data(australia_milk, australia_butter, 'Population_Australia')\n",
    "adf2 = merge_data(adf1, australia_cheese, 'Population_Australia')\n",
    "adf3 = merge_data(adf2, australia_skimmed, 'Population_Australia')\n",
    "adf4 = merge_data(adf3, australia_oat, 'Population_Australia')\n",
    "adf5 = merge_data(adf4, australia_soy, 'Population_Australia')\n",
    "adf6 = merge_data(adf5, australia_almond, 'Population_Australia')\n",
    "adf7 = merge_data(adf6, australia_cashew, 'Population_Australia')\n",
    "adf8 = merge_data(adf7, australia_hazelnut, 'Population_Australia')\n",
    "aus_df = merge_data(adf8, australia_quinoa, 'Population_Australia')\n",
    "\n",
    "\n",
    "# first will replace 0 values with NaNs  \n",
    "ire_df.replace(to_replace = np.nan, value = 0, inplace=True)\n",
    "ger_df.replace(to_replace = np.nan, value = 0, inplace=True)\n",
    "aus_df.replace(to_replace = np.nan, value = 0, inplace=True)\n",
    "\n",
    "\n",
    "#reorder columns \n",
    "ire_df_columns = ['year', 'Population_Ireland', 'milk_production', 'milk_imports', \n",
    "              'milk_exports','milk_consumption', 'butter_consumption',\n",
    "              'cheese_consumption', 'skimmed_consumption', 'oat_consumption',\n",
    "              'soy_consumption', 'almond_consumption', 'cashew_consumption',\n",
    "              'hazelnut_consumption', 'quinoa_consumption']\n",
    "\n",
    "ger_df_columns = ['year', 'Population_Germany', 'milk_production', 'milk_imports', \n",
    "              'milk_exports','milk_consumption', 'butter_consumption',\n",
    "              'cheese_consumption', 'skimmed_consumption', 'oat_consumption',\n",
    "              'soy_consumption', 'almond_consumption', 'cashew_consumption',\n",
    "              'hazelnut_consumption', 'quinoa_consumption']\n",
    "\n",
    "aus_df_columns = ['year', 'Population_Australia', 'milk_production', 'milk_imports', \n",
    "              'milk_exports','milk_consumption', 'butter_consumption',\n",
    "              'cheese_consumption', 'skimmed_consumption', 'oat_consumption',\n",
    "              'soy_consumption', 'almond_consumption', 'cashew_consumption',\n",
    "              'hazelnut_consumption', 'quinoa_consumption']\n",
    "\n",
    "ire_df = ire_df.reindex(columns=ire_df_columns)\n",
    "ger_df = ger_df.reindex(columns=ger_df_columns)\n",
    "aus_df = aus_df.reindex(columns=aus_df_columns)\n"
   ]
  },
  {
   "cell_type": "code",
   "execution_count": null,
   "id": "944b8d14",
   "metadata": {},
   "outputs": [],
   "source": [
    "#ire_df.head(60)"
   ]
  },
  {
   "cell_type": "code",
   "execution_count": null,
   "id": "0f350ee7",
   "metadata": {
    "scrolled": true
   },
   "outputs": [],
   "source": [
    "# Plot any correlations in the weather dataset\n",
    "sns.pairplot(data=ire_df);"
   ]
  },
  {
   "cell_type": "markdown",
   "id": "2cb45aa1",
   "metadata": {},
   "source": [
    "### Correlations\n",
    "\n",
    "https://datagy.io/python-correlation-matrix/\n",
    "\n",
    "The data can visualized using a correlation matrix to determind if features are suitbale for machine learning. We can modify a few additional parameters here:\n",
    "\n",
    "    vmin=, vmax= are used to anchor the colormap. Coefficients or correlation should be anchored at +1 and -1, this can be added into parameters.\n",
    "    center= determines the centre value for the colormap when data is plotted. This notes the value that the colurs begin to change. This should be mid way between vmn and vmax for visual purposes. \n",
    "    cmap= allows the colors to be stronger at either end of the min/max, vlag can be used to show colours go from blue to red.\n",
    "\n",
    "As people's mind’s can only interpret so much, it may be helpful to only show the bottom half of our visualization. Similarly, it can make sense to remove the diagonal line of 1s, since this has no real value"
   ]
  },
  {
   "cell_type": "code",
   "execution_count": null,
   "id": "df5aaffc",
   "metadata": {},
   "outputs": [],
   "source": [
    "# correlation matrix\n",
    "matrix = ire_df.corr().round(2)\n",
    "plt.figure(figsize = (15,10))\n",
    "sns.heatmap(matrix, annot=True, vmax=1, vmin=-1, center=0, cmap='vlag')\n",
    "plt.title('\\n Ireland dataset Correlations\\n', fontsize=20)\n",
    "plt.show();"
   ]
  },
  {
   "cell_type": "code",
   "execution_count": null,
   "id": "e339f81f",
   "metadata": {},
   "outputs": [],
   "source": [
    "# lower half of martix only\n",
    "def corrmatrix(dataset, country):\n",
    "    matrix = dataset.corr().round(2)\n",
    "    mask = np.triu(np.ones_like(matrix, dtype=bool))\n",
    "    plt.figure(figsize = (15,10))\n",
    "    sns.heatmap(matrix, annot=True, vmax=1, vmin=-1, center=0, cmap='vlag', mask=mask)\n",
    "    plt.title('\\n ' + country + ' dataset Correlations\\n', fontsize=20)\n",
    "plt.show();"
   ]
  },
  {
   "cell_type": "code",
   "execution_count": null,
   "id": "f6a6c2ba",
   "metadata": {},
   "outputs": [],
   "source": [
    "corrmatrix(ire_df, 'Ireland')\n",
    "corrmatrix(ger_df, 'Germany')\n",
    "corrmatrix(aus_df, 'Australia')"
   ]
  },
  {
   "cell_type": "code",
   "execution_count": null,
   "id": "64ec991e",
   "metadata": {},
   "outputs": [],
   "source": [
    "# lower half of martix\n",
    "matrix = ire_df.corr().round(2)\n",
    "mask = np.triu(np.ones_like(matrix, dtype=bool))\n",
    "plt.figure(figsize = (15,10))\n",
    "sns.heatmap(matrix, annot=True, vmax=1, vmin=-1, center=0, cmap='vlag', mask=mask)\n",
    "plt.title('\\n ' + country + ' dataset Correlations\\n', fontsize=20)\n",
    "plt.show();"
   ]
  },
  {
   "cell_type": "code",
   "execution_count": null,
   "id": "b8170584",
   "metadata": {},
   "outputs": [],
   "source": []
  },
  {
   "cell_type": "code",
   "execution_count": null,
   "id": "251637f9",
   "metadata": {},
   "outputs": [],
   "source": []
  },
  {
   "cell_type": "markdown",
   "id": "ac88f3a5",
   "metadata": {},
   "source": [
    "### Model Selection \n",
    "\n",
    "The analysis looks to predict the future milk consumption based on the production/ import/ export data of milk and consumption of other dairy/ dairy alternative produce. As this analysis requires a prediction, regesssion models would be best suited. Historic data is also present with input/ output varables meaning a supervised learning approach will be taken using a training and testing split. The data also contains very few outliers as original datasets had removed these preciously. \n",
    "\n",
    "Possible regression models include:\n",
    "\n",
    "    Linear Regression\n",
    "    Lasso Regression\n",
    "    Ridge Regression\n",
    "    Decision Tree Regression\n",
    "    Random forrest Regression \n",
    "    Support Vector Regression\n",
    "    Gradiant Boosting Tree\n",
    "\n",
    "For this analysis milk consumption will be the dependant variable. Using the pair plot, it can be determined if the dependant and independant features have a linear relationship. \n",
    "\n",
    "Linear regression is very sensitive to outliers which is not an issue in this case as the data contains very few is any outliers. However, very few features had a stong linear relationship so Linear models will not be used.\n",
    "\n",
    "Support Vector Regrression is used mostly to predict continuous variables and unlike other models, works well with  high dimensionality datasets but doesn not work well with large datasets.\n",
    "\n",
    "Decision Tree Regression is easy to interpret and scaling is not required. It also works with linear and non-linear \n",
    "data. However, it can be prove to overfitting. \n",
    "\n",
    "Random Forrest Regression uses multiple decision tree algorithms to improve accuracy. It does not require feature scaling required, it is very stable and handles outliers on its own. It does require slightly longer training period in comparison \n",
    "to other models. \n",
    "\n",
    "Based on the above: Support Vector Regrression, Decision Tree Regression and Random Forrest Regression models will be used. \n"
   ]
  },
  {
   "cell_type": "code",
   "execution_count": null,
   "id": "8f4924c8",
   "metadata": {},
   "outputs": [],
   "source": []
  },
  {
   "cell_type": "markdown",
   "id": "19e4ce33",
   "metadata": {},
   "source": [
    "### Standardisation/ Normalisation\n",
    "\n",
    "https://towardsai.net/p/data-science/how-when-and-why-should-you-normalize-standardize-rescale-your-data-3f083def38ff\n",
    "\n",
    "    Standardisation \n",
    "Standardisation is required when features have differening units of measure. This is important as variables measured in different scales can be seeing as weightings by the ML model and can therefore infer bais in the modelling results. Standardisation transforms the features to comparable scale between center and 0 with a standard deviation of 1. \n",
    "\n",
    "Standardisation assumes that the data has a normal distribution and can be suitable when the chosen model make assumptions about the data having a normal distribution, such as linear regression, logistic regression, and linear discriminant analysis.\n",
    "\n",
    "\n",
    "    Normalisation\n",
    "Normalisation changes the values of numeric columns in the dataset to a common scale, without distorting differences in the ranges of values. It is required when features have different ranges.\n",
    "\n",
    "Normalisation is a good technique to use when the data is non normal or the distrubution is not known. Therefore, it is suitable when the model being used does not make assumptions about the data distribution, such as k-nearest neighbors and artificial neural networks.\n",
    "\n",
    "\n",
    "    Selection\n",
    "The Ireland, Germany, Australia datsets prepared for machine learning have no catagorical variables and all units are measured in tonnes, but the features ranges do differ. Therefore in this circumstance, normalisation would be most appropriate. However, not all machine learning moels require feature scaling and it can form a good comparative as to whether the model performs better with or wwithout feature scaling. Decision Tree Regression and Random forrest Regression do not require scailing. The model performance will be evaluated for SVM beofore a scaler is added. "
   ]
  },
  {
   "cell_type": "code",
   "execution_count": null,
   "id": "79e7dd78",
   "metadata": {},
   "outputs": [],
   "source": [
    "xxxx"
   ]
  },
  {
   "cell_type": "markdown",
   "id": "d73fe1e5",
   "metadata": {},
   "source": [
    "### Build Ireland models"
   ]
  },
  {
   "cell_type": "code",
   "execution_count": null,
   "id": "fbbc7aa2",
   "metadata": {},
   "outputs": [],
   "source": [
    "y = ire_df['milk_consumption']\n",
    "X = ire_df.drop(['milk_consumption'] ,axis=1)\n",
    "#X = ire_df.drop(['milk_consumption','milk_imports', 'milk_exports'] ,axis=1)"
   ]
  },
  {
   "cell_type": "code",
   "execution_count": null,
   "id": "3cf56b35",
   "metadata": {},
   "outputs": [],
   "source": [
    "X_train, X_test, y_train, y_test = train_test_split(X, y, test_size=0.3, random_state= 42)\n",
    "\n",
    "print(X_train.shape)\n",
    "print(X_test.shape)\n",
    "print(y_train.shape)\n",
    "print(y_test.shape)"
   ]
  },
  {
   "cell_type": "code",
   "execution_count": null,
   "id": "89c21381",
   "metadata": {},
   "outputs": [],
   "source": []
  },
  {
   "cell_type": "markdown",
   "id": "96cb230f",
   "metadata": {},
   "source": [
    "#### SVM"
   ]
  },
  {
   "cell_type": "code",
   "execution_count": null,
   "id": "0268055a",
   "metadata": {},
   "outputs": [],
   "source": [
    "# using GridSearch for parameter optimization\n",
    "SVregressor = GridSearchCV(SVR(),\n",
    "                    param_grid={\n",
    "                        'kernel': ['linear', 'poly', 'rbf'],\n",
    "                        'degree' : [1,3,5,7],\n",
    "                         'gamma' :['scale', 'auto']\n",
    "                        }, verbose=1)\n",
    "\n",
    "SVregressor.fit(X_train, y_train)\n",
    "\n",
    "SVreg = SVregressor.best_estimator_"
   ]
  },
  {
   "cell_type": "code",
   "execution_count": null,
   "id": "366c3326",
   "metadata": {},
   "outputs": [],
   "source": [
    "# best fit\n",
    "SVregressor = SVR(n_estimators = 100, random_state = 42)\n",
    "SVregressor.fit(X_train, y_train)\n",
    "\n",
    "y_pred_SV = SVregressor.predict(X_test)\n",
    "\n",
    "print(\"Training set score: {:.2f}\".format(SVregressor.score(X_train, y_train)))\n",
    "print(\"Test set score: {:.2f}\".format(SVregressor.score(X_test, y_test)))\n",
    "print(\"Root mean squared error of the prediction is: {}\".format(mse(y_test, y_pred_SV)**(1/2)))\n",
    "print(\"Mean absolute percentage error of the prediction is: {}\".format(np.mean(np.abs((y_test - y_pred_SV) / y_test)) * 100))"
   ]
  },
  {
   "cell_type": "code",
   "execution_count": null,
   "id": "387ebb0d",
   "metadata": {},
   "outputs": [],
   "source": []
  },
  {
   "cell_type": "code",
   "execution_count": null,
   "id": "9e798899",
   "metadata": {},
   "outputs": [],
   "source": []
  },
  {
   "cell_type": "markdown",
   "id": "1c2c95e6",
   "metadata": {},
   "source": [
    "#### Decision Tree "
   ]
  },
  {
   "cell_type": "code",
   "execution_count": null,
   "id": "9ebae540",
   "metadata": {},
   "outputs": [],
   "source": [
    "# using GridSearch for parameter optimization\n",
    "DTregressor = GridSearchCV(DecisionTreeRegressor(),\n",
    "                    param_grid={\n",
    "                        'criterion': ['squared_error', 'friedman_mse', 'absolute_error', 'poisson'],\n",
    "                         'splitter' : ['best', 'random'],\n",
    "                        'max_depth' : [5, 10, 15, 20]\n",
    "                    }, verbose=1)\n",
    "\n",
    "DTregressor.fit(X_train, y_train)\n",
    "\n",
    "DTreg = DTregressor.best_estimator_"
   ]
  },
  {
   "cell_type": "code",
   "execution_count": null,
   "id": "0bf159b1",
   "metadata": {},
   "outputs": [],
   "source": [
    "# apply best fit \n",
    "DTregressor = DecisionTreeRegressor()\n",
    "DTregressor.fit(X_train, y_train)\n",
    "\n",
    "y_pred_DT = DTregressor.predict(X_test)\n",
    "\n",
    "# print results\n",
    "print(\"Training set score: {:.2f}\".format(DTregressor.score(X_train, y_train)))\n",
    "print(\"Test set score: {:.2f}\".format(DTregressor.score(X_test, y_test)))\n",
    "print(\"Root mean squared error of the prediction is: {}\".format(mse(y_test, y_pred_DT)**(1/2)))\n",
    "print(\"Mean absolute percentage error of the prediction is: {}\".format(np.mean(np.abs((y_test - y_pred_DT) / y_test)) * 100))\n"
   ]
  },
  {
   "cell_type": "markdown",
   "id": "6753bbf3",
   "metadata": {},
   "source": [
    "#### Random Forrest"
   ]
  },
  {
   "cell_type": "code",
   "execution_count": null,
   "id": "4246523c",
   "metadata": {},
   "outputs": [],
   "source": [
    "# using GridSearch for parameter optimization\n",
    "RFregressor = GridSearchCV(RandomForestRegressor(),\n",
    "                    param_grid={\n",
    "                        'criterion': ['squared_error', 'absolute_error', 'poisson'],\n",
    "                        'max_features': ['auto', 'sqrt', 'log2'],\n",
    "                        'max_depth' : [5, 10, 15, 20]\n",
    "                    }, verbose=1)\n",
    "\n",
    "RFregressor.fit(X_train, y_train)\n",
    "\n",
    "RFreg = RFregressor.best_estimator_"
   ]
  },
  {
   "cell_type": "code",
   "execution_count": null,
   "id": "cd349264",
   "metadata": {},
   "outputs": [],
   "source": [
    "# best fit\n",
    "RFregressor = RandomForestRegressor(n_estimators = 100, random_state = 42)\n",
    "RFregressor.fit(X_train, y_train)\n",
    "\n",
    "y_pred_RF = RFregressor.predict(X_test)\n",
    "\n",
    "print(\"Training set score: {:.2f}\".format(RFregressor.score(X_train, y_train)))\n",
    "print(\"Test set score: {:.2f}\".format(RFregressor.score(X_test, y_test)))\n",
    "print(\"Root mean squared error of the prediction is: {}\".format(mse(y_test, y_pred_RF)**(1/2)))\n",
    "print(\"Mean absolute percentage error of the prediction is: {}\".format(np.mean(np.abs((y_test - y_pred_RF) / y_test)) * 100))"
   ]
  },
  {
   "cell_type": "code",
   "execution_count": null,
   "id": "36c488e4",
   "metadata": {},
   "outputs": [],
   "source": []
  },
  {
   "cell_type": "markdown",
   "id": "c8933c66",
   "metadata": {},
   "source": [
    "#### Ridge Regression"
   ]
  },
  {
   "cell_type": "code",
   "execution_count": null,
   "id": "465e55fd",
   "metadata": {},
   "outputs": [],
   "source": [
    "# Using GridSearch for parameter optimization\n",
    "ridgeregr = GridSearchCV(Ridge(),\n",
    "                    param_grid={\n",
    "                        'alpha': [0.001,0.01, 0.1, 1,10],\n",
    "                        'solver':['auto', 'svd', 'cholesky', 'lsqr', 'sparse_cg', 'sag', 'saga', 'lbfgs']\n",
    "                    }, verbose=1)\n",
    "\n",
    "ridgeregr.fit(X_train, y_train)\n",
    "\n",
    "ridge = ridgeregr.best_estimator_"
   ]
  },
  {
   "cell_type": "code",
   "execution_count": null,
   "id": "e079497d",
   "metadata": {},
   "outputs": [],
   "source": [
    "# Making predictions here\n",
    "y_preds_ridge = ridge.predict(X_test)\n",
    "\n",
    "print(\"Training set score: {:.2f}\".format(ridge.score(X_train, y_train)))\n",
    "print(\"Test set score: {:.2f}\".format(ridge.score(X_test, y_test)))\n",
    "print(\"Root mean squared error of the prediction is: {}\".format(mse(y_test, y_preds_ridge)**(1/2)))\n",
    "print(\"Mean absolute percentage error of the prediction is: {}\".format(np.mean(np.abs((y_test - y_preds_ridge) / y_test)) * 100))"
   ]
  },
  {
   "cell_type": "code",
   "execution_count": null,
   "id": "4900fe66",
   "metadata": {},
   "outputs": [],
   "source": []
  },
  {
   "cell_type": "code",
   "execution_count": null,
   "id": "c4cdac5e",
   "metadata": {},
   "outputs": [],
   "source": []
  },
  {
   "cell_type": "code",
   "execution_count": null,
   "id": "cf75e7e9",
   "metadata": {},
   "outputs": [],
   "source": []
  },
  {
   "cell_type": "code",
   "execution_count": null,
   "id": "7f7d92da",
   "metadata": {},
   "outputs": [],
   "source": []
  },
  {
   "cell_type": "markdown",
   "id": "034698b7",
   "metadata": {},
   "source": [
    "# Old Code"
   ]
  },
  {
   "cell_type": "code",
   "execution_count": null,
   "id": "40b384c7",
   "metadata": {},
   "outputs": [],
   "source": [
    "xxxx"
   ]
  },
  {
   "cell_type": "code",
   "execution_count": null,
   "id": "183c45cd",
   "metadata": {},
   "outputs": [],
   "source": [
    "#ireland dairy / milk alternative analysis\n",
    "ireland_df2 = ireland_df.loc[ireland_df['Crop_Livestock'].str.contains('butter|cheese|milk|soy|almond|oat|hazelnut|cashew|treenut|quinoa', case=False)]\n",
    "ireland_df2 = ireland_df2.loc[ireland_df2['Crop_Livestock'].str.contains('dried|condensed|evaporated|ghee|kind|total|sheep|dry|cake|cocoa|oil|goat|nes|sauce|peanut|processed|curdled', case=False) == False]\n",
    "ireland_df2.rename(columns={'Crop_Livestock': 'Crop'}, inplace=True)\n",
    "ireland_df2.reset_index(drop=True, inplace=True)\n",
    "\n",
    "#germany dairy / milk alternative analysis\n",
    "germany_df2 = germany_df.loc[germany_df['Crop_Livestock'].str.contains('butter|cheese|milk|soy|almond|oat|hazelnut|cashew|treenut|quinoa', case=False)]\n",
    "germany_df2 = germany_df2.loc[germany_df2['Crop_Livestock'].str.contains('dried|condensed|evaporated|ghee|kind|total|sheep|dry|cake|cocoa|oil|goat|nes|sauce|peanut|processed|curdled', case=False) == False]\n",
    "germany_df2.rename(columns={'Crop_Livestock': 'Crop'}, inplace=True)\n",
    "germany_df2.reset_index(drop=True, inplace=True)\n",
    "\n",
    "#aus dairy / milk alternative analysis\n",
    "oz_df2 = oz_df.loc[oz_df['Crop_Livestock'].str.contains('butter|cheese|milk|soy|almond|oat|hazelnut|cashew|treenut|quinoa', case=False)]\n",
    "oz_df2 = oz_df2.loc[oz_df2['Crop_Livestock'].str.contains('dried|condensed|evaporated|ghee|kind|total|sheep|dry|cake|cocoa|oil|goat|nes|sauce|peanut|processed|curdled', case=False) == False]\n",
    "oz_df2.rename(columns={'Crop_Livestock': 'Crop'}, inplace=True)\n",
    "oz_df2.reset_index(drop=True, inplace=True)\n"
   ]
  },
  {
   "cell_type": "code",
   "execution_count": null,
   "id": "9af27fa8",
   "metadata": {},
   "outputs": [],
   "source": [
    "ireland_df_dairy = ireland_df2.loc[ireland_df2['Crop'].str.contains('milk', case=False)]\n",
    "ireland_df_alt = ireland_df2.loc[ireland_df2['Crop'].str.contains('soy|almond|oat|hazelnut|cashew|treenut|quinoa', case=False)]\n",
    "ireland_df_dairy.reset_index(drop=True, inplace=True)\n",
    "ireland_df_alt.reset_index(drop=True, inplace=True)\n",
    "\n",
    "germany_df_dairy = germany_df2.loc[germany_df2['Crop'].str.contains('milk', case=False)]\n",
    "germany_df_alt = germany_df2.loc[germany_df2['Crop'].str.contains('soy|almond|oat|hazelnut|cashew|treenut|quinoa', case=False)]\n",
    "germany_df_dairy.reset_index(drop=True, inplace=True)\n",
    "germany_df_alt.reset_index(drop=True, inplace=True)\n",
    "\n",
    "oz_df_dairy = oz_df2.loc[oz_df2['Crop'].str.contains('milk', case=False)]\n",
    "oz_df_alt = oz_df2.loc[oz_df2['Crop'].str.contains('soy|almond|oat|hazelnut|cashew|treenut|quinoa', case=False)]\n",
    "oz_df_dairy.reset_index(drop=True, inplace=True)\n",
    "oz_df_alt.reset_index(drop=True, inplace=True)"
   ]
  },
  {
   "cell_type": "code",
   "execution_count": null,
   "id": "5a5e9370",
   "metadata": {},
   "outputs": [],
   "source": [
    "plt.figure(figsize = (15,8))\n",
    "sns.barplot(data=ireland_meat, x=\"Meat Type\", y=\"Production Value\")  \n",
    "plt.xlabel('\\nProduct', fontsize=15) \n",
    "plt.ylabel('Tonnes Produced\\n', fontsize=15)\n",
    "plt.title ('\\nTop Ireland Production 1961-2019\\n', fontsize=20)\n",
    "plt.xticks(rotation = 85, fontsize=12);\n",
    "\n",
    "plt.figure(figsize = (15,8))\n",
    "sns.barplot(data=ireland_meat, x=\"Meat Type\", y=\"Import Quantity\")  \n",
    "plt.xlabel('\\nProduct', fontsize=15) \n",
    "plt.ylabel('Tonnes Produced\\n', fontsize=15)\n",
    "plt.title ('\\nTop Ireland Meat Imports 1961-2019\\n', fontsize=20)\n",
    "plt.xticks(rotation = 85, fontsize=12);\n",
    "\n",
    "plt.figure(figsize = (15,8))\n",
    "sns.barplot(data=ireland_meat, x=\"Meat Type\", y=\"Export Quantity\")  \n",
    "plt.xlabel('\\nProduct', fontsize=15) \n",
    "plt.ylabel('Tonnes Produced\\n', fontsize=15)\n",
    "plt.title ('\\nTop Ireland Meat Exports 1961-2019\\n', fontsize=20)\n",
    "plt.xticks(rotation = 85, fontsize=12);\n",
    "\n",
    "plt.figure(figsize = (15,8))\n",
    "sns.barplot(data=ireland_meat, x=\"Meat Type\", y=\"Consumption\")  \n",
    "plt.xlabel('\\nProduct', fontsize=15) \n",
    "plt.ylabel('Tonnes Produced\\n', fontsize=15)\n",
    "plt.title ('\\nTop Ireland Meat Consumption 1961-2019\\n', fontsize=20)\n",
    "plt.xticks(rotation = 85, fontsize=12);"
   ]
  },
  {
   "cell_type": "code",
   "execution_count": null,
   "id": "8ad4029b",
   "metadata": {},
   "outputs": [],
   "source": [
    "features = ['Production Value', 'Import Quantity', 'Export Quantity', 'Consumption']\n",
    "\n",
    "plt.figure(figsize = (15,30))\n",
    "for i in enumerate(features):\n",
    "    plt.subplot(4,1,i[0]+1)\n",
    "    sns.barplot(data = ireland_meat, x = \"Meat Type\", y = i[1])\n",
    "    plt.xticks(rotation = 40, fontsize=12)\n",
    "    plt.xlabel('Product', fontsize=15) \n",
    "    plt.ylabel('Amount in Tonnes\\n', fontsize=15)\n",
    "    # https://stackoverflow.com/questions/35638525/how-to-add-title-to-subplots-with-loop\n",
    "    # set the spacing between subplots \n",
    "    plt.subplots_adjust(left=None, bottom=None, right=None, top=0.9, wspace=None, hspace=0.8)\n",
    "    # add title to include i value\n",
    "    plt.title('\\n Ireland ' + i[1] + ' for 1961-2019\\n', fontsize=20)\n",
    "plt.show();"
   ]
  },
  {
   "cell_type": "code",
   "execution_count": null,
   "id": "0ea4fa68",
   "metadata": {},
   "outputs": [],
   "source": [
    "plt.figure(figsize = (12,8))\n",
    "sns.lineplot(data=ireland_meat, x=\"Year\", y=\"Production Value\", hue=\"Meat_Type\")  \n",
    "plt.xlabel('\\nYear', fontsize=15) \n",
    "plt.ylabel('Tonnes Produced\\n', fontsize=15)\n",
    "plt.title ('\\nIreland Meat Production 1961-2019\\n', fontsize=20)\n",
    "plt.legend(prop = {'size': 10}, loc='best', bbox_to_anchor=(1.3, 1))\n",
    "plt.xticks(rotation = 80);\n",
    "\n",
    "plt.figure(figsize = (12,8))\n",
    "sns.lineplot(data=ireland_meat, x=\"Year\", y=\"Consumption\", hue=\"Meat_Type\")  \n",
    "plt.xlabel('\\nYear', fontsize=15) \n",
    "plt.ylabel('Tonnes Produced\\n', fontsize=15)\n",
    "plt.title ('\\nIreland Meat Consumption 1961-2019\\n', fontsize=20)\n",
    "plt.legend(prop = {'size': 10}, loc='best', bbox_to_anchor=(1.3, 1))\n",
    "plt.xticks(rotation = 80);"
   ]
  },
  {
   "cell_type": "code",
   "execution_count": null,
   "id": "cd8980af",
   "metadata": {},
   "outputs": [],
   "source": [
    "line_values = ['Production Value', 'Consumption']\n",
    "\n",
    "def plotlinegraphs(dataset, value, country, popvalue):\n",
    "    plt.figure(figsize = (15,20))\n",
    "    for i in enumerate(line_values):\n",
    "        plt.subplot(2,1,i[0]+1)\n",
    "        sns.lineplot(data= dataset, x=\"Year\", y= i[1], hue= value )\n",
    "        plt.xticks(rotation = 80, fontsize=12)\n",
    "        plt.xlabel('\\nYear', fontsize=15) \n",
    "        plt.ylabel('Amount in Tonnes\\n', fontsize=15)\n",
    "        plt.legend(prop = {'size': 10}, loc='best', bbox_to_anchor=(1.3, 1))\n",
    "    # https://stackoverflow.com/questions/35638525/how-to-add-title-to-subplots-with-loop\n",
    "    # set the spacing between subplots \n",
    "        plt.subplots_adjust(left=None, bottom=None, right=None, top=0.8, wspace=None, hspace=0.9)\n",
    "    # add title to include i value\n",
    "        plt.title('\\n ' + country + i[1] + ' per ' + value + ' Vs Population for 1961-2019\\n', fontsize=20)\n",
    "        ax2 = plt.twinx()\n",
    "        plt.ylabel('\\nPopulation', fontsize=15)\n",
    "        sns.lineplot(data=dataset, x=\"Year\", y= popvalue, color =\"r\", \n",
    "                     label= 'Population', linestyle='dashdot', linewidth=3, ax=ax2)        \n",
    "plt.show(); "
   ]
  },
  {
   "cell_type": "code",
   "execution_count": null,
   "id": "f1722c1b",
   "metadata": {},
   "outputs": [],
   "source": [
    "plt.figure(figsize = (15,8))\n",
    "sns.lineplot(data= ireland_dairy, x=\"Year\", y= 'Consumption', hue= 'Dairy_Product') \n",
    "plt.xticks(rotation = 80, fontsize=12)\n",
    "plt.xlabel('\\nYear', fontsize=15) \n",
    "plt.ylabel('Amount in Tonnes\\n', fontsize=15)\n",
    "plt.legend(prop = {'size': 10}, loc='best', bbox_to_anchor=(1.3, 1))   \n",
    "plt.subplots_adjust(left=None, bottom=None, right=None, top=0.8, wspace=None, hspace=0.9)   \n",
    "plt.title('\\n Title\\n', fontsize=20)\n",
    "\n",
    "ax2 = plt.twinx()\n",
    "plt.ylabel('\\nPopulation', fontsize=15)\n",
    "sns.lineplot(data=ireland_dairy, x=\"Year\", y= 'Population_Ireland', color =\"r\", \n",
    "                     label= 'Population', linestyle='dashdot', linewidth=2, ax=ax2)     \n",
    "plt.show(); "
   ]
  },
  {
   "cell_type": "code",
   "execution_count": null,
   "id": "72d54552",
   "metadata": {},
   "outputs": [],
   "source": [
    "dataframe['LogValue'] = np.log10(dataframe['Value'])\n"
   ]
  },
  {
   "cell_type": "code",
   "execution_count": null,
   "id": "f7c9ca49",
   "metadata": {},
   "outputs": [],
   "source": [
    "#man whitney \n",
    "\n",
    "def manw(df):\n",
    "    '''This function takes a dataframe as input, loops through all the countries\n",
    "    in the dfcolumns and does a mann whitney versus Irelands data'''\n",
    "    for country in df.iloc[:,:]:\n",
    "        if country != \"Ireland\":\n",
    "            result = mannwhitneyu(df.Ireland, df[country])\n",
    "            if result.pvalue <= 0.05:\n",
    "                print(f\"The p-value for Ireland vs {country} is {result.pvalue}, the null hypothesis is rejected\")\n",
    "                print(f\"round{result}\\n\")\n",
    "            else:\n",
    "                print(f\"The p-value for Ireland vs {country} is {result.pvalue}, the null hypothesis is accepted\")\n",
    "                print(f\"{result}\\n\")\n"
   ]
  },
  {
   "cell_type": "code",
   "execution_count": null,
   "id": "5b1ccd58",
   "metadata": {},
   "outputs": [],
   "source": [
    "oz_crop = oz_df.loc[oz_df['Crop_Livestock'].str.contains('meat', case=False) == False]\n",
    "oz_crop = oz_crop.loc[oz_crop['Crop_Livestock'].str.contains('milk', case=False) == False]\n",
    "oz_crop = oz_crop.loc[oz_crop['Crop_Livestock'].str.contains('offals', case=False) == False]\n",
    "oz_crop = oz_crop.loc[oz_crop['Crop_Livestock'].str.contains('fat', case=False) == False]\n",
    "oz_crop = oz_crop.loc[oz_crop['Crop_Livestock'].str.contains('hides', case=False) == False]\n",
    "oz_crop = oz_crop.loc[oz_crop['Crop_Livestock'].str.contains('wool', case=False) == False]\n",
    "oz_crop = oz_crop.loc[oz_crop['Crop_Livestock'].str.contains('sheep', case=False) == False]\n",
    "oz_crop = oz_crop.loc[oz_crop['Crop_Livestock'].str.contains('cream', case=False) == False]\n",
    "oz_crop = oz_crop.loc[oz_crop['Crop_Livestock'].str.contains('egg', case=False) == False]\n",
    "oz_crop = oz_crop.loc[oz_crop['Crop_Livestock'].str.contains('lard', case=False) == False]\n",
    "oz_crop = oz_crop.loc[oz_crop['Crop_Livestock'].str.contains('butter', case=False) == False]\n",
    "oz_crop = oz_crop.loc[oz_crop['Crop_Livestock'].str.contains('cheese', case=False) == False]\n",
    "oz_crop = oz_crop.loc[oz_crop['Crop_Livestock'].str.contains('oil', case=False) == False]\n",
    "oz_crop = oz_crop.loc[oz_crop['Crop_Livestock'].str.contains('skin', case=False) == False]"
   ]
  },
  {
   "cell_type": "code",
   "execution_count": null,
   "id": "b3277d58",
   "metadata": {},
   "outputs": [],
   "source": [
    "# function 1 - Line graphs for production / consumption Vs Population throughout years\n",
    "\n",
    "# set the spacing between subplots /  # add title to include i value\n",
    "# https://stackoverflow.com/questions/35638525/how-to-add-title-to-subplots-with-loop\n",
    "\n",
    "## add annotation for lines in line graph\n",
    "# https://stackoverflow.com/questions/49237522/how-to-annotate-end-of-lines-using-python-and-matplotlib\n",
    "#https://matplotlib.org/3.5.0/api/_as_gen/matplotlib.axes.Axes.annotate.html\n",
    "\n",
    "\n",
    "\n",
    "line_values = ['Production Value', 'Consumption']\n",
    "\n",
    "def plotlinegraphs(dataset, value, country, popvalue):\n",
    "    plt.figure(figsize = (15,20))\n",
    "    for i in enumerate(line_values):\n",
    "        plt.subplot(2,1,i[0]+1)\n",
    "        sns.lineplot(data= dataset, x=\"Year\", y= i[1], hue= value, ci=None )\n",
    "        plt.xticks(rotation = 80, fontsize=12)\n",
    "        plt.xlabel('\\nYear', fontsize=15) \n",
    "        plt.ylabel('Amount in Tonnes\\n', fontsize=15)\n",
    "        plt.legend(prop = {'size': 10}, loc='best', bbox_to_anchor=(1.3, 1))\n",
    "        plt.subplots_adjust(left=None, bottom=None, right=None, top=None, wspace=None, hspace=0.4)\n",
    "        plt.title('\\n ' + country + i[1] + ' per ' + value + ' Vs Population for 1961-2019\\n', fontsize=20)\n",
    "        ax2 = plt.twinx()\n",
    "        plt.ylabel('\\nPopulation', fontsize=15)\n",
    "        sns.lineplot(data=dataset, x=\"Year\", y= popvalue, color =\"r\", \n",
    "                     label= 'Population', linestyle='dashdot', linewidth=3, ax=ax2)        \n",
    "plt.show(); "
   ]
  },
  {
   "cell_type": "code",
   "execution_count": null,
   "id": "4d83a941",
   "metadata": {},
   "outputs": [],
   "source": [
    "# # function 2 - Line graphs for production / consumption thrughout yearswhere max/ min values are required \n",
    "\n",
    "line_values = ['Production Value', 'Consumption']\n",
    "\n",
    "def plotlinegraphsii(dataset, value, minx, maxx, country, popvalue, title):\n",
    "    plt.figure(figsize = (15,20))\n",
    "    for i in enumerate(line_values):\n",
    "        plt.subplot(2,1,i[0]+1)\n",
    "        sns.lineplot(data= dataset, x=\"Year\", y= i[1], hue= value, ci=None )\n",
    "        plt.ylim([minx, maxx])\n",
    "        plt.xticks(rotation = 80, fontsize=12)\n",
    "        plt.xlabel('\\nYear', fontsize=15) \n",
    "        plt.ylabel('Amount in Tonnes\\n', fontsize=15)\n",
    "        plt.legend(prop = {'size': 10}, loc='best', bbox_to_anchor=(1.3, 1))\n",
    "    # https://stackoverflow.com/questions/35638525/how-to-add-title-to-subplots-with-loop\n",
    "    # set the spacing between subplots \n",
    "        plt.subplots_adjust(left=None, bottom=None, right=None, top=None, wspace=None, hspace=0.4)\n",
    "    # add title to include i value\n",
    "        plt.title('\\n ' + country + i[1] + ' per ' + title + value + ' Vs Population for 1961-2019\\n', fontsize=20)\n",
    "        ax2 = plt.twinx()\n",
    "        plt.ylabel('\\nPopulation', fontsize=15)\n",
    "        sns.lineplot(data=dataset, x=\"Year\", y= popvalue, color =\"r\", \n",
    "                     label= 'Population', linestyle='dashdot', linewidth=3, ax=ax2)        \n",
    "plt.show(); "
   ]
  },
  {
   "cell_type": "code",
   "execution_count": null,
   "id": "2ab86491",
   "metadata": {},
   "outputs": [],
   "source": [
    "#create a sample from the population using the groupby function\n",
    "irl_meat_sample = ireland_meat.groupby(['Meat_Type', 'Year'], group_keys=False).apply(lambda x: x.sample(1))\n",
    "irl_meat_sample"
   ]
  },
  {
   "cell_type": "code",
   "execution_count": null,
   "id": "8494b4c3",
   "metadata": {},
   "outputs": [],
   "source": [
    "#qq plot for normality\n",
    "fig = sm.qqplot(ireland_meat.production_value, line='45')\n",
    "plt.show();"
   ]
  },
  {
   "cell_type": "code",
   "execution_count": null,
   "id": "c4715009",
   "metadata": {},
   "outputs": [],
   "source": [
    "#create a sample from the population using the groupby function\n",
    "irl_meat_sample = ireland_meat_pc.groupby(['Meat_Type', 'year'], group_keys=False).apply(lambda x: x.sample(1))\n",
    "ger_meat_sample = germany_meat_pc.groupby(['Meat_Type', 'year'], group_keys=False).apply(lambda x: x.sample(1))\n",
    "\n",
    "irl_meat_sample.shape\n",
    "ger_meat_sample.shape"
   ]
  },
  {
   "cell_type": "code",
   "execution_count": null,
   "id": "9524244c",
   "metadata": {},
   "outputs": [],
   "source": [
    "# Ireland/ Germany on average produce the same amount of meat products per capita \n",
    "\n",
    "stat, p = mannwhitneyu(ireland_meat_pc.prod_percap, germany_meat_pc.prod_percap)\n",
    "print('stat=%.3f, p=%.3f' % (stat, p))\n",
    "if p > 0.05:\n",
    "    print('P value greater than 0.05, accept the null hypothesis')\n",
    "else:\n",
    "    print('P value less than 0.05, reject the null hypothesis')"
   ]
  },
  {
   "cell_type": "code",
   "execution_count": null,
   "id": "626cdd98",
   "metadata": {},
   "outputs": [],
   "source": []
  },
  {
   "cell_type": "code",
   "execution_count": null,
   "id": "ac83c33c",
   "metadata": {},
   "outputs": [],
   "source": []
  },
  {
   "cell_type": "code",
   "execution_count": null,
   "id": "81a22674",
   "metadata": {},
   "outputs": [],
   "source": []
  }
 ],
 "metadata": {
  "kernelspec": {
   "display_name": "Python 3 (ipykernel)",
   "language": "python",
   "name": "python3"
  },
  "language_info": {
   "codemirror_mode": {
    "name": "ipython",
    "version": 3
   },
   "file_extension": ".py",
   "mimetype": "text/x-python",
   "name": "python",
   "nbconvert_exporter": "python",
   "pygments_lexer": "ipython3",
   "version": "3.9.7"
  },
  "toc": {
   "base_numbering": 1,
   "nav_menu": {},
   "number_sections": true,
   "sideBar": true,
   "skip_h1_title": true,
   "title_cell": "Table of Contents",
   "title_sidebar": "Contents",
   "toc_cell": false,
   "toc_position": {
    "height": "calc(100% - 180px)",
    "left": "10px",
    "top": "150px",
    "width": "349.02px"
   },
   "toc_section_display": true,
   "toc_window_display": true
  }
 },
 "nbformat": 4,
 "nbformat_minor": 5
}
