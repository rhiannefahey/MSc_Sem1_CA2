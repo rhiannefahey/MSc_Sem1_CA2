{
 "cells": [
  {
   "cell_type": "markdown",
   "id": "8a6b81e2",
   "metadata": {},
   "source": [
    "# Irish Ag CA2"
   ]
  },
  {
   "cell_type": "markdown",
   "id": "c614affa",
   "metadata": {},
   "source": [
    "Countries chosen for this analysis are Ireland, Germany, Austrailia.\n",
    "\n",
    "This analysis will focus on the Irish agricultural landscape and the impact that the move towards a more plant based diet has had on it's production/ imports/ exports in comparrison to other counties wehere veganism is also on the rise. \n",
    "\n",
    "From the Europe Dataset, the analysis will focus on Ireland, which will be the baseline for all analysis and then Germany. The Irish agriculture findings will then be compared against Germany as both countries benifit from the European Common agricultural Policy. The analysis will be looking for similarities & differences in each countries agriculture indistry. Germany has been chosen as a country for analysis as it is one of the countries with the highest % of vegans in Europe.\n",
    "\n",
    "The analysis will go on to compare Irish agriculure against  Austraulia, one of the largest vegan populations in the world who do not benifit from being a member of the CAP. \n"
   ]
  },
  {
   "cell_type": "markdown",
   "id": "ea2f64ac",
   "metadata": {},
   "source": [
    "## Import Initial Libraries \n",
    "\n",
    "Import Pandas and Numpy libraries. \n",
    "\n",
    "Pandas is a Python library used for data analysis. The Pandas library enables DataFrame and Series functionality used for analyzing the data. This library works with the tabular data, i.e data that is organized in a table with rows(observations) and columns(features). \n",
    "\n",
    "NumPy is a Python library used to perform mathematical and computing operations specific to arrays. The NumPy module works with the numerical data.\n",
    "https://numpy.org/doc/stable/\n",
    "\n",
    "Seaborn and Matplotlib libraries are used for data visualisation purposes to generate plots, graphs and other visuaisations of data. \n",
    "\n",
    "Plotly Express is used for Interactive visalusations "
   ]
  },
  {
   "cell_type": "code",
   "execution_count": null,
   "id": "c6b49668",
   "metadata": {},
   "outputs": [],
   "source": [
    "#data manipulation libraries\n",
    "import pandas as pd\n",
    "import numpy as np\n",
    "\n",
    "# data visualization Libraries\n",
    "import seaborn as sns\n",
    "from matplotlib import pyplot as plt\n",
    "import plotly.express as px"
   ]
  },
  {
   "cell_type": "markdown",
   "id": "0144eeb4",
   "metadata": {},
   "source": [
    "## Python Good Practice \n",
    "The following are also good practice to run at the start of every Analysis project to ensure the best results "
   ]
  },
  {
   "cell_type": "code",
   "execution_count": null,
   "id": "3c150eb6",
   "metadata": {},
   "outputs": [],
   "source": [
    "# filter warnings\n",
    "import warnings\n",
    "warnings.filterwarnings(\"ignore\")\n",
    "\n",
    "# avoid blurry images\n",
    "%config InLineBackend.figure_format = \"retina\"\n",
    "sns.set_context=(\"talk\")\n",
    "\n",
    "# enable multiple cell outputs\n",
    "from IPython.core.interactiveshell import InteractiveShell\n",
    "InteractiveShell.ast_node_interactivity = \"all\""
   ]
  },
  {
   "cell_type": "markdown",
   "id": "a4cb1f3a",
   "metadata": {},
   "source": [
    "## Import Datasets\n",
    "\n",
    "There is both production and import/export of goods data available on https://www.fao.org/faostat/en/#data/QCL for all continents.\n",
    "\n",
    "In this section both production and import/export data for Europe, Americas & Oceanias will be imported. Later this data will be go through EDA and data cleaning before moving onto analysis and visualisation. \n",
    "\n",
    "Population will also be imported for each country as to standardise analysis to per capita findings. \n",
    "Ireland population: https://fred.stlouisfed.org/series/POPTOTIEA647NWDB"
   ]
  },
  {
   "cell_type": "code",
   "execution_count": null,
   "id": "252c0c65",
   "metadata": {
    "scrolled": true
   },
   "outputs": [],
   "source": [
    "#import dataset\n",
    "europe = pd.read_csv(\"data\\Production_Crops_Livestock_E_Europe_NOFLAG.csv\")\n",
    "\n",
    "europe.head()"
   ]
  },
  {
   "cell_type": "code",
   "execution_count": null,
   "id": "806ab218",
   "metadata": {},
   "outputs": [],
   "source": [
    "#import dataset\n",
    "europe_trade = pd.read_csv(\"data\\Trade_CropsLivestock_E_Europe_NOFLAG.csv\")\n",
    "\n",
    "europe_trade.head()"
   ]
  },
  {
   "cell_type": "code",
   "execution_count": null,
   "id": "04ba93ee",
   "metadata": {},
   "outputs": [],
   "source": [
    "#import dataset\n",
    "americas = pd.read_csv(\"data\\Production_Crops_Livestock_E_Americas_NOFLAG.csv\")\n",
    "\n",
    "americas.head()"
   ]
  },
  {
   "cell_type": "code",
   "execution_count": null,
   "id": "ebc25eb9",
   "metadata": {},
   "outputs": [],
   "source": [
    "#import dataset\n",
    "americas_trade = pd.read_csv(\"data\\Trade_CropsLivestock_E_Americas_NOFLAG.csv\")\n",
    "\n",
    "americas_trade.head()"
   ]
  },
  {
   "cell_type": "code",
   "execution_count": null,
   "id": "07f17c14",
   "metadata": {},
   "outputs": [],
   "source": [
    "#import dataset\n",
    "oceania = pd.read_csv(\"data\\Production_Crops_Livestock_E_Oceania_NOFLAG.csv\")\n",
    "\n",
    "oceania.head()"
   ]
  },
  {
   "cell_type": "code",
   "execution_count": null,
   "id": "0e41e12c",
   "metadata": {},
   "outputs": [],
   "source": [
    "#import dataset\n",
    "oceania_trade = pd.read_csv(\"data\\Trade_CropsLivestock_E_Oceania_NOFLAG.csv\")\n",
    "\n",
    "oceania_trade.head()"
   ]
  },
  {
   "cell_type": "code",
   "execution_count": null,
   "id": "c7240c29",
   "metadata": {},
   "outputs": [],
   "source": [
    "# import dataset\n",
    "ireland_pop = pd.read_csv(\"data\\irelandpop.csv\")\n",
    "\n",
    "columns = [ 'Year', 'Population_Ireland']\n",
    "ireland_pop.columns = columns\n",
    "\n",
    "# reformat year\n",
    "ireland_pop['Year'] = ireland_pop['Year'].str[:4]\n",
    "\n",
    "# drop year 1960 & 2020 \n",
    "ireland_pop.drop([0], axis=0, inplace=True)\n",
    "ireland_pop.drop([60], axis=0, inplace=True)\n",
    "\n",
    "# cast pop as int \n",
    "ireland_pop['Population_Ireland'] = ireland_pop['Population_Ireland'].astype('int')\n",
    "\n",
    "ireland_pop.tail()"
   ]
  },
  {
   "cell_type": "code",
   "execution_count": null,
   "id": "6a38a099",
   "metadata": {},
   "outputs": [],
   "source": [
    "#import dataset\n",
    "germany_pop = pd.read_csv(\"data\\germanypop.csv\")\n",
    "\n",
    "columns = [ 'Year', 'Population_Germany']\n",
    "germany_pop.columns = columns\n",
    "\n",
    "#reformat year\n",
    "germany_pop['Year'] = germany_pop['Year'].str[:4]\n",
    "\n",
    "#drop year 1960 # drop year 1960 & 2020\n",
    "germany_pop.drop([0], axis=0, inplace=True)\n",
    "germany_pop.drop([60], axis=0, inplace=True)\n",
    "\n",
    "# cast pop as int \n",
    "germany_pop['Population_Germany'] = germany_pop['Population_Germany'].astype('int')\n",
    "\n",
    "germany_pop.tail()"
   ]
  },
  {
   "cell_type": "code",
   "execution_count": null,
   "id": "060d3959",
   "metadata": {},
   "outputs": [],
   "source": [
    "#import dataset\n",
    "aus_pop = pd.read_csv(\"data\\\\australiapop.csv\")\n",
    "\n",
    "columns = [ 'Year', 'Population_Australia']\n",
    "aus_pop.columns = columns\n",
    "\n",
    "#reformat year\n",
    "aus_pop['Year'] = aus_pop['Year'].str[:4]\n",
    "\n",
    "#drop year 1960 \n",
    "aus_pop.drop([0], axis=0, inplace=True)\n",
    "aus_pop.drop([60], axis=0, inplace=True)\n",
    "\n",
    "# cast pop as int \n",
    "aus_pop['Population_Australia'] = aus_pop['Population_Australia'].astype('int')\n",
    "\n",
    "aus_pop.head()"
   ]
  },
  {
   "cell_type": "markdown",
   "id": "ce81ce8a",
   "metadata": {},
   "source": [
    "## Europe Production Dataset Initial EDA\n",
    "\n",
    "The European Prouction Dataset is taken from faostat and contains annual data on all crops and animal products producted in  Europe from 1961-2020, measured in tonnes. It also contains information on livestock numbers, yields, areas havested and slaughtering numbers.\n",
    "\n",
    "Unit Measurements:\n",
    "\n",
    "    Production = tonnes / head / 1000 head / number\n",
    "    Area harvested = ha\n",
    "    Yield =\thg/ha\n",
    "    Stocks = head / 1000 head\n",
    "    Producing Animals / Slaughtered = head / 1000 head\n",
    "    Yields/ Carcass Weight = 0.1g/An, hg/An\n",
    "    Milking Animals = head \n",
    "    Laying = head / 1000 head\n",
    "    Prod Popultn (bees/honey) = number\n",
    "\n",
    "\"Crop statistics are recorded for 173 products, covering the following categories: Crops Primary, Fibre Crops Primary, Cereals, Coarse Grain, Citrus Fruit, Fruit, Jute Jute-like Fibres, Oilcakes Equivalent, Oil crops Primary, Pulses, Roots and Tubers, Treenuts and Vegetables and Melons. Data are expressed in terms of area harvested, production quantity and yield. The objective is to comprehensively cover production of all primary crops for all countries and regions in the world. Area and production data on cereals relate to crops harvested for dry grain only. Cereal crops harvested for hay or harvested green for food, feed or silage or used for grazing are therefore excluded. Area data relate to harvested area. Some countries report sown or cultivated area only.\" https://www.fao.org/faostat/en/#data/QCL\n",
    "\n",
    "In this section and the European Trade section, Dataset will go through an initial EDA process before comparative analysis can begin. Here, datasets will be cleaned by:\n",
    "\n",
    "    Removing / renaming / re-order columns where necessary\n",
    "    Reshaping data into a more usable format\n",
    "    Identify Missing or NaN Values / address appropriately \n",
    "    Ensuring correct dtype is applied for each feature  - as the ony datetime variable being used is 'Year', this can remain as int type. It will not be nescessary to cast to datetime dytpe. \n",
    "    \n"
   ]
  },
  {
   "cell_type": "code",
   "execution_count": null,
   "id": "aef98d84",
   "metadata": {},
   "outputs": [],
   "source": [
    "#drop columns not required for analysis\n",
    "to_drop = ['Area Code','Item Code','Element Code']\n",
    "europe.drop(to_drop, inplace=True, axis=1)"
   ]
  },
  {
   "cell_type": "markdown",
   "id": "b4f6a035",
   "metadata": {},
   "source": [
    "### Melt Data\n",
    "\n",
    "The current dataset is difficult to read as it has lots of columns for the different years of data. This dataset can be reshaped using the melt() function "
   ]
  },
  {
   "cell_type": "code",
   "execution_count": null,
   "id": "84981dfd",
   "metadata": {},
   "outputs": [],
   "source": [
    "# melt new dataframe in order to visualise data by street \n",
    "europe_melt = pd.melt(europe, id_vars=[ 'Area', 'Item', 'Element', 'Unit'])\n",
    "\n",
    "# rename columns \n",
    "columns = [ 'Country', 'Crop_Livestock', 'Element', 'Unit', 'Year', 'Value']\n",
    "europe_melt.columns = columns\n",
    "\n",
    "#remove Y from year\n",
    "europe_melt['Year'] = europe_melt['Year'].str[1:]\n",
    "\n",
    "europe_melt.head()"
   ]
  },
  {
   "cell_type": "code",
   "execution_count": null,
   "id": "8dddbcf0",
   "metadata": {},
   "outputs": [],
   "source": [
    "# dataframe shape, number of rows/ columns \n",
    "europe_melt.shape"
   ]
  },
  {
   "cell_type": "code",
   "execution_count": null,
   "id": "bebb23fe",
   "metadata": {},
   "outputs": [],
   "source": [
    "europe_melt.info()"
   ]
  },
  {
   "cell_type": "code",
   "execution_count": null,
   "id": "2c1d6149",
   "metadata": {},
   "outputs": [],
   "source": []
  },
  {
   "cell_type": "markdown",
   "id": "04dec2e0",
   "metadata": {},
   "source": [
    "### Missing Values\n",
    "\n",
    "Missing values and 0 values look to reflect that there was no production/ harvest/ yield etc. in a given year for a given country for a given crop/livestock. For early years, it is accptable to assume 0/ NaN values reflect that a cuntry had not yet bgan to produce/ trade this item and therefore values remain as NaN. These values can be removed. \n",
    "\n",
    "However, this does not seem to be the case for all 0 / NaN values as pending further investigation it looks like quite a lot of items are missing the last 3 years of production data (2018 / 2019 / 2020). This is consistent across all EU data. This data might not have been submitted to official sources and therefore not included in datasets yet due to covid 19 disruptions. Oceania data seems to only be missing 2020 data as a result of Covid disruptions.\n",
    "\n",
    "Interpolating or replacing this 2020 might not be appropriate as the interpolated data will not be able to account for the disruption caused by Covid on the Agriculture sector for both production & trade. Therefore, this data will be dropped form the analysis. \n",
    "\n",
    "2018 / 2019 data should be interpolated, but it will need to be specific to only the last 2 years to ensure data integretity. It is difficult to interpolate data in the format it is currently in as the Crop_Livestock and Year column contain multiple values which would make it harder to specify what exactly to interpolate. To rectify this, Europe data will first be tidied into seperate Ireland/ Germany datasets to make it easier to identify what specific data to interpolate using the iloc replace function as it allows for specificied rows/ values to be amended, thus keeping the earlier years 0 values in tact to reflect true circumstances.  \n",
    "\n",
    "Finally, ' Value' dtype will only be changed to int only after missing data has been dealt wil in full in 'Ireland Missing Values'  section as this cannot be done when NaN values are present. \n"
   ]
  },
  {
   "cell_type": "code",
   "execution_count": null,
   "id": "51310848",
   "metadata": {},
   "outputs": [],
   "source": [
    "#remove rows with data not available \n",
    "europe_melt = europe_melt.loc[europe_melt[\"Year\"] != \"2020\"]"
   ]
  },
  {
   "cell_type": "code",
   "execution_count": null,
   "id": "ed0f78c9",
   "metadata": {},
   "outputs": [],
   "source": [
    "# number of missing values \n",
    "europe_melt.isnull().sum()"
   ]
  },
  {
   "cell_type": "code",
   "execution_count": null,
   "id": "e81b5190",
   "metadata": {},
   "outputs": [],
   "source": [
    "#check the amount of 0's in each column\n",
    "europe_melt_sparse = (europe_melt == 0).sum()\n",
    "europe_melt_sparse"
   ]
  },
  {
   "cell_type": "code",
   "execution_count": null,
   "id": "735b5e84",
   "metadata": {},
   "outputs": [],
   "source": []
  },
  {
   "cell_type": "code",
   "execution_count": null,
   "id": "29a18638",
   "metadata": {},
   "outputs": [],
   "source": []
  },
  {
   "cell_type": "markdown",
   "id": "95fbd307",
   "metadata": {},
   "source": [
    "## European Trade Dataset EDA\n",
    "\n",
    "The European Trade Dataset is taken from faostat and contains annual data on all crop/ livestock/ animal product Imports and Exports in Europe from 1961-2020, measured in tonnes and heads. It also contains information on Import and Export values in $1000US.\n",
    "\n",
    "Import/ Export Quantity Unit Measurements:\n",
    "\n",
    "    Crops = tonnes\n",
    "    Livestock = head\n",
    "    Dairy Products = tonnes\n",
    "    Meat animal Product = tonnes \n",
    "\n",
    "\"The food and agricultural trade dataset is collected, processed and disseminated by FAO according to the standard International Merchandise Trade Statistics (IMTS) Methodology. The data is mainly provided by UNSD, Eurostat, and other national authorities as needed. This source data is checked for outliers, trade partner data is used for non-reporting countries or missing cells, and data on food aid is added to take into account total cross-border trade flows.\"  https://www.fao.org/faostat/en/#data/TCL\n"
   ]
  },
  {
   "cell_type": "code",
   "execution_count": null,
   "id": "b264db46",
   "metadata": {},
   "outputs": [],
   "source": [
    "#drop columns not required for analysis\n",
    "europe_trade.drop(to_drop, inplace=True, axis=1)"
   ]
  },
  {
   "cell_type": "markdown",
   "id": "487f56e1",
   "metadata": {},
   "source": [
    "### Melt Data"
   ]
  },
  {
   "cell_type": "code",
   "execution_count": null,
   "id": "fc8afc9d",
   "metadata": {},
   "outputs": [],
   "source": [
    "# melt new dataframe in order to visualise data by street \n",
    "europe_trade_melt = pd.melt(europe_trade, id_vars=[ 'Area', 'Item', 'Element', 'Unit'])\n",
    "\n",
    "# rename columns \n",
    "columns = [ 'Country', 'Crop_Livestock', 'Element', 'Unit', 'Year', 'Value']\n",
    "europe_trade_melt.columns = columns\n",
    "\n",
    "#remove Y from year\n",
    "europe_trade_melt['Year'] = europe_trade_melt['Year'].str[1:]\n",
    "\n",
    "europe_trade_melt.head()"
   ]
  },
  {
   "cell_type": "code",
   "execution_count": null,
   "id": "e6bfe5ba",
   "metadata": {},
   "outputs": [],
   "source": [
    "# dataframe shape, number of rows/ columns \n",
    "europe_trade_melt.shape"
   ]
  },
  {
   "cell_type": "code",
   "execution_count": null,
   "id": "f588cd58",
   "metadata": {},
   "outputs": [],
   "source": [
    "europe_trade_melt.info()"
   ]
  },
  {
   "cell_type": "markdown",
   "id": "fb7a441b",
   "metadata": {},
   "source": [
    "### Missing Values\n",
    "\n",
    "Unlike for the Europoean Production data, European and Oceania Trade data is not missing large amounts of data as a result of covid disruption. Meaning, any missing data identified here either relates to years there was no imports/exports for a given country for a given crop/livestock. \n",
    "\n",
    "For early years, it is accptable to assume 0/ NaN values reflect that a country had not yet began to produce/ trade this item and therefore values remain as NaN and can be removed. Any other Nan/ 0's identified are likely to reflect other years where no trade took place for the given product. \n",
    "\n",
    "As such, any missing data will just be removed for European & Oceanic Trade datasets. "
   ]
  },
  {
   "cell_type": "code",
   "execution_count": null,
   "id": "155c3fe3",
   "metadata": {},
   "outputs": [],
   "source": [
    "#remove rows with data not available \n",
    "europe_trade_melt = europe_trade_melt.loc[europe_trade_melt[\"Year\"] != \"2020\"]"
   ]
  },
  {
   "cell_type": "code",
   "execution_count": null,
   "id": "93f3c660",
   "metadata": {},
   "outputs": [],
   "source": [
    "# number of missing values \n",
    "europe_trade_melt.isnull().sum()"
   ]
  },
  {
   "cell_type": "code",
   "execution_count": null,
   "id": "16c249f2",
   "metadata": {},
   "outputs": [],
   "source": [
    "#check the amount of 0's in each column\n",
    "europe_trade_melt_sparse = (europe_trade_melt == 0).sum()\n",
    "europe_trade_melt_sparse"
   ]
  },
  {
   "cell_type": "code",
   "execution_count": null,
   "id": "53a2c6de",
   "metadata": {},
   "outputs": [],
   "source": [
    "# drop all rows with NaN and 0 values\n",
    "\n",
    "# first will replace 0 values with NaNs  \n",
    "europe_trade_melt.replace(to_replace = 0, value = np.nan, inplace=True)\n",
    "\n",
    "# row = 0, column = 1\n",
    "europe_trade_df = europe_trade_melt.dropna(axis=0)\n",
    "\n",
    "# check if we have any NaN values in our dataset\n",
    "europe_trade_df.isnull().values.any()"
   ]
  },
  {
   "cell_type": "code",
   "execution_count": null,
   "id": "7631f816",
   "metadata": {},
   "outputs": [],
   "source": [
    "europe_trade_df.shape"
   ]
  },
  {
   "cell_type": "code",
   "execution_count": null,
   "id": "2bcb02a0",
   "metadata": {},
   "outputs": [],
   "source": []
  },
  {
   "cell_type": "markdown",
   "id": "a64e45fc",
   "metadata": {},
   "source": [
    "## Oceania Production Dataset\n",
    "\n",
    "The Oceania Prouction Dataset is taken from faostat and contains annual data on all crops and animal products producted throughout the Oceania region from 1961-2020, measured in tonnes. It also contains information on livestock numbers, yields, areas havested and slaughtering numbers.\n",
    "\n",
    "Unit Measurements:\n",
    "\n",
    "    Production = tonnes\n",
    "    Area harvested = ha\n",
    "    Yield =\thg/ha\n",
    "    Stocks = head \n",
    "    Slaughter = head\n",
    "    Yields/ Carcass Weight = 0.1g/An, hg/An\n",
    "    Milking Animals = head\n",
    "    Laying = head\n",
    "    Prod Popultn (bees/honey) = number\n",
    "\n",
    "\"Crop statistics are recorded for 173 products, covering the following categories: Crops Primary, Fibre Crops Primary, Cereals, Coarse Grain, Citrus Fruit, Fruit, Jute Jute-like Fibres, Oilcakes Equivalent, Oil crops Primary, Pulses, Roots and Tubers, Treenuts and Vegetables and Melons. Data are expressed in terms of area harvested, production quantity and yield. The objective is to comprehensively cover production of all primary crops for all countries and regions in the world. Area and production data on cereals relate to crops harvested for dry grain only. Cereal crops harvested for hay or harvested green for food, feed or silage or used for grazing are therefore excluded. Area data relate to harvested area. Some countries report sown or cultivated area only.\" https://www.fao.org/faostat/en/#data/QCL\n"
   ]
  },
  {
   "cell_type": "code",
   "execution_count": null,
   "id": "3b9b0e65",
   "metadata": {},
   "outputs": [],
   "source": [
    "#drop columns not required for analysis\n",
    "to_drop = ['Area Code','Item Code','Element Code']\n",
    "oceania.drop(to_drop, inplace=True, axis=1)"
   ]
  },
  {
   "cell_type": "markdown",
   "id": "1f7059b2",
   "metadata": {},
   "source": [
    "### Melt Data"
   ]
  },
  {
   "cell_type": "code",
   "execution_count": null,
   "id": "6e0f1b00",
   "metadata": {},
   "outputs": [],
   "source": [
    "# melt new dataframe in order to visualise data by street \n",
    "oceania_melt = pd.melt(oceania, id_vars=[ 'Area', 'Item', 'Element', 'Unit'])\n",
    "\n",
    "# rename columns \n",
    "columns = [ 'Country', 'Crop_Livestock', 'Element', 'Unit', 'Year', 'Value']\n",
    "oceania_melt.columns = columns\n",
    "\n",
    "#remove Y from year\n",
    "oceania_melt['Year'] = oceania_melt['Year'].str[1:]\n",
    "\n",
    "#set Year to datetime dtype\n",
    "#oceania_melt['Year']= pd.to_datetime(europe_melt['Year'])\n",
    "\n",
    "oceania_melt"
   ]
  },
  {
   "cell_type": "code",
   "execution_count": null,
   "id": "2717c64c",
   "metadata": {},
   "outputs": [],
   "source": [
    "# dataframe shape, number of rows/ columns \n",
    "oceania_melt.shape"
   ]
  },
  {
   "cell_type": "code",
   "execution_count": null,
   "id": "e87a4e31",
   "metadata": {},
   "outputs": [],
   "source": [
    "oceania_melt.info()"
   ]
  },
  {
   "cell_type": "markdown",
   "id": "6f9c7167",
   "metadata": {},
   "source": [
    "### Missing Values\n",
    "\n",
    "As established prior, Missing values and 0 values look to reflect that there was no production/ harvest/ yield etc. in a given year for a given country for a given crop/livestock. For early years, it is accptable to assume 0/ NaN values reflect \n",
    "that a cuntry had not yet bgan to produce/ trade this item and therefore values remain as NaN. These values can be removed. \n",
    "\n",
    "Unlike the European Dataset, the Oceania dataset does not appear to be missing any 2018/2019 values, meaning all Nan/ 0 values can be removed. \n",
    "\n",
    "As pointed out previously, Oceania data is also missing 2020 data as a result of Covid disruptions. Therefore, this data will be dropped form the analysis similar to europan data. \n",
    "\n",
    "Finally, ' Value' dtype will be changed to int only after missing data has been dealt with, as this cannot be done when NaN values are present. "
   ]
  },
  {
   "cell_type": "code",
   "execution_count": null,
   "id": "99cfbc40",
   "metadata": {},
   "outputs": [],
   "source": [
    "#remove rows with data not available \n",
    "oceania_melt = oceania_melt.loc[oceania_melt[\"Year\"] != \"2020\"]"
   ]
  },
  {
   "cell_type": "code",
   "execution_count": null,
   "id": "ad1fecae",
   "metadata": {},
   "outputs": [],
   "source": [
    "# number of missing values \n",
    "oceania_melt.isnull().sum()"
   ]
  },
  {
   "cell_type": "code",
   "execution_count": null,
   "id": "27d5e2b7",
   "metadata": {},
   "outputs": [],
   "source": [
    "#check the amount of 0's in each column\n",
    "oceania_melt_sparse = (oceania_melt == 0).sum()\n",
    "oceania_melt_sparse"
   ]
  },
  {
   "cell_type": "code",
   "execution_count": null,
   "id": "4d6448aa",
   "metadata": {},
   "outputs": [],
   "source": [
    "# drop all rows with NaN and 0 values\n",
    "\n",
    "# first will replace 0 values with NaNs  \n",
    "oceania_melt.replace(to_replace = 0, value = np.nan, inplace=True)\n",
    "\n",
    "# row = 0, column = 1\n",
    "oceania_df = oceania_melt.dropna(axis=0)\n",
    "\n",
    "# check if we have any NaN values in our dataset\n",
    "oceania_df.isnull().values.any()"
   ]
  },
  {
   "cell_type": "code",
   "execution_count": null,
   "id": "1b8dcb5b",
   "metadata": {},
   "outputs": [],
   "source": [
    "oceania_df.shape"
   ]
  },
  {
   "cell_type": "code",
   "execution_count": null,
   "id": "0cf52c7a",
   "metadata": {},
   "outputs": [],
   "source": [
    "# cast value as int \n",
    "oceania_df['Value'] = oceania_df['Value'].astype('int')"
   ]
  },
  {
   "cell_type": "code",
   "execution_count": null,
   "id": "4ce02d49",
   "metadata": {},
   "outputs": [],
   "source": [
    "oceania_df"
   ]
  },
  {
   "cell_type": "code",
   "execution_count": null,
   "id": "0e032aeb",
   "metadata": {},
   "outputs": [],
   "source": []
  },
  {
   "cell_type": "code",
   "execution_count": null,
   "id": "5f2db790",
   "metadata": {},
   "outputs": [],
   "source": []
  },
  {
   "cell_type": "code",
   "execution_count": null,
   "id": "83ae6c6d",
   "metadata": {},
   "outputs": [],
   "source": []
  },
  {
   "cell_type": "code",
   "execution_count": null,
   "id": "78dd991f",
   "metadata": {},
   "outputs": [],
   "source": []
  },
  {
   "cell_type": "markdown",
   "id": "066ad8ae",
   "metadata": {},
   "source": [
    "## Oceania Trade Dataset\n",
    "\n",
    "The Oceania Trade Dataset is taken from faostat and contains annual data on all crop/ livestock/ animal product Imports and Exports throughout the Oceania region from 1961-2020, measured in tonnes and heads. It also contains information on Import and Export values in $1000US.\n",
    "\n",
    "Import/ Export Quantity Unit Measurements:\n",
    "\n",
    "    Crops = tonnes\n",
    "    Livestock = head\n",
    "    Dairy Products = tonnes\n",
    "    Meat animal Product = tonnes \n",
    "\n",
    "\"The food and agricultural trade dataset is collected, processed and disseminated by FAO according to the standard International Merchandise Trade Statistics (IMTS) Methodology. The data is mainly provided by UNSD, Eurostat, and other national authorities as needed. This source data is checked for outliers, trade partner data is used for non-reporting countries or missing cells, and data on food aid is added to take into account total cross-border trade flows.\"  https://www.fao.org/faostat/en/#data/TCL\n"
   ]
  },
  {
   "cell_type": "code",
   "execution_count": null,
   "id": "3baf4ff3",
   "metadata": {},
   "outputs": [],
   "source": [
    "#drop columns not required for analysis\n",
    "oceania_trade.drop(to_drop, inplace=True, axis=1)"
   ]
  },
  {
   "cell_type": "markdown",
   "id": "89d2612a",
   "metadata": {},
   "source": [
    "### Melt Data"
   ]
  },
  {
   "cell_type": "code",
   "execution_count": null,
   "id": "79a06a61",
   "metadata": {},
   "outputs": [],
   "source": [
    "# melt new dataframe in order to visualise data by street \n",
    "oceania_trade_melt = pd.melt(oceania_trade, id_vars=[ 'Area', 'Item', 'Element', 'Unit'])\n",
    "\n",
    "# rename columns \n",
    "columns = [ 'Country', 'Crop_Livestock', 'Element', 'Unit', 'Year', 'Value']\n",
    "oceania_trade_melt.columns = columns\n",
    "\n",
    "#remove Y from year\n",
    "oceania_trade_melt['Year'] = oceania_trade_melt['Year'].str[1:]\n",
    "\n",
    "#set Year to datetime dtype\n",
    "#europe_melt['Year']= pd.to_datetime(europe_melt['Year'])\n",
    "\n",
    "oceania_trade_melt.head()"
   ]
  },
  {
   "cell_type": "code",
   "execution_count": null,
   "id": "ca430ce0",
   "metadata": {},
   "outputs": [],
   "source": [
    "# dataframe shape, number of rows/ columns \n",
    "oceania_trade_melt.shape"
   ]
  },
  {
   "cell_type": "code",
   "execution_count": null,
   "id": "427554e8",
   "metadata": {},
   "outputs": [],
   "source": [
    "oceania_trade_melt.info()"
   ]
  },
  {
   "cell_type": "markdown",
   "id": "e8e2cb15",
   "metadata": {},
   "source": [
    "### Missing Values\n",
    "\n",
    "Similar to European Trade data, Oceania Trade data is not missing large amounts of data as a result of covid disruption. Meaning, any missing data identified here either relates to years there was no imports/exports for a given country for a given crop/livestock. \n",
    "\n",
    "Similarly for early years, it is accptable to assume 0/ NaN values reflect that a country had not yet began to produce/ trade this item and therefore values remain as NaN and can be removed. Any other Nan/ 0's identified are likely to reflect other years where no trade took place for the given product. \n",
    "\n",
    "As such, any missing data will just be removed for European & Oceanic Trade datasets. \n"
   ]
  },
  {
   "cell_type": "code",
   "execution_count": null,
   "id": "6a21120a",
   "metadata": {},
   "outputs": [],
   "source": [
    "#remove rows with data not available \n",
    "oceania_trade_melt = oceania_trade_melt.loc[oceania_trade_melt[\"Year\"] != \"2020\"]"
   ]
  },
  {
   "cell_type": "code",
   "execution_count": null,
   "id": "9299c643",
   "metadata": {},
   "outputs": [],
   "source": [
    "# number of missing values \n",
    "oceania_trade_melt.isnull().sum()"
   ]
  },
  {
   "cell_type": "code",
   "execution_count": null,
   "id": "08270192",
   "metadata": {},
   "outputs": [],
   "source": [
    "#check the amount of 0's in each column\n",
    "oceania_trade_melt_sparse = (oceania_trade_melt == 0).sum()\n",
    "oceania_trade_melt_sparse"
   ]
  },
  {
   "cell_type": "code",
   "execution_count": null,
   "id": "29989d39",
   "metadata": {},
   "outputs": [],
   "source": [
    "# drop all rows with NaN and 0 values\n",
    "\n",
    "# first will replace 0 values with NaNs  \n",
    "oceania_trade_melt.replace(to_replace = 0, value = np.nan, inplace=True)\n",
    "\n",
    "# row = 0, column = 1\n",
    "oceania_trade_df = oceania_trade_melt.dropna(axis=0)\n",
    "\n",
    "# check if we have any NaN values in our dataset\n",
    "oceania_trade_df.isnull().values.any()"
   ]
  },
  {
   "cell_type": "code",
   "execution_count": null,
   "id": "3610b12a",
   "metadata": {},
   "outputs": [],
   "source": [
    "oceania_trade_df.shape"
   ]
  },
  {
   "cell_type": "code",
   "execution_count": null,
   "id": "8eccb5da",
   "metadata": {},
   "outputs": [],
   "source": [
    "# cast value as int \n",
    "oceania_trade_df['Value'] = oceania_trade_df['Value'].astype('int')"
   ]
  },
  {
   "cell_type": "code",
   "execution_count": null,
   "id": "1588f36c",
   "metadata": {},
   "outputs": [],
   "source": []
  },
  {
   "cell_type": "markdown",
   "id": "d8b58f00",
   "metadata": {},
   "source": [
    "## IRELAND\n",
    "\n",
    "Ireland will form as the baseline country for analysis. \n",
    "\n",
    "This analysis will focus on how irish production and consumption has changed over time in line with consumer diet trends and thus impacted irelands agriculture. For the sake of this analysis, Irish production is specific on meat, dairy and crops. Livestock data will not be included in this analysis and will be filtered out by specifying the ireland_prod datafame to only contain 'Production' for element. Livesotck is measured in 'head' and '1000 head' so will remove any livestock data. \n",
    "\n",
    "Population data will be added as to calculate values per capita for later comparrison with other countries. \n",
    "\n",
    "In order to calculate consumption of a product; production, export and import data on a particular crop is required.\n",
    "Ireland Trade data will be sorted into 'Import Quantity / Import Value / Export Quantity/ Export Value' and brought into the Ireand dataset using a merge function.\n",
    "\n",
    "Seperate datasets can be used to conduct specific analysis on Meat, dairy and crop products using the str.contains function. \n",
    "\n",
    "Once cleaned, descriptive statistics will then be used for statistical analysis on datasets. It is important to note that the Crop_Livestock column contains multiple products that vary in production level. As it would not be useful to see the mean/diveations until this column is divided up further so an average meat production figure or average dairy production figure can be shown. \n",
    "\n",
    "After analysing the descriptive statistics, iusal representations will be used to display initial data to the reader"
   ]
  },
  {
   "cell_type": "markdown",
   "id": "2dcc67ac",
   "metadata": {},
   "source": [
    "## Ireland Production Dataset \n",
    "\n",
    "For the sake of this analysis, Irish production is specific on meat, dairy and crops. Livestock data will not be included in this analysis and will be filtered out by specifying the ireland_prod datafame to only contain 'Production' for element. Livesotck is measured in 'head' and '1000 head' so will remove any livestock data. \n",
    "\n",
    "Columns will also be renamed to 'Production' specific values to make it easier to identify what columns can be dropped when merging with trade datasets later on. \n",
    "\n",
    "Missing Values will then be adressed for Ireland dataset. \n",
    "\n",
    "The shape function will show how many rows are present. This number is expected to drop once merged with trade data as only rows that have all elements related to consumption (import/ export/ production data) will be kept. \n"
   ]
  },
  {
   "cell_type": "code",
   "execution_count": null,
   "id": "b96db16c",
   "metadata": {},
   "outputs": [],
   "source": [
    "# create irish dataset\n",
    "ireland_prod_df = europe_melt.loc[europe_melt['Country']=='Ireland']\n",
    "\n",
    "# irish production dataset - all products (crop, meat, livestock)\n",
    "ireland_prod = ireland_prod_df.loc[ireland_prod_df['Element']=='Production']\n",
    "\n",
    "# rename columns\n",
    "ireland_prod.rename(columns={'Country': 'Prod Country', 'Unit': 'Production Unit', 'Value': 'Production Value' }, inplace=True)\n",
    "\n",
    "#reset index\n",
    "ireland_prod.reset_index(drop=True, inplace=True)\n",
    "\n",
    "ireland_prod"
   ]
  },
  {
   "cell_type": "code",
   "execution_count": null,
   "id": "8256c632",
   "metadata": {},
   "outputs": [],
   "source": [
    "ireland_prod.shape"
   ]
  },
  {
   "cell_type": "markdown",
   "id": "9101b17a",
   "metadata": {},
   "source": [
    "### Ireland Missing Values\n",
    "\n",
    "Missing values for European data have been reviewed previously. NaN and 0 values look to reflect that there was no production/ harvest/ yield etc. in a given year for a given country for a given crop/livestock. For early years, it is accptable to assume 0/ NaN values reflect that a cuntry had not yet bgan to produce/ trade this item and therefore values remain as NaN. These values can be removed.\n",
    "\n",
    "2018 / 2019 data should be interpolated. It is difficult to interpolate data in the format it is currently in as the Crop_Livestock and Year column contain multiple values which would make it harder to specify what exactly to interpolate. \n",
    "\n",
    "To rectify this, Ireland data will converted into a pivot_table to make it easier to identify what specific columns of data need to be interpolated. Using the loc function to identify row / colun indexes first, the iloc replace function can then be used to replace specific 2018/2019 values.\n",
    "\n",
    "' Value' dtype will be changed to int once this missing values process is complete. "
   ]
  },
  {
   "cell_type": "code",
   "execution_count": null,
   "id": "b20ca336",
   "metadata": {},
   "outputs": [],
   "source": [
    "#ireland_prod as a pivot table to see what values we need to replace for 2018/2019 only\n",
    "\n",
    "ireland_prod_table = pd.pivot_table(ireland_prod, values='Production Value', index=['Prod Country', 'Element', 'Production Unit', 'Year'],\n",
    "                    columns=['Crop_Livestock'], aggfunc=np.sum, fill_value=0)\n",
    "ireland_prod_table"
   ]
  },
  {
   "cell_type": "code",
   "execution_count": null,
   "id": "9252847e",
   "metadata": {},
   "outputs": [],
   "source": [
    "# search tab to identify what 2018/2019 data to be replaces & identify iloc \n",
    "ireland_prod.loc[ireland_prod['Crop_Livestock']=='Cream fresh']"
   ]
  },
  {
   "cell_type": "code",
   "execution_count": null,
   "id": "d51e624b",
   "metadata": {},
   "outputs": [],
   "source": [
    "# replace missing 2018/ 2019 values with last recorded value \n",
    "\n",
    "ireland_prod.iloc[[8203, 8346],[5]] = 2696.0\n",
    "ireland_prod.iloc[[8206, 8349],[5]] = 3463.0\n",
    "ireland_prod.iloc[[8208, 8351],[5]] = 1222.0\n",
    "ireland_prod.iloc[[8209, 8352],[5]] = 3279.0\n",
    "ireland_prod.iloc[[8168, 8311],[5]] = 4435.0\n",
    "ireland_prod.iloc[[8214, 8357],[5]] = 4706000.0\n",
    "ireland_prod.iloc[[8217, 8360],[5]] = 57170.0\n",
    "ireland_prod.iloc[[8158, 8301],[5]] = 1702.0\n",
    "ireland_prod.iloc[[8160, 8303],[5]] = 199.0\n",
    "ireland_prod.iloc[[8167, 8310],[5]] = 1478.0\n",
    "ireland_prod.iloc[[8168, 8311],[5]] = 4435.0\n",
    "ireland_prod.iloc[[8171, 8314],[5]] = 340.0\n",
    "ireland_prod.iloc[[8184, 8327],[5]] = 8906.0\n",
    "ireland_prod.iloc[[8193, 8336],[5]] = 268.0\n",
    "ireland_prod.iloc[[8194, 8337],[5]] = 45.0\n",
    "ireland_prod.iloc[[8223, 8336],[5]] = 2890.0\n",
    "ireland_prod.iloc[[8236, 8379],[5]] = 7169.0\n",
    "ireland_prod.iloc[[8244, 8387],[5]] = 1855.0\n",
    "ireland_prod.iloc[[8252, 8395],[5]] = 629.0\n",
    "ireland_prod.iloc[[8258, 8401],[5]] = 75000.0\n",
    "ireland_prod.iloc[[8259, 8402],[5]] = 9755.0\n",
    "ireland_prod.iloc[[8266, 8409],[5]] = 26516.0\n",
    "ireland_prod.iloc[[8267, 8410],[5]] = 2.0\n",
    "ireland_prod.iloc[[8271, 8414],[5]] = 2219.0\n",
    "ireland_prod.iloc[[8272, 8415],[5]] = 41849.0\n",
    "ireland_prod.iloc[[8291, 8434],[5]] = 75000.0\n",
    "ireland_prod.iloc[[8173, 8316],[5]] = 30064.0\n"
   ]
  },
  {
   "cell_type": "code",
   "execution_count": null,
   "id": "ec6417bc",
   "metadata": {},
   "outputs": [],
   "source": [
    "# drop all rows with NaN and 0 values\n",
    "\n",
    "# first will replace 0 values with NaNs  \n",
    "ireland_prod.replace(to_replace = 0, value = np.nan, inplace=True)\n",
    "\n",
    "# row = 0, column = 1\n",
    "ireland_prod = ireland_prod.dropna(axis=0)\n",
    "\n",
    "# check if we have any NaN values in our dataset\n",
    "ireland_prod.isnull().values.any()"
   ]
  },
  {
   "cell_type": "code",
   "execution_count": null,
   "id": "94e8a474",
   "metadata": {},
   "outputs": [],
   "source": [
    "# cast value as int \n",
    "ireland_prod['Production Value'] = ireland_prod['Production Value'].astype('int')"
   ]
  },
  {
   "cell_type": "markdown",
   "id": "408ff24e",
   "metadata": {},
   "source": [
    "### Ireland Production- Add Population \n",
    "\n",
    "Population data will be added as to calculate values per capita for later comparrison with other countries. Per Capita amounts will be added during feature Engineering later on. "
   ]
  },
  {
   "cell_type": "code",
   "execution_count": null,
   "id": "4274344b",
   "metadata": {},
   "outputs": [],
   "source": [
    "# merge population data. Outer merge so no data is lost \n",
    "\n",
    "ireland_prod_pop = pd.merge(ireland_prod, ireland_pop, how=\"outer\", on = [\"Year\"])\n",
    "ireland_prod_pop.head()"
   ]
  },
  {
   "cell_type": "code",
   "execution_count": null,
   "id": "4b19438d",
   "metadata": {},
   "outputs": [],
   "source": [
    "ireland_prod_pop.shape"
   ]
  },
  {
   "cell_type": "markdown",
   "id": "fec93054",
   "metadata": {},
   "source": [
    "### Ireland Production Analysis\n",
    "\n",
    "As the focus of this analysis is how irish production and consumption has changed over time in line with consumer diet trends and thus impacted irelands agriculture, the ireland_df can be divided into Meat / Dairy / Crop datasets for further analysis. This will be done by using the str.contains function to specify what products should be included in each dataset.\n",
    "\n",
    "The .unique and loc functions will then be used to further filter each dataset and remove any unwanted/ non relevant  products from each dataset. "
   ]
  },
  {
   "cell_type": "code",
   "execution_count": null,
   "id": "c090a9ba",
   "metadata": {},
   "outputs": [],
   "source": [
    "# irish production meat products\n",
    "ireland_prod_meat = ireland_prod_pop.loc[ireland_prod_pop['Crop_Livestock'].str.contains('meat', case=False)]\n",
    "ireland_prod_meat.rename(columns={'Crop_Livestock': 'Meat Type'}, inplace=True)\n",
    "ireland_prod_meat.reset_index(drop=True)\n",
    "\n",
    "# irish production dairy products\n",
    "ireland_prod_dairy = ireland_prod_pop.loc[ireland_prod_pop['Crop_Livestock'].str.contains('milk', case=False)]\n",
    "ireland_prod_dairy.rename(columns={'Crop_Livestock': 'Dairy Product'}, inplace=True)\n",
    "ireland_prod_dairy.reset_index(drop=True)\n",
    "\n",
    "# irish production crops\n",
    "ireland_prod_crop = ireland_prod_pop.loc[ireland_prod_pop['Crop_Livestock'].str.contains('meat', case=False) == False]\n",
    "ireland_prod_crop = ireland_prod_crop.loc[ireland_prod_crop['Crop_Livestock'].str.contains('milk', case=False) == False]\n",
    "ireland_prod_crop = ireland_prod_crop.loc[ireland_prod_crop['Crop_Livestock'].str.contains('offals', case=False) == False]\n",
    "ireland_prod_crop = ireland_prod_crop.loc[ireland_prod_crop['Crop_Livestock'].str.contains('fat', case=False) == False]\n",
    "ireland_prod_crop = ireland_prod_crop.loc[ireland_prod_crop['Crop_Livestock'].str.contains('hides', case=False) == False]\n",
    "ireland_prod_crop = ireland_prod_crop.loc[ireland_prod_crop['Crop_Livestock'].str.contains('wool', case=False) == False]\n",
    "ireland_prod_crop = ireland_prod_crop.loc[ireland_prod_crop['Crop_Livestock'].str.contains('skin', case=False) == False]\n",
    "ireland_prod_crop = ireland_prod_crop.loc[ireland_prod_crop['Crop_Livestock'].str.contains('cream', case=False) == False]\n",
    "ireland_prod_crop = ireland_prod_crop.loc[ireland_prod_crop['Crop_Livestock'].str.contains('egg', case=False) == False]\n",
    "ireland_prod_crop = ireland_prod_crop.loc[ireland_prod_crop['Crop_Livestock'].str.contains('lard', case=False) == False]\n",
    "ireland_prod_crop = ireland_prod_crop.loc[ireland_prod_crop['Crop_Livestock'].str.contains('butter', case=False) == False]\n",
    "ireland_prod_crop = ireland_prod_crop.loc[ireland_prod_crop['Crop_Livestock'].str.contains('cheese', case=False) == False]\n",
    "ireland_prod_crop = ireland_prod_crop.loc[ireland_prod_crop['Crop_Livestock'].str.contains('oil', case=False) == False]\n",
    "ireland_prod_crop.rename(columns={'Crop_Livestock': 'Crop'}, inplace=True)\n",
    "ireland_prod_crop.reset_index(drop=True)\n"
   ]
  },
  {
   "cell_type": "code",
   "execution_count": null,
   "id": "8d9ddd55",
   "metadata": {},
   "outputs": [],
   "source": [
    "# check Meat Type values are what we want for analysis\n",
    "ireland_prod_meat['Meat Type'].unique()"
   ]
  },
  {
   "cell_type": "code",
   "execution_count": null,
   "id": "202956fd",
   "metadata": {},
   "outputs": [],
   "source": [
    "# remove any items we dont want \n",
    "ireland_prod_meat = ireland_prod_meat.loc[ireland_prod_meat['Meat Type'] != 'Meat nes']\n",
    "ireland_prod_meat = ireland_prod_meat.loc[ireland_prod_meat['Meat Type'] != 'Meat, Total']"
   ]
  },
  {
   "cell_type": "code",
   "execution_count": null,
   "id": "a1d895db",
   "metadata": {},
   "outputs": [],
   "source": [
    "ireland_prod_dairy['Dairy Product'].unique()"
   ]
  },
  {
   "cell_type": "code",
   "execution_count": null,
   "id": "81e70f85",
   "metadata": {},
   "outputs": [],
   "source": [
    "ireland_prod_dairy = ireland_prod_dairy.loc[ireland_prod_dairy['Dairy Product'] != 'Milk, Total']\n",
    "ireland_prod_dairy = ireland_prod_dairy.loc[ireland_prod_dairy['Dairy Product'] != 'Evaporat&Condensed Milk']"
   ]
  },
  {
   "cell_type": "code",
   "execution_count": null,
   "id": "bc5e06d4",
   "metadata": {},
   "outputs": [],
   "source": [
    "ireland_prod_crop['Crop'].unique()"
   ]
  },
  {
   "cell_type": "code",
   "execution_count": null,
   "id": "b285a59c",
   "metadata": {},
   "outputs": [],
   "source": [
    "ireland_prod_crop = ireland_prod_crop.loc[ireland_prod_crop['Crop'] != 'Vegetables, fresh nes']\n",
    "ireland_prod_crop = ireland_prod_crop.loc[ireland_prod_crop['Crop'] != 'Fruit, fresh nes']\n",
    "ireland_prod_crop = ireland_prod_crop.loc[ireland_prod_crop['Crop'] != 'Cereals, Total']\n",
    "ireland_prod_crop = ireland_prod_crop.loc[ireland_prod_crop['Crop'] != 'Fruit Primary']\n",
    "ireland_prod_crop = ireland_prod_crop.loc[ireland_prod_crop['Crop'] != 'Vegetables Primary']\n",
    "ireland_prod_crop = ireland_prod_crop.loc[ireland_prod_crop['Crop'] != 'Margarine, short']\n",
    "ireland_prod_crop = ireland_prod_crop.loc[ireland_prod_crop['Crop'] != 'Cereals nes']\n",
    "ireland_prod_crop = ireland_prod_crop.loc[ireland_prod_crop['Crop'] != 'Pulses, Total']\n",
    "ireland_prod_crop = ireland_prod_crop.loc[ireland_prod_crop['Crop'] != 'Roots and Tubers, Total']\n",
    "ireland_prod_crop = ireland_prod_crop.loc[ireland_prod_crop['Crop'] != 'Sugar Crops Primary']\n",
    "ireland_prod_crop = ireland_prod_crop.loc[ireland_prod_crop['Crop'] != 'Vegetables, leguminous nes']\n",
    "ireland_prod_crop = ireland_prod_crop.loc[ireland_prod_crop['Crop'] != 'Leeks, other alliaceous vegetables']\n",
    "ireland_prod_crop = ireland_prod_crop.loc[ireland_prod_crop['Crop'] != 'Berries nes']\n"
   ]
  },
  {
   "cell_type": "markdown",
   "id": "986c50f2",
   "metadata": {},
   "source": [
    "### Ireland Production Visualisations \n",
    "\n",
    "Visualisations can be seen using Seaborn & MatPlotlib to visualise Irelands agriculture production from 1961-2019 for meat / dairy/ crops. A line graph os chosen as to show production over time.\n",
    "\n",
    "However, it is difficult to interpret the Crop dataset using a line graph. Imcluded below are other options tried to visualise this better including samplign and using percentage change. This data is better represented as a barplot to show production per crop. A view of how production has changed throughout the years will be better visualised using Plotly Express later in the analysis. "
   ]
  },
  {
   "cell_type": "code",
   "execution_count": null,
   "id": "9f0782a6",
   "metadata": {},
   "outputs": [],
   "source": [
    "def plotprodvisuals(dataset, foodvalue, country):\n",
    "    plt.figure(figsize = (12,8))\n",
    "    sns.lineplot(data=dataset, x=\"Year\", y=\"Production Value\", hue= foodvalue)  \n",
    "    plt.xlabel('\\nYear', fontsize=15) \n",
    "    plt.ylabel('Tonnes Produced\\n', fontsize=15)\n",
    "    plt.title('\\n ' + country + \"'s Production per \" + foodvalue + ' 1961-2019\\n', fontsize=20)\n",
    "    plt.legend(prop = {'size': 10}, loc='best', bbox_to_anchor=(1.3, 1))\n",
    "    plt.xticks(rotation = 80);\n",
    "plt.show(); \n",
    "\n",
    "def plotprodvisualsii(dataset, foodvalue, minx, maxx,  country, title):\n",
    "    plt.figure(figsize = (12,8))\n",
    "    plt.subplots(figsize = (12,8))\n",
    "    sns.lineplot(data=dataset, x=\"Year\", y=\"Production Value\", hue= foodvalue)  \n",
    "    plt.ylim([minx, maxx])\n",
    "    plt.xticks(rotation = 80, fontsize = 12)\n",
    "    plt.xlabel('\\nYear', fontsize=15) \n",
    "    plt.ylabel('Tonnes Produced\\n', fontsize=15)\n",
    "    plt.title('\\n ' + country + \"'s Production per \" + title + foodvalue + ' 1961-2019\\n', fontsize=20)\n",
    "    plt.legend(prop = {'size': 10}, loc='best', bbox_to_anchor=(1.3, 1));\n",
    "plt.show(); \n",
    "\n",
    "def plotprodbar(dataset, foodvalue, country):\n",
    "    plt.figure(figsize = (15,10))\n",
    "    sns.barplot(data = dataset, x = foodvalue, y=\"Production Value\")\n",
    "    plt.xticks(rotation = 90, fontsize=12)\n",
    "    plt.xlabel('Poduct\\n', fontsize=15) \n",
    "    plt.ylabel('Amount in Tonnes\\n', fontsize=15)\n",
    "    # https://stackoverflow.com/questions/35638525/how-to-add-title-to-subplots-with-loop\n",
    "    # set the spacing between subplots \n",
    "    plt.subplots_adjust(left=None, bottom=None, right=None, top=1, wspace=None, hspace=1)\n",
    "    # add title to include i value\n",
    "    plt.title('\\n ' + country + \"'s Top \" + foodvalue + ' 1961-2019\\n', fontsize=20)\n",
    "plt.show(); \n",
    "    "
   ]
  },
  {
   "cell_type": "code",
   "execution_count": null,
   "id": "d6d036bf",
   "metadata": {
    "scrolled": true
   },
   "outputs": [],
   "source": [
    "plotprodvisuals(ireland_prod_meat, \"Meat Type\", 'Ireland')\n",
    "plotprodvisualsii(ireland_prod_dairy, \"Dairy Product\", 1000000, 8500000, 'Ireland', 'Top ')\n",
    "plotprodvisualsii(ireland_prod_dairy, \"Dairy Product\", 0, 275000, 'Ireland', 'Other ')\n",
    "plotprodvisualsii(ireland_prod_crop, \"Crop\", 75000, 2250000, 'Ireland', 'Top ')\n",
    "plotprodvisualsii(ireland_prod_crop, \"Crop\", 0, 75000, 'Ireland', 'Other ')\n",
    "plotprodbar(ireland_prod_crop, \"Crop\",'Ireland');"
   ]
  },
  {
   "cell_type": "markdown",
   "id": "1058ef98",
   "metadata": {},
   "source": [
    "### Fix line graph to avoid clumping \n",
    "\n",
    "Multiple methods were attempted to find a better way to display Crop data to avoid clumping including  using % change, sampling and splitting values into seperate graphs bt setting y limits for values. \n",
    "\n",
    "Setting y limits appears to work the best but a shortned list for crops will need to be created further on to enable a better visual. This list can be created once rade data is also added to dataset. "
   ]
  },
  {
   "cell_type": "code",
   "execution_count": null,
   "id": "77424e1b",
   "metadata": {},
   "outputs": [],
   "source": [
    "# sort values to use pct_change\n",
    "ireland_prod_crop_test= ireland_prod_crop.sort_values(by=['Crop', 'Year'])\n",
    "\n",
    "# add pc change column\n",
    "ireland_prod_crop_test['Production Value PCT'] = ireland_prod_crop_test['Production Value'].pct_change().cumsum()\n",
    "\n",
    "#reset index to use iloc\n",
    "ireland_prod_crop_test.reset_index(drop=True, inplace=True)\n",
    "\n",
    "# replace 1st value of PCT column\n",
    "#ireland_dairy.iloc[[0],[10]] = 61300\n",
    "\n",
    "ireland_prod_crop_test.head()"
   ]
  },
  {
   "cell_type": "code",
   "execution_count": null,
   "id": "c7213656",
   "metadata": {},
   "outputs": [],
   "source": [
    "plt.figure(figsize = (12,8))\n",
    "sns.lineplot(data=ireland_prod_crop_test, x=\"Year\", y=\"Production Value PCT\", hue=\"Crop\")  \n",
    "plt.xlabel('\\nYear', fontsize=15) \n",
    "plt.ylabel('Tonnes Produced\\n', fontsize=15)\n",
    "plt.title ('Ireland Crop Production 1961-2019\\n', fontsize=20)\n",
    "plt.legend(prop = {'size': 10}, loc='best', bbox_to_anchor=(1.3, 1))\n",
    "plt.xticks(rotation = 90);"
   ]
  },
  {
   "cell_type": "code",
   "execution_count": null,
   "id": "ee8273db",
   "metadata": {},
   "outputs": [],
   "source": [
    "#create a sample for better visualisations \n",
    "# https://www.geeksforgeeks.org/python-pandas-dataframe-sample/\n",
    "\n",
    "# create new sample df\n",
    "ireland_prod_crop_sample = ireland_prod_crop.sample(frac =.25)\n",
    "\n",
    "#sort values by year\n",
    "ireland_prod_crop_sample.sort_values(by=['Crop', 'Year'])\n",
    "\n",
    "plt.figure(figsize = (12,8))\n",
    "sns.lineplot(data=ireland_prod_crop_sample, x=\"Year\", y=\"Production Value\", hue=\"Crop\")  \n",
    "plt.xlabel('\\nYear', fontsize=15) \n",
    "plt.ylabel('Tonnes Produced\\n', fontsize=15)\n",
    "plt.title ('Ireland Crop Production 1961-2019\\n', fontsize=20)\n",
    "plt.legend(prop = {'size': 10}, loc='best', bbox_to_anchor=(1.3, 1))\n",
    "plt.xticks(rotation = 90);"
   ]
  },
  {
   "cell_type": "code",
   "execution_count": null,
   "id": "ae71b0fa",
   "metadata": {},
   "outputs": [],
   "source": [
    "#reset graph limits to work for crop items\n",
    "\n",
    "fig, ax = plt.subplots(figsize = (12,8))\n",
    "vt = sns.lineplot(data=ireland_prod_crop, x=\"Year\", y=\"Production Value\", hue=\"Crop\")  \n",
    "vt = ax.set_ylim(0, 75000);\n",
    "plt.xlabel('\\nYear', fontsize=15) \n",
    "plt.ylabel('Tonnes Produced\\n', fontsize=15)\n",
    "plt.title ('Ireland Crop Production 1961-2019\\n', fontsize=20)\n",
    "plt.legend(prop = {'size': 10}, loc='best', bbox_to_anchor=(1.3, 1))\n",
    "plt.xticks(rotation = 90);"
   ]
  },
  {
   "cell_type": "code",
   "execution_count": null,
   "id": "94c488ef",
   "metadata": {},
   "outputs": [],
   "source": []
  },
  {
   "cell_type": "markdown",
   "id": "1849766a",
   "metadata": {},
   "source": [
    "## Ireland Trade Datasets\n",
    "\n",
    "In order to calculate consumption of a product; production, export and import data on a particular crop is required.\n",
    "Ireland Trade data will be sorted into  seperate 'Import Quantity / Import Value / Export Quantity/ Export Value' datasets using the loc function. \n",
    "\n",
    "Agian columns will be remaned to allow for easy column identification once date is merged with production data. This data will then and brought into the Ireland dataset using a merge function.\n",
    "\n",
    "The shape function will show how many rows are present in each dataset. This number is likely to be different to the production data but is expected to drop once merged with trade data as only rows that have all elements related to consumption (import/ export/ production data) will be kept.\n"
   ]
  },
  {
   "cell_type": "code",
   "execution_count": null,
   "id": "2914d1c7",
   "metadata": {},
   "outputs": [],
   "source": [
    "# create irish dataset\n",
    "ireland_trade = europe_trade_df.loc[europe_trade_df['Country']=='Ireland']\n",
    "\n",
    "# irish import/ export datasets - all products (crop, meat, livestock)\n",
    "ireland_imports = ireland_trade.loc[ireland_trade['Element']=='Import Quantity']\n",
    "ireland_exports = ireland_trade.loc[ireland_trade['Element']=='Export Quantity']\n",
    "ireland_imports_val = ireland_trade.loc[ireland_trade['Element']=='Import Value']\n",
    "ireland_exports_val = ireland_trade.loc[ireland_trade['Element']=='Export Value']\n",
    "\n",
    "# rename Value Columns \n",
    "ireland_imports.rename(columns={'Value': 'Import Quantity'}, inplace=True)\n",
    "ireland_exports.rename(columns={'Value': 'Export Quantity'}, inplace=True)\n",
    "ireland_exports.rename(columns={'Unit': 'Export Unit'}, inplace=True)\n",
    "ireland_imports.rename(columns={'Unit': 'Import Unit'}, inplace=True)\n",
    "ireland_imports_val.rename(columns={'Value': 'Import Value'}, inplace=True)\n",
    "ireland_exports_val.rename(columns={'Value': 'Export Value'}, inplace=True)\n",
    "\n",
    "#reset index\n",
    "ireland_imports.reset_index(drop=True, inplace=True)\n",
    "ireland_exports.reset_index(drop=True, inplace=True)\n",
    "ireland_imports_val.reset_index(drop=True, inplace=True)\n",
    "ireland_exports_val.reset_index(drop=True, inplace=True)"
   ]
  },
  {
   "cell_type": "code",
   "execution_count": null,
   "id": "2a722ffc",
   "metadata": {},
   "outputs": [],
   "source": [
    "ireland_imports.head()\n",
    "ireland_exports.head()\n",
    "ireland_imports_val.head()\n",
    "ireland_exports_val.head()"
   ]
  },
  {
   "cell_type": "code",
   "execution_count": null,
   "id": "3c67e044",
   "metadata": {},
   "outputs": [],
   "source": [
    "ireland_imports.shape\n",
    "ireland_exports.shape\n",
    "ireland_imports_val.shape\n",
    "ireland_exports_val.shape"
   ]
  },
  {
   "cell_type": "code",
   "execution_count": null,
   "id": "d470896b",
   "metadata": {},
   "outputs": [],
   "source": [
    "ireland_imports['Crop_Livestock'].unique()"
   ]
  },
  {
   "cell_type": "code",
   "execution_count": null,
   "id": "f5d67dee",
   "metadata": {},
   "outputs": [],
   "source": []
  },
  {
   "cell_type": "markdown",
   "id": "7d3411cc",
   "metadata": {},
   "source": [
    "## Merge Ireland Trade & Production \n",
    "\n",
    "As both Ireland production and Ireland Trade data have been cleaned and missing values have either been imputed/ removed, an Inner Merge is suitable to use here. There are significantly less rows in the production datataset than in the exports/ imports dataset. This is to be expected for imports as the Ireland would typically import products it does not produce/ produce enough of itelf. For export data it is possible there is more records available.\n",
    "\n",
    "This analysis is focusing on how irish production and consumption has changed over time in line with consumer diet trends and thus impacted irelands agriculture. In order to calculate consumption of a product; production, export and import data on a particular crop is required. \n",
    "\n",
    "Therefore the analysis should include data on  all 3. An inner merge would be suitable in most circumstances, however there are situations where a country may produce and export an item and have no need to import as supplies are high. Likewise a country might not produce an item so imports are high and exports are non existant. An inner merge would only keep rows where the selected values exists in both the left and right dataframes. \n",
    "\n",
    "Therefore an outer merge will be used when merging import values. This is most suitable here as to not loose any data where a country would import but not produce. An left merge will be used for export values, so data will only be merged if production values exist. \n",
    "\n",
    "\"Crop_Livestock\" and \"Year\" will both used during merge to ensure no duplicate values are added.\n",
    "\n",
    "Missing values wil be checked once more to ensure no data was lost/skewed during the merge. \n",
    "\n",
    "Finally, some item names differ between the datasets. These will be identified & replaced to simplify the datasets. For this analysis, 'meat preparations' (mince) will be catagorised alongside meat, cattle / meat, pig accordingly.  "
   ]
  },
  {
   "cell_type": "code",
   "execution_count": null,
   "id": "64838591",
   "metadata": {},
   "outputs": [],
   "source": [
    "# merge population data. \n",
    "ireland_add_exports = pd.merge(ireland_prod_pop, ireland_exports, how=\"left\", on = [\"Crop_Livestock\", \"Year\"])"
   ]
  },
  {
   "cell_type": "code",
   "execution_count": null,
   "id": "785f64ce",
   "metadata": {},
   "outputs": [],
   "source": []
  },
  {
   "cell_type": "code",
   "execution_count": null,
   "id": "fd90c8ec",
   "metadata": {},
   "outputs": [],
   "source": [
    "ireland_add_exports.shape"
   ]
  },
  {
   "cell_type": "code",
   "execution_count": null,
   "id": "ba9c62d1",
   "metadata": {},
   "outputs": [],
   "source": [
    "# merge data. \n",
    "ireland_df = pd.merge(ireland_add_exports, ireland_imports, how=\"outer\", on = [\"Crop_Livestock\", \"Year\"])\n",
    "\n",
    "# merge population data. Outer merge so no data is lost \n",
    "\n",
    "ireland_df = pd.merge(ireland_df, ireland_pop, how=\"outer\", on = [\"Year\"])\n",
    "ireland_df.head()\n",
    "\n",
    "#ireland_add_imvals = pd.merge(ireland_add_exports, ireland_imports_val, how=\"outer\", on = [\"Crop_Livestock\", \"Year\"])\n",
    "#ireland_df = pd.merge(ireland_add_imvals, ireland_exports_val, how=\"outer\", on = [\"Crop_Livestock\", \"Year\"])"
   ]
  },
  {
   "cell_type": "code",
   "execution_count": null,
   "id": "d114493c",
   "metadata": {},
   "outputs": [],
   "source": [
    "ireland_df.shape"
   ]
  },
  {
   "cell_type": "code",
   "execution_count": null,
   "id": "164c6309",
   "metadata": {},
   "outputs": [],
   "source": [
    "ireland_df.columns"
   ]
  },
  {
   "cell_type": "code",
   "execution_count": null,
   "id": "bf955fc3",
   "metadata": {},
   "outputs": [],
   "source": [
    "# drop duplicate / unnecessary columns\n",
    "ire_to_drop = ['Element_x', 'Country_x', 'Element_y', 'Country_y', 'Element', 'Population_Ireland_x']\n",
    "ireland_df = ireland_df.drop(ire_to_drop, axis = 1)\n",
    "\n",
    "# rename columns to include unit\n",
    "ireland_df.rename(columns={'Population_Ireland_y' : 'Population_Ireland'}, inplace=True)\n",
    "\n",
    "#reorder columns \n",
    "ire_columns = ['Prod Country', 'Crop_Livestock', 'Year', 'Production Unit',  'Production Value', 'Import Unit', 'Import Quantity', 'Export Unit', 'Export Quantity',  'Population_Ireland']\n",
    "ireland_df = ireland_df.reindex(columns=ire_columns)\n",
    "\n",
    "# check dataset\n",
    "ireland_df.head(100)"
   ]
  },
  {
   "cell_type": "code",
   "execution_count": null,
   "id": "49df9797",
   "metadata": {},
   "outputs": [],
   "source": [
    "# number of missing values \n",
    "ireland_df.isnull().sum()"
   ]
  },
  {
   "cell_type": "code",
   "execution_count": null,
   "id": "8e9a8802",
   "metadata": {},
   "outputs": [],
   "source": [
    "#check the amount of 0's in each column\n",
    "ireland_df_sparse = (ireland_df == 0).sum()\n",
    "ireland_df_sparse"
   ]
  },
  {
   "cell_type": "code",
   "execution_count": null,
   "id": "29e42e7b",
   "metadata": {},
   "outputs": [],
   "source": [
    "# drop all rows with NaN and 0 values\n",
    "\n",
    "# first will replace 0 values with NaNs  \n",
    "ireland_df['Prod Country'].replace(to_replace = np.nan, value = 'Ireland', inplace=True)\n",
    "\n",
    "# first will replace 0 values with NaNs  \n",
    "ireland_df.replace(to_replace = np.nan, value = 0, inplace=True)\n",
    "\n",
    "# check if we have any NaN values in our dataset\n",
    "ireland_df.isnull().sum()"
   ]
  },
  {
   "cell_type": "code",
   "execution_count": null,
   "id": "1451996a",
   "metadata": {},
   "outputs": [],
   "source": [
    "ireland_df_sparse"
   ]
  },
  {
   "cell_type": "code",
   "execution_count": null,
   "id": "3183fe50",
   "metadata": {},
   "outputs": [],
   "source": [
    "# cast value as int \n",
    "ireland_df['Production Value'] = ireland_df['Production Value'].astype('int')\n",
    "ireland_df['Import Quantity'] = ireland_df['Import Quantity'].astype('int')\n",
    "ireland_df['Export Quantity'] = ireland_df['Export Quantity'].astype('int')\n",
    "ireland_df['Population_Ireland'] = ireland_df['Population_Ireland'].astype('int')"
   ]
  },
  {
   "cell_type": "code",
   "execution_count": null,
   "id": "d00993b3",
   "metadata": {},
   "outputs": [],
   "source": [
    "# replace items with differeng names across datasets \n",
    "ireland_df.replace(to_replace = 'Meat, beef, preparations', value = 'Meat, beef' , inplace=True)\n",
    "ireland_df.replace(to_replace = 'Beef and Buffalo Meat', value = 'Meat, beef' , inplace=True)\n",
    "ireland_df.replace(to_replace = 'Meat, cattle, boneless (beef & veal)', value = 'Meat, beef' , inplace=True)\n",
    "ireland_df.replace(to_replace = 'Meat, cattle', value = 'Meat, beef' , inplace=True)\n",
    "ireland_df.replace(to_replace = 'Pigmeat', value = 'Meat, pig' , inplace=True)\n",
    "ireland_df.replace(to_replace = 'Meat, pig, preparations', value = 'Meat, pig' , inplace=True)\n",
    "ireland_df.replace(to_replace = 'Bovine Meat', value = 'Meat, beef' , inplace=True)\n",
    "ireland_df.replace(to_replace = 'Meat, goose and guinea fowl', value = 'Meat, goose' , inplace=True)\n",
    "ireland_df.replace(to_replace = 'Almonds, with shell', value = 'Almonds' , inplace=True)\n",
    "ireland_df.replace(to_replace = 'Almonds shelled', value = 'Almonds' , inplace=True)\n",
    "ireland_df.replace(to_replace = 'Hazelnuts, with shell', value = 'Hazelnuts' , inplace=True)\n",
    "ireland_df.replace(to_replace = 'Hazelnuts, shelled', value = 'Hazelnuts' , inplace=True)\n",
    "ireland_df.replace(to_replace = 'Cashew nuts, with shell', value = 'Cashew nuts' , inplace=True)\n",
    "ireland_df.replace(to_replace = 'Cashew nuts, shelled', value = 'Cashew nuts' , inplace=True)"
   ]
  },
  {
   "cell_type": "code",
   "execution_count": null,
   "id": "4bbc9d20",
   "metadata": {},
   "outputs": [],
   "source": []
  },
  {
   "cell_type": "code",
   "execution_count": null,
   "id": "c0562a57",
   "metadata": {},
   "outputs": [],
   "source": []
  },
  {
   "cell_type": "code",
   "execution_count": null,
   "id": "5d02e5cf",
   "metadata": {},
   "outputs": [],
   "source": []
  },
  {
   "cell_type": "markdown",
   "id": "6f2b9afc",
   "metadata": {},
   "source": [
    "## Feature Engineering - Ireland Consumption \n",
    "\n",
    "In order to analyse whether Irelands consumption has changed over time in line with changing diet  trends, a consumption column wil need to be feature engineered. To calculate consumption of a product; production, export and import data on a particular crop is required and the folowing equation will be used:\n",
    "\n",
    "    Consumption = (Production + Imports) - Exports \n",
    "\n",
    "This calaculation is as adaptation of the calculation used to calculate GDP, which is:\n",
    "\n",
    "    GDP = Domestic Consumption (C) + Domestic gross investment (In) + Government spending (G) + [Exports (E)—Imports (I )], or GDP = C + In + G + (E—I)\n",
    "\n",
    "https://www.wilsoncenter.org/chapter-3-trade-agreements-and-economic-theory\n"
   ]
  },
  {
   "cell_type": "code",
   "execution_count": null,
   "id": "c8cf716d",
   "metadata": {},
   "outputs": [],
   "source": [
    "ireland_df['Consumption'] = (ireland_df['Production Value'] + ireland_df['Import Quantity']) - ireland_df['Export Quantity']"
   ]
  },
  {
   "cell_type": "code",
   "execution_count": null,
   "id": "7fe1c7e4",
   "metadata": {},
   "outputs": [],
   "source": [
    "ireland_df"
   ]
  },
  {
   "cell_type": "code",
   "execution_count": null,
   "id": "41ee6b45",
   "metadata": {},
   "outputs": [],
   "source": []
  },
  {
   "cell_type": "code",
   "execution_count": null,
   "id": "8e6f8b14",
   "metadata": {},
   "outputs": [],
   "source": []
  },
  {
   "cell_type": "markdown",
   "id": "8981f9c4",
   "metadata": {},
   "source": [
    "## Ireland Meat/ Dairy/ Crop Datasets\n",
    "\n",
    "As the focus of this analysis is how irish production and consumption has changed over time in line with consumer diet trends and thus impacted irelands agriculture, the ireland_df can be divided into Meat / Dairy / Crop datasets for further analysis. This will be done by using the str.contains function to specify what products should/ should not be included in each dataset.\n",
    "\n",
    "The .unique and loc functions will then be used to further filter each dataset and remove any unwanted/ non relevant  products from each dataset. \n",
    "\n",
    "The crop dataset will be determined by crops associated with vegan produce such as milk alternatives and meat alternative products. "
   ]
  },
  {
   "cell_type": "code",
   "execution_count": null,
   "id": "56f6117a",
   "metadata": {},
   "outputs": [],
   "source": [
    "# irish production meat products\n",
    "ireland_meat = ireland_df.loc[ireland_df['Crop_Livestock'].str.contains('meat', case=False)]\n",
    "ireland_meat.rename(columns={'Crop_Livestock': 'Meat_Type'}, inplace=True)\n",
    "ireland_meat.reset_index(drop=True)\n",
    "\n",
    "# irish production dairy products\n",
    "ireland_dairy = ireland_df.loc[ireland_df['Crop_Livestock'].str.contains('milk|cream', case=False)]\n",
    "ireland_dairy.rename(columns={'Crop_Livestock': 'Dairy_Product'}, inplace=True)\n",
    "ireland_dairy.reset_index(drop=True)\n",
    "\n",
    "# irish production crops\n",
    "ireland_crop = ireland_df.loc[ireland_df['Crop_Livestock'].str.contains('total|chickpea|soy|almond|oat|hazelnut|cashew|tofu|avocado|mushroom|hemp|flax|chia|seaweed|yeast|quinoa|primary', case=False)]\n",
    "ireland_crop = ireland_crop.loc[ireland_crop['Crop_Livestock'].str.contains('meat|milk|offal|fat|hide|wool|sheep|cream|egg|lard|butter|cheese|oil|skin|goat|rice|juice|other|paste|sauce|tow|canned|cake|frozen|nes|confectionery|oil|broken|waste|equivalent', case=False) == False]\n",
    "ireland_crop.rename(columns={'Crop_Livestock': 'Crop'}, inplace=True)\n",
    "ireland_crop.reset_index(drop=True)\n",
    "\n"
   ]
  },
  {
   "cell_type": "code",
   "execution_count": null,
   "id": "ff2d843b",
   "metadata": {},
   "outputs": [],
   "source": [
    "ireland_crop['Crop'].unique()"
   ]
  },
  {
   "cell_type": "code",
   "execution_count": null,
   "id": "9b8aa41f",
   "metadata": {},
   "outputs": [],
   "source": [
    "# check Meat Type values are what we want for analysis\n",
    "ireland_meat['Meat_Type'].unique()"
   ]
  },
  {
   "cell_type": "code",
   "execution_count": null,
   "id": "f41c97bb",
   "metadata": {},
   "outputs": [],
   "source": [
    "ireland_meat = ireland_meat.loc[ireland_meat['Meat_Type'].str.contains('nes|total|poultry|other|canned', case=False) == False]\n",
    "ireland_meat = ireland_meat.loc[ireland_meat['Meat_Type'].str.contains('Sheep and Goat Meat', case=False) == False]"
   ]
  },
  {
   "cell_type": "code",
   "execution_count": null,
   "id": "d53bf6af",
   "metadata": {},
   "outputs": [],
   "source": [
    "ireland_dairy['Dairy_Product'].unique()"
   ]
  },
  {
   "cell_type": "code",
   "execution_count": null,
   "id": "0c9b9928",
   "metadata": {},
   "outputs": [],
   "source": [
    "ireland_dairy = ireland_dairy.loc[ireland_dairy['Dairy_Product'] != 'Evaporat&Condensed Milk']\n",
    "ireland_dairy = ireland_dairy.loc[ireland_dairy['Dairy_Product'] != 'Buttermilk, curdled, acidified milk']\n",
    "ireland_dairy = ireland_dairy.loc[ireland_dairy['Dairy_Product'] != 'Ice cream and edible ice']\n",
    "ireland_dairy = ireland_dairy.loc[ireland_dairy['Dairy_Product'] != 'Skim Milk&Buttermilk,Dry']\n",
    "ireland_dairy = ireland_dairy.loc[ireland_dairy['Dairy_Product'].str.contains('total|nes', case=False) == False]"
   ]
  },
  {
   "cell_type": "markdown",
   "id": "0cba1445",
   "metadata": {},
   "source": [
    "### Descriptive Statistics per product type for all years\n",
    "\n",
    "Now the data has been cleaned, descriptive statistical analysis can begin. A mean production / import/ export value will be shown for each product type (meat, dairy, crop). Min/ max info, inter quatrile ranges and standard diveation form the mean will also be shown per product type across production/ imports / exports. \n",
    "\n",
    "Population data can be ignored here as data will be skewed. \n"
   ]
  },
  {
   "cell_type": "code",
   "execution_count": null,
   "id": "afb976df",
   "metadata": {},
   "outputs": [],
   "source": [
    "# for all meat products 1961-2019\n",
    "ireland_meat.describe()\n",
    "\n",
    "# for all dairy products 1961-2019\n",
    "ireland_dairy.describe()\n",
    "\n",
    "# for all crops 1961-2019\n",
    "ireland_crop.describe()"
   ]
  },
  {
   "cell_type": "markdown",
   "id": "8815fb8a",
   "metadata": {},
   "source": [
    "### Ireland Visualisations \n",
    "\n",
    "Seaborn & MatPlotlib libraries will be used to visualise Irelands agriculture production from 1961-2019 for meat / dairy/ crops.\n",
    "\n",
    "A line graph is chosen as to show production and consumption over time. A loop will be used here to avoid repetition, a function will be created to all this loop for different datasets. \n",
    "\n",
    "A bar plot is used to show Top Meat/ Dairy/ Crop Imports, Exports and consumption per product. Similarly, a loop will be used here to avoid repetition, a function will be created to all this loop for different datasets. \n",
    "\n",
    "These visualisations will then be compared against population values to see if values increase/ decrease with population. "
   ]
  },
  {
   "cell_type": "code",
   "execution_count": null,
   "id": "949e1c0f",
   "metadata": {},
   "outputs": [],
   "source": [
    "ireland_meat_list = ireland_meat['Meat_Type'].unique()\n",
    "germany_meat_list = germany_meat['Meat_Type'].unique()\n",
    "oz_meat_list = oz_meat['Meat_Type'].unique()\n",
    "ireland_dairy_list = ireland_dairy['Dairy_Product'].unique()\n",
    "germany_dairy_list = germany_dairy['Dairy_Product'].unique()\n",
    "oz_dairy_list = oz_dairy['Dairy_Product'].unique()\n",
    "ireland_crop_list = ireland_crop['Crop'].unique()\n",
    "germany_crop_list = germany_crop['Crop'].unique()\n",
    "oz_crop_list = oz_crop['Crop'].unique()"
   ]
  },
  {
   "cell_type": "code",
   "execution_count": null,
   "id": "953b43cf",
   "metadata": {},
   "outputs": [],
   "source": [
    "ireland_meat_list = ireland_meat['Meat_Type'].unique()"
   ]
  },
  {
   "cell_type": "code",
   "execution_count": null,
   "id": "1d56b64b",
   "metadata": {},
   "outputs": [],
   "source": [
    "# function 1 - Line graphs for production / consumption Vs Population throughout years\n",
    "\n",
    "# set the spacing between subplots /  # add title to include i value\n",
    "# https://stackoverflow.com/questions/35638525/how-to-add-title-to-subplots-with-loop\n",
    "\n",
    "## add annotation for lines in line graph\n",
    "# https://stackoverflow.com/questions/49237522/how-to-annotate-end-of-lines-using-python-and-matplotlib\n",
    "#https://matplotlib.org/3.5.0/api/_as_gen/matplotlib.axes.Axes.annotate.html\n",
    "\n",
    "\n",
    "\n",
    "line_values = ['Production Value', 'Consumption']\n",
    "\n",
    "def plotlinegraphs(dataset, value, country, popvalue, ydataname):\n",
    "    plt.figure(figsize = (15,20))\n",
    "    for i in enumerate(line_values):\n",
    "        plt.subplot(2,1,i[0]+1)\n",
    "        ax = sns.lineplot(data= dataset, x=\"Year\", y= i[1], hue= value, ci=None, )\n",
    "        for line, name in zip(ax.lines, ydataname):\n",
    "            y = line.get_ydata()[-1]\n",
    "            ax.annotate(name, xy=(1,y), xytext=(750,1), color=line.get_color(), \n",
    "                textcoords=\"offset points\",\n",
    "                size=14, va=\"baseline\")\n",
    "            plt.xticks(rotation = 80, fontsize=12)\n",
    "            plt.xlabel('\\nYear', fontsize=15) \n",
    "            plt.ylabel('Amount in Tonnes\\n', fontsize=15)\n",
    "            plt.legend(prop = {'size': 10}, loc='best', bbox_to_anchor=(1.1, 1))\n",
    "            plt.subplots_adjust(left=None, bottom=None, right=1, top=None, wspace=None, hspace=0.4)\n",
    "            plt.title('\\n ' + country + i[1] + ' per ' + value + ' Vs Population for 1961-2019\\n', fontsize=20)\n",
    "        ax2 = plt.twinx()\n",
    "        #plt.ylabel('\\nPopulation', fontsize=15)\n",
    "        plt.ylabel('\\n ', fontsize=15)\n",
    "        sns.lineplot(data=dataset, x=\"Year\", y= popvalue, color =\"r\", \n",
    "                     label= 'Population', linestyle='dashdot', linewidth=3, ax=ax2)        \n",
    "plt.show(); "
   ]
  },
  {
   "cell_type": "code",
   "execution_count": null,
   "id": "cf269288",
   "metadata": {
    "scrolled": false
   },
   "outputs": [],
   "source": [
    "plotlinegraphs(ireland_meat, 'Meat_Type', 'Ireland ', 'Population_Ireland', ireland_meat_list)"
   ]
  },
  {
   "cell_type": "code",
   "execution_count": null,
   "id": "142c108d",
   "metadata": {},
   "outputs": [],
   "source": [
    "\n",
    "\n",
    "\n",
    "plt.figure(figsize = (15,10))\n",
    "ax = sns.lineplot(data= ireland_meat, x=\"Year\", y= 'Consumption', hue= 'Meat_Type', ci=None )\n",
    "for line, name in zip(ax.lines, ireland_meat_list):\n",
    "    y = line.get_ydata()[-1]\n",
    "    ax.annotate(name, xy=(1,y), xytext=(6,0), color=line.get_color(), \n",
    "                xycoords = ax.get_yaxis_transform(), textcoords=\"offset points\",\n",
    "                size=14, va=\"center\")\n",
    "    plt.xticks(rotation = 80, fontsize=12)\n",
    "    plt.xlabel('\\nYear', fontsize=15) \n",
    "    plt.ylabel('Amount in Tonnes\\n', fontsize=15)\n",
    "    plt.title('\\n  Vs Population for 1961-2019\\n', fontsize=20)\n",
    "\n",
    "plt.show(); "
   ]
  },
  {
   "cell_type": "code",
   "execution_count": null,
   "id": "9e10047a",
   "metadata": {},
   "outputs": [],
   "source": [
    "\n",
    "\n",
    "\n",
    "\n"
   ]
  },
  {
   "cell_type": "code",
   "execution_count": null,
   "id": "3cbe5af9",
   "metadata": {},
   "outputs": [],
   "source": []
  },
  {
   "cell_type": "code",
   "execution_count": null,
   "id": "27d4fad9",
   "metadata": {},
   "outputs": [],
   "source": []
  },
  {
   "cell_type": "code",
   "execution_count": null,
   "id": "47f7cb28",
   "metadata": {},
   "outputs": [],
   "source": []
  },
  {
   "cell_type": "code",
   "execution_count": null,
   "id": "a945d770",
   "metadata": {},
   "outputs": [],
   "source": []
  },
  {
   "cell_type": "code",
   "execution_count": null,
   "id": "a787acb3",
   "metadata": {},
   "outputs": [],
   "source": [
    "# function 1 - Line graphs for production / consumption Vs Population throughout years\n",
    "\n",
    "# set the spacing between subplots /  # add title to include i value\n",
    "# https://stackoverflow.com/questions/35638525/how-to-add-title-to-subplots-with-loop\n",
    "\n",
    "## add annotation for lines in line graph\n",
    "# https://stackoverflow.com/questions/49237522/how-to-annotate-end-of-lines-using-python-and-matplotlib\n",
    "#https://matplotlib.org/3.5.0/api/_as_gen/matplotlib.axes.Axes.annotate.html\n",
    "\n",
    "\n",
    "\n",
    "line_values = ['Production Value', 'Consumption']\n",
    "\n",
    "def plotlinegraphs(dataset, value, country, popvalue):\n",
    "    plt.figure(figsize = (15,20))\n",
    "    for i in enumerate(line_values):\n",
    "        plt.subplot(2,1,i[0]+1)\n",
    "        sns.lineplot(data= dataset, x=\"Year\", y= i[1], hue= value, ci=None )\n",
    "        plt.xticks(rotation = 80, fontsize=12)\n",
    "        plt.xlabel('\\nYear', fontsize=15) \n",
    "        plt.ylabel('Amount in Tonnes\\n', fontsize=15)\n",
    "        plt.legend(prop = {'size': 10}, loc='best', bbox_to_anchor=(1.3, 1))\n",
    "        plt.subplots_adjust(left=None, bottom=None, right=None, top=None, wspace=None, hspace=0.4)\n",
    "        plt.title('\\n ' + country + i[1] + ' per ' + value + ' Vs Population for 1961-2019\\n', fontsize=20)\n",
    "        ax2 = plt.twinx()\n",
    "        plt.ylabel('\\nPopulation', fontsize=15)\n",
    "        sns.lineplot(data=dataset, x=\"Year\", y= popvalue, color =\"r\", \n",
    "                     label= 'Population', linestyle='dashdot', linewidth=3, ax=ax2)        \n",
    "plt.show(); "
   ]
  },
  {
   "cell_type": "code",
   "execution_count": null,
   "id": "a3767675",
   "metadata": {},
   "outputs": [],
   "source": [
    "# # function 2 - Line graphs for production / consumption thrughout yearswhere max/ min values are required \n",
    "\n",
    "line_values = ['Production Value', 'Consumption']\n",
    "\n",
    "def plotlinegraphsii(dataset, value, minx, maxx, country, popvalue, title):\n",
    "    plt.figure(figsize = (15,20))\n",
    "    for i in enumerate(line_values):\n",
    "        plt.subplot(2,1,i[0]+1)\n",
    "        sns.lineplot(data= dataset, x=\"Year\", y= i[1], hue= value, ci=None )\n",
    "        plt.ylim([minx, maxx])\n",
    "        plt.xticks(rotation = 80, fontsize=12)\n",
    "        plt.xlabel('\\nYear', fontsize=15) \n",
    "        plt.ylabel('Amount in Tonnes\\n', fontsize=15)\n",
    "        plt.legend(prop = {'size': 10}, loc='best', bbox_to_anchor=(1.3, 1))\n",
    "    # https://stackoverflow.com/questions/35638525/how-to-add-title-to-subplots-with-loop\n",
    "    # set the spacing between subplots \n",
    "        plt.subplots_adjust(left=None, bottom=None, right=None, top=None, wspace=None, hspace=0.4)\n",
    "    # add title to include i value\n",
    "        plt.title('\\n ' + country + i[1] + ' per ' + title + value + ' Vs Population for 1961-2019\\n', fontsize=20)\n",
    "        ax2 = plt.twinx()\n",
    "        plt.ylabel('\\nPopulation', fontsize=15)\n",
    "        sns.lineplot(data=dataset, x=\"Year\", y= popvalue, color =\"r\", \n",
    "                     label= 'Population', linestyle='dashdot', linewidth=3, ax=ax2)        \n",
    "plt.show(); "
   ]
  },
  {
   "cell_type": "code",
   "execution_count": null,
   "id": "9825e563",
   "metadata": {},
   "outputs": [],
   "source": [
    "# function 3 - Bar plots for production/ consumption/ imports / exports \n",
    "\n",
    "features = ['Production Value', 'Import Quantity', 'Export Quantity', 'Consumption']\n",
    "\n",
    "def plotfigures(dataset, value, country):\n",
    "    plt.figure(figsize = (15,30))\n",
    "    for i in enumerate(features):\n",
    "        plt.subplot(4,1,i[0]+1)\n",
    "        sns.barplot(data = dataset, x = value, y = i[1])\n",
    "        plt.xticks(rotation = 80, fontsize=12)\n",
    "        plt.xlabel('Product\\n', fontsize=15) \n",
    "        plt.ylabel('Amount in Tonnes\\n', fontsize=15)\n",
    "    # https://stackoverflow.com/questions/35638525/how-to-add-title-to-subplots-with-loop\n",
    "    # set the spacing between subplots \n",
    "        plt.subplots_adjust(left=None, bottom=None, right=None, top=1, wspace=None, hspace=1)\n",
    "    # add title to include i value\n",
    "        plt.title('\\n ' + country + i[1] + ' per ' +  value + ' for 1961-2019\\n', fontsize=20)\n",
    "plt.show(); "
   ]
  },
  {
   "cell_type": "code",
   "execution_count": null,
   "id": "2237c10a",
   "metadata": {
    "scrolled": false
   },
   "outputs": [],
   "source": [
    "plotlinegraphs(ireland_meat, 'Meat_Type', 'Ireland ', 'Population_Ireland');\n",
    "plotfigures(ireland_meat, 'Meat_Type', 'Ireland ');"
   ]
  },
  {
   "cell_type": "code",
   "execution_count": null,
   "id": "03b78ec7",
   "metadata": {
    "scrolled": false
   },
   "outputs": [],
   "source": [
    "plotlinegraphsii(ireland_dairy, 'Dairy_Product', 1000000, 8500000, 'Ireland ', 'Population_Ireland', 'Top ')\n",
    "plotlinegraphsii(ireland_dairy, 'Dairy_Product', 0, 300000, 'Ireland ', 'Population_Ireland', 'Other ')\n",
    "plotfigures(ireland_dairy, 'Dairy_Product', 'Ireland ');\n"
   ]
  },
  {
   "cell_type": "code",
   "execution_count": null,
   "id": "ff8cb012",
   "metadata": {
    "scrolled": false
   },
   "outputs": [],
   "source": [
    "#plotlinegraphs(ireland_crop, 'Crop', 'Ireland ', 'Population_Ireland');\n",
    "plotlinegraphsii(ireland_crop, 'Crop', 80000, 3000000, 'Ireland ', 'Population_Ireland', 'Top ')\n",
    "plotlinegraphsii(ireland_crop, 'Crop', 0, 80000, 'Ireland ', 'Population_Ireland', 'Other ')\n",
    "plotfigures(ireland_crop, 'Crop', 'Ireland ');"
   ]
  },
  {
   "cell_type": "code",
   "execution_count": null,
   "id": "fb96f8b5",
   "metadata": {},
   "outputs": [],
   "source": []
  },
  {
   "cell_type": "markdown",
   "id": "5152b8f4",
   "metadata": {},
   "source": [
    "### Ireland Production Pivot Table"
   ]
  },
  {
   "cell_type": "code",
   "execution_count": null,
   "id": "db007e4f",
   "metadata": {},
   "outputs": [],
   "source": [
    "#ireland_dairy_prod as a pivot table to see dairy poduct values per year\n",
    "\n",
    "ireland_meat_table = pd.pivot_table(ireland_meat, values='Production Value', index=['Prod Country', 'Year'],\n",
    "                    columns=['Meat_Type'], aggfunc=np.sum, fill_value=0)\n",
    "\n",
    "\n",
    "ireland_dairy_table = pd.pivot_table(ireland_dairy, values='Production Value', index=['Prod Country', 'Year'],\n",
    "                    columns=['Dairy_Product'], aggfunc=np.sum, fill_value=0)\n",
    "\n",
    "\n",
    "ireland_crop_table = pd.pivot_table(ireland_crop, values='Production Value', index=['Prod Country', 'Year'],\n",
    "                    columns=['Crop'], aggfunc=np.sum, fill_value=0)"
   ]
  },
  {
   "cell_type": "code",
   "execution_count": null,
   "id": "274d8551",
   "metadata": {},
   "outputs": [],
   "source": [
    "ireland_meat_table"
   ]
  },
  {
   "cell_type": "code",
   "execution_count": null,
   "id": "9ec38eab",
   "metadata": {
    "scrolled": false
   },
   "outputs": [],
   "source": [
    "ireland_dairy_table"
   ]
  },
  {
   "cell_type": "code",
   "execution_count": null,
   "id": "15a6867a",
   "metadata": {},
   "outputs": [],
   "source": [
    "ireland_crop_table"
   ]
  },
  {
   "cell_type": "markdown",
   "id": "efaaa581",
   "metadata": {},
   "source": [
    "### Descriptive Statistics per product for all years\n",
    "\n",
    "The FAO datasets are free of outliers, however, outliers will appear when looking at boxplots per product for all years as this data is presented in Pivot table format and will show 0 values for years where production on an item had not yet started. "
   ]
  },
  {
   "cell_type": "code",
   "execution_count": null,
   "id": "cc3a911f",
   "metadata": {
    "scrolled": true
   },
   "outputs": [],
   "source": [
    "ireland_meat_table.describe().apply(lambda s: s.apply('{0:.2f}'.format))\n",
    "ireland_dairy_table.describe().apply(lambda s: s.apply('{0:.2f}'.format))\n",
    "ireland_crop_table.describe().apply(lambda s: s.apply('{0:.2f}'.format))"
   ]
  },
  {
   "cell_type": "code",
   "execution_count": null,
   "id": "da730fe2",
   "metadata": {},
   "outputs": [],
   "source": [
    "plt.figure(figsize=[15, 10])\n",
    "sns.boxplot(data=ireland_meat_table, orient='h', palette='Reds_r');"
   ]
  },
  {
   "cell_type": "code",
   "execution_count": null,
   "id": "4893fe69",
   "metadata": {},
   "outputs": [],
   "source": [
    "plt.figure(figsize=[15, 10])\n",
    "sns.boxplot(data=ireland_dairy_table, orient='h', palette='BuPu_r');"
   ]
  },
  {
   "cell_type": "code",
   "execution_count": null,
   "id": "ccfa66e8",
   "metadata": {},
   "outputs": [],
   "source": [
    "plt.figure(figsize=[15, 10])\n",
    "sns.boxplot(data=ireland_crop_table, orient='h', palette='summer_r');"
   ]
  },
  {
   "cell_type": "code",
   "execution_count": null,
   "id": "fb83ed5f",
   "metadata": {},
   "outputs": [],
   "source": [
    "ireland_meat_table.columns "
   ]
  },
  {
   "cell_type": "code",
   "execution_count": null,
   "id": "267ac07a",
   "metadata": {},
   "outputs": [],
   "source": [
    "ireland_meat_columns = ['Meal, meat', 'Meat, beef', 'Meat, chicken', 'Meat, duck', 'Meat, game',\n",
    "       'Meat, goat', 'Meat, goose', 'Meat, horse', 'Meat, pig',\n",
    "       'Meat, pig sausages', 'Meat, pork', 'Meat, rabbit', 'Meat, sheep', 'Meat, turkey']"
   ]
  },
  {
   "cell_type": "code",
   "execution_count": null,
   "id": "c14c4830",
   "metadata": {},
   "outputs": [],
   "source": []
  },
  {
   "cell_type": "markdown",
   "id": "b965b9c5",
   "metadata": {},
   "source": [
    "## GERMANY"
   ]
  },
  {
   "cell_type": "markdown",
   "id": "7280ac89",
   "metadata": {},
   "source": [
    " ## Germany Production Datasets"
   ]
  },
  {
   "cell_type": "code",
   "execution_count": null,
   "id": "f4384009",
   "metadata": {},
   "outputs": [],
   "source": [
    "# create german dataset\n",
    "germany_prod_df = europe_melt.loc[europe_melt['Country']=='Germany']\n",
    "\n",
    "# german production dataset - all products (crop, meat, livestock)\n",
    "germany_prod = germany_prod_df.loc[germany_prod_df['Element']=='Production']\n",
    "\n",
    "# rename columns\n",
    "germany_prod.rename(columns={'Country': 'Prod Country', 'Unit': 'Production Unit', 'Value': 'Production Value' }, inplace=True)\n",
    "\n",
    "#reset index\n",
    "germany_prod.reset_index(drop=True, inplace=True)\n",
    "\n",
    "germany_prod\n",
    "\n"
   ]
  },
  {
   "cell_type": "markdown",
   "id": "3df7a88a",
   "metadata": {},
   "source": [
    "### Germany Missing Values "
   ]
  },
  {
   "cell_type": "code",
   "execution_count": null,
   "id": "d52c4e90",
   "metadata": {},
   "outputs": [],
   "source": [
    "#ireland_prod as a pivot table to see what values we need to replace for 2018/2019 only\n",
    "\n",
    "germany_prod_table = pd.pivot_table(germany_prod, values='Production Value', index=['Prod Country', 'Element', 'Production Unit', 'Year'],\n",
    "                    columns=['Crop_Livestock'], aggfunc=np.sum, fill_value=0)\n",
    "germany_prod_table"
   ]
  },
  {
   "cell_type": "code",
   "execution_count": null,
   "id": "5d35e785",
   "metadata": {},
   "outputs": [],
   "source": [
    "# search tab to identify what 2018/2019 data to be replaces & identify iloc \n",
    "germany_prod.loc[germany_prod['Crop_Livestock']=='Treenuts, Total']"
   ]
  },
  {
   "cell_type": "code",
   "execution_count": null,
   "id": "9a208796",
   "metadata": {},
   "outputs": [],
   "source": [
    "# replace missing 2018/ 2019 values with last recorded value \n",
    "\n",
    "germany_prod.iloc[[9463, 9629],[5]] = 227.0\n",
    "germany_prod.iloc[[9478, 9644],[5]] = 2040.0\n",
    "germany_prod.iloc[[9479, 9645],[5]] = 791400.0\n",
    "germany_prod.iloc[[9480, 9646],[5]] = 1484200.0\n",
    "germany_prod.iloc[[9499, 9665],[5]] = 2703.0\n",
    "germany_prod.iloc[[9501, 9667],[5]] = 86160.0\n",
    "germany_prod.iloc[[9510, 9676],[5]] = 21600.0\n",
    "germany_prod.iloc[[9526, 9692],[5]] = 58400.0\n",
    "germany_prod.iloc[[9531, 9697],[5]] = 32532.0\n",
    "germany_prod.iloc[[9534, 9700],[5]] = 13800937.0\n",
    "germany_prod.iloc[[9535, 9701],[5]] = 430400.0\n",
    "germany_prod.iloc[[9536, 9702],[5]] = 27000.0\n",
    "germany_prod.iloc[[9537, 9703],[5]] = 37363.0\n",
    "germany_prod.iloc[[9538, 9704],[5]] = 134800.0\n",
    "germany_prod.iloc[[9539, 9705],[5]] = 376407.0\n",
    "germany_prod.iloc[[9546, 9712],[5]] = 8194.0\n",
    "germany_prod.iloc[[9561, 9727],[5]] = 12851.0\n",
    "germany_prod.iloc[[9567, 9733],[5]] = 91603.0\n",
    "germany_prod.iloc[[9569, 9735],[5]] = 562.0\n",
    "germany_prod.iloc[[9574, 9740],[5]] = 2905.0\n",
    "germany_prod.iloc[[9576, 9742],[5]] = 13141.0\n",
    "germany_prod.iloc[[9591, 9757],[5]] = 38164.0\n",
    "germany_prod.iloc[[9593, 9759],[5]] = 6218.0\n",
    "germany_prod.iloc[[9599, 9765],[5]] = 18261.0\n",
    "germany_prod.iloc[[9602, 9768],[5]] = 29446.0\n",
    "germany_prod.iloc[[9603, 9769],[5]] = 345200.0\n",
    "germany_prod.iloc[[9626, 9792],[5]] = 18261.0"
   ]
  },
  {
   "cell_type": "code",
   "execution_count": null,
   "id": "08cecde8",
   "metadata": {},
   "outputs": [],
   "source": [
    "# drop all rows with NaN and 0 values\n",
    "\n",
    "# first will replace 0 values with NaNs  \n",
    "germany_prod.replace(to_replace = 0, value = np.nan, inplace=True)\n",
    "\n",
    "# row = 0, column = 1\n",
    "germany_prod = germany_prod.dropna(axis=0)\n",
    "\n",
    "# check if we have any NaN values in our dataset\n",
    "germany_prod.isnull().values.any()"
   ]
  },
  {
   "cell_type": "code",
   "execution_count": null,
   "id": "9f04734f",
   "metadata": {},
   "outputs": [],
   "source": [
    "# cast value as int \n",
    "germany_prod['Production Value'] = germany_prod['Production Value'].astype('int')"
   ]
  },
  {
   "cell_type": "code",
   "execution_count": null,
   "id": "c8c7c3a6",
   "metadata": {},
   "outputs": [],
   "source": []
  },
  {
   "cell_type": "markdown",
   "id": "972aa774",
   "metadata": {},
   "source": [
    "### Germany Production- Add Population"
   ]
  },
  {
   "cell_type": "code",
   "execution_count": null,
   "id": "90c17322",
   "metadata": {},
   "outputs": [],
   "source": [
    "# merge population data. Outer merge so no data is lost \n",
    "germany_prod_pop = pd.merge(germany_prod, germany_pop, how=\"outer\", on = [\"Year\"])\n",
    "germany_prod_pop.head()"
   ]
  },
  {
   "cell_type": "code",
   "execution_count": null,
   "id": "5767b8c6",
   "metadata": {},
   "outputs": [],
   "source": [
    "germany_prod_pop.shape"
   ]
  },
  {
   "cell_type": "code",
   "execution_count": null,
   "id": "64e159f6",
   "metadata": {},
   "outputs": [],
   "source": []
  },
  {
   "cell_type": "markdown",
   "id": "6422520c",
   "metadata": {},
   "source": [
    "###  Germany Production Analysis"
   ]
  },
  {
   "cell_type": "code",
   "execution_count": null,
   "id": "c8a44c8e",
   "metadata": {},
   "outputs": [],
   "source": [
    "# german production meat products\n",
    "germany_meat_prod = germany_prod_pop.loc[germany_prod_pop['Crop_Livestock'].str.contains('meat', case=False)]\n",
    "germany_meat_prod.rename(columns={'Crop_Livestock': 'Meat Type'}, inplace=True)\n",
    "germany_meat_prod.reset_index(drop=True)\n",
    "\n",
    "# german production dairy products\n",
    "germany_dairy_prod =  germany_prod_pop.loc[ germany_prod_pop['Crop_Livestock'].str.contains('milk', case=False)]\n",
    "germany_dairy_prod.rename(columns={'Crop_Livestock': 'Dairy Product'}, inplace=True)\n",
    "germany_dairy_prod.reset_index(drop=True)\n",
    "\n",
    "# german production crops\n",
    "germany_crop_prod = germany_prod_pop.loc[germany_prod_pop['Crop_Livestock'].str.contains('meat', case=False) == False]\n",
    "germany_crop_prod = germany_crop_prod.loc[germany_crop_prod['Crop_Livestock'].str.contains('milk', case=False) == False]\n",
    "germany_crop_prod = germany_crop_prod.loc[germany_crop_prod['Crop_Livestock'].str.contains('offals', case=False) == False]\n",
    "germany_crop_prod = germany_crop_prod.loc[germany_crop_prod['Crop_Livestock'].str.contains('fat', case=False) == False]\n",
    "germany_crop_prod = germany_crop_prod.loc[germany_crop_prod['Crop_Livestock'].str.contains('hides', case=False) == False]\n",
    "germany_crop_prod = germany_crop_prod.loc[germany_crop_prod['Crop_Livestock'].str.contains('wool', case=False) == False]\n",
    "germany_crop_prod = germany_crop_prod.loc[germany_crop_prod['Crop_Livestock'].str.contains('sheep', case=False) == False]\n",
    "germany_crop_prod = germany_crop_prod.loc[germany_crop_prod['Crop_Livestock'].str.contains('cream', case=False) == False]\n",
    "germany_crop_prod = germany_crop_prod.loc[germany_crop_prod['Crop_Livestock'].str.contains('egg', case=False) == False]\n",
    "germany_crop_prod = germany_crop_prod.loc[germany_crop_prod['Crop_Livestock'].str.contains('lard', case=False) == False]\n",
    "germany_crop_prod = germany_crop_prod.loc[germany_crop_prod['Crop_Livestock'].str.contains('butter', case=False) == False]\n",
    "germany_crop_prod = germany_crop_prod.loc[germany_crop_prod['Crop_Livestock'].str.contains('cheese', case=False) == False]\n",
    "germany_crop_prod = germany_crop_prod.loc[germany_crop_prod['Crop_Livestock'].str.contains('oil', case=False) == False]\n",
    "germany_crop_prod = germany_crop_prod.loc[germany_crop_prod['Crop_Livestock'].str.contains('skin', case=False) == False]\n",
    "\n",
    "germany_crop_prod.rename(columns={'Crop_Livestock': 'Crop'}, inplace=True)\n",
    "germany_crop_prod.reset_index(drop=True)\n"
   ]
  },
  {
   "cell_type": "code",
   "execution_count": null,
   "id": "8ea06421",
   "metadata": {},
   "outputs": [],
   "source": [
    "# check Meat Type values are what we want for analysis\n",
    "germany_meat_prod['Meat Type'].unique()"
   ]
  },
  {
   "cell_type": "code",
   "execution_count": null,
   "id": "13d1e985",
   "metadata": {},
   "outputs": [],
   "source": [
    "# remove any items we dont want \n",
    "germany_meat_prod = germany_meat_prod.loc[germany_meat_prod['Meat Type'] != 'Meat nes']\n",
    "germany_meat_prod = germany_meat_prod.loc[germany_meat_prod['Meat Type'] != 'Meat, Total']"
   ]
  },
  {
   "cell_type": "code",
   "execution_count": null,
   "id": "ee29d3d2",
   "metadata": {},
   "outputs": [],
   "source": [
    "germany_dairy_prod['Dairy Product'].unique()"
   ]
  },
  {
   "cell_type": "code",
   "execution_count": null,
   "id": "d8dd019b",
   "metadata": {},
   "outputs": [],
   "source": [
    "germany_dairy_prod = germany_dairy_prod.loc[germany_dairy_prod['Dairy Product'] != 'Milk, Total']\n",
    "germany_dairy_prod = germany_dairy_prod.loc[germany_dairy_prod['Dairy Product'] != 'Evaporat&Condensed Milk']"
   ]
  },
  {
   "cell_type": "code",
   "execution_count": null,
   "id": "0c1dab92",
   "metadata": {},
   "outputs": [],
   "source": [
    "germany_crop_prod['Crop'].unique()"
   ]
  },
  {
   "cell_type": "code",
   "execution_count": null,
   "id": "49f8e814",
   "metadata": {},
   "outputs": [],
   "source": [
    "germany_crop_prod = germany_crop_prod.loc[germany_crop_prod['Crop'] != 'Vegetables, fresh nes']\n",
    "germany_crop_prod = germany_crop_prod.loc[germany_crop_prod['Crop'] != 'Fruit, fresh nes']\n",
    "germany_crop_prod = germany_crop_prod.loc[germany_crop_prod['Crop'] != 'Cereals, Total']\n",
    "germany_crop_prod = germany_crop_prod.loc[germany_crop_prod['Crop'] != 'Fruit Primary']\n",
    "germany_crop_prod = germany_crop_prod.loc[germany_crop_prod['Crop'] != 'Vegetables Primary']\n",
    "germany_crop_prod = germany_crop_prod.loc[germany_crop_prod['Crop'] != 'Margarine, short']\n",
    "germany_crop_prod = germany_crop_prod.loc[germany_crop_prod['Crop'] != 'Cereals nes']\n",
    "germany_crop_prod = germany_crop_prod.loc[germany_crop_prod['Crop'] != 'Pulses, Total']\n",
    "germany_crop_prod = germany_crop_prod.loc[germany_crop_prod['Crop'] != 'Roots and Tubers, Total']\n",
    "germany_crop_prod = germany_crop_prod.loc[germany_crop_prod['Crop'] != 'Sugar Crops Primary']\n",
    "germany_crop_prod = germany_crop_prod.loc[germany_crop_prod['Crop'] != 'Vegetables, leguminous nes']\n",
    "germany_crop_prod = germany_crop_prod.loc[germany_crop_prod['Crop'] != 'Leeks, other alliaceous vegetables']\n",
    "germany_crop_prod = germany_crop_prod.loc[germany_crop_prod['Crop'] != 'Berries nes']\n",
    "\n"
   ]
  },
  {
   "cell_type": "code",
   "execution_count": null,
   "id": "3a9e8865",
   "metadata": {},
   "outputs": [],
   "source": []
  },
  {
   "cell_type": "code",
   "execution_count": null,
   "id": "9d211a18",
   "metadata": {},
   "outputs": [],
   "source": []
  },
  {
   "cell_type": "code",
   "execution_count": null,
   "id": "1c2c5b26",
   "metadata": {},
   "outputs": [],
   "source": [
    "# Rename 2015 Columns\n",
    "# dcc_2015_ff.rename(columns={' O_Connell_St_Outside_Clerys': 'OConnell_St_Clerys'}, inplace=True)"
   ]
  },
  {
   "cell_type": "markdown",
   "id": "4718f49f",
   "metadata": {},
   "source": [
    "### Germany Prodcuction Visualisations"
   ]
  },
  {
   "cell_type": "code",
   "execution_count": null,
   "id": "f7d0b360",
   "metadata": {
    "scrolled": false
   },
   "outputs": [],
   "source": [
    "plotprodvisuals(germany_meat_prod, 'Meat Type', 'Germany')\n",
    "plotprodvisuals(germany_dairy_prod, 'Dairy Product', 'Germany')\n",
    "plotprodvisuals(germany_crop_prod, 'Crop', 'Germany')"
   ]
  },
  {
   "cell_type": "code",
   "execution_count": null,
   "id": "8561cc62",
   "metadata": {},
   "outputs": [],
   "source": [
    "plotprodvisualsii(germany_meat_prod, \"Meat Type\", 10000, 6000000, 'Germany', 'Top ');\n",
    "plotprodvisualsii(germany_meat_prod, \"Meat Type\",  0, 100000, 'Germany', 'Other ');"
   ]
  },
  {
   "cell_type": "code",
   "execution_count": null,
   "id": "1034ffb6",
   "metadata": {},
   "outputs": [],
   "source": [
    "plotprodvisualsii(germany_dairy_prod, \"Dairy Product\", 5000000, 35000000, 'Germany', 'Top ');\n",
    "plotprodvisualsii(germany_dairy_prod, \"Dairy Product\",  0, 1500000, 'Germany', 'Other ');"
   ]
  },
  {
   "cell_type": "code",
   "execution_count": null,
   "id": "73de004e",
   "metadata": {
    "scrolled": false
   },
   "outputs": [],
   "source": [
    "plotprodvisualsii(germany_crop_prod, \"Crop\", 5000000, 40000000, 'Germany', 'Top ');\n",
    "plotprodvisualsii(germany_crop_prod, \"Crop\",  0, 5000000, 'Germany', 'Other ');\n",
    "plotprodbar(germany_crop_prod, \"Crop\",'Germany');"
   ]
  },
  {
   "cell_type": "code",
   "execution_count": null,
   "id": "e8e94bc6",
   "metadata": {},
   "outputs": [],
   "source": []
  },
  {
   "cell_type": "markdown",
   "id": "4955eaeb",
   "metadata": {},
   "source": [
    "## Germany Trade Datasets"
   ]
  },
  {
   "cell_type": "code",
   "execution_count": null,
   "id": "acdb169d",
   "metadata": {},
   "outputs": [],
   "source": [
    "# create german dataset\n",
    "germany_trade = europe_trade_df.loc[europe_trade_df['Country']=='Germany']\n",
    "\n",
    "# german import/ export datasets - all products (crop, meat, livestock)\n",
    "germany_imports = germany_trade.loc[germany_trade['Element']=='Import Quantity']\n",
    "germany_exports = germany_trade.loc[germany_trade['Element']=='Export Quantity']\n",
    "\n",
    "# rename Value Columns \n",
    "germany_imports.rename(columns={'Value': 'Import Quantity'}, inplace=True)\n",
    "germany_exports.rename(columns={'Value': 'Export Quantity'}, inplace=True)\n",
    "germany_exports.rename(columns={'Unit': 'Export Unit'}, inplace=True)\n",
    "germany_imports.rename(columns={'Unit': 'Import Unit'}, inplace=True)\n",
    "\n",
    "#reset index\n",
    "germany_imports.reset_index(drop=True, inplace=True)\n",
    "germany_exports.reset_index(drop=True, inplace=True)\n"
   ]
  },
  {
   "cell_type": "code",
   "execution_count": null,
   "id": "189fdd31",
   "metadata": {},
   "outputs": [],
   "source": [
    "germany_imports.head()\n",
    "germany_exports.head()"
   ]
  },
  {
   "cell_type": "code",
   "execution_count": null,
   "id": "adbef06b",
   "metadata": {},
   "outputs": [],
   "source": [
    "germany_imports.shape\n",
    "germany_exports.shape"
   ]
  },
  {
   "cell_type": "markdown",
   "id": "c53ea243",
   "metadata": {},
   "source": [
    "## Merge Germany Trade & Production"
   ]
  },
  {
   "cell_type": "code",
   "execution_count": null,
   "id": "205e5a83",
   "metadata": {},
   "outputs": [],
   "source": [
    "# merge population data. \n",
    "germany_add_exports = pd.merge(germany_prod_pop, germany_exports, how=\"left\", on = [\"Crop_Livestock\", \"Year\"])\n"
   ]
  },
  {
   "cell_type": "code",
   "execution_count": null,
   "id": "95adcc33",
   "metadata": {},
   "outputs": [],
   "source": [
    "germany_add_exports.head()\n",
    "germany_add_exports.shape"
   ]
  },
  {
   "cell_type": "code",
   "execution_count": null,
   "id": "e96936f2",
   "metadata": {},
   "outputs": [],
   "source": [
    "# merge data. \n",
    "germany_df = pd.merge(germany_add_exports, germany_imports, how=\"outer\", on = [\"Crop_Livestock\", \"Year\"])\n",
    "\n",
    "# merge population data. Outer merge so no data is lost \n",
    "\n",
    "germany_df = pd.merge(germany_df, germany_pop, how=\"outer\", on = [\"Year\"])\n",
    "germany_df.head()\n",
    "\n",
    "#ireland_add_imvals = pd.merge(ireland_add_exports, ireland_imports_val, how=\"outer\", on = [\"Crop_Livestock\", \"Year\"])\n",
    "#ireland_df = pd.merge(ireland_add_imvals, ireland_exports_val, how=\"outer\", on = [\"Crop_Livestock\", \"Year\"])"
   ]
  },
  {
   "cell_type": "code",
   "execution_count": null,
   "id": "4e78c820",
   "metadata": {},
   "outputs": [],
   "source": [
    "germany_df.columns"
   ]
  },
  {
   "cell_type": "code",
   "execution_count": null,
   "id": "aa8e1d91",
   "metadata": {},
   "outputs": [],
   "source": [
    "# drop duplicate / unnecessary columns\n",
    "ger_to_drop = ['Element_x', 'Country_x', 'Element_y', 'Country_y', 'Element', 'Population_Germany_x']\n",
    "germany_df = germany_df.drop(ger_to_drop, axis = 1)\n",
    "\n",
    "# rename columns to include unit\n",
    "germany_df.rename(columns={'Population_Germany_y' : 'Population_Germany'}, inplace=True)\n",
    "\n",
    "#reorder columns \n",
    "ger_columns = ['Prod Country', 'Crop_Livestock', 'Year', 'Production Unit',  'Production Value', 'Import Unit', 'Import Quantity', 'Export Unit', 'Export Quantity',  'Population_Germany']\n",
    "germany_df = germany_df.reindex(columns=ger_columns)\n",
    "\n",
    "# check dataset\n",
    "germany_df.head(100)"
   ]
  },
  {
   "cell_type": "code",
   "execution_count": null,
   "id": "a6fd81b3",
   "metadata": {},
   "outputs": [],
   "source": [
    "# number of missing values \n",
    "germany_df.isnull().sum()"
   ]
  },
  {
   "cell_type": "code",
   "execution_count": null,
   "id": "ff7470bc",
   "metadata": {},
   "outputs": [],
   "source": [
    "#check the amount of 0's in each column\n",
    "germany_df_sparse = (germany_df == 0).sum()\n",
    "germany_df_sparse"
   ]
  },
  {
   "cell_type": "code",
   "execution_count": null,
   "id": "5b4939a6",
   "metadata": {},
   "outputs": [],
   "source": [
    "# drop all rows with NaN and 0 values\n",
    "\n",
    "# first will replace 0 values with NaNs  \n",
    "germany_df['Prod Country'].replace(to_replace = np.nan, value = 'Germany', inplace=True)\n",
    "\n",
    "# first will replace 0 values with NaNs  \n",
    "germany_df.replace(to_replace = np.nan, value = 0, inplace=True)\n",
    "\n",
    "# check if we have any NaN values in our dataset\n",
    "germany_df.isnull().sum()\n"
   ]
  },
  {
   "cell_type": "code",
   "execution_count": null,
   "id": "434fe88c",
   "metadata": {},
   "outputs": [],
   "source": [
    "germany_df_sparse"
   ]
  },
  {
   "cell_type": "code",
   "execution_count": null,
   "id": "deac81c7",
   "metadata": {},
   "outputs": [],
   "source": [
    "# cast value as int \n",
    "germany_df['Production Value'] = germany_df['Production Value'].astype('int')\n",
    "germany_df['Import Quantity'] = germany_df['Import Quantity'].astype('int')\n",
    "germany_df['Export Quantity'] = germany_df['Export Quantity'].astype('int')\n",
    "germany_df['Population_Germany'] = germany_df['Population_Germany'].astype('int')"
   ]
  },
  {
   "cell_type": "code",
   "execution_count": null,
   "id": "8ca426dd",
   "metadata": {},
   "outputs": [],
   "source": [
    "germany_df['Crop_Livestock'].unique()"
   ]
  },
  {
   "cell_type": "code",
   "execution_count": null,
   "id": "e00e4c8e",
   "metadata": {},
   "outputs": [],
   "source": [
    "# replace items with differeng names across datasets \n",
    "germany_df.replace(to_replace = 'Meat, beef, preparations', value = 'Meat, beef' , inplace=True)\n",
    "germany_df.replace(to_replace = 'Beef and Buffalo Meat', value = 'Meat, beef' , inplace=True)\n",
    "germany_df.replace(to_replace = 'Meat, cattle, boneless (beef & veal)', value = 'Meat, beef' , inplace=True)\n",
    "germany_df.replace(to_replace = 'Meat, cattle', value = 'Meat, beef' , inplace=True)\n",
    "germany_df.replace(to_replace = 'Pigmeat', value = 'Meat, pig' , inplace=True)\n",
    "germany_df.replace(to_replace = 'Meat, pig, preparations', value = 'Meat, pig' , inplace=True)\n",
    "germany_df.replace(to_replace = 'Bovine Meat', value = 'Meat, beef' , inplace=True)\n",
    "germany_df.replace(to_replace = 'Meat, goose and guinea fowl', value = 'Meat, goose' , inplace=True)\n",
    "germany_df.replace(to_replace = 'Almonds, with shell', value = 'Almonds' , inplace=True)\n",
    "germany_df.replace(to_replace = 'Almonds shelled', value = 'Almonds' , inplace=True)\n",
    "germany_df.replace(to_replace = 'Hazelnuts, with shell', value = 'Hazelnuts' , inplace=True)\n",
    "germany_df.replace(to_replace = 'Hazelnuts, shelled', value = 'Hazelnuts' , inplace=True)\n",
    "germany_df.replace(to_replace = 'Cashew nuts, with shell', value = 'Cashew nuts' , inplace=True)\n",
    "germany_df.replace(to_replace = 'Cashew nuts, shelled', value = 'Cashew nuts' , inplace=True)"
   ]
  },
  {
   "cell_type": "code",
   "execution_count": null,
   "id": "1d1acbb0",
   "metadata": {},
   "outputs": [],
   "source": []
  },
  {
   "cell_type": "markdown",
   "id": "e8e39fc3",
   "metadata": {},
   "source": [
    "## Feature Engineering - Germany Consumption"
   ]
  },
  {
   "cell_type": "code",
   "execution_count": null,
   "id": "d72fdab7",
   "metadata": {},
   "outputs": [],
   "source": [
    "germany_df['Consumption'] = (germany_df['Production Value'] + germany_df['Import Quantity']) - germany_df['Export Quantity']"
   ]
  },
  {
   "cell_type": "code",
   "execution_count": null,
   "id": "a54f79c4",
   "metadata": {},
   "outputs": [],
   "source": [
    "germany_df.head()"
   ]
  },
  {
   "cell_type": "code",
   "execution_count": null,
   "id": "dda8093a",
   "metadata": {},
   "outputs": [],
   "source": []
  },
  {
   "cell_type": "markdown",
   "id": "e3243414",
   "metadata": {},
   "source": [
    "## Germany Meat/ Dairy/ Crop Datasets"
   ]
  },
  {
   "cell_type": "code",
   "execution_count": null,
   "id": "d840ad54",
   "metadata": {},
   "outputs": [],
   "source": [
    "# german production meat products\n",
    "germany_meat = germany_df.loc[germany_df['Crop_Livestock'].str.contains('meat', case=False)]\n",
    "germany_meat.rename(columns={'Crop_Livestock': 'Meat_Type'}, inplace=True)\n",
    "germany_meat.reset_index(drop=True)\n",
    "\n",
    "# german production dairy products\n",
    "germany_dairy = germany_df.loc[germany_df['Crop_Livestock'].str.contains('milk|cream', case=False)]\n",
    "germany_dairy.rename(columns={'Crop_Livestock': 'Dairy_Product'}, inplace=True)\n",
    "germany_dairy.reset_index(drop=True)\n",
    "\n",
    "# german production crops\n",
    "germany_crop = germany_df.loc[germany_df['Crop_Livestock'].str.contains('total|chickpea|soy|almond|oat|hazelnut|cashew|tofu|avocado|mushroom|hemp|flax|chia|seaweed|yeast|quinoa|primary', case=False)]\n",
    "germany_crop = germany_crop.loc[germany_crop['Crop_Livestock'].str.contains('meat|milk|offal|fat|hide|wool|sheep|cream|egg|lard|butter|cheese|oil|skin|goat|rice|juice|other|paste|sauce|canned|cake|frozen|nes|confectionery|oil|broken|waste|equivalent|tow', case=False) == False]\n",
    "germany_crop.rename(columns={'Crop_Livestock': 'Crop'}, inplace=True)\n",
    "germany_crop.reset_index(drop=True)\n"
   ]
  },
  {
   "cell_type": "code",
   "execution_count": null,
   "id": "29234379",
   "metadata": {},
   "outputs": [],
   "source": [
    "germany_crop['Crop'].unique()"
   ]
  },
  {
   "cell_type": "code",
   "execution_count": null,
   "id": "40c931ce",
   "metadata": {},
   "outputs": [],
   "source": [
    "# check Meat Type values are what we want for analysis\n",
    "germany_meat['Meat_Type'].unique()"
   ]
  },
  {
   "cell_type": "code",
   "execution_count": null,
   "id": "6d7506c2",
   "metadata": {},
   "outputs": [],
   "source": [
    "germany_meat = germany_meat.loc[germany_meat['Meat_Type'].str.contains('nes|total|poultry|other|canned', case=False) == False]\n",
    "germany_meat = germany_meat.loc[germany_meat['Meat_Type'].str.contains('Sheep and Goat Meat', case=False) == False]"
   ]
  },
  {
   "cell_type": "code",
   "execution_count": null,
   "id": "e17c5a46",
   "metadata": {},
   "outputs": [],
   "source": [
    "germany_dairy['Dairy_Product'].unique()"
   ]
  },
  {
   "cell_type": "code",
   "execution_count": null,
   "id": "29075a42",
   "metadata": {},
   "outputs": [],
   "source": [
    "germany_dairy = germany_dairy.loc[germany_dairy['Dairy_Product'] != 'Evaporat&Condensed Milk']\n",
    "germany_dairy = germany_dairy.loc[germany_dairy['Dairy_Product'] != 'Buttermilk, curdled, acidified milk']\n",
    "germany_dairy = germany_dairy.loc[germany_dairy['Dairy_Product'] != 'Ice cream and edible ice']\n",
    "germany_dairy = germany_dairy.loc[germany_dairy['Dairy_Product'] != 'Skim Milk&Buttermilk,Dry']\n",
    "germany_dairy = germany_dairy.loc[germany_dairy['Dairy_Product'].str.contains('total|nes', case=False) == False]"
   ]
  },
  {
   "cell_type": "code",
   "execution_count": null,
   "id": "92c2ab05",
   "metadata": {},
   "outputs": [],
   "source": []
  },
  {
   "cell_type": "code",
   "execution_count": null,
   "id": "ccc9402b",
   "metadata": {},
   "outputs": [],
   "source": []
  },
  {
   "cell_type": "markdown",
   "id": "1f573769",
   "metadata": {},
   "source": [
    "### Descriptive Statistics per product type for all years"
   ]
  },
  {
   "cell_type": "code",
   "execution_count": null,
   "id": "adf4b4a2",
   "metadata": {},
   "outputs": [],
   "source": [
    "# for all meat products 1961-2019\n",
    "germany_meat.describe()\n",
    "\n",
    "# for all dairy products 1961-2019\n",
    "germany_dairy.describe()\n",
    "\n",
    "# for all crops 1961-2019\n",
    "germany_crop.describe()"
   ]
  },
  {
   "cell_type": "markdown",
   "id": "c8babfdf",
   "metadata": {},
   "source": [
    "### Germany Visualisations"
   ]
  },
  {
   "cell_type": "code",
   "execution_count": null,
   "id": "1ef154a4",
   "metadata": {
    "scrolled": false
   },
   "outputs": [],
   "source": [
    "plotlinegraphs(germany_meat, 'Meat_Type', 'Germany ', 'Population_Germany')\n",
    "plotfigures(germany_meat, 'Meat_Type', 'Germany ');"
   ]
  },
  {
   "cell_type": "code",
   "execution_count": null,
   "id": "9edf0a4c",
   "metadata": {},
   "outputs": [],
   "source": [
    "plotlinegraphs(germany_dairy, 'Dairy_Product', 'Germany ', 'Population_Germany')"
   ]
  },
  {
   "cell_type": "code",
   "execution_count": null,
   "id": "de3fa75c",
   "metadata": {
    "scrolled": false
   },
   "outputs": [],
   "source": [
    "# view plots in more detail \n",
    "plotlinegraphsii(germany_dairy, 'Dairy_Product', 1000000, 35000000, 'Germany ', 'Population_Germany', 'Top ')\n",
    "plotlinegraphsii(germany_dairy, 'Dairy_Product', 0, 1000000, 'Germany ', 'Population_Germany', 'Other ')\n",
    "plotfigures(germany_dairy, 'Dairy_Product', 'Germany ');"
   ]
  },
  {
   "cell_type": "code",
   "execution_count": null,
   "id": "a1894a99",
   "metadata": {},
   "outputs": [],
   "source": [
    "plotlinegraphs(germany_crop, 'Crop', 'Germany ', 'Population_Germany')"
   ]
  },
  {
   "cell_type": "code",
   "execution_count": null,
   "id": "675afc0c",
   "metadata": {
    "scrolled": false
   },
   "outputs": [],
   "source": [
    "# view plots in more detail \n",
    "plotlinegraphsii(germany_crop, 'Crop', 8000000, 55000000, 'Germany ', 'Population_Germany', 'Top ')\n",
    "plotlinegraphsii(germany_crop, 'Crop', 0, 8000000, 'Germany ', 'Population_Germany', 'Mid ')\n",
    "plotlinegraphsii(germany_crop, 'Crop', 0, 100000, 'Germany ', 'Population_Germany', 'Smaller ')\n",
    "plotfigures(germany_crop, 'Crop', 'Germany ');"
   ]
  },
  {
   "cell_type": "markdown",
   "id": "1110edea",
   "metadata": {},
   "source": [
    "### Germany Production Pivot Table"
   ]
  },
  {
   "cell_type": "code",
   "execution_count": null,
   "id": "f32155a8",
   "metadata": {},
   "outputs": [],
   "source": [
    "#germany as a pivot table to see poduct values per year\n",
    "\n",
    "germany_meat_table = pd.pivot_table(germany_meat, values='Production Value', index=['Prod Country', 'Year'],\n",
    "                    columns=['Meat_Type'], aggfunc=np.sum, fill_value=0)\n",
    "\n",
    "\n",
    "germany_dairy_table = pd.pivot_table(germany_dairy, values='Production Value', index=['Prod Country', 'Year'],\n",
    "                    columns=['Dairy_Product'], aggfunc=np.sum, fill_value=0)\n",
    "\n",
    "\n",
    "germany_crop_table = pd.pivot_table(germany_crop, values='Production Value', index=['Prod Country', 'Year'],\n",
    "                    columns=['Crop'], aggfunc=np.sum, fill_value=0)"
   ]
  },
  {
   "cell_type": "code",
   "execution_count": null,
   "id": "bca07477",
   "metadata": {},
   "outputs": [],
   "source": [
    "germany_meat_table\n",
    "germany_dairy_table\n",
    "germany_crop_table"
   ]
  },
  {
   "cell_type": "code",
   "execution_count": null,
   "id": "a8b223ec",
   "metadata": {},
   "outputs": [],
   "source": []
  },
  {
   "cell_type": "markdown",
   "id": "8105c9fd",
   "metadata": {},
   "source": [
    "### Descriptive Statistics per product for all years"
   ]
  },
  {
   "cell_type": "code",
   "execution_count": null,
   "id": "906d8eca",
   "metadata": {},
   "outputs": [],
   "source": [
    "germany_meat_table.describe().apply(lambda s: s.apply('{0:.2f}'.format))\n",
    "germany_dairy_table.describe().apply(lambda s: s.apply('{0:.2f}'.format))\n",
    "germany_crop_table.describe().apply(lambda s: s.apply('{0:.2f}'.format))\n"
   ]
  },
  {
   "cell_type": "code",
   "execution_count": null,
   "id": "d55867b1",
   "metadata": {},
   "outputs": [],
   "source": [
    "plt.figure(figsize=[15, 10])\n",
    "sns.boxplot(data=germany_meat_table, orient='h', palette='Reds_r');"
   ]
  },
  {
   "cell_type": "code",
   "execution_count": null,
   "id": "208ae7b0",
   "metadata": {},
   "outputs": [],
   "source": [
    "plt.figure(figsize=[15, 10])\n",
    "sns.boxplot(data=germany_dairy_table, orient='h', palette='BuPu_r');"
   ]
  },
  {
   "cell_type": "code",
   "execution_count": null,
   "id": "8eecc603",
   "metadata": {},
   "outputs": [],
   "source": [
    "plt.figure(figsize=[15, 10])\n",
    "sns.boxplot(data=germany_crop_table, orient='h', palette='summer_r');"
   ]
  },
  {
   "cell_type": "code",
   "execution_count": null,
   "id": "1a35dd08",
   "metadata": {},
   "outputs": [],
   "source": []
  },
  {
   "cell_type": "code",
   "execution_count": null,
   "id": "b46a8125",
   "metadata": {},
   "outputs": [],
   "source": []
  },
  {
   "cell_type": "code",
   "execution_count": null,
   "id": "74de0153",
   "metadata": {},
   "outputs": [],
   "source": []
  },
  {
   "cell_type": "markdown",
   "id": "954c4c5b",
   "metadata": {},
   "source": [
    "## AUSTRALIA"
   ]
  },
  {
   "cell_type": "markdown",
   "id": "34f99d59",
   "metadata": {},
   "source": [
    "## Australia Production Datasets"
   ]
  },
  {
   "cell_type": "code",
   "execution_count": null,
   "id": "e663f84e",
   "metadata": {},
   "outputs": [],
   "source": [
    "# create australian dataset\n",
    "oz_df = oceania_df.loc[oceania_df['Country']=='Australia']\n",
    "\n",
    "# australian production dataset - all products (crop, meat, livestock)\n",
    "oz_prod = oz_df.loc[oz_df['Element']=='Production']\n",
    "\n",
    "# rename columns\n",
    "oz_prod.rename(columns={'Country': 'Prod Country', 'Unit': 'Production Unit', 'Value': 'Production Value' }, inplace=True)\n",
    "\n",
    "#reset index\n",
    "oz_prod.reset_index(drop=True, inplace=True)\n",
    "\n",
    "oz_prod"
   ]
  },
  {
   "cell_type": "markdown",
   "id": "f4ff9e91",
   "metadata": {},
   "source": [
    "### Australia Production - Add Population"
   ]
  },
  {
   "cell_type": "code",
   "execution_count": null,
   "id": "9871363b",
   "metadata": {},
   "outputs": [],
   "source": [
    "# merge population data. Outer merge so no data is lost \n",
    "oz_prod_pop = pd.merge(oz_prod, aus_pop, how=\"outer\", on = [\"Year\"])\n",
    "oz_prod_pop.head()"
   ]
  },
  {
   "cell_type": "code",
   "execution_count": null,
   "id": "93195d1f",
   "metadata": {},
   "outputs": [],
   "source": [
    "oz_prod_pop.shape"
   ]
  },
  {
   "cell_type": "code",
   "execution_count": null,
   "id": "e0c01fa0",
   "metadata": {},
   "outputs": [],
   "source": []
  },
  {
   "cell_type": "markdown",
   "id": "a7878016",
   "metadata": {},
   "source": [
    "### Australia Production Analysis"
   ]
  },
  {
   "cell_type": "code",
   "execution_count": null,
   "id": "96823634",
   "metadata": {},
   "outputs": [],
   "source": [
    "# australian production meat products\n",
    "oz_meat_prod = oz_prod_pop.loc[oz_prod_pop['Crop_Livestock'].str.contains('meat', case=False)]\n",
    "oz_meat_prod.rename(columns={'Crop_Livestock': 'Meat Type'}, inplace=True)\n",
    "oz_meat_prod.reset_index(drop=True)\n",
    "\n",
    "# australian production dairy products\n",
    "oz_dairy_prod = oz_prod_pop.loc[oz_prod_pop['Crop_Livestock'].str.contains('milk', case=False)]\n",
    "oz_dairy_prod.rename(columns={'Crop_Livestock': 'Dairy Product'}, inplace=True)\n",
    "oz_dairy_prod.reset_index(drop=True)\n",
    "\n",
    "# australian production crops\n",
    "oz_crop_prod = oz_prod_pop.loc[oz_prod_pop['Crop_Livestock'].str.contains('meat', case=False) == False]\n",
    "oz_crop_prod = oz_crop_prod.loc[oz_crop_prod['Crop_Livestock'].str.contains('milk', case=False) == False]\n",
    "oz_crop_prod = oz_crop_prod.loc[oz_crop_prod['Crop_Livestock'].str.contains('offals', case=False) == False]\n",
    "oz_crop_prod = oz_crop_prod.loc[oz_crop_prod['Crop_Livestock'].str.contains('fat', case=False) == False]\n",
    "oz_crop_prod = oz_crop_prod.loc[oz_crop_prod['Crop_Livestock'].str.contains('hides', case=False) == False]\n",
    "oz_crop_prod = oz_crop_prod.loc[oz_crop_prod['Crop_Livestock'].str.contains('wool', case=False) == False]\n",
    "oz_crop_prod = oz_crop_prod.loc[oz_crop_prod['Crop_Livestock'].str.contains('sheep', case=False) == False]\n",
    "oz_crop_prod = oz_crop_prod.loc[oz_crop_prod['Crop_Livestock'].str.contains('cream', case=False) == False]\n",
    "oz_crop_prod = oz_crop_prod.loc[oz_crop_prod['Crop_Livestock'].str.contains('egg', case=False) == False]\n",
    "oz_crop_prod = oz_crop_prod.loc[oz_crop_prod['Crop_Livestock'].str.contains('lard', case=False) == False]\n",
    "oz_crop_prod = oz_crop_prod.loc[oz_crop_prod['Crop_Livestock'].str.contains('butter', case=False) == False]\n",
    "oz_crop_prod = oz_crop_prod.loc[oz_crop_prod['Crop_Livestock'].str.contains('cheese', case=False) == False]\n",
    "oz_crop_prod = oz_crop_prod.loc[oz_crop_prod['Crop_Livestock'].str.contains('oil', case=False) == False]\n",
    "oz_crop_prod = oz_crop_prod.loc[oz_crop_prod['Crop_Livestock'].str.contains('skin', case=False) == False]\n",
    "oz_crop_prod.rename(columns={'Crop_Livestock': 'Crop'}, inplace=True)\n",
    "oz_crop_prod.reset_index(drop=True)"
   ]
  },
  {
   "cell_type": "code",
   "execution_count": null,
   "id": "7520d2f8",
   "metadata": {},
   "outputs": [],
   "source": [
    "# check Meat Type values are what we want for analysis\n",
    "oz_meat_prod['Meat Type'].unique()"
   ]
  },
  {
   "cell_type": "code",
   "execution_count": null,
   "id": "eab4e046",
   "metadata": {},
   "outputs": [],
   "source": [
    "# remove any items we dont want \n",
    "oz_meat_prod = oz_meat_prod.loc[oz_meat_prod['Meat Type'] != 'Meat nes']\n",
    "oz_meat_prod = oz_meat_prod.loc[oz_meat_prod['Meat Type'] != 'Meat, Total']"
   ]
  },
  {
   "cell_type": "code",
   "execution_count": null,
   "id": "3ac04e01",
   "metadata": {},
   "outputs": [],
   "source": [
    "oz_dairy_prod['Dairy Product'].unique()"
   ]
  },
  {
   "cell_type": "code",
   "execution_count": null,
   "id": "5e4b2aa9",
   "metadata": {},
   "outputs": [],
   "source": [
    "oz_dairy_prod = oz_dairy_prod.loc[oz_dairy_prod['Dairy Product'] != 'Milk, Total']\n",
    "oz_dairy_prod = oz_dairy_prod.loc[oz_dairy_prod['Dairy Product'] != 'Evaporat&Condensed Milk']"
   ]
  },
  {
   "cell_type": "code",
   "execution_count": null,
   "id": "1bbc9ae9",
   "metadata": {},
   "outputs": [],
   "source": [
    "oz_crop_prod['Crop'].unique()"
   ]
  },
  {
   "cell_type": "code",
   "execution_count": null,
   "id": "f43537cd",
   "metadata": {},
   "outputs": [],
   "source": [
    "oz_crop_prod = oz_crop_prod.loc[oz_crop_prod['Crop'] != 'Vegetables, fresh nes']\n",
    "oz_crop_prod = oz_crop_prod.loc[oz_crop_prod['Crop'] != 'Fruit, fresh nes']\n",
    "oz_crop_prod = oz_crop_prod.loc[oz_crop_prod['Crop'] != 'Cereals, Total']\n",
    "oz_crop_prod = oz_crop_prod.loc[oz_crop_prod['Crop'] != 'Fruit Primary']\n",
    "oz_crop_prod = oz_crop_prod.loc[oz_crop_prod['Crop'] != 'Vegetables Primary']\n",
    "oz_crop_prod = oz_crop_prod.loc[oz_crop_prod['Crop'] != 'Margarine, short']\n",
    "oz_crop_prod = oz_crop_prod.loc[oz_crop_prod['Crop'] != 'Cereals nes']\n",
    "oz_crop_prod = oz_crop_prod.loc[oz_crop_prod['Crop'] != 'Pulses, Total']\n",
    "oz_crop_prod = oz_crop_prod.loc[oz_crop_prod['Crop'] != 'Roots and Tubers, Total']\n",
    "oz_crop_prod = oz_crop_prod.loc[oz_crop_prod['Crop'] != 'Sugar Crops Primary']\n",
    "oz_crop_prod = oz_crop_prod.loc[oz_crop_prod['Crop'] != 'Vegetables, leguminous nes']\n",
    "oz_crop_prod = oz_crop_prod.loc[oz_crop_prod['Crop'] != 'Leeks, other alliaceous vegetables']\n",
    "oz_crop_prod = oz_crop_prod.loc[oz_crop_prod['Crop'] != 'Berries nes']"
   ]
  },
  {
   "cell_type": "code",
   "execution_count": null,
   "id": "b7683d0a",
   "metadata": {},
   "outputs": [],
   "source": []
  },
  {
   "cell_type": "markdown",
   "id": "adc09c05",
   "metadata": {},
   "source": [
    "### Australia Production Visualisations"
   ]
  },
  {
   "cell_type": "code",
   "execution_count": null,
   "id": "f180d285",
   "metadata": {},
   "outputs": [],
   "source": [
    "plotprodvisuals(oz_meat_prod, 'Meat Type', 'Australia')\n",
    "plotprodvisuals(oz_dairy_prod, 'Dairy Product', 'Australia')\n",
    "plotprodvisuals(oz_crop_prod, 'Crop', 'Australia')"
   ]
  },
  {
   "cell_type": "code",
   "execution_count": null,
   "id": "d8bb762e",
   "metadata": {},
   "outputs": [],
   "source": [
    "plotprodvisualsii(oz_meat_prod, \"Meat Type\", 10000, 6000000, 'Australia', 'Top ');\n",
    "plotprodvisualsii(oz_meat_prod, \"Meat Type\",  0, 100000, 'Australia', 'Other ');"
   ]
  },
  {
   "cell_type": "code",
   "execution_count": null,
   "id": "debb2cf7",
   "metadata": {},
   "outputs": [],
   "source": [
    "plotprodvisualsii(oz_dairy_prod, \"Dairy Product\", 5000000, 35000000, 'Australia', 'Top ');\n",
    "plotprodvisualsii(oz_dairy_prod, \"Dairy Product\",  0, 1500000, 'Germany', 'Other ');"
   ]
  },
  {
   "cell_type": "code",
   "execution_count": null,
   "id": "f39d8131",
   "metadata": {},
   "outputs": [],
   "source": [
    "plotprodvisualsii(oz_crop_prod, \"Crop\", 5000000, 40000000, 'Australia', 'Top ');\n",
    "plotprodvisualsii(oz_crop_prod, \"Crop\",  0, 5000000, 'Australia', 'Other ');\n",
    "plotprodbar(oz_crop_prod, \"Crop\",'Australia');"
   ]
  },
  {
   "cell_type": "markdown",
   "id": "c8cca504",
   "metadata": {},
   "source": [
    "## Australia Trade Datasets"
   ]
  },
  {
   "cell_type": "code",
   "execution_count": null,
   "id": "22967286",
   "metadata": {},
   "outputs": [],
   "source": [
    "# create australian dataset\n",
    "oz_trade = oceania_trade_df.loc[oceania_trade_df['Country']=='Australia']\n",
    "\n",
    "# australian import/ export datasets - all products (crop, meat, livestock)\n",
    "oz_imports = oz_trade.loc[oz_trade['Element']=='Import Quantity']\n",
    "oz_exports = oz_trade.loc[oz_trade['Element']=='Export Quantity']\n",
    "\n",
    "# rename Value Columns \n",
    "oz_imports.rename(columns={'Value': 'Import Quantity'}, inplace=True)\n",
    "oz_exports.rename(columns={'Value': 'Export Quantity'}, inplace=True)\n",
    "oz_exports.rename(columns={'Unit': 'Export Unit'}, inplace=True)\n",
    "oz_imports.rename(columns={'Unit': 'Import Unit'}, inplace=True)\n",
    "\n",
    "#reset index\n",
    "oz_imports.reset_index(drop=True, inplace=True)\n",
    "oz_exports.reset_index(drop=True, inplace=True)\n"
   ]
  },
  {
   "cell_type": "code",
   "execution_count": null,
   "id": "27fff68c",
   "metadata": {},
   "outputs": [],
   "source": [
    "# merge population data. Outer merge so no data is lost \n",
    "oz_imports = pd.merge(oz_imports, aus_pop, how=\"outer\", on = [\"Year\"])\n",
    "oz_exports = pd.merge(oz_exports, aus_pop, how=\"outer\", on = [\"Year\"])\n",
    "\n",
    "oz_imports.head()\n",
    "oz_exports.head()"
   ]
  },
  {
   "cell_type": "code",
   "execution_count": null,
   "id": "e324099b",
   "metadata": {},
   "outputs": [],
   "source": [
    "oz_imports.shape\n",
    "oz_exports.shape"
   ]
  },
  {
   "cell_type": "code",
   "execution_count": null,
   "id": "ed9bc9ba",
   "metadata": {},
   "outputs": [],
   "source": []
  },
  {
   "cell_type": "markdown",
   "id": "ba2666d4",
   "metadata": {},
   "source": [
    "## Merge Australia Trade & Production"
   ]
  },
  {
   "cell_type": "code",
   "execution_count": null,
   "id": "58d2d20d",
   "metadata": {},
   "outputs": [],
   "source": [
    "# merge population data. \n",
    "oz_add_exports = pd.merge(oz_prod_pop, oz_exports, how=\"left\", on = [\"Crop_Livestock\", \"Year\"])"
   ]
  },
  {
   "cell_type": "code",
   "execution_count": null,
   "id": "1808519e",
   "metadata": {},
   "outputs": [],
   "source": [
    "oz_add_exports.head()\n",
    "oz_add_exports.shape"
   ]
  },
  {
   "cell_type": "code",
   "execution_count": null,
   "id": "364f8e65",
   "metadata": {},
   "outputs": [],
   "source": [
    "# drop duplicate / unnecessary columns\n",
    "oz_to_drop = ['Element_x', 'Country', 'Element_y', 'Population_Australia_y']\n",
    "oz_add_exports = oz_add_exports.drop(oz_to_drop, axis = 1)\n",
    "\n",
    "# merge data. \n",
    "oz_df = pd.merge(oz_add_exports, oz_imports, how=\"outer\", on = [\"Crop_Livestock\", \"Year\"])\n",
    "\n",
    "# merge population data. Outer merge so no data is lost \n",
    "oz_df = pd.merge(oz_df, aus_pop, how=\"outer\", on = [\"Year\"])\n",
    "oz_df.head()"
   ]
  },
  {
   "cell_type": "code",
   "execution_count": null,
   "id": "36c1df0d",
   "metadata": {
    "scrolled": true
   },
   "outputs": [],
   "source": [
    "oz_df.columns"
   ]
  },
  {
   "cell_type": "code",
   "execution_count": null,
   "id": "0c3ea65f",
   "metadata": {},
   "outputs": [],
   "source": [
    "# drop duplicate / unnecessary columns\n",
    "oz_to_drop = ['Element', 'Country', 'Population_Australia_x']\n",
    "oz_df = oz_df.drop(oz_to_drop, axis = 1)\n",
    "\n",
    "# rename columns to include unit\n",
    "oz_df.rename(columns={'Population_Australia_y' : 'Population_Australia'}, inplace=True)\n",
    "\n",
    "#reorder columns \n",
    "oz_columns = ['Prod Country', 'Crop_Livestock', 'Year', 'Production Unit',  'Production Value', 'Import Unit', 'Import Quantity', 'Export Unit', 'Export Quantity',  'Population_Australia']\n",
    "oz_df = oz_df.reindex(columns=oz_columns)\n",
    "\n",
    "# check dataset\n",
    "oz_df.head(100)"
   ]
  },
  {
   "cell_type": "code",
   "execution_count": null,
   "id": "ee30888c",
   "metadata": {},
   "outputs": [],
   "source": [
    "# number of missing values \n",
    "oz_df.isnull().sum()"
   ]
  },
  {
   "cell_type": "code",
   "execution_count": null,
   "id": "a4d5ec24",
   "metadata": {},
   "outputs": [],
   "source": [
    "#check the amount of 0's in each column\n",
    "oz_df_sparse = (oz_df == 0).sum()\n",
    "oz_df_sparse"
   ]
  },
  {
   "cell_type": "code",
   "execution_count": null,
   "id": "a6cc21fe",
   "metadata": {},
   "outputs": [],
   "source": [
    "# drop all rows with NaN and 0 values\n",
    "\n",
    "# first will replace 0 values with NaNs  \n",
    "oz_df['Prod Country'].replace(to_replace = np.nan, value = 'Australia', inplace=True)\n",
    "\n",
    "# first will replace 0 values with NaNs  \n",
    "oz_df.replace(to_replace = np.nan, value = 0, inplace=True)\n",
    "\n",
    "# check if we have any NaN values in our dataset\n",
    "oz_df.isnull().sum()"
   ]
  },
  {
   "cell_type": "code",
   "execution_count": null,
   "id": "e7bf340d",
   "metadata": {},
   "outputs": [],
   "source": [
    "oz_df_sparse"
   ]
  },
  {
   "cell_type": "code",
   "execution_count": null,
   "id": "b3b9f6ff",
   "metadata": {},
   "outputs": [],
   "source": [
    "# cast value as int \n",
    "oz_df['Production Value'] = oz_df['Production Value'].astype('int')\n",
    "oz_df['Import Quantity'] = oz_df['Import Quantity'].astype('int')\n",
    "oz_df['Export Quantity'] = oz_df['Export Quantity'].astype('int')\n",
    "oz_df['Population_Australia'] = oz_df['Population_Australia'].astype('int')"
   ]
  },
  {
   "cell_type": "code",
   "execution_count": null,
   "id": "ab6ec2b6",
   "metadata": {},
   "outputs": [],
   "source": [
    "oz_df['Crop_Livestock'].unique()"
   ]
  },
  {
   "cell_type": "code",
   "execution_count": null,
   "id": "06f0a06b",
   "metadata": {},
   "outputs": [],
   "source": [
    "# replace items with differeng names across datasets \n",
    "oz_df.replace(to_replace = 'Meat, beef, preparations', value = 'Meat, beef' , inplace=True)\n",
    "oz_df.replace(to_replace = 'Beef and Buffalo Meat', value = 'Meat, beef' , inplace=True)\n",
    "oz_df.replace(to_replace = 'Meat, cattle, boneless (beef & veal)', value = 'Meat, beef' , inplace=True)\n",
    "oz_df.replace(to_replace = 'Meat, cattle', value = 'Meat, beef' , inplace=True)\n",
    "oz_df.replace(to_replace = 'Pigmeat', value = 'Meat, pig' , inplace=True)\n",
    "oz_df.replace(to_replace = 'Meat, pig, preparations', value = 'Meat, pig' , inplace=True)\n",
    "oz_df.replace(to_replace = 'Bovine Meat', value = 'Meat, beef' , inplace=True)\n",
    "oz_df.replace(to_replace = 'Meat, goose and guinea fowl', value = 'Meat, goose' , inplace=True)\n",
    "oz_df.replace(to_replace = 'Almonds, with shell', value = 'Almonds' , inplace=True)\n",
    "oz_df.replace(to_replace = 'Almonds shelled', value = 'Almonds' , inplace=True)\n",
    "oz_df.replace(to_replace = 'Hazelnuts, with shell', value = 'Hazelnuts' , inplace=True)\n",
    "oz_df.replace(to_replace = 'Hazelnuts, shelled', value = 'Hazelnuts' , inplace=True)\n",
    "oz_df.replace(to_replace = 'Cashew nuts, with shell', value = 'Cashew nuts' , inplace=True)\n",
    "oz_df.replace(to_replace = 'Cashew nuts, shelled', value = 'Cashew nuts' , inplace=True)"
   ]
  },
  {
   "cell_type": "code",
   "execution_count": null,
   "id": "6f884a28",
   "metadata": {},
   "outputs": [],
   "source": []
  },
  {
   "cell_type": "markdown",
   "id": "a102ebed",
   "metadata": {},
   "source": [
    "## Feature Engineering - Australia Consumption"
   ]
  },
  {
   "cell_type": "code",
   "execution_count": null,
   "id": "019612e7",
   "metadata": {},
   "outputs": [],
   "source": [
    "oz_df['Consumption'] = (oz_df['Production Value'] + oz_df['Import Quantity']) - oz_df['Export Quantity']"
   ]
  },
  {
   "cell_type": "code",
   "execution_count": null,
   "id": "35b3b449",
   "metadata": {},
   "outputs": [],
   "source": [
    "oz_df.head()"
   ]
  },
  {
   "cell_type": "code",
   "execution_count": null,
   "id": "cee54c54",
   "metadata": {},
   "outputs": [],
   "source": []
  },
  {
   "cell_type": "markdown",
   "id": "79fa6c94",
   "metadata": {},
   "source": [
    "## Australia Meat/ Dairy/ Crop Datasets"
   ]
  },
  {
   "cell_type": "code",
   "execution_count": null,
   "id": "c69542c2",
   "metadata": {},
   "outputs": [],
   "source": [
    "# Aus production meat products\n",
    "oz_meat = oz_df.loc[oz_df['Crop_Livestock'].str.contains('meat', case=False)]\n",
    "oz_meat = oz_meat.loc[oz_meat['Crop_Livestock'].str.contains('nes|total|poultry|other|canned', case=False) == False]\n",
    "oz_meat.rename(columns={'Crop_Livestock': 'Meat_Type'}, inplace=True)\n",
    "oz_meat.reset_index(drop=True)\n",
    "\n",
    "# Aus production dairy products\n",
    "oz_dairy = oz_df.loc[oz_df['Crop_Livestock'].str.contains('milk|cream', case=False)]\n",
    "oz_dairy.rename(columns={'Crop_Livestock': 'Dairy_Product'}, inplace=True)\n",
    "oz_dairy.reset_index(drop=True)\n",
    "\n",
    "# Aus production crops\n",
    "oz_crop = oz_df.loc[oz_df['Crop_Livestock'].str.contains('total|chickpea|soy|almond|oat|hazelnut|cashew|tofu|avocado|mushroom|hemp|flax|chia|seaweed|yeast|quinoa|primary', case=False)]\n",
    "oz_crop = oz_crop.loc[oz_crop['Crop_Livestock'].str.contains('meat|milk|offal|fat|hide|wool|sheep|cream|egg|lard|butter|cheese|oil|skin|goat|rice|juice|other|paste|sauce|canned|cake|frozen|nes|confectionery|oil|broken|waste|equivalent|tow', case=False) == False]\n",
    "oz_crop.rename(columns={'Crop_Livestock': 'Crop'}, inplace=True)\n",
    "oz_crop.reset_index(drop=True)\n"
   ]
  },
  {
   "cell_type": "code",
   "execution_count": null,
   "id": "01742381",
   "metadata": {},
   "outputs": [],
   "source": [
    "oz_crop['Crop'].unique()\n"
   ]
  },
  {
   "cell_type": "code",
   "execution_count": null,
   "id": "d7ba27df",
   "metadata": {},
   "outputs": [],
   "source": [
    "# check Meat Type values are what we want for analysis\n",
    "oz_meat['Meat_Type'].unique()"
   ]
  },
  {
   "cell_type": "code",
   "execution_count": null,
   "id": "df244dfd",
   "metadata": {},
   "outputs": [],
   "source": [
    "\n",
    "oz_meat = oz_meat.loc[oz_meat['Meat_Type'].str.contains('Sheep and Goat Meat', case=False) == False]"
   ]
  },
  {
   "cell_type": "code",
   "execution_count": null,
   "id": "bf471367",
   "metadata": {},
   "outputs": [],
   "source": [
    "oz_dairy['Dairy_Product'].unique()"
   ]
  },
  {
   "cell_type": "code",
   "execution_count": null,
   "id": "2fa27cf8",
   "metadata": {},
   "outputs": [],
   "source": [
    "oz_dairy = oz_dairy.loc[oz_dairy['Dairy_Product'] != 'Evaporat&Condensed Milk']\n",
    "oz_dairy = oz_dairy.loc[oz_dairy['Dairy_Product'] != 'Buttermilk, curdled, acidified milk']\n",
    "oz_dairy = oz_dairy.loc[oz_dairy['Dairy_Product'] != 'Ice cream and edible ice']\n",
    "oz_dairy = oz_dairy.loc[oz_dairy['Dairy_Product'] != 'Skim Milk&Buttermilk,Dry']\n",
    "oz_dairy = oz_dairy.loc[oz_dairy['Dairy_Product'] != 'Ghee, butteroil of cow milk']\n",
    "oz_dairy = oz_dairy.loc[oz_dairy['Dairy_Product'].str.contains('total|nes', case=False) == False]"
   ]
  },
  {
   "cell_type": "code",
   "execution_count": null,
   "id": "a0c98d4f",
   "metadata": {},
   "outputs": [],
   "source": []
  },
  {
   "cell_type": "markdown",
   "id": "e17d0b02",
   "metadata": {},
   "source": [
    "### Descriptive statistics per product type for all years"
   ]
  },
  {
   "cell_type": "code",
   "execution_count": null,
   "id": "98dad7ee",
   "metadata": {},
   "outputs": [],
   "source": [
    "# for all meat products 1961-2019\n",
    "oz_meat.describe()\n",
    "\n",
    "# for all dairy products 1961-2019\n",
    "oz_dairy.describe()\n",
    "\n",
    "# for all crops 1961-2019\n",
    "oz_crop.describe()"
   ]
  },
  {
   "cell_type": "code",
   "execution_count": null,
   "id": "f099f2b4",
   "metadata": {},
   "outputs": [],
   "source": []
  },
  {
   "cell_type": "markdown",
   "id": "f7e66264",
   "metadata": {},
   "source": [
    "### Australia Visualisations\n",
    "\n",
    "The below visualisations highlight the following observations:\n",
    "\n"
   ]
  },
  {
   "cell_type": "code",
   "execution_count": null,
   "id": "4208b517",
   "metadata": {
    "scrolled": false
   },
   "outputs": [],
   "source": [
    "plotlinegraphs(oz_meat, 'Meat_Type', 'Australia ', 'Population_Australia')\n",
    "plotfigures(oz_meat, 'Meat_Type', 'Australia ');"
   ]
  },
  {
   "cell_type": "code",
   "execution_count": null,
   "id": "8eaa3248",
   "metadata": {},
   "outputs": [],
   "source": [
    "plotlinegraphs(oz_dairy, 'Dairy_Product', 'Australia ', 'Population_Australia')"
   ]
  },
  {
   "cell_type": "code",
   "execution_count": null,
   "id": "81be4205",
   "metadata": {
    "scrolled": false
   },
   "outputs": [],
   "source": [
    "# view mroe detailed graphs\n",
    "plotlinegraphsii(oz_dairy, 'Dairy_Product', 400000, 12000000, 'Australia ', 'Population_Australia', 'Top ')\n",
    "plotlinegraphsii(oz_dairy, 'Dairy_Product', 0, 400000, 'Australia ', 'Population_Australia', 'Other ')\n",
    "plotfigures(oz_dairy, 'Dairy_Product', 'Australia ');"
   ]
  },
  {
   "cell_type": "code",
   "execution_count": null,
   "id": "6a037dd3",
   "metadata": {},
   "outputs": [],
   "source": [
    "plotlinegraphs(oz_crop, 'Crop', 'Australia ', 'Population_Australia')"
   ]
  },
  {
   "cell_type": "code",
   "execution_count": null,
   "id": "f30187cb",
   "metadata": {
    "scrolled": false
   },
   "outputs": [],
   "source": [
    "# view mroe detailed graphs\n",
    "plotlinegraphsii(oz_crop, 'Crop', 10000000, 50000000, 'Australia ', 'Population_Australia', 'Top ')\n",
    "plotlinegraphsii(oz_crop, 'Crop', 0, 5000000, 'Australia ', 'Population_Australia', 'Mid ')\n",
    "plotlinegraphsii(oz_crop, 'Crop', 0, 100000, 'Australia ', 'Population_Australia', 'Smaller ')\n",
    "plotfigures(oz_crop, 'Crop', 'Australia ');"
   ]
  },
  {
   "cell_type": "code",
   "execution_count": null,
   "id": "abacd3bb",
   "metadata": {},
   "outputs": [],
   "source": []
  },
  {
   "cell_type": "markdown",
   "id": "42fec251",
   "metadata": {},
   "source": [
    "### Australia Production Pivot Table"
   ]
  },
  {
   "cell_type": "code",
   "execution_count": null,
   "id": "b43c6bcb",
   "metadata": {},
   "outputs": [],
   "source": [
    "#germany as a pivot table to see poduct values per year\n",
    "\n",
    "oz_meat_table = pd.pivot_table(oz_meat, values='Production Value', index=['Prod Country', 'Year'],\n",
    "                    columns=['Meat_Type'], aggfunc=np.sum, fill_value=0)\n",
    "\n",
    "\n",
    "oz_dairy_table = pd.pivot_table(oz_dairy, values='Production Value', index=['Prod Country', 'Year'],\n",
    "                    columns=['Dairy_Product'], aggfunc=np.sum, fill_value=0)\n",
    "\n",
    "\n",
    "oz_crop_table = pd.pivot_table(oz_crop, values='Production Value', index=['Prod Country', 'Year'],\n",
    "                    columns=['Crop'], aggfunc=np.sum, fill_value=0)"
   ]
  },
  {
   "cell_type": "code",
   "execution_count": null,
   "id": "92c0bf61",
   "metadata": {
    "scrolled": false
   },
   "outputs": [],
   "source": [
    "oz_meat_table\n",
    "oz_dairy_table\n",
    "oz_crop_table"
   ]
  },
  {
   "cell_type": "code",
   "execution_count": null,
   "id": "4ddcc494",
   "metadata": {},
   "outputs": [],
   "source": []
  },
  {
   "cell_type": "markdown",
   "id": "4ad6d75b",
   "metadata": {},
   "source": [
    "### Descriptive Statistics per product for all years"
   ]
  },
  {
   "cell_type": "code",
   "execution_count": null,
   "id": "e9cf0a5d",
   "metadata": {},
   "outputs": [],
   "source": [
    "oz_meat_table.describe().apply(lambda s: s.apply('{0:.2f}'.format))\n",
    "oz_dairy_table.describe().apply(lambda s: s.apply('{0:.2f}'.format))\n",
    "oz_crop_table.describe().apply(lambda s: s.apply('{0:.2f}'.format))"
   ]
  },
  {
   "cell_type": "code",
   "execution_count": null,
   "id": "69917628",
   "metadata": {},
   "outputs": [],
   "source": [
    "plt.figure(figsize=[15, 10])\n",
    "sns.boxplot(data=oz_meat_table, orient='h', palette='Reds_r');"
   ]
  },
  {
   "cell_type": "code",
   "execution_count": null,
   "id": "e0095692",
   "metadata": {},
   "outputs": [],
   "source": [
    "plt.figure(figsize=[15, 10])\n",
    "sns.boxplot(data=oz_dairy_table, orient='h', palette='BuPu_r');"
   ]
  },
  {
   "cell_type": "code",
   "execution_count": null,
   "id": "d097f066",
   "metadata": {
    "scrolled": false
   },
   "outputs": [],
   "source": [
    "plt.figure(figsize=[15, 40])\n",
    "sns.boxplot(data=oz_crop_table, orient='h', palette='summer_r');"
   ]
  },
  {
   "cell_type": "code",
   "execution_count": null,
   "id": "081a5e97",
   "metadata": {},
   "outputs": [],
   "source": []
  },
  {
   "cell_type": "code",
   "execution_count": null,
   "id": "acf2689a",
   "metadata": {},
   "outputs": [],
   "source": []
  },
  {
   "cell_type": "code",
   "execution_count": null,
   "id": "d928d36d",
   "metadata": {},
   "outputs": [],
   "source": []
  },
  {
   "cell_type": "code",
   "execution_count": null,
   "id": "183c45cd",
   "metadata": {},
   "outputs": [],
   "source": []
  },
  {
   "cell_type": "code",
   "execution_count": null,
   "id": "64154f63",
   "metadata": {},
   "outputs": [],
   "source": []
  },
  {
   "cell_type": "code",
   "execution_count": null,
   "id": "8cf14f2f",
   "metadata": {},
   "outputs": [],
   "source": []
  },
  {
   "cell_type": "code",
   "execution_count": null,
   "id": "57e16559",
   "metadata": {},
   "outputs": [],
   "source": []
  },
  {
   "cell_type": "markdown",
   "id": "034698b7",
   "metadata": {},
   "source": [
    "# Old Code"
   ]
  },
  {
   "cell_type": "code",
   "execution_count": null,
   "id": "40b384c7",
   "metadata": {},
   "outputs": [],
   "source": [
    "xxxx"
   ]
  },
  {
   "cell_type": "code",
   "execution_count": null,
   "id": "5a5e9370",
   "metadata": {},
   "outputs": [],
   "source": [
    "plt.figure(figsize = (15,8))\n",
    "sns.barplot(data=ireland_meat, x=\"Meat Type\", y=\"Production Value\")  \n",
    "plt.xlabel('\\nProduct', fontsize=15) \n",
    "plt.ylabel('Tonnes Produced\\n', fontsize=15)\n",
    "plt.title ('\\nTop Ireland Production 1961-2019\\n', fontsize=20)\n",
    "plt.xticks(rotation = 85, fontsize=12);\n",
    "\n",
    "plt.figure(figsize = (15,8))\n",
    "sns.barplot(data=ireland_meat, x=\"Meat Type\", y=\"Import Quantity\")  \n",
    "plt.xlabel('\\nProduct', fontsize=15) \n",
    "plt.ylabel('Tonnes Produced\\n', fontsize=15)\n",
    "plt.title ('\\nTop Ireland Meat Imports 1961-2019\\n', fontsize=20)\n",
    "plt.xticks(rotation = 85, fontsize=12);\n",
    "\n",
    "plt.figure(figsize = (15,8))\n",
    "sns.barplot(data=ireland_meat, x=\"Meat Type\", y=\"Export Quantity\")  \n",
    "plt.xlabel('\\nProduct', fontsize=15) \n",
    "plt.ylabel('Tonnes Produced\\n', fontsize=15)\n",
    "plt.title ('\\nTop Ireland Meat Exports 1961-2019\\n', fontsize=20)\n",
    "plt.xticks(rotation = 85, fontsize=12);\n",
    "\n",
    "plt.figure(figsize = (15,8))\n",
    "sns.barplot(data=ireland_meat, x=\"Meat Type\", y=\"Consumption\")  \n",
    "plt.xlabel('\\nProduct', fontsize=15) \n",
    "plt.ylabel('Tonnes Produced\\n', fontsize=15)\n",
    "plt.title ('\\nTop Ireland Meat Consumption 1961-2019\\n', fontsize=20)\n",
    "plt.xticks(rotation = 85, fontsize=12);"
   ]
  },
  {
   "cell_type": "code",
   "execution_count": null,
   "id": "8ad4029b",
   "metadata": {},
   "outputs": [],
   "source": [
    "features = ['Production Value', 'Import Quantity', 'Export Quantity', 'Consumption']\n",
    "\n",
    "plt.figure(figsize = (15,30))\n",
    "for i in enumerate(features):\n",
    "    plt.subplot(4,1,i[0]+1)\n",
    "    sns.barplot(data = ireland_meat, x = \"Meat Type\", y = i[1])\n",
    "    plt.xticks(rotation = 40, fontsize=12)\n",
    "    plt.xlabel('Product', fontsize=15) \n",
    "    plt.ylabel('Amount in Tonnes\\n', fontsize=15)\n",
    "    # https://stackoverflow.com/questions/35638525/how-to-add-title-to-subplots-with-loop\n",
    "    # set the spacing between subplots \n",
    "    plt.subplots_adjust(left=None, bottom=None, right=None, top=0.9, wspace=None, hspace=0.8)\n",
    "    # add title to include i value\n",
    "    plt.title('\\n Ireland ' + i[1] + ' for 1961-2019\\n', fontsize=20)\n",
    "plt.show();"
   ]
  },
  {
   "cell_type": "code",
   "execution_count": null,
   "id": "0ea4fa68",
   "metadata": {},
   "outputs": [],
   "source": [
    "plt.figure(figsize = (12,8))\n",
    "sns.lineplot(data=ireland_meat, x=\"Year\", y=\"Production Value\", hue=\"Meat_Type\")  \n",
    "plt.xlabel('\\nYear', fontsize=15) \n",
    "plt.ylabel('Tonnes Produced\\n', fontsize=15)\n",
    "plt.title ('\\nIreland Meat Production 1961-2019\\n', fontsize=20)\n",
    "plt.legend(prop = {'size': 10}, loc='best', bbox_to_anchor=(1.3, 1))\n",
    "plt.xticks(rotation = 80);\n",
    "\n",
    "plt.figure(figsize = (12,8))\n",
    "sns.lineplot(data=ireland_meat, x=\"Year\", y=\"Consumption\", hue=\"Meat_Type\")  \n",
    "plt.xlabel('\\nYear', fontsize=15) \n",
    "plt.ylabel('Tonnes Produced\\n', fontsize=15)\n",
    "plt.title ('\\nIreland Meat Consumption 1961-2019\\n', fontsize=20)\n",
    "plt.legend(prop = {'size': 10}, loc='best', bbox_to_anchor=(1.3, 1))\n",
    "plt.xticks(rotation = 80);"
   ]
  },
  {
   "cell_type": "code",
   "execution_count": null,
   "id": "cd8980af",
   "metadata": {},
   "outputs": [],
   "source": [
    "line_values = ['Production Value', 'Consumption']\n",
    "\n",
    "def plotlinegraphs(dataset, value, country, popvalue):\n",
    "    plt.figure(figsize = (15,20))\n",
    "    for i in enumerate(line_values):\n",
    "        plt.subplot(2,1,i[0]+1)\n",
    "        sns.lineplot(data= dataset, x=\"Year\", y= i[1], hue= value )\n",
    "        plt.xticks(rotation = 80, fontsize=12)\n",
    "        plt.xlabel('\\nYear', fontsize=15) \n",
    "        plt.ylabel('Amount in Tonnes\\n', fontsize=15)\n",
    "        plt.legend(prop = {'size': 10}, loc='best', bbox_to_anchor=(1.3, 1))\n",
    "    # https://stackoverflow.com/questions/35638525/how-to-add-title-to-subplots-with-loop\n",
    "    # set the spacing between subplots \n",
    "        plt.subplots_adjust(left=None, bottom=None, right=None, top=0.8, wspace=None, hspace=0.9)\n",
    "    # add title to include i value\n",
    "        plt.title('\\n ' + country + i[1] + ' per ' + value + ' Vs Population for 1961-2019\\n', fontsize=20)\n",
    "        ax2 = plt.twinx()\n",
    "        plt.ylabel('\\nPopulation', fontsize=15)\n",
    "        sns.lineplot(data=dataset, x=\"Year\", y= popvalue, color =\"r\", \n",
    "                     label= 'Population', linestyle='dashdot', linewidth=3, ax=ax2)        \n",
    "plt.show(); "
   ]
  },
  {
   "cell_type": "code",
   "execution_count": null,
   "id": "f1722c1b",
   "metadata": {},
   "outputs": [],
   "source": [
    "plt.figure(figsize = (15,8))\n",
    "sns.lineplot(data= ireland_dairy, x=\"Year\", y= 'Consumption', hue= 'Dairy_Product') \n",
    "plt.xticks(rotation = 80, fontsize=12)\n",
    "plt.xlabel('\\nYear', fontsize=15) \n",
    "plt.ylabel('Amount in Tonnes\\n', fontsize=15)\n",
    "plt.legend(prop = {'size': 10}, loc='best', bbox_to_anchor=(1.3, 1))   \n",
    "plt.subplots_adjust(left=None, bottom=None, right=None, top=0.8, wspace=None, hspace=0.9)   \n",
    "plt.title('\\n Title\\n', fontsize=20)\n",
    "\n",
    "ax2 = plt.twinx()\n",
    "plt.ylabel('\\nPopulation', fontsize=15)\n",
    "sns.lineplot(data=ireland_dairy, x=\"Year\", y= 'Population_Ireland', color =\"r\", \n",
    "                     label= 'Population', linestyle='dashdot', linewidth=2, ax=ax2)     \n",
    "plt.show(); "
   ]
  },
  {
   "cell_type": "code",
   "execution_count": null,
   "id": "72d54552",
   "metadata": {},
   "outputs": [],
   "source": [
    "dataframe['LogValue'] = np.log10(dataframe['Value'])\n"
   ]
  },
  {
   "cell_type": "code",
   "execution_count": null,
   "id": "f7c9ca49",
   "metadata": {},
   "outputs": [],
   "source": [
    "#man whitney \n",
    "\n",
    "def manw(df):\n",
    "    '''This function takes a dataframe as input, loops through all the countries\n",
    "    in the dfcolumns and does a mann whitney versus Irelands data'''\n",
    "    for country in df.iloc[:,:]:\n",
    "        if country != \"Ireland\":\n",
    "            result = mannwhitneyu(df.Ireland, df[country])\n",
    "            if result.pvalue <= 0.05:\n",
    "                print(f\"The p-value for Ireland vs {country} is {result.pvalue}, the null hypothesis is rejected\")\n",
    "                print(f\"round{result}\\n\")\n",
    "            else:\n",
    "                print(f\"The p-value for Ireland vs {country} is {result.pvalue}, the null hypothesis is accepted\")\n",
    "                print(f\"{result}\\n\")\n"
   ]
  },
  {
   "cell_type": "code",
   "execution_count": null,
   "id": "5b1ccd58",
   "metadata": {},
   "outputs": [],
   "source": [
    "oz_crop = oz_df.loc[oz_df['Crop_Livestock'].str.contains('meat', case=False) == False]\n",
    "oz_crop = oz_crop.loc[oz_crop['Crop_Livestock'].str.contains('milk', case=False) == False]\n",
    "oz_crop = oz_crop.loc[oz_crop['Crop_Livestock'].str.contains('offals', case=False) == False]\n",
    "oz_crop = oz_crop.loc[oz_crop['Crop_Livestock'].str.contains('fat', case=False) == False]\n",
    "oz_crop = oz_crop.loc[oz_crop['Crop_Livestock'].str.contains('hides', case=False) == False]\n",
    "oz_crop = oz_crop.loc[oz_crop['Crop_Livestock'].str.contains('wool', case=False) == False]\n",
    "oz_crop = oz_crop.loc[oz_crop['Crop_Livestock'].str.contains('sheep', case=False) == False]\n",
    "oz_crop = oz_crop.loc[oz_crop['Crop_Livestock'].str.contains('cream', case=False) == False]\n",
    "oz_crop = oz_crop.loc[oz_crop['Crop_Livestock'].str.contains('egg', case=False) == False]\n",
    "oz_crop = oz_crop.loc[oz_crop['Crop_Livestock'].str.contains('lard', case=False) == False]\n",
    "oz_crop = oz_crop.loc[oz_crop['Crop_Livestock'].str.contains('butter', case=False) == False]\n",
    "oz_crop = oz_crop.loc[oz_crop['Crop_Livestock'].str.contains('cheese', case=False) == False]\n",
    "oz_crop = oz_crop.loc[oz_crop['Crop_Livestock'].str.contains('oil', case=False) == False]\n",
    "oz_crop = oz_crop.loc[oz_crop['Crop_Livestock'].str.contains('skin', case=False) == False]"
   ]
  },
  {
   "cell_type": "code",
   "execution_count": null,
   "id": "b3277d58",
   "metadata": {},
   "outputs": [],
   "source": []
  }
 ],
 "metadata": {
  "kernelspec": {
   "display_name": "Python 3 (ipykernel)",
   "language": "python",
   "name": "python3"
  },
  "language_info": {
   "codemirror_mode": {
    "name": "ipython",
    "version": 3
   },
   "file_extension": ".py",
   "mimetype": "text/x-python",
   "name": "python",
   "nbconvert_exporter": "python",
   "pygments_lexer": "ipython3",
   "version": "3.9.7"
  },
  "toc": {
   "base_numbering": 1,
   "nav_menu": {},
   "number_sections": true,
   "sideBar": true,
   "skip_h1_title": true,
   "title_cell": "Table of Contents",
   "title_sidebar": "Contents",
   "toc_cell": false,
   "toc_position": {
    "height": "calc(100% - 180px)",
    "left": "10px",
    "top": "150px",
    "width": "349.047px"
   },
   "toc_section_display": true,
   "toc_window_display": true
  }
 },
 "nbformat": 4,
 "nbformat_minor": 5
}
